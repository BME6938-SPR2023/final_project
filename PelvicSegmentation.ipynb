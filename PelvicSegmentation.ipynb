{
  "cells": [
    {
      "cell_type": "markdown",
      "metadata": {
        "id": "view-in-github",
        "colab_type": "text"
      },
      "source": [
        "<a href=\"https://colab.research.google.com/github/BME6938-SPR2023/final_project/blob/main/PelvicSegmentation.ipynb\" target=\"_parent\"><img src=\"https://colab.research.google.com/assets/colab-badge.svg\" alt=\"Open In Colab\"/></a>"
      ]
    },
    {
      "cell_type": "markdown",
      "source": [
        "## Install dependencies"
      ],
      "metadata": {
        "id": "vyPmxOfPG4s-"
      }
    },
    {
      "cell_type": "code",
      "source": [
        "!pip install -q transformers datasets evaluate monai"
      ],
      "metadata": {
        "id": "bF3VxLNvHWwZ"
      },
      "execution_count": 2,
      "outputs": []
    },
    {
      "cell_type": "markdown",
      "source": [
        "## import libraries"
      ],
      "metadata": {
        "id": "HZNC0x-FHaTf"
      }
    },
    {
      "cell_type": "code",
      "source": [
        "#NEED to delect unused libraries\n",
        "import os as os\n",
        "from glob import glob\n",
        "import shutil\n",
        "from tqdm import tqdm\n",
        "import sys\n",
        "import numpy as np\n",
        "np.set_printoptions(threshold=sys.maxsize)\n",
        "import nibabel as nib\n",
        "import tensorflow as tf\n",
        "import matplotlib.pyplot as plt\n",
        "from torch import nn\n",
        "import monai\n",
        "import evaluate\n",
        "import multiprocessing\n",
        "import warnings\n",
        "warnings.filterwarnings('ignore')\n",
        "\n",
        "os.environ['TORCH_USE_CUDA_DSA'] = '1'\n",
        "os.environ['CUDA_LAUNCH_BLOCKING'] = '1'\n",
        "import torch\n",
        "import cv2\n",
        "import PIL\n",
        "from torch.utils.data import Dataset, DataLoader\n",
        "from skimage.transform import resize, rotate\n",
        "# import SimpleITK as sitk\n",
        "from datasets.dataset_dict import DatasetDict\n",
        "from datasets import Dataset\n",
        "import torchvision.transforms as transforms\n",
        "from PIL import Image\n",
        "from transformers import SegformerFeatureExtractor,SegformerImageProcessor, AutoImageProcessor, TrainingArguments, Trainer"
      ],
      "metadata": {
        "id": "6JVTvjjEHZGb"
      },
      "execution_count": 3,
      "outputs": []
    },
    {
      "cell_type": "markdown",
      "source": [
        "## HF Login"
      ],
      "metadata": {
        "id": "OfcXr5iLAjW6"
      }
    },
    {
      "cell_type": "code",
      "source": [
        "from huggingface_hub import notebook_login\n",
        "\n",
        "notebook_login()"
      ],
      "metadata": {
        "colab": {
          "base_uri": "https://localhost:8080/",
          "height": 145,
          "referenced_widgets": [
            "964383fa12b949b5bd9c06b4279a24ad",
            "16147fea59754025a3d15f75579a6221",
            "7720b62d6ed544438da49da32d38fadc",
            "1e706265703c4ec3bc028c46bbf10612",
            "50c319d05a9241dbb6d9b74fa71f5aab",
            "bd015fa94e674e82af93d142ce56f2c6",
            "9deff4598b2e4fb28aa0b1d9c28c4881",
            "8d163b5a883443a5a8a70bb97ca6cf25",
            "0bd235dc962645e09f068ed4b382da0f",
            "9590129cde7746419ecbbe2e6e7407b5",
            "d02b931ab4fd4f1e8f1601c0df6f3228",
            "7ba6a0f497e440168a9cf971018c2439",
            "ebd4825d2a6d458683a6007083c58d83",
            "51d3a8b8a99647659c0cb5210729ca40",
            "11a4057b290140bfbf95c6a6c1afe90c",
            "1e69685287654bc9920adcf9ac694dc6",
            "007e16794dcb495c933068bfea337107",
            "b4780a2a69d5402babe2a5257093195e",
            "eec5194d28c3488a840fd83a1d5ae16f",
            "293b2300bc2748ff9039c6d3e0c5ef6d",
            "a9deb3557bb345959649cb84af06bdaf",
            "73bb31856a6647e5887aba1f32af7edb",
            "8945ea61bdc84b45a1ccccc29f7b5993",
            "e2d29716d1ae462fa1eaecec8d0b9cee",
            "b84a771d6baf420aa64a23d6b95a07aa",
            "242d7efac35642508f45b9dc7ca5c0a4",
            "39fb2629df0e44e69e0d3c3412c3a60c",
            "361bbf426a134ef7808f1c8ab2c6274c",
            "9d51cae50340466bbf92a6705c73f36d",
            "38ef6da89e434548ba781c69d904ebb6",
            "ab5056f23d5b425d9f190e011000ef64",
            "cc26bdbc82b94686a50201bef6d46a15"
          ]
        },
        "id": "cdyEqCT4Ai1X",
        "outputId": "77c16bb3-9330-4255-d038-6e9ac39f208f"
      },
      "execution_count": 7,
      "outputs": [
        {
          "output_type": "display_data",
          "data": {
            "text/plain": [
              "VBox(children=(HTML(value='<center> <img\\nsrc=https://huggingface.co/front/assets/huggingface_logo-noborder.sv…"
            ],
            "application/vnd.jupyter.widget-view+json": {
              "version_major": 2,
              "version_minor": 0,
              "model_id": "964383fa12b949b5bd9c06b4279a24ad"
            }
          },
          "metadata": {}
        }
      ]
    },
    {
      "cell_type": "code",
      "source": [
        "hf_username = \"ashiyakatuka11\""
      ],
      "metadata": {
        "id": "2kjNglpuAqxI"
      },
      "execution_count": 8,
      "outputs": []
    },
    {
      "cell_type": "markdown",
      "source": [
        "## Data preparation: \n",
        "#### convert nii to png and remove slices without matching labels\n",
        "- Resized and rotated images \n",
        "- Reduced the dataset by only including images that match with segmentation masks with 1 or both labels\n",
        "- There is an option for converting from .nii to .png"
      ],
      "metadata": {
        "id": "QfFTkPPFJVXo"
      }
    },
    {
      "cell_type": "code",
      "source": [
        "#data cleaning 1: use stacked data/ labels to get label list\n",
        "def clean_data(input_folder, output_folder, image_processor): \n",
        "  #first remove matched images without labels\n",
        "\n",
        "  img_folder_path = '/stacked_sliced/train' #switch \"train\" to \"test\"\n",
        "  lbl_folder_path = '/prostate_femur_sliced/train'\n",
        "\n",
        "  img_dir = input_folder + img_folder_path\n",
        "  label_dir = input_folder + lbl_folder_path\n",
        "\n",
        "  labels_paths = []\n",
        "\n",
        "  img_paths = sorted([os.path.join( img_dir, x) for x in os.listdir( img_dir)])\n",
        "  labels_paths = sorted([os.path.join(label_dir, x) for x in os.listdir(label_dir)])\n",
        "\n",
        "  for i_img,i_mask in zip(img_paths,labels_paths):\n",
        "    img_rename = os.path.splitext(os.path.basename(i_img))[0]\n",
        "    label_rename = os.path.splitext(os.path.basename(i_mask))[0]\n",
        "\n",
        "    Reading_Img_NII = nib.load(i_img)\n",
        "    Reading_Label_NII = nib.load(i_mask)\n",
        "\n",
        "    img_arr = Reading_Img_NII.get_fdata()\n",
        "    mask_arr = Reading_Label_NII.get_fdata()\n",
        "    \n",
        "     # Define the new size for the resized image\n",
        "    new_size = (512, 512)\n",
        "    \n",
        "    # Resize the image using the resize() function from skimage\n",
        "    img_resized = resize(img_arr, new_size, anti_aliasing=True)\n",
        "    mask_resized = resize(mask_arr, new_size, anti_aliasing=True)\n",
        "\n",
        "    # Rotate the image using the rotate() function from skimage\n",
        "    angle = 90\n",
        "    img_resized = rotate(img_resized , angle)\n",
        "    mask_resized = rotate(mask_resized, angle)\n",
        "\n",
        "    # Normalized \n",
        "    img_arr_norm = (img_resized- img_resized.min()) / (img_resized.max() - img_resized.min())\n",
        "    pil_image = Image.fromarray((img_arr_norm * 255).astype(np.uint8))\n",
        "\n",
        "    label_arr_norm = (mask_resized - mask_resized.min()) / (mask_resized .max() - mask_resized.min())\n",
        "    pil_label = Image.fromarray((label_arr_norm* 255).astype(np.uint8)) \n",
        "\n",
        "    pil_image_T = np.stack([pil_image ] * 3, axis=-1).transpose((2,1,0))\n",
        "    encoded_inputs = image_processor(pil_image_T, pil_label, return_tensors=\"pt\")\n",
        "\n",
        "    labels = encoded_inputs[\"labels\"].squeeze().unique()\n",
        "    if len(labels) > 2:\n",
        "      labels_paths.append(i_mask )\n",
        "      print(i_img)\n",
        "      #save stack slices with labels\n",
        "      pil_image.save(f'/content/drive/MyDrive/Colab_Notebooks/datasets/GoldA_ZStack2{img_folder_path}/{img_rename}.png')\n",
        "      pil_label.save(f'/content/drive/MyDrive/Colab_Notebooks/datasets/GoldA_ZStack2{lbl_folder_path}/{label_rename}.png')\n",
        "  return(labels_paths)"
      ],
      "metadata": {
        "id": "MCp2mOQYJirH"
      },
      "execution_count": null,
      "outputs": []
    },
    {
      "cell_type": "code",
      "source": [
        "def clean_data2(input_folder,output_folder):\n",
        "  img_folder_path = '/T2_sliced/test' #switch \"train\" to \"test\"\n",
        "  lbl_folder_path = '/prostate_femur_sliced/test'\n",
        "  newlbl_folder_path = '/prostate_femur_sliced/test'\n",
        "\n",
        "  img_dir = input_folder + img_folder_path\n",
        "  label_dir = input_folder + lbl_folder_path\n",
        "  newlabel_dir = output_folder + lbl_folder_path\n",
        "\n",
        "  img_paths = sorted([os.path.join(img_dir, x) for x in os.listdir(img_dir)])\n",
        "  labels_paths = sorted([os.path.join(label_dir, x) for x in os.listdir(label_dir)])\n",
        "  newlabels_paths = sorted([os.path.join(newlabel_dir, x) for x in os.listdir(newlabel_dir)])\n",
        "\n",
        "  for i_img,i_mask in zip(img_paths,labels_paths):\n",
        "    img_rename = os.path.splitext(os.path.basename(i_img))[0]\n",
        "    label_rename = os.path.splitext(os.path.basename(i_mask))[0]\n",
        "    for new_mask in newlabels_paths:\n",
        "      newlabel_rename = os.path.splitext(os.path.basename(new_mask))[0]\n",
        "      if (label_rename == newlabel_rename):\n",
        "        Reading_Img_NII = nib.load(i_img)\n",
        "        # Reading_Label_NII = nib.load(i_mask)\n",
        "\n",
        "        img_arr = Reading_Img_NII.get_fdata()\n",
        "        # mask_arr = Reading_Label_NII.get_fdata()\n",
        "        \n",
        "        # Define the new size for the resized image\n",
        "        new_size = (512, 512)\n",
        "        \n",
        "        # Resize the image using the resize() function from skimage\n",
        "        img_resized = resize(img_arr, new_size, anti_aliasing=True)\n",
        "        # mask_resized = resize(mask_arr, new_size, anti_aliasing=True)\n",
        "\n",
        "        # Rotate the image using the rotate() function from skimage\n",
        "        angle = 90\n",
        "        img_resized = rotate(img_resized , angle)\n",
        "        # mask_resized = rotate(mask_resized, angle)\n",
        "\n",
        "        img_arr_norm = (img_resized- img_resized.min()) / (img_resized.max() - img_resized.min())\n",
        "        pil_image = Image.fromarray((img_arr_norm * 255).astype(np.uint8))\n",
        "\n",
        "        # label_arr_norm = (mask_resized - mask_resized.min()) / (mask_resized .max() - mask_resized.min())\n",
        "        # pil_label = Image.fromarray((label_arr_norm* 255).astype(np.uint8))\n",
        "\n",
        "        print(i_img)\n",
        "        #save stack slices with labels\n",
        "        pil_image.save(f'/content/drive/MyDrive/Colab_Notebooks/datasets/GoldA_ZStack2{img_folder_path}/{img_rename}.png')\n",
        "        # pil_image.save(f'/content/drive/MyDrive/Colab_Notebooks/datasets/GoldA_ZStack2{lbl_folder_path}/{label_rename}.png')\n",
        "  print(\"Done\")\n"
      ],
      "metadata": {
        "id": "LffbuE4VJmXu"
      },
      "execution_count": null,
      "outputs": []
    },
    {
      "cell_type": "code",
      "source": [
        "folder_path = \"/content/drive/MyDrive/Colab_Notebooks/datasets/GoldA_ZStack\" #folder with original images\n",
        "output_path = \"/content/drive/MyDrive/Colab_Notebooks/datasets/GoldA_ZStack2\" #folder where new images will be saved"
      ],
      "metadata": {
        "id": "9fESy19sJymh"
      },
      "execution_count": null,
      "outputs": []
    },
    {
      "cell_type": "code",
      "source": [
        "image_processor = SegformerImageProcessor(use_python_backend=False)\n"
      ],
      "metadata": {
        "id": "lNCPJcLwJ7Ol"
      },
      "execution_count": null,
      "outputs": []
    },
    {
      "cell_type": "code",
      "source": [
        "clean_data(folder_path,output_path, image_processor) #Run ONLY TWICE for stacked/label train and stacked/label test\n"
      ],
      "metadata": {
        "id": "QHtW-aSYCO2v"
      },
      "execution_count": null,
      "outputs": []
    },
    {
      "cell_type": "code",
      "source": [
        "clean_data2(folder_path,output_path) #Run 4 times for T2 and dCT2  train and T2 and dCT2l test"
      ],
      "metadata": {
        "id": "UnX3sfzmCQfJ"
      },
      "execution_count": null,
      "outputs": []
    },
    {
      "cell_type": "markdown",
      "source": [
        "### .nii reduced"
      ],
      "metadata": {
        "id": "DX1fpSe0kBe5"
      }
    },
    {
      "cell_type": "code",
      "source": [
        "#data cleaning 1: use stacked data/ labels to get label list\n",
        "import shutil\n",
        "def reduced_data(input_folder, output_path, image_processor): \n",
        "  #first remove matched images without labels\n",
        " \n",
        "  img_folder_path = '/stacked_sliced/train' #switch \"train\" to \"test\"\n",
        "  lbl_folder_path = '/prostate_femur_sliced/train'\n",
        "\n",
        "  # new_folder_path = newfolder/img_folder_path\n",
        "  # !mkdir /content/drive/MyDrive/Colab_Notebooks/datasets/GoldA_ZStack_reduced/stacked_sliced/test\n",
        "  # !mkdir /content/drive/MyDrive/Colab_Notebooks/datasets/GoldA_ZStack_reduced/stacked_sliced/test\n",
        "\n",
        "  img_dir = input_folder + img_folder_path\n",
        "  label_dir = input_folder + lbl_folder_path\n",
        "\n",
        "  out_img_dir = output_path + img_folder_path\n",
        "  out_lbl_dir = output_path + lbl_folder_path\n",
        "\n",
        "  labels_paths = []\n",
        "\n",
        "  img_paths = sorted([os.path.join( img_dir, x) for x in os.listdir( img_dir)])\n",
        "  labels_paths = sorted([os.path.join(label_dir, x) for x in os.listdir(label_dir)])\n",
        "\n",
        "  for i_img,i_mask in zip(img_paths,labels_paths):\n",
        "    img_rename = os.path.splitext(os.path.basename(i_img))\n",
        "    label_rename = os.path.splitext(os.path.basename(i_mask))\n",
        "\n",
        "    Reading_Img_NII = nib.load(i_img)\n",
        "    Reading_Label_NII = nib.load(i_mask)\n",
        "\n",
        "    img_arr = Reading_Img_NII.get_fdata()\n",
        "    mask_arr = Reading_Label_NII.get_fdata()\n",
        "    \n",
        "     # Define the new size for the resized image\n",
        "    new_size = (512, 512)\n",
        "    \n",
        "    # Resize the image using the resize() function from skimage\n",
        "    img_resized = resize(img_arr, new_size, anti_aliasing=True)\n",
        "    mask_resized = resize(mask_arr, new_size, anti_aliasing=True)\n",
        "\n",
        "    # Rotate the image using the rotate() function from skimage\n",
        "    angle = 90\n",
        "    img_resized = rotate(img_resized , angle)\n",
        "    mask_resized = rotate(mask_resized, angle)\n",
        "\n",
        "    img_arr_norm = (img_resized- img_resized.min()) / (img_resized.max() - img_resized.min())\n",
        "    pil_image = Image.fromarray((img_arr_norm * 255).astype(np.uint8))\n",
        "\n",
        "    label_arr_norm = (mask_resized - mask_resized.min()) / (mask_resized .max() - mask_resized.min())\n",
        "    pil_label = Image.fromarray((label_arr_norm* 255).astype(np.uint8)) \n",
        "\n",
        "    pil_image_T = np.stack([pil_image ] * 3, axis=-1).transpose((2,1,0))\n",
        "    encoded_inputs = image_processor(pil_image_T, pil_label, return_tensors=\"pt\")\n",
        "\n",
        "    labels = encoded_inputs[\"labels\"].squeeze().unique()\n",
        "    if len(labels) > 2:\n",
        "      labels_paths.append(i_mask )\n",
        "      print(i_img)\n",
        "      #save stack slices with labels\n",
        "      shutil.copy(i_img, out_img_dir )\n",
        "      # shutil.copy(i_mask,out_lbl_dir )\n",
        "  return(labels_paths)"
      ],
      "metadata": {
        "id": "pWA0ibB7kBNq"
      },
      "execution_count": null,
      "outputs": []
    },
    {
      "cell_type": "code",
      "source": [
        "def reduced_data2(input_folder,output_path):\n",
        "  img_folder_path = '/stacked_sliced/train' #switch \"train\" to \"test\"\n",
        "  lbl_folder_path = '/prostate_femur_sliced/train'\n",
        "  newlbl_folder_path = '/prostate_femur_sliced/test'\n",
        "\n",
        "  img_dir = input_folder + img_folder_path\n",
        "  label_dir = input_folder + lbl_folder_path\n",
        "  newlabel_dir = output_path + lbl_folder_path\n",
        "\n",
        "  out_img_dir = output_path + img_folder_path\n",
        "  # out_lbl_dir = output_path + lbl_folder_path\n",
        "\n",
        "  img_paths = sorted([os.path.join(img_dir, x) for x in os.listdir(img_dir)])\n",
        "  labels_paths = sorted([os.path.join(label_dir, x) for x in os.listdir(label_dir)])\n",
        "  newlabels_paths = sorted([os.path.join(newlabel_dir, x) for x in os.listdir(newlabel_dir)])\n",
        "\n",
        "  for i_img,i_mask in zip(img_paths,labels_paths):\n",
        "    img_rename = os.path.splitext(os.path.basename(i_img))\n",
        "    label_rename = os.path.splitext(os.path.basename(i_mask))\n",
        "    for new_mask in newlabels_paths:\n",
        "      newlabel_rename = os.path.splitext(os.path.basename(new_mask))\n",
        "      if (label_rename == newlabel_rename):\n",
        "        Reading_Img_NII = nib.load(i_img)\n",
        "        # Reading_Label_NII = nib.load(i_mask)\n",
        "\n",
        "        img_arr = Reading_Img_NII.get_fdata()\n",
        "        # mask_arr = Reading_Label_NII.get_fdata()\n",
        "        \n",
        "        # Define the new size for the resized image\n",
        "        new_size = (512, 512)\n",
        "        \n",
        "        # Resize the image using the resize() function from skimage\n",
        "        img_resized = resize(img_arr, new_size, anti_aliasing=True)\n",
        "        # mask_resized = resize(mask_arr, new_size, anti_aliasing=True)\n",
        "\n",
        "        # Rotate the image using the rotate() function from skimage\n",
        "        angle = 90\n",
        "        img_resized = rotate(img_resized , angle)\n",
        "        # mask_resized = rotate(mask_resized, angle)\n",
        "\n",
        "        img_arr_norm = (img_resized- img_resized.min()) / (img_resized.max() - img_resized.min())\n",
        "        pil_image = Image.fromarray((img_arr_norm * 255).astype(np.uint8))\n",
        "\n",
        "        # label_arr_norm = (mask_resized - mask_resized.min()) / (mask_resized .max() - mask_resized.min())\n",
        "        # pil_label = Image.fromarray((label_arr_norm* 255).astype(np.uint8))\n",
        "\n",
        "        print(i_img)\n",
        "        #save stack slices with labels\n",
        "        shutil.copy(i_img,out_img_dir )\n",
        "        # pil_image.save(f'/content/drive/MyDrive/Colab_Notebooks/datasets/GoldA_ZStack2{lbl_folder_path}/{label_rename}.png')\n",
        "  print(\"Done\")"
      ],
      "metadata": {
        "id": "fKOyr8ennH5i"
      },
      "execution_count": null,
      "outputs": []
    },
    {
      "cell_type": "code",
      "source": [
        "folder_path = \"/content/drive/MyDrive/Colab_Notebooks/datasets/GoldA_ZStack\"\n",
        "output_path = \"/content/drive/MyDrive/Colab_Notebooks/datasets/GoldA_ZStack_reduced\""
      ],
      "metadata": {
        "id": "MJ8aRNqWkXZ-"
      },
      "execution_count": null,
      "outputs": []
    },
    {
      "cell_type": "code",
      "source": [
        "image_processor = SegformerImageProcessor(use_python_backend=False)"
      ],
      "metadata": {
        "id": "tL62LSVknrgl"
      },
      "execution_count": null,
      "outputs": []
    },
    {
      "cell_type": "code",
      "source": [
        "reduced_data(folder_path,output_path, image_processor) #Run ONLY TWICE for stacked/label train and stacked/label test"
      ],
      "metadata": {
        "id": "gJEy_uwQ171a"
      },
      "execution_count": null,
      "outputs": []
    },
    {
      "cell_type": "code",
      "source": [
        "reduced_data2(folder_path,output_path) #Run 4 times for T2 and dCT2  train and T2 and dCT2l test"
      ],
      "metadata": {
        "id": "R0-DHxSSla5t"
      },
      "execution_count": null,
      "outputs": []
    },
    {
      "cell_type": "markdown",
      "source": [
        "## Load the data "
      ],
      "metadata": {
        "id": "nDh--Tv7JLrj"
      }
    },
    {
      "cell_type": "code",
      "source": [
        "from google.colab import drive\n",
        "drive.mount(\"/content/drive\")"
      ],
      "metadata": {
        "colab": {
          "base_uri": "https://localhost:8080/"
        },
        "id": "zPG7_vneiv41",
        "outputId": "55bbc24a-a050-4307-ac95-57c82e3eef6e"
      },
      "execution_count": 4,
      "outputs": [
        {
          "output_type": "stream",
          "name": "stdout",
          "text": [
            "Mounted at /content/drive\n"
          ]
        }
      ]
    },
    {
      "cell_type": "code",
      "source": [
        "device = torch.device(\"cuda:0\" if torch.cuda.is_available() else \"cpu\")"
      ],
      "metadata": {
        "id": "P5GYahlzYrxL"
      },
      "execution_count": 6,
      "outputs": []
    },
    {
      "cell_type": "code",
      "source": [
        "# folder_path = \"/content/drive/MyDrive/Colab_Notebooks/datasets/GoldA_ZStack2\" #new directory with new .png images "
      ],
      "metadata": {
        "id": "mJJt9pbsHomj"
      },
      "execution_count": null,
      "outputs": []
    },
    {
      "cell_type": "code",
      "source": [
        "folder_path = \"/content/drive/MyDrive/BME6938 CIS6930(SPR2023) - Cats Can/code_data/GoldA_ZNew\"  #new directory with new reduced .nii images "
      ],
      "metadata": {
        "id": "fRNVI-oXbTPD"
      },
      "execution_count": 5,
      "outputs": []
    },
    {
      "cell_type": "markdown",
      "source": [
        "### check labels "
      ],
      "metadata": {
        "id": "9x_Fe1UQAKa7"
      }
    },
    {
      "cell_type": "code",
      "source": [
        "#sample image/label\n",
        "img_path = \"/content/drive/MyDrive/Colab_Notebooks/datasets/GoldA_ZStack2/stacked_sliced/train/P3_04_stack_Z48.png\"\n",
        "lbl_path = \"/content/drive/MyDrive/Colab_Notebooks/datasets/GoldA_ZStack2/prostate_femur_sliced/train/3_04_prostate_femur_Z48.png\"\n",
        "img = Image.open(img_path)\n",
        "label= Image.open(lbl_path)\n",
        "label_arr = np.array(label)\n",
        "print(np.unique(label_arr))\n",
        "\n",
        "#visualize image/mask\n",
        "\n",
        "# figure,axis = plt.subplots(1,2,figsize=(10,10))\n",
        "# # Plot_Color_Op = axis[0].imshow(img)\n",
        "# axis[0].imshow(img)\n",
        "# axis[0].set_xlabel(img.size)\n",
        "# axis[0].set_ylabel(img.size)\n",
        "# axis[0].set_title(\"IMAGE\")\n",
        "\n",
        "# axis[1].imshow(label)\n",
        "# axis[1].set_xlabel(label.size)\n",
        "# axis[1].set_ylabel(label.size)\n",
        "# axis[1].set_title(\"MASK\")"
      ],
      "metadata": {
        "colab": {
          "base_uri": "https://localhost:8080/"
        },
        "id": "38wFh8_oK24n",
        "outputId": "f7a1d9c2-02ac-4dc0-ff60-8b0c6eee6daf"
      },
      "execution_count": null,
      "outputs": [
        {
          "output_type": "stream",
          "name": "stdout",
          "text": [
            "[  0 254 255]\n"
          ]
        }
      ]
    },
    {
      "cell_type": "code",
      "source": [
        "#sample image/label\n",
        "img_path = folder_path + \"/stacked_sliced/train/P1_02_stack_Z48.nii\"\n",
        "lbl_path = folder_path + \"/prostate_femur_sliced/train/1_02_prostate_femur_Z48.nii\"\n",
        "\n",
        "\n",
        "Reading_Img_NII = nib.load(img_path)\n",
        "Reading_Label_NII = nib.load(lbl_path)\n",
        "\n",
        "img = Reading_Img_NII.get_fdata()\n",
        "label = Reading_Label_NII.get_fdata()\n",
        "print(np.unique(label))\n",
        "print(len(np.unique(label)))\n",
        "#visualize image/mask\n",
        "figure,axis = plt.subplots(1,2,figsize=(10,10))\n",
        "\n",
        "Plot_Color_Op = axis[0].imshow(img)\n",
        "axis[0].imshow(img)\n",
        "axis[0].set_xlabel(img.size)\n",
        "axis[0].set_ylabel(img.size)\n",
        "axis[0].set_title(\"IMAGE\")\n",
        "\n",
        "axis[1].imshow(label)\n",
        "axis[1].set_xlabel(label.size)\n",
        "axis[1].set_ylabel(label.size)\n",
        "axis[1].set_title(\"MASK\")"
      ],
      "metadata": {
        "colab": {
          "base_uri": "https://localhost:8080/",
          "height": 506
        },
        "id": "ii_CvgNVbaN7",
        "outputId": "b92fbe98-3f2e-42b5-a6e7-95ce02f40b1a"
      },
      "execution_count": 9,
      "outputs": [
        {
          "output_type": "stream",
          "name": "stdout",
          "text": [
            "[0. 1. 2.]\n",
            "3\n"
          ]
        },
        {
          "output_type": "execute_result",
          "data": {
            "text/plain": [
              "Text(0.5, 1.0, 'MASK')"
            ]
          },
          "metadata": {},
          "execution_count": 9
        },
        {
          "output_type": "display_data",
          "data": {
            "text/plain": [
              "<Figure size 1000x1000 with 2 Axes>"
            ],
            "image/png": "[encoded data removed]"
          },
          "metadata": {}
        }
      ]
    },
    {
      "cell_type": "markdown",
      "source": [
        "### Get the unique labels"
      ],
      "metadata": {
        "id": "4GGsLI_OD1MU"
      }
    },
    {
      "cell_type": "code",
      "source": [
        "#data cleaning 1: use stacked data/ labels to get label list\n",
        "def unique_data(input_folder): \n",
        "\n",
        "  lbl_folder_path = '/prostate_femur_sliced/test'\n",
        "  label_dir = input_folder + lbl_folder_path\n",
        "\n",
        "  labels_paths = []\n",
        "  labels_paths = sorted([os.path.join(label_dir, x) for x in os.listdir(label_dir)])\n",
        "\n",
        "  for i_mask in labels_paths:\n",
        "    Reading_Label_NII = nib.load(i_mask)\n",
        "    mask_arr = Reading_Label_NII.get_fdata()\n",
        "    \n",
        "    print(np.unique(mask_arr))\n",
        "  return(\"done\")"
      ],
      "metadata": {
        "id": "k6SDp7SLeLjr"
      },
      "execution_count": null,
      "outputs": []
    },
    {
      "cell_type": "code",
      "source": [
        "unique_data(folder_path)"
      ],
      "metadata": {
        "id": "_ISdAqRJeltb",
        "colab": {
          "base_uri": "https://localhost:8080/",
          "height": 921
        },
        "outputId": "9ba8d8f9-e67f-4423-fbfb-5992bcd9285a"
      },
      "execution_count": null,
      "outputs": [
        {
          "output_type": "stream",
          "name": "stdout",
          "text": [
            "[0. 1.]\n",
            "[0. 1.]\n",
            "[0. 1.]\n",
            "[0. 1.]\n",
            "[0. 1.]\n",
            "[0. 1.]\n",
            "[0. 1.]\n",
            "[0. 1.]\n",
            "[0. 1.]\n",
            "[0. 1. 2.]\n",
            "[0. 1. 2.]\n",
            "[0. 1. 2.]\n",
            "[0. 1. 2.]\n",
            "[0. 1. 2.]\n",
            "[0. 1. 2.]\n",
            "[0. 1. 2.]\n",
            "[0. 1. 2.]\n",
            "[0. 1.]\n",
            "[0. 1.]\n",
            "[0. 1.]\n",
            "[0. 1.]\n",
            "[0. 1.]\n",
            "[0. 1.]\n",
            "[0. 1.]\n",
            "[0. 1.]\n",
            "[0. 1.]\n",
            "[0. 1. 2.]\n",
            "[0. 1. 2.]\n",
            "[0. 1. 2.]\n",
            "[0. 1. 2.]\n",
            "[0. 1. 2.]\n",
            "[0. 1.]\n",
            "[0. 1.]\n",
            "[0. 1. 2.]\n",
            "[0. 1. 2.]\n",
            "[0. 1. 2.]\n",
            "[0. 1. 2.]\n",
            "[0. 1. 2.]\n",
            "[0. 1. 2.]\n",
            "[0. 1. 2.]\n",
            "[0. 1. 2.]\n",
            "[0. 1. 2.]\n",
            "[0. 1. 2.]\n",
            "[0. 1. 2.]\n",
            "[0. 1. 2.]\n",
            "[0. 2.]\n",
            "[0. 2.]\n",
            "[0. 2.]\n",
            "[0. 2.]\n",
            "[0. 2.]\n",
            "[0. 2.]\n"
          ]
        },
        {
          "output_type": "execute_result",
          "data": {
            "text/plain": [
              "'done'"
            ],
            "application/vnd.google.colaboratory.intrinsic+json": {
              "type": "string"
            }
          },
          "metadata": {},
          "execution_count": 12
        }
      ]
    },
    {
      "cell_type": "markdown",
      "source": [
        "### load image/label directories"
      ],
      "metadata": {
        "id": "LDZSim7kAS9X"
      }
    },
    {
      "cell_type": "code",
      "source": [
        "## directory paths for all datasets\n",
        "\n",
        "##train\n",
        "tr_stk_img_dir=folder_path + '/stacked_sliced/train'\n",
        "tr_t2_img_dir=folder_path + '/T2_sliced/train'\n",
        "tr_dct_img_dir=folder_path + '/dÇT2_sliced/train'\n",
        "tr_labels_dir=folder_path +'/prostate_femur_sliced/train'\n",
        "# tr_newlabels_dir=folder_path +'/prostate/train'\n",
        "\n",
        "##test\n",
        "ts_stk_img_dir=folder_path + '/stacked_sliced/test'\n",
        "ts_t2_img_dir=folder_path + '/T2_sliced/test'\n",
        "ts_dct_img_dir=folder_path + '/dÇT2_sliced/test'\n",
        "ts_labels_dir=folder_path +'/prostate_femur_sliced/test'"
      ],
      "metadata": {
        "id": "JhUVsAK8LEpg"
      },
      "execution_count": 9,
      "outputs": []
    },
    {
      "cell_type": "code",
      "source": [
        "tr_stk_img_paths = sorted([os.path.join(tr_stk_img_dir, x) for x in os.listdir(tr_stk_img_dir)])\n",
        "tr_t2_img_paths = sorted([os.path.join(tr_t2_img_dir, x) for x in os.listdir(tr_t2_img_dir)])\n",
        "tr_dct_img_paths = sorted([os.path.join(tr_dct_img_dir, x) for x in os.listdir(tr_dct_img_dir)])\n",
        "tr_labels_paths = sorted([os.path.join(tr_labels_dir, x) for x in os.listdir(tr_labels_dir)])\n",
        "# tr_newlabels_paths = sorted([os.path.join(tr_newlabels_dir, x) for x in os.listdir(tr_newlabels_dir)])\n",
        "\n",
        "ts_stk_img_paths = sorted([os.path.join(ts_stk_img_dir, x) for x in os.listdir(ts_stk_img_dir)])\n",
        "ts_t2_img_paths = sorted([os.path.join(ts_t2_img_dir, x) for x in os.listdir(ts_t2_img_dir)])\n",
        "ts_dct_img_paths = sorted([os.path.join(ts_dct_img_dir, x) for x in os.listdir(ts_dct_img_dir)])\n",
        "ts_labels_paths = sorted([os.path.join(ts_labels_dir, x) for x in os.listdir(ts_labels_dir)])"
      ],
      "metadata": {
        "id": "o4AUiYSgLl2K"
      },
      "execution_count": 10,
      "outputs": []
    },
    {
      "cell_type": "code",
      "source": [
        "#check to make sure all images match with labels\n",
        "print(len(tr_stk_img_paths))\n",
        "print(len(tr_t2_img_paths))\n",
        "print(len(tr_dct_img_paths))\n",
        "print(len(tr_labels_paths))\n",
        "print(\"***\")\n",
        "print(len(ts_stk_img_paths))\n",
        "print(len(ts_t2_img_paths))\n",
        "print(len(ts_dct_img_paths))\n",
        "print(len(ts_labels_paths))"
      ],
      "metadata": {
        "colab": {
          "base_uri": "https://localhost:8080/"
        },
        "id": "REIb0CheLYt4",
        "outputId": "c24bed0b-5e17-49e7-f5d1-507c28b1ff1c"
      },
      "execution_count": 11,
      "outputs": [
        {
          "output_type": "stream",
          "name": "stdout",
          "text": [
            "15\n",
            "15\n",
            "15\n",
            "15\n",
            "***\n",
            "3\n",
            "3\n",
            "3\n",
            "3\n"
          ]
        }
      ]
    },
    {
      "cell_type": "markdown",
      "source": [
        "## Data Preprocessing\n",
        "To make them compatible with the SegFormer model from Hugging Face Transformers, we:\n",
        "\n",
        "- Normalize the images with the mean and standard deviation used during pre-training SegFormer.\n",
        "- Transpose the images such that they are in \"channels_first\" format. "
      ],
      "metadata": {
        "id": "G7vpL6qSL-4M"
      }
    },
    {
      "cell_type": "markdown",
      "source": [
        "### pelvic segmentation class"
      ],
      "metadata": {
        "id": "MaDsADTBP-_m"
      }
    },
    {
      "cell_type": "code",
      "source": [
        "### .nii\n",
        "class NiftiPelvicSegmentationDataset(torch.utils.data.Dataset):\n",
        "    \"\"\"Image (pelvic) segmentation dataset.\"\"\"\n",
        "\n",
        "    def __init__(self, img_paths, mask_paths,feature_extractor, train=True):\n",
        "        \"\"\"\n",
        "        Args:\n",
        "\n",
        "        \"\"\"\n",
        "        self.img_paths = img_paths\n",
        "        self.mask_paths = mask_paths\n",
        "        self.feature_extractor = feature_extractor\n",
        "        self.train = train\n",
        "\n",
        "        assert len(self.img_paths) == len(self.mask_paths), \"check that number of images equals number of segmentation masks \"\n",
        "\n",
        "    def __len__(self):\n",
        "        return len(self.img_paths)\n",
        "\n",
        "    def __getitem__(self, idx): \n",
        "\n",
        "        #Load the Nifti image      \n",
        "        img = nib.load(self.img_paths[idx])\n",
        "        mask = nib.load(self.mask_paths[idx])\n",
        "\n",
        "        \n",
        "        # Convert the Nifti image to a NumPy array\n",
        "        img_arr = img.get_fdata()\n",
        "        # mask_arr = mask.get_fdata()\n",
        "        mask_arr = np.flip(mask.get_fdata(), axis = 1).copy()\n",
        "\n",
        "        # while len(np.unique(mask_arr)) == 3: \n",
        "          # Define the new size for the resized image\n",
        "        if (img_arr.shape != (512, 512)):\n",
        "          new_size = (512, 512)\n",
        "            # Resize the image using the resize() function from skimage\n",
        "          img_arr= resize(img_arr, new_size, anti_aliasing=True)\n",
        "          mask_arr = resize(mask_arr, new_size, anti_aliasing=True)\n",
        "\n",
        "        #Normalize the image\n",
        "        img_arr = (img_arr - img_arr.min()) / (img_arr.max() - img_arr.min())\n",
        "        img_arr = np.stack([img_arr ] * 3, axis=-1).transpose((2,1,0))\n",
        "\n",
        "          # if self.transform is not None:\n",
        "          #     img_arr = self.transform(img_arr)\n",
        "          #     mask_arr = self.transform(mask_arr)\n",
        "\n",
        "        \n",
        "        # Convert to PyTorch tensors\n",
        "        img_tensor = torch.from_numpy(img_arr).unsqueeze(0) # Add channel dimension\n",
        "        mask_tensor = torch.from_numpy(mask_arr).unsqueeze(0) # Add channel dimension\n",
        "\n",
        "        # pad both image and segmentation map to same size\n",
        "        inputs = {\"pixel_values\": img_tensor.squeeze_().float(), \"labels\": mask_tensor.squeeze_().long()}\n",
        "\n",
        "         # randomly crop + pad both image and segmentation map to same size\n",
        "        # encoded_inputs = self.feature_extractor(img_arr, mask_arr, return_tensors=\"pt\")\n",
        "\n",
        "        # for k,v in encoded_inputs.items():\n",
        "        #   encoded_inputs[k].squeeze_() # remove batch dimension\n",
        "        return inputs"
      ],
      "metadata": {
        "id": "gk09HBB-CFnb"
      },
      "execution_count": 12,
      "outputs": []
    },
    {
      "cell_type": "code",
      "source": [
        "feature_extractor = SegformerFeatureExtractor(reduce_labels=True)"
      ],
      "metadata": {
        "id": "8osdkeamA0Nb"
      },
      "execution_count": 13,
      "outputs": []
    },
    {
      "cell_type": "code",
      "source": [
        "stk_train_dataset = NiftiPelvicSegmentationDataset(img_paths=tr_stk_img_paths, mask_paths=tr_labels_paths,feature_extractor=feature_extractor)\n",
        "stk_valid_dataset = NiftiPelvicSegmentationDataset(img_paths=ts_stk_img_paths, mask_paths=ts_labels_paths,feature_extractor=feature_extractor, train=False)"
      ],
      "metadata": {
        "id": "orn6An_jDcRT"
      },
      "execution_count": 14,
      "outputs": []
    },
    {
      "cell_type": "code",
      "source": [
        "t2_train_dataset = NiftiPelvicSegmentationDataset(img_paths=tr_t2_img_paths, mask_paths=tr_labels_paths,feature_extractor=feature_extractor)\n",
        "t2_valid_dataset = NiftiPelvicSegmentationDataset(img_paths=ts_t2_img_paths, mask_paths=ts_labels_paths,feature_extractor=feature_extractor, train=False)"
      ],
      "metadata": {
        "id": "eNf4EMPv15ue"
      },
      "execution_count": 15,
      "outputs": []
    },
    {
      "cell_type": "code",
      "source": [
        "dct_train_dataset = NiftiPelvicSegmentationDataset(img_paths=tr_dct_img_paths, mask_paths=tr_labels_paths,feature_extractor=feature_extractor)\n",
        "dct_valid_dataset = NiftiPelvicSegmentationDataset(img_paths=ts_dct_img_paths, mask_paths=ts_labels_paths,feature_extractor=feature_extractor, train=False)"
      ],
      "metadata": {
        "id": "Vr6bVTRj2Ezz"
      },
      "execution_count": 16,
      "outputs": []
    },
    {
      "cell_type": "markdown",
      "source": [
        "### check data "
      ],
      "metadata": {
        "id": "iSBPp5FxWKQA"
      }
    },
    {
      "cell_type": "code",
      "source": [
        "print(\"# of training data:\", len(stk_train_dataset))\n",
        "print(\"# of test data:\", len(stk_valid_dataset))"
      ],
      "metadata": {
        "colab": {
          "base_uri": "https://localhost:8080/"
        },
        "id": "QayeLGrSWAeN",
        "outputId": "1f8ea58a-4f6c-44da-df29-4d525e0a8961"
      },
      "execution_count": 238,
      "outputs": [
        {
          "output_type": "stream",
          "name": "stdout",
          "text": [
            "# of training data: 299\n",
            "# of test data: 51\n"
          ]
        }
      ]
    },
    {
      "cell_type": "code",
      "source": [
        "encoded_inputs = stk_train_dataset[0]\n",
        "print(encoded_inputs[\"pixel_values\"].shape)\n",
        "print(encoded_inputs[\"labels\"].shape)\n",
        "print(encoded_inputs[\"labels\"].squeeze().unique())"
      ],
      "metadata": {
        "id": "QIeGTqwMWGwQ",
        "colab": {
          "base_uri": "https://localhost:8080/"
        },
        "outputId": "4d2b1cf6-ae3a-4dad-cf4d-12a36cd58b5a"
      },
      "execution_count": 220,
      "outputs": [
        {
          "output_type": "stream",
          "name": "stdout",
          "text": [
            "torch.Size([3, 256, 256])\n",
            "torch.Size([256, 256])\n",
            "tensor([0, 1])\n"
          ]
        }
      ]
    },
    {
      "cell_type": "code",
      "source": [
        "encoded_inputs[\"pixel_values\"].shape"
      ],
      "metadata": {
        "colab": {
          "base_uri": "https://localhost:8080/"
        },
        "id": "BDa8lw-AzpVI",
        "outputId": "1aa64235-1657-4525-99c0-316a4e007e22"
      },
      "execution_count": 221,
      "outputs": [
        {
          "output_type": "execute_result",
          "data": {
            "text/plain": [
              "torch.Size([3, 256, 256])"
            ]
          },
          "metadata": {},
          "execution_count": 221
        }
      ]
    },
    {
      "cell_type": "code",
      "source": [
        "encoded_inputs[\"labels\"].shape"
      ],
      "metadata": {
        "colab": {
          "base_uri": "https://localhost:8080/"
        },
        "id": "Vc1rcRFX0k04",
        "outputId": "c0459cc6-192c-4759-8aa2-f45394426514"
      },
      "execution_count": 222,
      "outputs": [
        {
          "output_type": "execute_result",
          "data": {
            "text/plain": [
              "torch.Size([256, 256])"
            ]
          },
          "metadata": {},
          "execution_count": 222
        }
      ]
    },
    {
      "cell_type": "code",
      "source": [
        "from IPython.core.interactiveshell import InteractiveShell\n",
        "InteractiveShell.ast_node_interactivity = \"all\""
      ],
      "metadata": {
        "id": "YQsUHKRI7aln"
      },
      "execution_count": 207,
      "outputs": []
    },
    {
      "cell_type": "code",
      "source": [
        "torch.set_printoptions(edgeitems=encoded_inputs[\"labels\"].numel(), precision=4)\n"
      ],
      "metadata": {
        "id": "dBxd1FiN7nxu"
      },
      "execution_count": 208,
      "outputs": []
    },
    {
      "cell_type": "code",
      "source": [
        "# np.set_printoptions(threshold=np.inf)\n",
        "print(encoded_inputs[\"labels\"])"
      ],
      "metadata": {
        "id": "lgkgm0Ec4lVL"
      },
      "execution_count": null,
      "outputs": []
    },
    {
      "cell_type": "markdown",
      "source": [
        "### Get the labels "
      ],
      "metadata": {
        "id": "myPtuOdlMJO9"
      }
    },
    {
      "cell_type": "code",
      "source": [
        "# unique_labels = set()\n",
        "unique_pixels_list = []\n",
        "#train data\n",
        "for i in range(len(stk_train_dataset)):\n",
        "  unique_pixels = stk_train_dataset[i][\"labels\"].squeeze().unique()\n",
        "  if str(unique_pixels) not in unique_pixels_list:\n",
        "    unique_pixels_list.append(str(unique_pixels))\n",
        "\n",
        "#test data\n",
        "for i in range(len(stk_valid_dataset)):\n",
        "  unique_pixels = stk_valid_dataset[i][\"labels\"].squeeze().unique()\n",
        "  if str(unique_pixels) not in unique_pixels_list:\n",
        "    unique_pixels_list.append(str(unique_pixels))\n",
        "\n",
        "print(len(unique_pixels_list))\n",
        "unique_pixels_list"
      ],
      "metadata": {
        "id": "OEgPY_xYM_qb"
      },
      "execution_count": null,
      "outputs": []
    },
    {
      "cell_type": "code",
      "source": [
        "batch[\"labels\"].shape"
      ],
      "metadata": {
        "id": "ycV1jCqPbNZV"
      },
      "execution_count": null,
      "outputs": []
    },
    {
      "cell_type": "markdown",
      "source": [
        "## Finetuning the model"
      ],
      "metadata": {
        "id": "iDI4MAp2bXrq"
      }
    },
    {
      "cell_type": "code",
      "source": [
        "#set labels\n",
        "import json\n",
        "from huggingface_hub import hf_hub_download\n",
        "\n",
        "# hf_dataset_identifier = \"Cats-Can/image_data\"\n",
        "\n",
        "# filename = \"id2label.json\"\n",
        "# id2label = json.load(open(hf_hub_download(repo_id=hf_dataset_identifier, filename=filename, repo_type=\"dataset\"), \"r\"))\n",
        "id2label = {0: 'Background',  1: 'Prostate', 2: 'Femur'} \n",
        "id2label = {int(k): v for k, v in id2label.items()}\n",
        "label2id = {v: k for k, v in id2label.items()}\n",
        "\n",
        "num_labels = len(id2label)\n",
        "print(\"Id2label:\", id2label)\n",
        "print(num_labels)"
      ],
      "metadata": {
        "id": "U8qBNrRkbQ_z",
        "colab": {
          "base_uri": "https://localhost:8080/"
        },
        "outputId": "47745aa5-eac7-4fa5-f187-a0a962a7f00e"
      },
      "execution_count": 17,
      "outputs": [
        {
          "output_type": "stream",
          "name": "stdout",
          "text": [
            "Id2label: {0: 'Background', 1: 'Prostate', 2: 'Femur'}\n",
            "3\n"
          ]
        }
      ]
    },
    {
      "cell_type": "code",
      "source": [
        "# load model\n",
        "from transformers import SegformerForSemanticSegmentation"
      ],
      "metadata": {
        "id": "ATL6GQrInFX5"
      },
      "execution_count": 18,
      "outputs": []
    },
    {
      "cell_type": "code",
      "source": [
        "# define model\n",
        "model = SegformerForSemanticSegmentation.from_pretrained(\"nvidia/mit-b0\",\n",
        "                                                         num_labels=3, \n",
        "                                                         id2label=id2label, \n",
        "                                                         label2id=label2id,\n",
        ")"
      ],
      "metadata": {
        "id": "x5THlV3kbRjb",
        "colab": {
          "base_uri": "https://localhost:8080/",
          "height": 188,
          "referenced_widgets": [
            "138ef2c655e54fc9a6a3b93026178f34",
            "e5d57b900e9f4daa9cbfb9da8215c2e0",
            "28118170c8cd4db0b66e9a2c326675bf",
            "1db3ec9556d44fe6b1b249addce92b49",
            "0fa3c145ddb348e0881b88b48b1ee3a0",
            "baacb14288f440359beb16df017253fa",
            "5489c67239dc493382cbf0ae2eb759fa",
            "40c10578753e4381b9163974f025ed77",
            "44d240effdb645f3af26013b442955d1",
            "9c40a57df4b44de0a2cafd750b34a50a",
            "a54534f5a1f64d66ae442c6f986526f7",
            "d5ebe512c9044af990c456ed53104cf3",
            "8aa5c39d0aec44509ea3ab46aedf8d93",
            "2ed317f439f3464f8f48e2f259a719d2",
            "b8a0389c2c1f4a70b31a59f42353c946",
            "0510b569330144d6bc91410d18bbd23c",
            "979f634c6844491c9495f163b48c1c09",
            "561254dc1e9442d0a70ecf753f3dbd0a",
            "147a8c12839348e2bcae8b26499932e7",
            "1997e80fb0ee43598d79e4c98e63d406",
            "2180ddeac9a3465f923a39eb2ec8ef55",
            "3db69c06c6f040e0a59ed0f1341f2b18"
          ]
        },
        "outputId": "9b42a490-fc7e-4a09-a686-6541a9f616c5"
      },
      "execution_count": 19,
      "outputs": [
        {
          "output_type": "display_data",
          "data": {
            "text/plain": [
              "Downloading (…)lve/main/config.json:   0%|          | 0.00/70.0k [00:00<?, ?B/s]"
            ],
            "application/vnd.jupyter.widget-view+json": {
              "version_major": 2,
              "version_minor": 0,
              "model_id": "138ef2c655e54fc9a6a3b93026178f34"
            }
          },
          "metadata": {}
        },
        {
          "output_type": "display_data",
          "data": {
            "text/plain": [
              "Downloading pytorch_model.bin:   0%|          | 0.00/14.4M [00:00<?, ?B/s]"
            ],
            "application/vnd.jupyter.widget-view+json": {
              "version_major": 2,
              "version_minor": 0,
              "model_id": "d5ebe512c9044af990c456ed53104cf3"
            }
          },
          "metadata": {}
        },
        {
          "output_type": "stream",
          "name": "stderr",
          "text": [
            "Some weights of the model checkpoint at nvidia/mit-b0 were not used when initializing SegformerForSemanticSegmentation: ['classifier.weight', 'classifier.bias']\n",
            "- This IS expected if you are initializing SegformerForSemanticSegmentation from the checkpoint of a model trained on another task or with another architecture (e.g. initializing a BertForSequenceClassification model from a BertForPreTraining model).\n",
            "- This IS NOT expected if you are initializing SegformerForSemanticSegmentation from the checkpoint of a model that you expect to be exactly identical (initializing a BertForSequenceClassification model from a BertForSequenceClassification model).\n",
            "Some weights of SegformerForSemanticSegmentation were not initialized from the model checkpoint at nvidia/mit-b0 and are newly initialized: ['decode_head.batch_norm.weight', 'decode_head.classifier.weight', 'decode_head.linear_c.1.proj.weight', 'decode_head.linear_c.3.proj.weight', 'decode_head.batch_norm.num_batches_tracked', 'decode_head.batch_norm.running_mean', 'decode_head.linear_fuse.weight', 'decode_head.classifier.bias', 'decode_head.linear_c.0.proj.weight', 'decode_head.linear_c.1.proj.bias', 'decode_head.batch_norm.bias', 'decode_head.linear_c.2.proj.bias', 'decode_head.linear_c.3.proj.bias', 'decode_head.linear_c.0.proj.bias', 'decode_head.batch_norm.running_var', 'decode_head.linear_c.2.proj.weight']\n",
            "You should probably TRAIN this model on a down-stream task to be able to use it for predictions and inference.\n"
          ]
        }
      ]
    },
    {
      "cell_type": "code",
      "source": [
        "# define model\n",
        "model2 = SegformerForSemanticSegmentation.from_pretrained(\"nvidia/mit-b0\",\n",
        "                                                         num_labels=3, \n",
        "                                                         id2label=id2label, \n",
        "                                                         label2id=label2id,\n",
        ")"
      ],
      "metadata": {
        "colab": {
          "base_uri": "https://localhost:8080/"
        },
        "id": "yyYJs2BN8zPN",
        "outputId": "f414f294-72f3-437f-d703-96af6c2db474"
      },
      "execution_count": 34,
      "outputs": [
        {
          "output_type": "stream",
          "name": "stderr",
          "text": [
            "Some weights of the model checkpoint at nvidia/mit-b0 were not used when initializing SegformerForSemanticSegmentation: ['classifier.weight', 'classifier.bias']\n",
            "- This IS expected if you are initializing SegformerForSemanticSegmentation from the checkpoint of a model trained on another task or with another architecture (e.g. initializing a BertForSequenceClassification model from a BertForPreTraining model).\n",
            "- This IS NOT expected if you are initializing SegformerForSemanticSegmentation from the checkpoint of a model that you expect to be exactly identical (initializing a BertForSequenceClassification model from a BertForSequenceClassification model).\n",
            "Some weights of SegformerForSemanticSegmentation were not initialized from the model checkpoint at nvidia/mit-b0 and are newly initialized: ['decode_head.batch_norm.weight', 'decode_head.classifier.weight', 'decode_head.linear_c.1.proj.weight', 'decode_head.linear_c.3.proj.weight', 'decode_head.batch_norm.num_batches_tracked', 'decode_head.batch_norm.running_mean', 'decode_head.linear_fuse.weight', 'decode_head.classifier.bias', 'decode_head.linear_c.0.proj.weight', 'decode_head.linear_c.1.proj.bias', 'decode_head.batch_norm.bias', 'decode_head.linear_c.2.proj.bias', 'decode_head.linear_c.3.proj.bias', 'decode_head.linear_c.0.proj.bias', 'decode_head.batch_norm.running_var', 'decode_head.linear_c.2.proj.weight']\n",
            "You should probably TRAIN this model on a down-stream task to be able to use it for predictions and inference.\n"
          ]
        }
      ]
    },
    {
      "cell_type": "code",
      "source": [
        "# define model\n",
        "model3 = SegformerForSemanticSegmentation.from_pretrained(\"nvidia/mit-b0\",\n",
        "                                                         num_labels=3, \n",
        "                                                         id2label=id2label, \n",
        "                                                         label2id=label2id,\n",
        ")"
      ],
      "metadata": {
        "colab": {
          "base_uri": "https://localhost:8080/"
        },
        "id": "uu2R_tZPUN-m",
        "outputId": "2b699b37-6df6-43da-b44f-181a767543d1"
      },
      "execution_count": 43,
      "outputs": [
        {
          "output_type": "stream",
          "name": "stderr",
          "text": [
            "Some weights of the model checkpoint at nvidia/mit-b0 were not used when initializing SegformerForSemanticSegmentation: ['classifier.weight', 'classifier.bias']\n",
            "- This IS expected if you are initializing SegformerForSemanticSegmentation from the checkpoint of a model trained on another task or with another architecture (e.g. initializing a BertForSequenceClassification model from a BertForPreTraining model).\n",
            "- This IS NOT expected if you are initializing SegformerForSemanticSegmentation from the checkpoint of a model that you expect to be exactly identical (initializing a BertForSequenceClassification model from a BertForSequenceClassification model).\n",
            "Some weights of SegformerForSemanticSegmentation were not initialized from the model checkpoint at nvidia/mit-b0 and are newly initialized: ['decode_head.batch_norm.weight', 'decode_head.classifier.weight', 'decode_head.linear_c.1.proj.weight', 'decode_head.linear_c.3.proj.weight', 'decode_head.batch_norm.num_batches_tracked', 'decode_head.batch_norm.running_mean', 'decode_head.linear_fuse.weight', 'decode_head.classifier.bias', 'decode_head.linear_c.0.proj.weight', 'decode_head.linear_c.1.proj.bias', 'decode_head.batch_norm.bias', 'decode_head.linear_c.2.proj.bias', 'decode_head.linear_c.3.proj.bias', 'decode_head.linear_c.0.proj.bias', 'decode_head.batch_norm.running_var', 'decode_head.linear_c.2.proj.weight']\n",
            "You should probably TRAIN this model on a down-stream task to be able to use it for predictions and inference.\n"
          ]
        }
      ]
    },
    {
      "cell_type": "code",
      "source": [
        "# define model\n",
        "model4 = SegformerForSemanticSegmentation.from_pretrained(\"nvidia/mit-b0\",\n",
        "                                                         num_labels=3, \n",
        "                                                         id2label=id2label, \n",
        "                                                         label2id=label2id,\n",
        ")"
      ],
      "metadata": {
        "colab": {
          "base_uri": "https://localhost:8080/"
        },
        "id": "kcSBfxhmW6CN",
        "outputId": "135f8aa0-7501-429e-875d-ba618143fed1"
      },
      "execution_count": 48,
      "outputs": [
        {
          "output_type": "stream",
          "name": "stderr",
          "text": [
            "Some weights of the model checkpoint at nvidia/mit-b0 were not used when initializing SegformerForSemanticSegmentation: ['classifier.weight', 'classifier.bias']\n",
            "- This IS expected if you are initializing SegformerForSemanticSegmentation from the checkpoint of a model trained on another task or with another architecture (e.g. initializing a BertForSequenceClassification model from a BertForPreTraining model).\n",
            "- This IS NOT expected if you are initializing SegformerForSemanticSegmentation from the checkpoint of a model that you expect to be exactly identical (initializing a BertForSequenceClassification model from a BertForSequenceClassification model).\n",
            "Some weights of SegformerForSemanticSegmentation were not initialized from the model checkpoint at nvidia/mit-b0 and are newly initialized: ['decode_head.batch_norm.weight', 'decode_head.classifier.weight', 'decode_head.linear_c.1.proj.weight', 'decode_head.linear_c.3.proj.weight', 'decode_head.batch_norm.num_batches_tracked', 'decode_head.batch_norm.running_mean', 'decode_head.linear_fuse.weight', 'decode_head.classifier.bias', 'decode_head.linear_c.0.proj.weight', 'decode_head.linear_c.1.proj.bias', 'decode_head.batch_norm.bias', 'decode_head.linear_c.2.proj.bias', 'decode_head.linear_c.3.proj.bias', 'decode_head.linear_c.0.proj.bias', 'decode_head.batch_norm.running_var', 'decode_head.linear_c.2.proj.weight']\n",
            "You should probably TRAIN this model on a down-stream task to be able to use it for predictions and inference.\n"
          ]
        }
      ]
    },
    {
      "cell_type": "markdown",
      "source": [
        "### Testing model - base test "
      ],
      "metadata": {
        "id": "JsjhVENvF-Dq"
      }
    },
    {
      "cell_type": "code",
      "source": [
        "from datasets import load_metric\n",
        "\n",
        "mean_iou_metric = load_metric(\"mean_iou\")\n",
        "recall_metric = load_metric('recall')\n",
        "precision_metric = load_metric(\"precision\")\n",
        "f1_metric = load_metric(\"f1\")\n",
        "# metric4 = load_metric(\"erntkn/dice_coefficient\")"
      ],
      "metadata": {
        "id": "ZXQkNGK0noVn",
        "colab": {
          "base_uri": "https://localhost:8080/",
          "height": 145,
          "referenced_widgets": [
            "5d01fe80e1c44b598e2885d6dae67bee",
            "b14db3432bcd41c6a7b3bb418906d654",
            "d9b7c12505a64a2f9d3eee860ea4bc14",
            "5df573e676a941ca9133f2d55b886179",
            "b8f926bb1f7d4bd5894838e426faed63",
            "7bee93ecf298454eb2570a1d9f72eb03",
            "778f5d82944444fa9e16d2737b964aa5",
            "ca97a47fbe5c4ac0b8f3206e4cb17817",
            "faf33ae22375454a801c54f89176736c",
            "735f2752ebd44499abf0efeec8d688a8",
            "d7ca0f80b7354898bac8f3b48193b63b",
            "cf0761ec00a14d30a5ca5277d7cc5274",
            "981c8f3f0b45409e9485112bc0b27193",
            "5ea99f80b6aa4a6e9bfb5d278e0701f4",
            "cdb197de6d5b40428a5a2816df9227e1",
            "db159828dcf74d7bb5af2c3777ea41e9",
            "14be56e846e14fcd8a411dc0cf4338de",
            "3d5773b2faa04cddae017f3074170820",
            "a7b3366341ed4e29be059d0454dd619a",
            "39046935bbc143c5bcd82a0c62b7479e",
            "3f1575e04ea04e05ba77889a5e2668de",
            "bbf0f507dcf24d9d9d211b8e3ce4e872",
            "2322a16235c44f3b946db8d3e823d08a",
            "5a11a2ee46e84a2ebbeea8fc6bd186e3",
            "5d314672db9447439cebf4ac36fb3ec8",
            "289f83c9b62446e49d16af4ce18d1a5c",
            "047dca1097dc460d8ecfdef97df02f3f",
            "6690a1d5e53c41999a7ad34d75d63cb3",
            "0a6dfb914cee4e308693be65fdaed3f2",
            "2ecb2477c5fb4ee3a95238e01cdf123a",
            "9756e0b4f3134d2e8bac294f2f1ef1af",
            "853662cd2ba24141a9e659a65ff35486",
            "94413cabde8f4913b1b48b35b5c1dcd1",
            "ba3d9d373cdd41fe8a5f89e48f873d86",
            "9fead8996f1545df86e410cc21828649",
            "0aceacddbf934be7a6b9992581212607",
            "46472a8cead747838de5cbf528968728",
            "6409727e5dcb4cfa90c453e56f089b08",
            "cca31bffa74a4e6c8e136a9656352e30",
            "1da8ab5c84054421aba318fc30c6c8dc",
            "53cf6d0838a14598aeddc3c4d67893db",
            "251c07b6aef5482081e79c4390aa1bc1",
            "54d605732d3848669d1b52231da488dd",
            "748eadc4afec4568805f8ec1061837ee"
          ]
        },
        "outputId": "02b0bc9e-384a-44f3-b14f-b2c78de9a2de"
      },
      "execution_count": 24,
      "outputs": [
        {
          "output_type": "display_data",
          "data": {
            "text/plain": [
              "Downloading builder script:   0%|          | 0.00/3.15k [00:00<?, ?B/s]"
            ],
            "application/vnd.jupyter.widget-view+json": {
              "version_major": 2,
              "version_minor": 0,
              "model_id": "5d01fe80e1c44b598e2885d6dae67bee"
            }
          },
          "metadata": {}
        },
        {
          "output_type": "display_data",
          "data": {
            "text/plain": [
              "Downloading builder script:   0%|          | 0.00/2.52k [00:00<?, ?B/s]"
            ],
            "application/vnd.jupyter.widget-view+json": {
              "version_major": 2,
              "version_minor": 0,
              "model_id": "cf0761ec00a14d30a5ca5277d7cc5274"
            }
          },
          "metadata": {}
        },
        {
          "output_type": "display_data",
          "data": {
            "text/plain": [
              "Downloading builder script:   0%|          | 0.00/2.58k [00:00<?, ?B/s]"
            ],
            "application/vnd.jupyter.widget-view+json": {
              "version_major": 2,
              "version_minor": 0,
              "model_id": "2322a16235c44f3b946db8d3e823d08a"
            }
          },
          "metadata": {}
        },
        {
          "output_type": "display_data",
          "data": {
            "text/plain": [
              "Downloading builder script:   0%|          | 0.00/2.32k [00:00<?, ?B/s]"
            ],
            "application/vnd.jupyter.widget-view+json": {
              "version_major": 2,
              "version_minor": 0,
              "model_id": "ba3d9d373cdd41fe8a5f89e48f873d86"
            }
          },
          "metadata": {}
        }
      ]
    },
    {
      "cell_type": "markdown",
      "source": [
        "#### Testing stacked data"
      ],
      "metadata": {
        "id": "gMF3hKJH3X-0"
      }
    },
    {
      "cell_type": "code",
      "source": [
        "labels_list = []\n",
        "pred_list = []\n",
        "test_batch = t2_valid_dataset\n",
        "for idx in range(len(stk_valid_dataset)):\n",
        "  images = stk_valid_dataset[idx]['pixel_values']\n",
        "  masks = stk_valid_dataset[idx]['labels']\n",
        "\n",
        "  images_tensor = images.unsqueeze(0) \n",
        "  masks = masks.unsqueeze(0) \n",
        "\n",
        "  outputs = model(images_tensor)\n",
        "  logits = outputs.logits \n",
        "\n",
        "  logits_tensor = nn.functional.interpolate(\n",
        "          logits.to(device),\n",
        "          size=masks.shape[-2:],\n",
        "          mode=\"bilinear\",\n",
        "          align_corners=False,\n",
        "      ).argmax(dim=1)\n",
        "\n",
        "  pred_labels = logits_tensor.cpu().numpy()\n",
        "  # labels = masks.cpu().numpy()\n",
        "  labels = np.array(masks.cpu())\n",
        "\n",
        "  labels_list.append(labels)\n",
        "  pred_list.append(pred_labels )\n",
        "\n",
        "metrics = mean_iou_metric._compute(\n",
        "                predictions=pred_list,\n",
        "                references=labels_list,\n",
        "                num_labels=len(id2label),\n",
        "                ignore_index=0,\n",
        "            )\n",
        "# add per category metrics as individual key-value pairs\n",
        "per_category_accuracy = metrics.pop(\"per_category_accuracy\").tolist()\n",
        "per_category_iou = metrics.pop(\"per_category_iou\").tolist()\n",
        "\n",
        "metrics.update({f\"accuracy_{id2label[i]}\": v for i, v in enumerate(per_category_accuracy)})\n",
        "metrics.update({f\"iou_{id2label[i]}\": v for i, v in enumerate(per_category_iou)})\n",
        "\n",
        "print(metrics)"
      ],
      "metadata": {
        "colab": {
          "base_uri": "https://localhost:8080/"
        },
        "id": "6jeuw6hoPrgO",
        "outputId": "d20aa7f9-4409-4cf4-e77a-80c4c0c03287"
      },
      "execution_count": 32,
      "outputs": [
        {
          "output_type": "stream",
          "name": "stdout",
          "text": [
            "{'mean_iou': 0.16750293825151433, 'mean_accuracy': 0.30175081433224754, 'overall_accuracy': 0.4663059208456553, 'accuracy_Background': nan, 'accuracy_Prostate': 0.0, 'accuracy_Femur': 0.6035016286644951, 'iou_Background': 0.0, 'iou_Prostate': 0.0, 'iou_Femur': 0.502508814754543}\n"
          ]
        }
      ]
    },
    {
      "cell_type": "markdown",
      "source": [
        "#### Testing T2 data"
      ],
      "metadata": {
        "id": "h9r0nKku3dUd"
      }
    },
    {
      "cell_type": "code",
      "source": [
        "labels_list = []\n",
        "pred_list = []\n",
        "test_batch = dct_valid_dataset\n",
        "for idx in range(len(dct_valid_dataset)):\n",
        "  images = dct_valid_dataset[idx]['pixel_values']\n",
        "  masks = dct_valid_dataset[idx]['labels']\n",
        "\n",
        "  images_tensor = images.unsqueeze(0) \n",
        "  masks = masks.unsqueeze(0) \n",
        "\n",
        "  outputs = model(images_tensor)\n",
        "  logits = outputs.logits \n",
        "\n",
        "  logits_tensor = nn.functional.interpolate(\n",
        "          logits.to(device),\n",
        "          size=masks.shape[-2:],\n",
        "          mode=\"bilinear\",\n",
        "          align_corners=False,\n",
        "      ).argmax(dim=1)\n",
        "\n",
        "  pred_labels = logits_tensor.cpu().numpy()\n",
        "  # labels = masks.cpu().numpy()\n",
        "  labels = np.array(masks.cpu())\n",
        "\n",
        "  labels_list.append(labels)\n",
        "  pred_list.append(pred_labels )\n",
        "\n",
        "metrics = mean_iou_metric._compute(\n",
        "                predictions=pred_list,\n",
        "                references=labels_list,\n",
        "                num_labels=len(id2label),\n",
        "                ignore_index=0,\n",
        "            )\n",
        "# add per category metrics as individual key-value pairs\n",
        "per_category_accuracy = metrics.pop(\"per_category_accuracy\").tolist()\n",
        "per_category_iou = metrics.pop(\"per_category_iou\").tolist()\n",
        "\n",
        "metrics.update({f\"accuracy_{id2label[i]}\": v for i, v in enumerate(per_category_accuracy)})\n",
        "metrics.update({f\"iou_{id2label[i]}\": v for i, v in enumerate(per_category_iou)})\n",
        "\n",
        "print(metrics)"
      ],
      "metadata": {
        "colab": {
          "base_uri": "https://localhost:8080/"
        },
        "id": "Dz24O0QBn6zm",
        "outputId": "725b998a-0402-4cc3-cb3e-df45d56dc7f1"
      },
      "execution_count": 35,
      "outputs": [
        {
          "output_type": "stream",
          "name": "stdout",
          "text": [
            "{'mean_iou': 0.2534966553731213, 'mean_accuracy': 0.4752442996742671, 'overall_accuracy': 0.7344113760775184, 'accuracy_Background': nan, 'accuracy_Prostate': 0.0, 'accuracy_Femur': 0.9504885993485342, 'iou_Background': 0.0, 'iou_Prostate': 0.0, 'iou_Femur': 0.760489966119364}\n"
          ]
        }
      ]
    },
    {
      "cell_type": "markdown",
      "source": [
        "#### Testing dCT data"
      ],
      "metadata": {
        "id": "xt4E2cpF3fic"
      }
    },
    {
      "cell_type": "code",
      "source": [
        "test_batch = t2_valid_dataset\n",
        "for idx in range(len(t2_valid_dataset)):\n",
        "  images = t2_valid_dataset[idx]['pixel_values']\n",
        "  masks = t2_valid_dataset[idx]['labels']\n",
        "\n",
        "  images_tensor = images.unsqueeze(0) \n",
        "  masks = masks.unsqueeze(0) \n",
        "\n",
        "  outputs = model(images_tensor)\n",
        "  logits = outputs.logits \n",
        "\n",
        "  logits_tensor = nn.functional.interpolate(\n",
        "          logits.to(device),\n",
        "          size=masks.shape[-2:],\n",
        "          mode=\"bilinear\",\n",
        "          align_corners=False,\n",
        "      ).argmax(dim=1)\n",
        "\n",
        "  pred_labels = logits_tensor.cpu().numpy()\n",
        "  # labels = masks.cpu().numpy()\n",
        "  labels = np.array(masks.cpu())\n",
        "\n",
        "  labels_list.append(labels)\n",
        "  pred_list.append(pred_labels )\n",
        "\n",
        "metrics = mean_iou_metric._compute(\n",
        "                predictions=pred_list,\n",
        "                references=labels_list,\n",
        "                num_labels=len(id2label),\n",
        "                ignore_index=0,\n",
        "            )\n",
        "# add per category metrics as individual key-value pairs\n",
        "per_category_accuracy = metrics.pop(\"per_category_accuracy\").tolist()\n",
        "per_category_iou = metrics.pop(\"per_category_iou\").tolist()\n",
        "\n",
        "metrics.update({f\"accuracy_{id2label[i]}\": v for i, v in enumerate(per_category_accuracy)})\n",
        "metrics.update({f\"iou_{id2label[i]}\": v for i, v in enumerate(per_category_iou)})\n",
        "\n",
        "print(metrics)"
      ],
      "metadata": {
        "colab": {
          "base_uri": "https://localhost:8080/"
        },
        "id": "LC23frhizyuR",
        "outputId": "d9675b3c-fb39-42da-f362-25ee73c00fd2"
      },
      "execution_count": 36,
      "outputs": [
        {
          "output_type": "stream",
          "name": "stdout",
          "text": [
            "{'mean_iou': 0.20202390929633254, 'mean_accuracy': 0.3649036775451658, 'overall_accuracy': 0.5553702888063927, 'accuracy_Background': nan, 'accuracy_Prostate': 0.015637973982839747, 'accuracy_Femur': 0.7141693811074918, 'iou_Background': 0.0, 'iou_Prostate': 0.01547945205479452, 'iou_Femur': 0.5905922758342032}\n"
          ]
        }
      ]
    },
    {
      "cell_type": "code",
      "source": [
        "stk_valid_dataset[0]['pixel_values'].shape"
      ],
      "metadata": {
        "colab": {
          "base_uri": "https://localhost:8080/"
        },
        "id": "Fb9NH9EzVUQw",
        "outputId": "a4053a9f-2a41-4ab5-d475-c5ea854fdba4"
      },
      "execution_count": null,
      "outputs": [
        {
          "output_type": "execute_result",
          "data": {
            "text/plain": [
              "torch.Size([3, 512, 512])"
            ]
          },
          "metadata": {},
          "execution_count": 40
        }
      ]
    },
    {
      "cell_type": "markdown",
      "source": [
        "NOTE: the datasets metrics and evaluate both don't have DICE"
      ],
      "metadata": {
        "id": "giubH5NyBLt0"
      }
    },
    {
      "cell_type": "markdown",
      "source": [
        "### Model evaluation"
      ],
      "metadata": {
        "id": "KHM8cg0J1rDg"
      }
    },
    {
      "cell_type": "code",
      "source": [
        "from datasets import list_metrics\n",
        "# list_metrics()"
      ],
      "metadata": {
        "id": "49dK7r_OgzBr"
      },
      "execution_count": 118,
      "outputs": []
    },
    {
      "cell_type": "code",
      "source": [
        "print(precision_metric )"
      ],
      "metadata": {
        "id": "w25Nhc3gzHz1"
      },
      "execution_count": null,
      "outputs": []
    },
    {
      "cell_type": "code",
      "source": [
        "from transformers import TrainingArguments\n",
        "\n",
        "epochs = 20\n",
        "lr = 0.0000006\n",
        "batch_size =4\n",
        "\n",
        "# hub_model_id = \"segformer-b0-finetuned-pelvic-segmentation-stacked\"\n",
        "\n",
        "training_args = TrainingArguments(\n",
        "    \"segformer-b0-finetuned-pelvic-outputs-dct\",\n",
        "    learning_rate=lr,\n",
        "    num_train_epochs=epochs,\n",
        "    per_device_train_batch_size=batch_size,\n",
        "    per_device_eval_batch_size=batch_size,\n",
        "    # save_total_limit=3,\n",
        "    evaluation_strategy=\"steps\",\n",
        "    # save_strategy=\"steps\",\n",
        "    # save_steps=20,\n",
        "    eval_steps=20,\n",
        "    logging_steps=1,\n",
        "    eval_accumulation_steps=5,\n",
        "    load_best_model_at_end=True,\n",
        "    # push_to_hub=True,\n",
        "    # hub_model_id=hub_model_id,\n",
        "    # hub_strategy=\"end\",\n",
        ")"
      ],
      "metadata": {
        "id": "-WhM70c1IqIR"
      },
      "execution_count": 49,
      "outputs": []
    },
    {
      "cell_type": "code",
      "source": [
        "# (WIP) - IGNORE\n",
        "\n",
        "# from sklearn.metrics import accuracy_score, precision_score, recall_score,f1_score,confusion_matrix \n",
        "# labels_list= []\n",
        "# pred_labels_list = []\n",
        "\n",
        "# def compute_metrics(eval_pred):\n",
        "#   with torch.no_grad():\n",
        "#     logits, labels = eval_pred\n",
        "#     logits_tensor = torch.from_numpy(logits)\n",
        "\n",
        "#     # scale the logits to the size of the label\n",
        "#     logits_tensor = nn.functional.interpolate(\n",
        "#         logits_tensor,\n",
        "#         size=labels.shape[-2:],\n",
        "#         mode=\"bilinear\",\n",
        "#         align_corners=False,\n",
        "#     ).argmax(dim=1)\n",
        "\n",
        "#     pred_labels = logits_tensor.detach().cpu().numpy()\n",
        "    \n",
        "#     unique_pred_labels = np.unique(pred_labels)\n",
        "#     unique_labels = np.unique(labels)\n",
        "\n",
        "#     # print(\"this the original label\")\n",
        "#     # print(labels)\n",
        "#     labels_list.append(labels)\n",
        "#     # print(\"this the predicted label\")\n",
        "#     # print(pred_labels)\n",
        "#     pred_labels_list.append(pred_labels)\n",
        "\n",
        "#     r_metrics = recall_metric.compute(\n",
        "#         predictions=unique_pred_labels , \n",
        "#         references=unique_labels, \n",
        "#         average=None)\n",
        "    \n",
        "#     p_metrics  = precision_metric.compute(\n",
        "#         predictions=unique_pred_labels , \n",
        "#         references=unique_labels, \n",
        "#         average=None)\n",
        "\n",
        "#     # f1_metrics  = f1_metric.compute(\n",
        "#     #     predictions=unique_pred_labels , \n",
        "#     #     references=unique_labels, \n",
        "#     #     average=None)\n",
        "\n",
        "#     iou_metrics = mean_iou_metric._compute(\n",
        "#             predictions=unique_pred_labels ,\n",
        "#             references=unique_labels,\n",
        "#             num_labels=len(id2label),\n",
        "#             ignore_index=0,\n",
        "\n",
        "#         )\n",
        "  \n",
        "\n",
        "#     # add per category metrics as individual key-value pairs\n",
        "#     per_category_accuracy = mean_iou_metric.pop(\"per_category_accuracy\").tolist()  \n",
        "#     per_category_iou = mean_iou_metric.pop(\"per_category_iou\").tolist()\n",
        "\n",
        "\n",
        "#     iou_metrics.update({f\"accuracy_{id2label[i]}\": v for i, v in enumerate(per_category_accuracy)})\n",
        "#     iou_metrics.update({f\"iou_{id2label[i]}\": v for i, v in enumerate(per_category_iou)})\n",
        "  \n",
        "#     # print(mean_iou_metric)\n",
        "#     # print(metrics2)\n",
        "\n",
        "#     results_dict = {\"iou_metrics\": iou_metrics,\"recall\": r_metrics, \"precision\": p_metrics }\n",
        "\n",
        "#     return results_dict"
      ],
      "metadata": {
        "id": "sXNu723CIqMY"
      },
      "execution_count": 60,
      "outputs": []
    },
    {
      "cell_type": "code",
      "source": [
        "##working metric evaluation***\n",
        "labels_list= []\n",
        "pred_labels_list = []\n",
        "metrics_dict = {}\n",
        "metrics_list = []\n",
        "metric = evaluate.load(\"mean_iou\")\n",
        "\n",
        "def compute_metrics(eval_pred):\n",
        "  with torch.no_grad():\n",
        "    logits, labels = eval_pred\n",
        "    logits_tensor = torch.from_numpy(logits)\n",
        "    # scale the logits to the size of the label\n",
        "    logits_tensor = nn.functional.interpolate(\n",
        "        logits_tensor,\n",
        "        size=labels.shape[-2:],\n",
        "        mode=\"bilinear\",\n",
        "        align_corners=False,\n",
        "    ).argmax(dim=1)\n",
        "\n",
        "\n",
        "    pred_labels = logits_tensor.detach().cpu().numpy()\n",
        "\n",
        "    # labels_list.append(labels)\n",
        "\n",
        "    # pred_labels_list.append(pred_labels)\n",
        "  \n",
        "    # r_metrics = recall_metric.compute(\n",
        "    #     predictions=pred_labels , \n",
        "    #     references=labels, \n",
        "    #     average=None)\n",
        "    \n",
        "    # p_metrics  = precision_metric.compute(\n",
        "    #     predictions=pred_labels , \n",
        "    #     references=labels, \n",
        "    #     average=None)\n",
        "    # f1_metrics  = f1_metric.compute(\n",
        "    #     predictions=pred_labels , \n",
        "    #     references=labels, \n",
        "    #     average=None)\n",
        "    metrics = mean_iou_metric._compute(\n",
        "            predictions=pred_labels,\n",
        "            references=labels,\n",
        "            num_labels=len(id2label),\n",
        "            ignore_index=0,\n",
        "\n",
        "        )\n",
        "    # add per category metrics as individual key-value pairs\n",
        "    per_category_accuracy = metrics.pop(\"per_category_accuracy\").tolist()\n",
        "    per_category_iou = metrics.pop(\"per_category_iou\").tolist()\n",
        "\n",
        "    metrics.update({f\"accuracy_{id2label[i]}\": v for i, v in enumerate(per_category_accuracy)})\n",
        "    metrics.update({f\"iou_{id2label[i]}\": v for i, v in enumerate(per_category_iou)})\n",
        "\n",
        "    # print(r_metrics)\n",
        "    # print(p_metrics)\n",
        "    # print(f1_metrics)\n",
        "\n",
        "    return metrics\n",
        "    # return metrics_dict "
      ],
      "metadata": {
        "id": "paZzLL1F7-3Y"
      },
      "execution_count": 50,
      "outputs": []
    },
    {
      "cell_type": "code",
      "source": [
        "#stacked \n",
        "trainer1 = Trainer(\n",
        "    model=model2,\n",
        "    args=training_args,\n",
        "    train_dataset=stk_train_dataset,\n",
        "    eval_dataset=stk_valid_dataset,\n",
        "    compute_metrics=compute_metrics,\n",
        ")"
      ],
      "metadata": {
        "id": "nPSof7vJk30w"
      },
      "execution_count": 37,
      "outputs": []
    },
    {
      "cell_type": "code",
      "source": [
        "trainer1.train()"
      ],
      "metadata": {
        "colab": {
          "base_uri": "https://localhost:8080/",
          "height": 253
        },
        "id": "2CJbFCaF70mE",
        "outputId": "6deb30cf-008b-46c0-b985-2684c667539b"
      },
      "execution_count": 38,
      "outputs": [
        {
          "output_type": "display_data",
          "data": {
            "text/plain": [
              "<IPython.core.display.HTML object>"
            ],
            "text/html": [
              "\n",
              "    <div>\n",
              "      \n",
              "      <progress value='80' max='80' style='width:300px; height:20px; vertical-align: middle;'></progress>\n",
              "      [80/80 00:18, Epoch 20/20]\n",
              "    </div>\n",
              "    <table border=\"1\" class=\"dataframe\">\n",
              "  <thead>\n",
              " <tr style=\"text-align: left;\">\n",
              "      <th>Step</th>\n",
              "      <th>Training Loss</th>\n",
              "      <th>Validation Loss</th>\n",
              "      <th>Mean Iou</th>\n",
              "      <th>Mean Accuracy</th>\n",
              "      <th>Overall Accuracy</th>\n",
              "      <th>Accuracy Background</th>\n",
              "      <th>Accuracy Prostate</th>\n",
              "      <th>Accuracy Femur</th>\n",
              "      <th>Iou Background</th>\n",
              "      <th>Iou Prostate</th>\n",
              "      <th>Iou Femur</th>\n",
              "    </tr>\n",
              "  </thead>\n",
              "  <tbody>\n",
              "    <tr>\n",
              "      <td>20</td>\n",
              "      <td>1.189500</td>\n",
              "      <td>1.110173</td>\n",
              "      <td>0.235248</td>\n",
              "      <td>0.464714</td>\n",
              "      <td>0.560561</td>\n",
              "      <td>nan</td>\n",
              "      <td>0.288957</td>\n",
              "      <td>0.640472</td>\n",
              "      <td>0.000000</td>\n",
              "      <td>0.174611</td>\n",
              "      <td>0.531132</td>\n",
              "    </tr>\n",
              "    <tr>\n",
              "      <td>40</td>\n",
              "      <td>1.190300</td>\n",
              "      <td>1.128810</td>\n",
              "      <td>0.255496</td>\n",
              "      <td>0.492771</td>\n",
              "      <td>0.613729</td>\n",
              "      <td>nan</td>\n",
              "      <td>0.270966</td>\n",
              "      <td>0.714577</td>\n",
              "      <td>0.000000</td>\n",
              "      <td>0.176651</td>\n",
              "      <td>0.589837</td>\n",
              "    </tr>\n",
              "    <tr>\n",
              "      <td>60</td>\n",
              "      <td>1.186100</td>\n",
              "      <td>1.148343</td>\n",
              "      <td>0.258433</td>\n",
              "      <td>0.501411</td>\n",
              "      <td>0.625873</td>\n",
              "      <td>nan</td>\n",
              "      <td>0.273180</td>\n",
              "      <td>0.729642</td>\n",
              "      <td>0.000000</td>\n",
              "      <td>0.172824</td>\n",
              "      <td>0.602474</td>\n",
              "    </tr>\n",
              "    <tr>\n",
              "      <td>80</td>\n",
              "      <td>1.181500</td>\n",
              "      <td>1.154997</td>\n",
              "      <td>0.258833</td>\n",
              "      <td>0.502673</td>\n",
              "      <td>0.627824</td>\n",
              "      <td>nan</td>\n",
              "      <td>0.273180</td>\n",
              "      <td>0.732166</td>\n",
              "      <td>0.000000</td>\n",
              "      <td>0.171981</td>\n",
              "      <td>0.604518</td>\n",
              "    </tr>\n",
              "  </tbody>\n",
              "</table><p>"
            ]
          },
          "metadata": {}
        },
        {
          "output_type": "execute_result",
          "data": {
            "text/plain": [
              "TrainOutput(global_step=80, training_loss=1.1878526568412782, metrics={'train_runtime': 18.7, 'train_samples_per_second': 16.043, 'train_steps_per_second': 4.278, 'total_flos': 5258750459904000.0, 'train_loss': 1.1878526568412782, 'epoch': 20.0})"
            ]
          },
          "metadata": {},
          "execution_count": 38
        }
      ]
    },
    {
      "cell_type": "code",
      "source": [
        "#T2\n",
        "trainer2 = Trainer(\n",
        "    model=model3,\n",
        "    args=training_args,\n",
        "    train_dataset=t2_train_dataset,\n",
        "    eval_dataset=t2_valid_dataset,\n",
        "    compute_metrics=compute_metrics,\n",
        ")"
      ],
      "metadata": {
        "id": "iyv9mB-JsiNH"
      },
      "execution_count": 44,
      "outputs": []
    },
    {
      "cell_type": "code",
      "source": [
        "trainer2.train()"
      ],
      "metadata": {
        "colab": {
          "base_uri": "https://localhost:8080/",
          "height": 253
        },
        "id": "Iu-s5AET00wu",
        "outputId": "64628fe5-f558-4411-f182-5c6ff52fb5ce"
      },
      "execution_count": 45,
      "outputs": [
        {
          "output_type": "display_data",
          "data": {
            "text/plain": [
              "<IPython.core.display.HTML object>"
            ],
            "text/html": [
              "\n",
              "    <div>\n",
              "      \n",
              "      <progress value='80' max='80' style='width:300px; height:20px; vertical-align: middle;'></progress>\n",
              "      [80/80 00:28, Epoch 20/20]\n",
              "    </div>\n",
              "    <table border=\"1\" class=\"dataframe\">\n",
              "  <thead>\n",
              " <tr style=\"text-align: left;\">\n",
              "      <th>Step</th>\n",
              "      <th>Training Loss</th>\n",
              "      <th>Validation Loss</th>\n",
              "      <th>Mean Iou</th>\n",
              "      <th>Mean Accuracy</th>\n",
              "      <th>Overall Accuracy</th>\n",
              "      <th>Accuracy Background</th>\n",
              "      <th>Accuracy Prostate</th>\n",
              "      <th>Accuracy Femur</th>\n",
              "      <th>Iou Background</th>\n",
              "      <th>Iou Prostate</th>\n",
              "      <th>Iou Femur</th>\n",
              "    </tr>\n",
              "  </thead>\n",
              "  <tbody>\n",
              "    <tr>\n",
              "      <td>20</td>\n",
              "      <td>1.216500</td>\n",
              "      <td>1.113599</td>\n",
              "      <td>0.341247</td>\n",
              "      <td>0.602973</td>\n",
              "      <td>0.803498</td>\n",
              "      <td>nan</td>\n",
              "      <td>0.235262</td>\n",
              "      <td>0.970684</td>\n",
              "      <td>0.000000</td>\n",
              "      <td>0.230290</td>\n",
              "      <td>0.793450</td>\n",
              "    </tr>\n",
              "    <tr>\n",
              "      <td>40</td>\n",
              "      <td>1.223000</td>\n",
              "      <td>1.135880</td>\n",
              "      <td>0.340170</td>\n",
              "      <td>0.601381</td>\n",
              "      <td>0.787454</td>\n",
              "      <td>nan</td>\n",
              "      <td>0.260172</td>\n",
              "      <td>0.942590</td>\n",
              "      <td>0.000000</td>\n",
              "      <td>0.245175</td>\n",
              "      <td>0.775337</td>\n",
              "    </tr>\n",
              "    <tr>\n",
              "      <td>60</td>\n",
              "      <td>1.220500</td>\n",
              "      <td>1.162784</td>\n",
              "      <td>0.337759</td>\n",
              "      <td>0.595203</td>\n",
              "      <td>0.788775</td>\n",
              "      <td>nan</td>\n",
              "      <td>0.240244</td>\n",
              "      <td>0.950163</td>\n",
              "      <td>0.000000</td>\n",
              "      <td>0.235358</td>\n",
              "      <td>0.777919</td>\n",
              "    </tr>\n",
              "    <tr>\n",
              "      <td>80</td>\n",
              "      <td>1.208900</td>\n",
              "      <td>1.179737</td>\n",
              "      <td>0.345581</td>\n",
              "      <td>0.609675</td>\n",
              "      <td>0.789404</td>\n",
              "      <td>nan</td>\n",
              "      <td>0.280100</td>\n",
              "      <td>0.939251</td>\n",
              "      <td>0.000000</td>\n",
              "      <td>0.259887</td>\n",
              "      <td>0.776857</td>\n",
              "    </tr>\n",
              "  </tbody>\n",
              "</table><p>"
            ]
          },
          "metadata": {}
        },
        {
          "output_type": "execute_result",
          "data": {
            "text/plain": [
              "TrainOutput(global_step=80, training_loss=1.2193678230047227, metrics={'train_runtime': 32.6757, 'train_samples_per_second': 9.181, 'train_steps_per_second': 2.448, 'total_flos': 5258750459904000.0, 'train_loss': 1.2193678230047227, 'epoch': 20.0})"
            ]
          },
          "metadata": {},
          "execution_count": 45
        }
      ]
    },
    {
      "cell_type": "code",
      "source": [
        "kwargs = {\n",
        "    \"tags\": [\"vision\", \"image-segmentation\"],\n",
        "    \"finetuned_from\": \"nvidia/mit-b0\" ,\n",
        "    # \"dataset\": hf_dataset_identifier,\n",
        "}\n",
        "\n",
        "feature_extractor.push_to_hub(\"segformer-b0-finetuned-pelvic-segmentation-t2\")\n",
        "trainer1.push_to_hub(**kwargs)"
      ],
      "metadata": {
        "id": "N9iiiV1J-UC4"
      },
      "execution_count": null,
      "outputs": []
    },
    {
      "cell_type": "code",
      "source": [
        "#dcT\n",
        "trainer3 = Trainer(\n",
        "    model=model4,\n",
        "    args=training_args,\n",
        "    train_dataset=dct_train_dataset,\n",
        "    eval_dataset=dct_valid_dataset,\n",
        "    compute_metrics=compute_metrics,\n",
        ")"
      ],
      "metadata": {
        "id": "VdffEKwm2d7b"
      },
      "execution_count": 52,
      "outputs": []
    },
    {
      "cell_type": "code",
      "source": [
        "trainer3.train()"
      ],
      "metadata": {
        "id": "CYWWXzAP3UVo",
        "colab": {
          "base_uri": "https://localhost:8080/",
          "height": 253
        },
        "outputId": "b0c281cf-4ead-46ba-8496-812151688d9c"
      },
      "execution_count": 53,
      "outputs": [
        {
          "output_type": "display_data",
          "data": {
            "text/plain": [
              "<IPython.core.display.HTML object>"
            ],
            "text/html": [
              "\n",
              "    <div>\n",
              "      \n",
              "      <progress value='80' max='80' style='width:300px; height:20px; vertical-align: middle;'></progress>\n",
              "      [80/80 00:31, Epoch 20/20]\n",
              "    </div>\n",
              "    <table border=\"1\" class=\"dataframe\">\n",
              "  <thead>\n",
              " <tr style=\"text-align: left;\">\n",
              "      <th>Step</th>\n",
              "      <th>Training Loss</th>\n",
              "      <th>Validation Loss</th>\n",
              "      <th>Mean Iou</th>\n",
              "      <th>Mean Accuracy</th>\n",
              "      <th>Overall Accuracy</th>\n",
              "      <th>Accuracy Background</th>\n",
              "      <th>Accuracy Prostate</th>\n",
              "      <th>Accuracy Femur</th>\n",
              "      <th>Iou Background</th>\n",
              "      <th>Iou Prostate</th>\n",
              "      <th>Iou Femur</th>\n",
              "    </tr>\n",
              "  </thead>\n",
              "  <tbody>\n",
              "    <tr>\n",
              "      <td>20</td>\n",
              "      <td>1.231700</td>\n",
              "      <td>1.123567</td>\n",
              "      <td>0.386334</td>\n",
              "      <td>0.500000</td>\n",
              "      <td>0.772667</td>\n",
              "      <td>nan</td>\n",
              "      <td>0.000000</td>\n",
              "      <td>1.000000</td>\n",
              "      <td>nan</td>\n",
              "      <td>0.000000</td>\n",
              "      <td>0.772667</td>\n",
              "    </tr>\n",
              "    <tr>\n",
              "      <td>40</td>\n",
              "      <td>1.218800</td>\n",
              "      <td>1.158717</td>\n",
              "      <td>0.386334</td>\n",
              "      <td>0.500000</td>\n",
              "      <td>0.772667</td>\n",
              "      <td>nan</td>\n",
              "      <td>0.000000</td>\n",
              "      <td>1.000000</td>\n",
              "      <td>nan</td>\n",
              "      <td>0.000000</td>\n",
              "      <td>0.772667</td>\n",
              "    </tr>\n",
              "    <tr>\n",
              "      <td>60</td>\n",
              "      <td>1.212300</td>\n",
              "      <td>1.184243</td>\n",
              "      <td>0.386334</td>\n",
              "      <td>0.500000</td>\n",
              "      <td>0.772667</td>\n",
              "      <td>nan</td>\n",
              "      <td>0.000000</td>\n",
              "      <td>1.000000</td>\n",
              "      <td>nan</td>\n",
              "      <td>0.000000</td>\n",
              "      <td>0.772667</td>\n",
              "    </tr>\n",
              "    <tr>\n",
              "      <td>80</td>\n",
              "      <td>1.212000</td>\n",
              "      <td>1.208239</td>\n",
              "      <td>0.386334</td>\n",
              "      <td>0.500000</td>\n",
              "      <td>0.772667</td>\n",
              "      <td>nan</td>\n",
              "      <td>0.000000</td>\n",
              "      <td>1.000000</td>\n",
              "      <td>nan</td>\n",
              "      <td>0.000000</td>\n",
              "      <td>0.772667</td>\n",
              "    </tr>\n",
              "  </tbody>\n",
              "</table><p>"
            ]
          },
          "metadata": {}
        },
        {
          "output_type": "execute_result",
          "data": {
            "text/plain": [
              "TrainOutput(global_step=80, training_loss=1.2232843592762948, metrics={'train_runtime': 36.7638, 'train_samples_per_second': 8.16, 'train_steps_per_second': 2.176, 'total_flos': 5258750459904000.0, 'train_loss': 1.2232843592762948, 'epoch': 20.0})"
            ]
          },
          "metadata": {},
          "execution_count": 53
        }
      ]
    },
    {
      "cell_type": "code",
      "source": [
        "kwargs = {\n",
        "    \"tags\": [\"vision\", \"image-segmentation\"],\n",
        "    \"finetuned_from\": \"nvidia/mit-b0\" ,\n",
        "    # \"dataset\": hf_dataset_identifier,\n",
        "}\n",
        "\n",
        "feature_extractor.push_to_hub(\"segformer-b0-finetuned-pelvic-segmentation-dct\")\n",
        "trainer1.push_to_hub(**kwargs)"
      ],
      "metadata": {
        "id": "GJFrWGslVPnb"
      },
      "execution_count": null,
      "outputs": []
    },
    {
      "cell_type": "markdown",
      "source": [
        "## Evaluation"
      ],
      "metadata": {
        "id": "fausO1xq02eB"
      }
    },
    {
      "cell_type": "markdown",
      "source": [
        "## Get model saved in HF"
      ],
      "metadata": {
        "id": "6ru0jKfJcPr9"
      }
    },
    {
      "cell_type": "code",
      "source": [
        "chkpt = \"ashiyakatuka11/segformer-b0-finetuned-pelvic-segmentation\""
      ],
      "metadata": {
        "id": "z3D1Z8H7cSl6"
      },
      "execution_count": null,
      "outputs": []
    },
    {
      "cell_type": "markdown",
      "source": [
        "### Evaluate stacked model"
      ],
      "metadata": {
        "id": "otDnFjzh1Pnn"
      }
    },
    {
      "cell_type": "code",
      "source": [
        "trainer1.evaluate(t2_valid_dataset)"
      ],
      "metadata": {
        "colab": {
          "base_uri": "https://localhost:8080/",
          "height": 280
        },
        "id": "fULZyC661Mtp",
        "outputId": "42758681-cdef-4f9f-cb21-50d11ba0604e"
      },
      "execution_count": 41,
      "outputs": [
        {
          "output_type": "display_data",
          "data": {
            "text/plain": [
              "<IPython.core.display.HTML object>"
            ],
            "text/html": [
              "\n",
              "    <div>\n",
              "      \n",
              "      <progress value='1' max='1' style='width:300px; height:20px; vertical-align: middle;'></progress>\n",
              "      [1/1 : < :]\n",
              "    </div>\n",
              "    "
            ]
          },
          "metadata": {}
        },
        {
          "output_type": "execute_result",
          "data": {
            "text/plain": [
              "{'eval_loss': 1.154587745666504,\n",
              " 'eval_mean_iou': 0.30108618159501765,\n",
              " 'eval_mean_accuracy': 0.5393249674762958,\n",
              " 'eval_overall_accuracy': 0.7063487069779149,\n",
              " 'eval_accuracy_Background': nan,\n",
              " 'eval_accuracy_Prostate': 0.2330473290893994,\n",
              " 'eval_accuracy_Femur': 0.8456026058631921,\n",
              " 'eval_iou_Background': 0.0,\n",
              " 'eval_iou_Prostate': 0.20997506234413965,\n",
              " 'eval_iou_Femur': 0.6932834824409133,\n",
              " 'eval_runtime': 2.9231,\n",
              " 'eval_samples_per_second': 1.026,\n",
              " 'eval_steps_per_second': 0.342,\n",
              " 'epoch': 20.0}"
            ]
          },
          "metadata": {},
          "execution_count": 41
        }
      ]
    },
    {
      "cell_type": "code",
      "source": [
        "trainer1.evaluate(dct_valid_dataset)"
      ],
      "metadata": {
        "id": "qYbOyRePcsm_",
        "colab": {
          "base_uri": "https://localhost:8080/",
          "height": 280
        },
        "outputId": "e532daed-41c2-4e60-a679-df7402d714f1"
      },
      "execution_count": 42,
      "outputs": [
        {
          "output_type": "display_data",
          "data": {
            "text/plain": [
              "<IPython.core.display.HTML object>"
            ],
            "text/html": [
              "\n",
              "    <div>\n",
              "      \n",
              "      <progress value='2' max='1' style='width:300px; height:20px; vertical-align: middle;'></progress>\n",
              "      [1/1 01:29]\n",
              "    </div>\n",
              "    "
            ]
          },
          "metadata": {}
        },
        {
          "output_type": "execute_result",
          "data": {
            "text/plain": [
              "{'eval_loss': 1.1641277074813843,\n",
              " 'eval_mean_iou': 0.23926556820830006,\n",
              " 'eval_mean_accuracy': 0.44069024180686645,\n",
              " 'eval_overall_accuracy': 0.6748253948279117,\n",
              " 'eval_accuracy_Background': nan,\n",
              " 'eval_accuracy_Prostate': 0.011347910323830611,\n",
              " 'eval_accuracy_Femur': 0.8700325732899022,\n",
              " 'eval_iou_Background': 0.0,\n",
              " 'eval_iou_Prostate': 0.009825065899832255,\n",
              " 'eval_iou_Femur': 0.707971638725068,\n",
              " 'eval_runtime': 3.547,\n",
              " 'eval_samples_per_second': 0.846,\n",
              " 'eval_steps_per_second': 0.282,\n",
              " 'epoch': 20.0}"
            ]
          },
          "metadata": {},
          "execution_count": 42
        }
      ]
    },
    {
      "cell_type": "code",
      "source": [],
      "metadata": {
        "id": "vYZjQYv724L3"
      },
      "execution_count": null,
      "outputs": []
    },
    {
      "cell_type": "markdown",
      "source": [
        "### Evalutate T2 model"
      ],
      "metadata": {
        "id": "Dj0S58Dz1WXv"
      }
    },
    {
      "cell_type": "code",
      "source": [
        "trainer2.evaluate(dct_valid_dataset)"
      ],
      "metadata": {
        "colab": {
          "base_uri": "https://localhost:8080/",
          "height": 280
        },
        "id": "rvZJiaIS1Yrf",
        "outputId": "955451ad-e24d-40ca-c643-ea57c234f3cd"
      },
      "execution_count": 46,
      "outputs": [
        {
          "output_type": "display_data",
          "data": {
            "text/plain": [
              "<IPython.core.display.HTML object>"
            ],
            "text/html": [
              "\n",
              "    <div>\n",
              "      \n",
              "      <progress value='1' max='1' style='width:300px; height:20px; vertical-align: middle;'></progress>\n",
              "      [1/1 : < :]\n",
              "    </div>\n",
              "    "
            ]
          },
          "metadata": {}
        },
        {
          "output_type": "execute_result",
          "data": {
            "text/plain": [
              "{'eval_loss': 1.2796173095703125,\n",
              " 'eval_mean_iou': 0.3863336059900585,\n",
              " 'eval_mean_accuracy': 0.5,\n",
              " 'eval_overall_accuracy': 0.772667211980117,\n",
              " 'eval_accuracy_Background': nan,\n",
              " 'eval_accuracy_Prostate': 0.0,\n",
              " 'eval_accuracy_Femur': 1.0,\n",
              " 'eval_iou_Background': nan,\n",
              " 'eval_iou_Prostate': 0.0,\n",
              " 'eval_iou_Femur': 0.772667211980117,\n",
              " 'eval_runtime': 0.1255,\n",
              " 'eval_samples_per_second': 23.901,\n",
              " 'eval_steps_per_second': 7.967,\n",
              " 'epoch': 20.0}"
            ]
          },
          "metadata": {},
          "execution_count": 46
        }
      ]
    },
    {
      "cell_type": "code",
      "source": [
        "trainer2.evaluate(stk_valid_dataset)"
      ],
      "metadata": {
        "colab": {
          "base_uri": "https://localhost:8080/",
          "height": 280
        },
        "id": "aTsY6vka1a4j",
        "outputId": "74fd1654-76fc-4b3c-8016-18010c7a2735"
      },
      "execution_count": 47,
      "outputs": [
        {
          "output_type": "display_data",
          "data": {
            "text/plain": [
              "<IPython.core.display.HTML object>"
            ],
            "text/html": [
              "\n",
              "    <div>\n",
              "      \n",
              "      <progress value='2' max='1' style='width:300px; height:20px; vertical-align: middle;'></progress>\n",
              "      [1/1 00:02]\n",
              "    </div>\n",
              "    "
            ]
          },
          "metadata": {}
        },
        {
          "output_type": "execute_result",
          "data": {
            "text/plain": [
              "{'eval_loss': 1.1939483880996704,\n",
              " 'eval_mean_iou': 0.2965181909260714,\n",
              " 'eval_mean_accuracy': 0.5489922722957543,\n",
              " 'eval_overall_accuracy': 0.7510224627194362,\n",
              " 'eval_accuracy_Background': nan,\n",
              " 'eval_accuracy_Prostate': 0.1785220038748962,\n",
              " 'eval_accuracy_Femur': 0.9194625407166124,\n",
              " 'eval_iou_Background': 0.0,\n",
              " 'eval_iou_Prostate': 0.14906401663970417,\n",
              " 'eval_iou_Femur': 0.74049055613851,\n",
              " 'eval_runtime': 0.1191,\n",
              " 'eval_samples_per_second': 25.191,\n",
              " 'eval_steps_per_second': 8.397,\n",
              " 'epoch': 20.0}"
            ]
          },
          "metadata": {},
          "execution_count": 47
        }
      ]
    },
    {
      "cell_type": "markdown",
      "source": [
        "### Evalutate dCT model"
      ],
      "metadata": {
        "id": "CQVc51zi2ygs"
      }
    },
    {
      "cell_type": "code",
      "source": [
        "trainer3.evaluate(t2_valid_dataset)"
      ],
      "metadata": {
        "id": "UPG7expu272r",
        "colab": {
          "base_uri": "https://localhost:8080/",
          "height": 280
        },
        "outputId": "9ada4a2f-81db-4d18-aff0-349aa1464f18"
      },
      "execution_count": 54,
      "outputs": [
        {
          "output_type": "display_data",
          "data": {
            "text/plain": [
              "<IPython.core.display.HTML object>"
            ],
            "text/html": [
              "\n",
              "    <div>\n",
              "      \n",
              "      <progress value='1' max='1' style='width:300px; height:20px; vertical-align: middle;'></progress>\n",
              "      [1/1 : < :]\n",
              "    </div>\n",
              "    "
            ]
          },
          "metadata": {}
        },
        {
          "output_type": "execute_result",
          "data": {
            "text/plain": [
              "{'eval_loss': 1.1757559776306152,\n",
              " 'eval_mean_iou': 0.3236235378808382,\n",
              " 'eval_mean_accuracy': 0.6066830802810337,\n",
              " 'eval_overall_accuracy': 0.7474988988863022,\n",
              " 'eval_accuracy_Background': nan,\n",
              " 'eval_accuracy_Prostate': 0.3484638804317742,\n",
              " 'eval_accuracy_Femur': 0.8649022801302931,\n",
              " 'eval_iou_Background': 0.0,\n",
              " 'eval_iou_Prostate': 0.24380325329202168,\n",
              " 'eval_iou_Femur': 0.7270673603504929,\n",
              " 'eval_runtime': 0.1323,\n",
              " 'eval_samples_per_second': 22.679,\n",
              " 'eval_steps_per_second': 7.56,\n",
              " 'epoch': 20.0}"
            ]
          },
          "metadata": {},
          "execution_count": 54
        }
      ]
    },
    {
      "cell_type": "code",
      "source": [
        "trainer3.evaluate(stk_valid_dataset)"
      ],
      "metadata": {
        "id": "7aOgqKy527xg",
        "colab": {
          "base_uri": "https://localhost:8080/",
          "height": 280
        },
        "outputId": "75ab9bc0-6a03-4d8b-85b4-6c0f6cb914f5"
      },
      "execution_count": 55,
      "outputs": [
        {
          "output_type": "display_data",
          "data": {
            "text/plain": [
              "<IPython.core.display.HTML object>"
            ],
            "text/html": [
              "\n",
              "    <div>\n",
              "      \n",
              "      <progress value='2' max='1' style='width:300px; height:20px; vertical-align: middle;'></progress>\n",
              "      [1/1 00:03]\n",
              "    </div>\n",
              "    "
            ]
          },
          "metadata": {}
        },
        {
          "output_type": "execute_result",
          "data": {
            "text/plain": [
              "{'eval_loss': 1.1773242950439453,\n",
              " 'eval_mean_iou': 0.2820755258475394,\n",
              " 'eval_mean_accuracy': 0.5384475712478735,\n",
              " 'eval_overall_accuracy': 0.7116340527276159,\n",
              " 'eval_accuracy_Background': nan,\n",
              " 'eval_accuracy_Prostate': 0.2208690838638251,\n",
              " 'eval_accuracy_Femur': 0.8560260586319218,\n",
              " 'eval_iou_Background': 0.0,\n",
              " 'eval_iou_Prostate': 0.14960629921259844,\n",
              " 'eval_iou_Femur': 0.6966202783300198,\n",
              " 'eval_runtime': 0.12,\n",
              " 'eval_samples_per_second': 24.997,\n",
              " 'eval_steps_per_second': 8.332,\n",
              " 'epoch': 20.0}"
            ]
          },
          "metadata": {},
          "execution_count": 55
        }
      ]
    },
    {
      "cell_type": "code",
      "source": [],
      "metadata": {
        "id": "l9wu6DNNXq9y"
      },
      "execution_count": null,
      "outputs": []
    },
    {
      "cell_type": "markdown",
      "source": [
        "## Visualize results (TBD)"
      ],
      "metadata": {
        "id": "pesCtnQo1om1"
      }
    },
    {
      "cell_type": "code",
      "source": [
        "stk_valid_dataset[0]['pixel_values']"
      ],
      "metadata": {
        "colab": {
          "base_uri": "https://localhost:8080/"
        },
        "id": "GSVQZgsNCWfZ",
        "outputId": "282817f0-fabe-42eb-c24e-fff8cf0a964e"
      },
      "execution_count": null,
      "outputs": [
        {
          "output_type": "execute_result",
          "data": {
            "text/plain": [
              "tensor([[[0., 0., 0.,  ..., 0., 0., 0.],\n",
              "         [0., 0., 0.,  ..., 0., 0., 0.],\n",
              "         [0., 0., 0.,  ..., 0., 0., 0.],\n",
              "         ...,\n",
              "         [0., 0., 0.,  ..., 0., 0., 0.],\n",
              "         [0., 0., 0.,  ..., 0., 0., 0.],\n",
              "         [0., 0., 0.,  ..., 0., 0., 0.]],\n",
              "\n",
              "        [[0., 0., 0.,  ..., 0., 0., 0.],\n",
              "         [0., 0., 0.,  ..., 0., 0., 0.],\n",
              "         [0., 0., 0.,  ..., 0., 0., 0.],\n",
              "         ...,\n",
              "         [0., 0., 0.,  ..., 0., 0., 0.],\n",
              "         [0., 0., 0.,  ..., 0., 0., 0.],\n",
              "         [0., 0., 0.,  ..., 0., 0., 0.]],\n",
              "\n",
              "        [[0., 0., 0.,  ..., 0., 0., 0.],\n",
              "         [0., 0., 0.,  ..., 0., 0., 0.],\n",
              "         [0., 0., 0.,  ..., 0., 0., 0.],\n",
              "         ...,\n",
              "         [0., 0., 0.,  ..., 0., 0., 0.],\n",
              "         [0., 0., 0.,  ..., 0., 0., 0.],\n",
              "         [0., 0., 0.,  ..., 0., 0., 0.]]])"
            ]
          },
          "metadata": {},
          "execution_count": 102
        }
      ]
    },
    {
      "cell_type": "code",
      "source": [
        "prediction_image = trainer.predict(stk_valid_dataset)\n"
      ],
      "metadata": {
        "colab": {
          "base_uri": "https://localhost:8080/",
          "height": 1000
        },
        "id": "dUQB1xUZAv7Q",
        "outputId": "2bb1429c-c5bf-40ce-b073-76d07e9bd04c"
      },
      "execution_count": null,
      "outputs": [
        {
          "output_type": "display_data",
          "data": {
            "text/plain": [
              "<IPython.core.display.HTML object>"
            ],
            "text/html": []
          },
          "metadata": {}
        },
        {
          "output_type": "stream",
          "name": "stdout",
          "text": [
            "this the original label\n",
            "[[[0 0 0 ... 0 0 0]\n",
            "  [0 0 0 ... 0 0 0]\n",
            "  [0 0 0 ... 0 0 0]\n",
            "  ...\n",
            "  [0 0 0 ... 0 0 0]\n",
            "  [0 0 0 ... 0 0 0]\n",
            "  [0 0 0 ... 0 0 0]]\n",
            "\n",
            " [[0 0 0 ... 0 0 0]\n",
            "  [0 0 0 ... 0 0 0]\n",
            "  [0 0 0 ... 0 0 0]\n",
            "  ...\n",
            "  [0 0 0 ... 0 0 0]\n",
            "  [0 0 0 ... 0 0 0]\n",
            "  [0 0 0 ... 0 0 0]]\n",
            "\n",
            " [[0 0 0 ... 0 0 0]\n",
            "  [0 0 0 ... 0 0 0]\n",
            "  [0 0 0 ... 0 0 0]\n",
            "  ...\n",
            "  [0 0 0 ... 0 0 0]\n",
            "  [0 0 0 ... 0 0 0]\n",
            "  [0 0 0 ... 0 0 0]]\n",
            "\n",
            " ...\n",
            "\n",
            " [[0 0 0 ... 0 0 0]\n",
            "  [0 0 0 ... 0 0 0]\n",
            "  [0 0 0 ... 0 0 0]\n",
            "  ...\n",
            "  [0 0 0 ... 0 0 0]\n",
            "  [0 0 0 ... 0 0 0]\n",
            "  [0 0 0 ... 0 0 0]]\n",
            "\n",
            " [[0 0 0 ... 0 0 0]\n",
            "  [0 0 0 ... 0 0 0]\n",
            "  [0 0 0 ... 0 0 0]\n",
            "  ...\n",
            "  [0 0 0 ... 0 0 0]\n",
            "  [0 0 0 ... 0 0 0]\n",
            "  [0 0 0 ... 0 0 0]]\n",
            "\n",
            " [[0 0 0 ... 0 0 0]\n",
            "  [0 0 0 ... 0 0 0]\n",
            "  [0 0 0 ... 0 0 0]\n",
            "  ...\n",
            "  [0 0 0 ... 0 0 0]\n",
            "  [0 0 0 ... 0 0 0]\n",
            "  [0 0 0 ... 0 0 0]]]\n",
            "this the predicted label\n",
            "[[[0 0 0 ... 0 0 0]\n",
            "  [0 0 0 ... 0 0 0]\n",
            "  [0 0 0 ... 0 0 0]\n",
            "  ...\n",
            "  [0 0 0 ... 0 0 0]\n",
            "  [0 0 0 ... 0 0 0]\n",
            "  [0 0 0 ... 0 0 0]]\n",
            "\n",
            " [[0 0 0 ... 0 0 0]\n",
            "  [0 0 0 ... 0 0 0]\n",
            "  [0 0 0 ... 0 0 0]\n",
            "  ...\n",
            "  [0 0 0 ... 0 0 0]\n",
            "  [0 0 0 ... 0 0 0]\n",
            "  [0 0 0 ... 0 0 0]]\n",
            "\n",
            " [[0 0 0 ... 0 0 0]\n",
            "  [0 0 0 ... 0 0 0]\n",
            "  [0 0 0 ... 0 0 0]\n",
            "  ...\n",
            "  [0 0 0 ... 0 0 0]\n",
            "  [0 0 0 ... 0 0 0]\n",
            "  [0 0 0 ... 0 0 0]]\n",
            "\n",
            " ...\n",
            "\n",
            " [[0 0 0 ... 0 0 0]\n",
            "  [0 0 0 ... 0 0 0]\n",
            "  [0 0 0 ... 0 0 0]\n",
            "  ...\n",
            "  [0 0 0 ... 0 0 0]\n",
            "  [0 0 0 ... 0 0 0]\n",
            "  [0 0 0 ... 0 0 0]]\n",
            "\n",
            " [[0 0 0 ... 0 0 0]\n",
            "  [0 0 0 ... 0 0 0]\n",
            "  [0 0 0 ... 0 0 0]\n",
            "  ...\n",
            "  [0 0 0 ... 0 0 0]\n",
            "  [0 0 0 ... 0 0 0]\n",
            "  [0 0 0 ... 0 0 0]]\n",
            "\n",
            " [[0 0 0 ... 0 0 0]\n",
            "  [0 0 0 ... 0 0 0]\n",
            "  [0 0 0 ... 0 0 0]\n",
            "  ...\n",
            "  [0 0 0 ... 0 0 0]\n",
            "  [0 0 0 ... 0 0 0]\n",
            "  [0 0 0 ... 0 0 0]]]\n",
            "{'mean_iou': 0.010946644219486776, 'mean_accuracy': 0.016451439774805857, 'overall_accuracy': 0.019117562828941087, 'accuracy_Background': nan, 'accuracy_Prostate': 0.0, 'accuracy_Femur': 0.03290287954961171, 'iou_Background': 0.0, 'iou_Prostate': 0.0, 'iou_Femur': 0.03283993265846033}\n"
          ]
        }
      ]
    },
    {
      "cell_type": "code",
      "source": [
        "output = prediction_image[1]\n",
        "class_predictions = np.argmax(output[:3], axis=0)\n",
        "\n",
        "# convert the class predictions to a 3D array with uint8 data type\n",
        "prediction_image = class_predictions.astype(np.uint8)"
      ],
      "metadata": {
        "id": "SGGtQeCaBck-"
      },
      "execution_count": null,
      "outputs": []
    },
    {
      "cell_type": "code",
      "source": [
        "stk_valid_dataset[1]['pixel_values'].numpy().astype(np.uint8).squeeze().shape"
      ],
      "metadata": {
        "colab": {
          "base_uri": "https://localhost:8080/"
        },
        "id": "RHpju9oWDn40",
        "outputId": "611db15b-21aa-473d-912c-3dd1b152d4fc"
      },
      "execution_count": null,
      "outputs": [
        {
          "output_type": "execute_result",
          "data": {
            "text/plain": [
              "(3, 512, 512)"
            ]
          },
          "metadata": {},
          "execution_count": 119
        }
      ]
    },
    {
      "cell_type": "code",
      "source": [
        "# ]np.argmax(output[:3], axis=0)\n",
        "img = stk_valid_dataset[1]['pixel_values'].numpy().astype(np.uint8)\n",
        "img = np.squeeze(img)\n",
        "label = stk_valid_dataset[1]['labels'].numpy().astype(np.uint8)\n",
        "pred_img = prediction_image\n",
        "\n",
        "figure,axis = plt.subplots(1,3,figsize=(10,10))\n",
        "# axis[0].imshow(img)\n",
        "# axis[0].set_xlabel(img.shape)\n",
        "# axis[0].set_ylabel(img.size)\n",
        "# axis[0].set_title(\"IMAGE\")\n",
        "\n",
        "axis[1].imshow(label)\n",
        "axis[1].set_xlabel(label.shape)\n",
        "axis[1].set_ylabel(label.size)\n",
        "axis[1].set_title(\"MASK\")\n",
        "axis[2].imshow(pred_img)\n",
        "axis[2].set_xlabel(pred_img.shape)\n",
        "axis[2].set_ylabel(pred_img.size)\n",
        "axis[2].set_title(\"PREDICTION\")"
      ],
      "metadata": {
        "id": "2yEz3or91qFW",
        "colab": {
          "base_uri": "https://localhost:8080/",
          "height": 854
        },
        "outputId": "6b18324a-a3d0-43b5-bda2-4288af74cdb7"
      },
      "execution_count": null,
      "outputs": [
        {
          "output_type": "execute_result",
          "data": {
            "text/plain": [
              "Text(0.5, 1.0, 'PREDICTION')"
            ]
          },
          "metadata": {},
          "execution_count": 124
        },
        {
          "output_type": "display_data",
          "data": {
            "text/plain": [
              "<Figure size 1000x1000 with 3 Axes>"
            ],
            "image/png": "[encoded data removed]"
          },
          "metadata": {}
        }
      ]
    },
    {
      "cell_type": "code",
      "source": [
        "# from datasets import load_dataset\n",
        "\n",
        "# dataset = load_dataset(\"Cats-Can/pelvic_images\")"
      ],
      "metadata": {
        "id": "skbHXS7uAP3R"
      },
      "execution_count": null,
      "outputs": []
    },
    {
      "cell_type": "code",
      "source": [
        "!pip install -q pytorch-lightning"
      ],
      "metadata": {
        "colab": {
          "base_uri": "https://localhost:8080/"
        },
        "id": "5p3yB9XLAQhi",
        "outputId": "ab1a4b7d-fedf-46c0-e50e-342488b27350"
      },
      "execution_count": null,
      "outputs": [
        {
          "output_type": "stream",
          "name": "stdout",
          "text": [
            "\u001b[2K     \u001b[90m━━━━━━━━━━━━━━━━━━━━━━━━━━━━━━━━━━━━━━\u001b[0m \u001b[32m718.6/718.6 kB\u001b[0m \u001b[31m10.0 MB/s\u001b[0m eta \u001b[36m0:00:00\u001b[0m\n",
            "\u001b[2K     \u001b[90m━━━━━━━━━━━━━━━━━━━━━━━━━━━━━━━━━━━━━━\u001b[0m \u001b[32m519.2/519.2 kB\u001b[0m \u001b[31m20.4 MB/s\u001b[0m eta \u001b[36m0:00:00\u001b[0m\n",
            "\u001b[?25h"
          ]
        }
      ]
    },
    {
      "cell_type": "code",
      "source": [
        "import pytorch_lightning as pl\n",
        "from pytorch_lightning.callbacks.early_stopping import EarlyStopping\n",
        "from pytorch_lightning.callbacks.model_checkpoint import ModelCheckpoint\n",
        "from pytorch_lightning.loggers import CSVLogger"
      ],
      "metadata": {
        "id": "OZ6hOK9IJp8l"
      },
      "execution_count": null,
      "outputs": []
    },
    {
      "cell_type": "code",
      "source": [
        "class SegformerFinetuner(pl.LightningModule):\n",
        "    \n",
        "    def __init__(self, id2label, train_dataloader=None,  test_dataloader=None, metrics_interval=100):\n",
        "        super(SegformerFinetuner, self).__init__()\n",
        "        self.id2label = id2label\n",
        "        self.metrics_interval = metrics_interval\n",
        "        self.train_dl = train_dataloader\n",
        "        self.test_dl = test_dataloader\n",
        "        \n",
        "        self.num_classes = len(id2label.keys())\n",
        "        self.label2id = {v:k for k,v in self.id2label.items()}\n",
        "        \n",
        "        self.model = SegformerForSemanticSegmentation.from_pretrained(\n",
        "            \"nvidia/segformer-b0-finetuned-ade-512-512\", \n",
        "            return_dict=False, \n",
        "            num_labels=self.num_classes,\n",
        "            id2label=self.id2label,\n",
        "            label2id=self.label2id,\n",
        "            ignore_mismatched_sizes=True,\n",
        "        )\n",
        "        \n",
        "        self.train_mean_iou = load_metric(\"mean_iou\")\n",
        "        self.test_mean_iou = load_metric(\"mean_iou\")\n",
        "        \n",
        "    def forward(self, images, masks):\n",
        "        outputs = self.model(pixel_values=images, labels=masks)\n",
        "        return(outputs)\n",
        "    \n",
        "    def training_step(self, batch, batch_nb):\n",
        "        \n",
        "        images, masks = batch['pixel_values'], batch['labels']\n",
        "        \n",
        "        outputs = self(images, masks)\n",
        "        \n",
        "        loss, logits = outputs[0], outputs[1]\n",
        "        \n",
        "        upsampled_logits = nn.functional.interpolate(\n",
        "            logits, \n",
        "            size=masks.shape[-2:], \n",
        "            mode=\"bilinear\", \n",
        "            align_corners=False\n",
        "        )\n",
        "\n",
        "        predicted = upsampled_logits.argmax(dim=1)\n",
        "\n",
        "        self.train_mean_iou.add_batch(\n",
        "            predictions=predicted.detach().cpu().numpy(), \n",
        "            references=masks.detach().cpu().numpy()\n",
        "        )\n",
        "        if batch_nb % self.metrics_interval == 0:\n",
        "\n",
        "            metrics = self.train_mean_iou.compute(\n",
        "                num_labels=self.num_classes, \n",
        "                ignore_index=255, \n",
        "                reduce_labels=False,\n",
        "            )\n",
        "            \n",
        "            metrics = {'loss': loss, \"mean_iou\": metrics[\"mean_iou\"], \"mean_accuracy\": metrics[\"mean_accuracy\"]}\n",
        "            \n",
        "            for k,v in metrics.items():\n",
        "                self.log(k,v)\n",
        "            \n",
        "            return(metrics)\n",
        "        else:\n",
        "            return({'loss': loss})\n",
        "      \n",
        "\n",
        "    \n",
        "    def test_step(self, batch, batch_nb):\n",
        "        \n",
        "        images, masks = batch['pixel_values'], batch['labels']\n",
        "        \n",
        "        outputs = self(images, masks)\n",
        "        \n",
        "        loss, logits = outputs[0], outputs[1]\n",
        "        \n",
        "        upsampled_logits = nn.functional.interpolate(\n",
        "            logits, \n",
        "            size=masks.shape[-2:], \n",
        "            mode=\"bilinear\", \n",
        "            align_corners=False\n",
        "        )\n",
        "        \n",
        "        predicted = upsampled_logits.argmax(dim=1)\n",
        "        \n",
        "        self.test_mean_iou.add_batch(\n",
        "            predictions=predicted.detach().cpu().numpy(), \n",
        "            references=masks.detach().cpu().numpy()\n",
        "        )\n",
        "            \n",
        "        return({'test_loss': loss})\n",
        "    \n",
        "    def test_epoch_end(self, outputs):\n",
        "        metrics = self.test_mean_iou.compute(\n",
        "              num_labels=self.num_classes, \n",
        "              ignore_index=255, \n",
        "              reduce_labels=False,\n",
        "          )\n",
        "       \n",
        "        avg_test_loss = torch.stack([x[\"test_loss\"] for x in outputs]).mean()\n",
        "        test_mean_iou = metrics[\"mean_iou\"]\n",
        "        test_mean_accuracy = metrics[\"mean_accuracy\"]\n",
        "\n",
        "        metrics = {\"test_loss\": avg_test_loss, \"test_mean_iou\":test_mean_iou, \"test_mean_accuracy\":test_mean_accuracy}\n",
        "        \n",
        "        for k,v in metrics.items():\n",
        "            self.log(k,v)\n",
        "        \n",
        "        return metrics\n",
        "    \n",
        "    def configure_optimizers(self):\n",
        "        return torch.optim.Adam([p for p in self.parameters() if p.requires_grad], lr=2e-05, eps=1e-08)\n",
        "    \n",
        "    def train_dataloader(self):\n",
        "        return self.train_dl\n",
        "\n",
        "    \n",
        "    def test_dataloader(self):\n",
        "        return self.test_dl"
      ],
      "metadata": {
        "id": "jOaSJJNAJBJS"
      },
      "execution_count": null,
      "outputs": []
    },
    {
      "cell_type": "code",
      "source": [
        "batch_size = 4\n",
        "num_workers = 2\n",
        "train_dataloader = DataLoader(stk_train_dataset, batch_size=batch_size, shuffle=True, num_workers=num_workers)\n",
        "test_dataloader = DataLoader(stk_valid_dataset, batch_size=batch_size, num_workers=num_workers)\n",
        "\n",
        "segformer_finetuner = SegformerFinetuner(\n",
        "    id2label, \n",
        "    train_dataloader=train_dataloader, \n",
        "    test_dataloader=test_dataloader, \n",
        "    metrics_interval=10,\n",
        ")"
      ],
      "metadata": {
        "colab": {
          "base_uri": "https://localhost:8080/",
          "height": 170,
          "referenced_widgets": [
            "4f65307c03f34e27a2891576d2f21877",
            "5e1bb5960bf043b3b14ef536b883c778",
            "8b8320c722db4e128f58de52e33ee7bc",
            "4ea7d955a55641d1b15dc3a131af8da2",
            "a54e8b99e7804815ba5e465a8ff09fd0",
            "af3587f191c8447ba266a4335ef9524e",
            "83b610bc619f4faca32d726cc3216589",
            "4ce995411ae74f07ac4eaac1bf6b2201",
            "d5ca235ac71d45ed93d70a7cb6aafa24",
            "cb66a2a7b7f94791b84dd5952e0c0391",
            "7819a05baff14bf99c053f645875f7e9",
            "2ab012bc815d4f7fa4f44280d5f11466",
            "79c4eee1abf9409bbb7f1c7082e723e9",
            "776001e75b974c08b8be03c4c353344f",
            "47e48988069f407996c4e540d1e7be89",
            "66fd179d2d0640289f355af39ea8586a",
            "4fb870adeb3948e88a3645c478f7434e",
            "9c70173cc278459ab7691f58bb2dd2f3",
            "b5f6b812cd4642c692279c5916b877f8",
            "1349e6b6c1414a2c8a5da9fcca97dd46",
            "cb639fe0e6814aa1b0b637f6007ce586",
            "835d2bbf86494a1d9a1a41ff3901bf7b"
          ]
        },
        "id": "xu4xeiVlJk0p",
        "outputId": "56cdb14a-8eaf-4cd8-ea26-473a8a28a99d"
      },
      "execution_count": null,
      "outputs": [
        {
          "output_type": "display_data",
          "data": {
            "text/plain": [
              "Downloading (…)lve/main/config.json:   0%|          | 0.00/6.88k [00:00<?, ?B/s]"
            ],
            "application/vnd.jupyter.widget-view+json": {
              "version_major": 2,
              "version_minor": 0,
              "model_id": "4f65307c03f34e27a2891576d2f21877"
            }
          },
          "metadata": {}
        },
        {
          "output_type": "display_data",
          "data": {
            "text/plain": [
              "Downloading pytorch_model.bin:   0%|          | 0.00/15.1M [00:00<?, ?B/s]"
            ],
            "application/vnd.jupyter.widget-view+json": {
              "version_major": 2,
              "version_minor": 0,
              "model_id": "2ab012bc815d4f7fa4f44280d5f11466"
            }
          },
          "metadata": {}
        },
        {
          "output_type": "stream",
          "name": "stderr",
          "text": [
            "Some weights of SegformerForSemanticSegmentation were not initialized from the model checkpoint at nvidia/segformer-b0-finetuned-ade-512-512 and are newly initialized because the shapes did not match:\n",
            "- decode_head.classifier.weight: found shape torch.Size([150, 256, 1, 1]) in the checkpoint and torch.Size([3, 256, 1, 1]) in the model instantiated\n",
            "- decode_head.classifier.bias: found shape torch.Size([150]) in the checkpoint and torch.Size([3]) in the model instantiated\n",
            "You should probably TRAIN this model on a down-stream task to be able to use it for predictions and inference.\n"
          ]
        }
      ]
    },
    {
      "cell_type": "code",
      "source": [
        "early_stop_callback = EarlyStopping(\n",
        "    monitor=\"val_loss\", \n",
        "    min_delta=0.00, \n",
        "    patience=10, \n",
        "    verbose=False, \n",
        "    mode=\"min\",\n",
        ")\n",
        "\n",
        "checkpoint_callback = ModelCheckpoint(save_top_k=1, monitor=\"val_loss\")\n",
        "\n",
        "trainer = pl.Trainer(\n",
        "    # gpus=1, \n",
        "    callbacks=[early_stop_callback, checkpoint_callback],\n",
        "    max_epochs=1,\n",
        "    val_check_interval=len(train_dataloader),\n",
        ")\n",
        "trainer.fit(segformer_finetuner)"
      ],
      "metadata": {
        "colab": {
          "base_uri": "https://localhost:8080/",
          "height": 309,
          "referenced_widgets": [
            "4d43a623c0b349e184b91338c09fdb53",
            "92023f05931241e0811040d9b180f0f4",
            "0b7062455c7647f4bd5c04312b7892ea",
            "1d64a8f5b61c41fd9ccbe76b1cce8ca1",
            "6bda267560ec47f2b391c710fa20cbe0",
            "81eddfe464e64c1ba385c4405ca3f976",
            "0393e78df8044d19b951e204ba38bc97",
            "132b8798c088454190ec5114f3fe8e76",
            "ec67fad055294a4086078925054bae4b",
            "bcdd9e9dd54b4f4fb4ae24855dc33a64",
            "8382002dab3742f2a4ce9be45e94e596"
          ]
        },
        "id": "mknilr9KKI78",
        "outputId": "ebddf19c-004d-480f-b0c1-1a9c28e39edc"
      },
      "execution_count": null,
      "outputs": [
        {
          "output_type": "stream",
          "name": "stderr",
          "text": [
            "INFO:pytorch_lightning.utilities.rank_zero:GPU available: False, used: False\n",
            "INFO:pytorch_lightning.utilities.rank_zero:TPU available: False, using: 0 TPU cores\n",
            "INFO:pytorch_lightning.utilities.rank_zero:IPU available: False, using: 0 IPUs\n",
            "INFO:pytorch_lightning.utilities.rank_zero:HPU available: False, using: 0 HPUs\n",
            "WARNING:pytorch_lightning.loggers.tensorboard:Missing logger folder: /content/lightning_logs\n",
            "INFO:pytorch_lightning.callbacks.model_summary:\n",
            "  | Name  | Type                             | Params\n",
            "-----------------------------------------------------------\n",
            "0 | model | SegformerForSemanticSegmentation | 3.7 M \n",
            "-----------------------------------------------------------\n",
            "3.7 M     Trainable params\n",
            "0         Non-trainable params\n",
            "3.7 M     Total params\n",
            "14.860    Total estimated model params size (MB)\n"
          ]
        },
        {
          "output_type": "display_data",
          "data": {
            "text/plain": [
              "Training: 0it [00:00, ?it/s]"
            ],
            "application/vnd.jupyter.widget-view+json": {
              "version_major": 2,
              "version_minor": 0,
              "model_id": "4d43a623c0b349e184b91338c09fdb53"
            }
          },
          "metadata": {}
        },
        {
          "output_type": "stream",
          "name": "stderr",
          "text": [
            "INFO:pytorch_lightning.utilities.rank_zero:`Trainer.fit` stopped: `max_epochs=1` reached.\n"
          ]
        }
      ]
    },
    {
      "cell_type": "code",
      "source": [
        "trainer\n"
      ],
      "metadata": {
        "colab": {
          "base_uri": "https://localhost:8080/"
        },
        "id": "ls60Aw0hKLhK",
        "outputId": "cb259347-5473-4f44-9df0-b2096de97433"
      },
      "execution_count": null,
      "outputs": [
        {
          "output_type": "execute_result",
          "data": {
            "text/plain": [
              "<pytorch_lightning.trainer.trainer.Trainer at 0x7f16dd6ab6a0>"
            ]
          },
          "metadata": {},
          "execution_count": 90
        }
      ]
    },
    {
      "cell_type": "code",
      "source": [],
      "metadata": {
        "id": "8ELZyjn4PaGm"
      },
      "execution_count": null,
      "outputs": []
    }
  ],
  "metadata": {
    "colab": {
      "provenance": [],
      "collapsed_sections": [
        "OfcXr5iLAjW6",
        "QfFTkPPFJVXo",
        "9x_Fe1UQAKa7",
        "4GGsLI_OD1MU",
        "myPtuOdlMJO9"
      ],
      "authorship_tag": "ABX9TyOe9LHb9R4FgD3RZjvousDV",
      "include_colab_link": true
    },
    "gpuClass": "premium",
    "kernelspec": {
      "display_name": "Python 3",
      "name": "python3"
    },
    "language_info": {
      "name": "python"
    },
    "accelerator": "GPU",
    "widgets": {
      "application/vnd.jupyter.widget-state+json": {
        "4f65307c03f34e27a2891576d2f21877": {
          "model_module": "@jupyter-widgets/controls",
          "model_name": "HBoxModel",
          "model_module_version": "1.5.0",
          "state": {
            "_dom_classes": [],
            "_model_module": "@jupyter-widgets/controls",
            "_model_module_version": "1.5.0",
            "_model_name": "HBoxModel",
            "_view_count": null,
            "_view_module": "@jupyter-widgets/controls",
            "_view_module_version": "1.5.0",
            "_view_name": "HBoxView",
            "box_style": "",
            "children": [
              "IPY_MODEL_5e1bb5960bf043b3b14ef536b883c778",
              "IPY_MODEL_8b8320c722db4e128f58de52e33ee7bc",
              "IPY_MODEL_4ea7d955a55641d1b15dc3a131af8da2"
            ],
            "layout": "IPY_MODEL_a54e8b99e7804815ba5e465a8ff09fd0"
          }
        },
        "5e1bb5960bf043b3b14ef536b883c778": {
          "model_module": "@jupyter-widgets/controls",
          "model_name": "HTMLModel",
          "model_module_version": "1.5.0",
          "state": {
            "_dom_classes": [],
            "_model_module": "@jupyter-widgets/controls",
            "_model_module_version": "1.5.0",
            "_model_name": "HTMLModel",
            "_view_count": null,
            "_view_module": "@jupyter-widgets/controls",
            "_view_module_version": "1.5.0",
            "_view_name": "HTMLView",
            "description": "",
            "description_tooltip": null,
            "layout": "IPY_MODEL_af3587f191c8447ba266a4335ef9524e",
            "placeholder": "​",
            "style": "IPY_MODEL_83b610bc619f4faca32d726cc3216589",
            "value": "Downloading (…)lve/main/config.json: 100%"
          }
        },
        "8b8320c722db4e128f58de52e33ee7bc": {
          "model_module": "@jupyter-widgets/controls",
          "model_name": "FloatProgressModel",
          "model_module_version": "1.5.0",
          "state": {
            "_dom_classes": [],
            "_model_module": "@jupyter-widgets/controls",
            "_model_module_version": "1.5.0",
            "_model_name": "FloatProgressModel",
            "_view_count": null,
            "_view_module": "@jupyter-widgets/controls",
            "_view_module_version": "1.5.0",
            "_view_name": "ProgressView",
            "bar_style": "success",
            "description": "",
            "description_tooltip": null,
            "layout": "IPY_MODEL_4ce995411ae74f07ac4eaac1bf6b2201",
            "max": 6884,
            "min": 0,
            "orientation": "horizontal",
            "style": "IPY_MODEL_d5ca235ac71d45ed93d70a7cb6aafa24",
            "value": 6884
          }
        },
        "4ea7d955a55641d1b15dc3a131af8da2": {
          "model_module": "@jupyter-widgets/controls",
          "model_name": "HTMLModel",
          "model_module_version": "1.5.0",
          "state": {
            "_dom_classes": [],
            "_model_module": "@jupyter-widgets/controls",
            "_model_module_version": "1.5.0",
            "_model_name": "HTMLModel",
            "_view_count": null,
            "_view_module": "@jupyter-widgets/controls",
            "_view_module_version": "1.5.0",
            "_view_name": "HTMLView",
            "description": "",
            "description_tooltip": null,
            "layout": "IPY_MODEL_cb66a2a7b7f94791b84dd5952e0c0391",
            "placeholder": "​",
            "style": "IPY_MODEL_7819a05baff14bf99c053f645875f7e9",
            "value": " 6.88k/6.88k [00:00&lt;00:00, 103kB/s]"
          }
        },
        "a54e8b99e7804815ba5e465a8ff09fd0": {
          "model_module": "@jupyter-widgets/base",
          "model_name": "LayoutModel",
          "model_module_version": "1.2.0",
          "state": {
            "_model_module": "@jupyter-widgets/base",
            "_model_module_version": "1.2.0",
            "_model_name": "LayoutModel",
            "_view_count": null,
            "_view_module": "@jupyter-widgets/base",
            "_view_module_version": "1.2.0",
            "_view_name": "LayoutView",
            "align_content": null,
            "align_items": null,
            "align_self": null,
            "border": null,
            "bottom": null,
            "display": null,
            "flex": null,
            "flex_flow": null,
            "grid_area": null,
            "grid_auto_columns": null,
            "grid_auto_flow": null,
            "grid_auto_rows": null,
            "grid_column": null,
            "grid_gap": null,
            "grid_row": null,
            "grid_template_areas": null,
            "grid_template_columns": null,
            "grid_template_rows": null,
            "height": null,
            "justify_content": null,
            "justify_items": null,
            "left": null,
            "margin": null,
            "max_height": null,
            "max_width": null,
            "min_height": null,
            "min_width": null,
            "object_fit": null,
            "object_position": null,
            "order": null,
            "overflow": null,
            "overflow_x": null,
            "overflow_y": null,
            "padding": null,
            "right": null,
            "top": null,
            "visibility": null,
            "width": null
          }
        },
        "af3587f191c8447ba266a4335ef9524e": {
          "model_module": "@jupyter-widgets/base",
          "model_name": "LayoutModel",
          "model_module_version": "1.2.0",
          "state": {
            "_model_module": "@jupyter-widgets/base",
            "_model_module_version": "1.2.0",
            "_model_name": "LayoutModel",
            "_view_count": null,
            "_view_module": "@jupyter-widgets/base",
            "_view_module_version": "1.2.0",
            "_view_name": "LayoutView",
            "align_content": null,
            "align_items": null,
            "align_self": null,
            "border": null,
            "bottom": null,
            "display": null,
            "flex": null,
            "flex_flow": null,
            "grid_area": null,
            "grid_auto_columns": null,
            "grid_auto_flow": null,
            "grid_auto_rows": null,
            "grid_column": null,
            "grid_gap": null,
            "grid_row": null,
            "grid_template_areas": null,
            "grid_template_columns": null,
            "grid_template_rows": null,
            "height": null,
            "justify_content": null,
            "justify_items": null,
            "left": null,
            "margin": null,
            "max_height": null,
            "max_width": null,
            "min_height": null,
            "min_width": null,
            "object_fit": null,
            "object_position": null,
            "order": null,
            "overflow": null,
            "overflow_x": null,
            "overflow_y": null,
            "padding": null,
            "right": null,
            "top": null,
            "visibility": null,
            "width": null
          }
        },
        "83b610bc619f4faca32d726cc3216589": {
          "model_module": "@jupyter-widgets/controls",
          "model_name": "DescriptionStyleModel",
          "model_module_version": "1.5.0",
          "state": {
            "_model_module": "@jupyter-widgets/controls",
            "_model_module_version": "1.5.0",
            "_model_name": "DescriptionStyleModel",
            "_view_count": null,
            "_view_module": "@jupyter-widgets/base",
            "_view_module_version": "1.2.0",
            "_view_name": "StyleView",
            "description_width": ""
          }
        },
        "4ce995411ae74f07ac4eaac1bf6b2201": {
          "model_module": "@jupyter-widgets/base",
          "model_name": "LayoutModel",
          "model_module_version": "1.2.0",
          "state": {
            "_model_module": "@jupyter-widgets/base",
            "_model_module_version": "1.2.0",
            "_model_name": "LayoutModel",
            "_view_count": null,
            "_view_module": "@jupyter-widgets/base",
            "_view_module_version": "1.2.0",
            "_view_name": "LayoutView",
            "align_content": null,
            "align_items": null,
            "align_self": null,
            "border": null,
            "bottom": null,
            "display": null,
            "flex": null,
            "flex_flow": null,
            "grid_area": null,
            "grid_auto_columns": null,
            "grid_auto_flow": null,
            "grid_auto_rows": null,
            "grid_column": null,
            "grid_gap": null,
            "grid_row": null,
            "grid_template_areas": null,
            "grid_template_columns": null,
            "grid_template_rows": null,
            "height": null,
            "justify_content": null,
            "justify_items": null,
            "left": null,
            "margin": null,
            "max_height": null,
            "max_width": null,
            "min_height": null,
            "min_width": null,
            "object_fit": null,
            "object_position": null,
            "order": null,
            "overflow": null,
            "overflow_x": null,
            "overflow_y": null,
            "padding": null,
            "right": null,
            "top": null,
            "visibility": null,
            "width": null
          }
        },
        "d5ca235ac71d45ed93d70a7cb6aafa24": {
          "model_module": "@jupyter-widgets/controls",
          "model_name": "ProgressStyleModel",
          "model_module_version": "1.5.0",
          "state": {
            "_model_module": "@jupyter-widgets/controls",
            "_model_module_version": "1.5.0",
            "_model_name": "ProgressStyleModel",
            "_view_count": null,
            "_view_module": "@jupyter-widgets/base",
            "_view_module_version": "1.2.0",
            "_view_name": "StyleView",
            "bar_color": null,
            "description_width": ""
          }
        },
        "cb66a2a7b7f94791b84dd5952e0c0391": {
          "model_module": "@jupyter-widgets/base",
          "model_name": "LayoutModel",
          "model_module_version": "1.2.0",
          "state": {
            "_model_module": "@jupyter-widgets/base",
            "_model_module_version": "1.2.0",
            "_model_name": "LayoutModel",
            "_view_count": null,
            "_view_module": "@jupyter-widgets/base",
            "_view_module_version": "1.2.0",
            "_view_name": "LayoutView",
            "align_content": null,
            "align_items": null,
            "align_self": null,
            "border": null,
            "bottom": null,
            "display": null,
            "flex": null,
            "flex_flow": null,
            "grid_area": null,
            "grid_auto_columns": null,
            "grid_auto_flow": null,
            "grid_auto_rows": null,
            "grid_column": null,
            "grid_gap": null,
            "grid_row": null,
            "grid_template_areas": null,
            "grid_template_columns": null,
            "grid_template_rows": null,
            "height": null,
            "justify_content": null,
            "justify_items": null,
            "left": null,
            "margin": null,
            "max_height": null,
            "max_width": null,
            "min_height": null,
            "min_width": null,
            "object_fit": null,
            "object_position": null,
            "order": null,
            "overflow": null,
            "overflow_x": null,
            "overflow_y": null,
            "padding": null,
            "right": null,
            "top": null,
            "visibility": null,
            "width": null
          }
        },
        "7819a05baff14bf99c053f645875f7e9": {
          "model_module": "@jupyter-widgets/controls",
          "model_name": "DescriptionStyleModel",
          "model_module_version": "1.5.0",
          "state": {
            "_model_module": "@jupyter-widgets/controls",
            "_model_module_version": "1.5.0",
            "_model_name": "DescriptionStyleModel",
            "_view_count": null,
            "_view_module": "@jupyter-widgets/base",
            "_view_module_version": "1.2.0",
            "_view_name": "StyleView",
            "description_width": ""
          }
        },
        "2ab012bc815d4f7fa4f44280d5f11466": {
          "model_module": "@jupyter-widgets/controls",
          "model_name": "HBoxModel",
          "model_module_version": "1.5.0",
          "state": {
            "_dom_classes": [],
            "_model_module": "@jupyter-widgets/controls",
            "_model_module_version": "1.5.0",
            "_model_name": "HBoxModel",
            "_view_count": null,
            "_view_module": "@jupyter-widgets/controls",
            "_view_module_version": "1.5.0",
            "_view_name": "HBoxView",
            "box_style": "",
            "children": [
              "IPY_MODEL_79c4eee1abf9409bbb7f1c7082e723e9",
              "IPY_MODEL_776001e75b974c08b8be03c4c353344f",
              "IPY_MODEL_47e48988069f407996c4e540d1e7be89"
            ],
            "layout": "IPY_MODEL_66fd179d2d0640289f355af39ea8586a"
          }
        },
        "79c4eee1abf9409bbb7f1c7082e723e9": {
          "model_module": "@jupyter-widgets/controls",
          "model_name": "HTMLModel",
          "model_module_version": "1.5.0",
          "state": {
            "_dom_classes": [],
            "_model_module": "@jupyter-widgets/controls",
            "_model_module_version": "1.5.0",
            "_model_name": "HTMLModel",
            "_view_count": null,
            "_view_module": "@jupyter-widgets/controls",
            "_view_module_version": "1.5.0",
            "_view_name": "HTMLView",
            "description": "",
            "description_tooltip": null,
            "layout": "IPY_MODEL_4fb870adeb3948e88a3645c478f7434e",
            "placeholder": "​",
            "style": "IPY_MODEL_9c70173cc278459ab7691f58bb2dd2f3",
            "value": "Downloading pytorch_model.bin: 100%"
          }
        },
        "776001e75b974c08b8be03c4c353344f": {
          "model_module": "@jupyter-widgets/controls",
          "model_name": "FloatProgressModel",
          "model_module_version": "1.5.0",
          "state": {
            "_dom_classes": [],
            "_model_module": "@jupyter-widgets/controls",
            "_model_module_version": "1.5.0",
            "_model_name": "FloatProgressModel",
            "_view_count": null,
            "_view_module": "@jupyter-widgets/controls",
            "_view_module_version": "1.5.0",
            "_view_name": "ProgressView",
            "bar_style": "success",
            "description": "",
            "description_tooltip": null,
            "layout": "IPY_MODEL_b5f6b812cd4642c692279c5916b877f8",
            "max": 15092257,
            "min": 0,
            "orientation": "horizontal",
            "style": "IPY_MODEL_1349e6b6c1414a2c8a5da9fcca97dd46",
            "value": 15092257
          }
        },
        "47e48988069f407996c4e540d1e7be89": {
          "model_module": "@jupyter-widgets/controls",
          "model_name": "HTMLModel",
          "model_module_version": "1.5.0",
          "state": {
            "_dom_classes": [],
            "_model_module": "@jupyter-widgets/controls",
            "_model_module_version": "1.5.0",
            "_model_name": "HTMLModel",
            "_view_count": null,
            "_view_module": "@jupyter-widgets/controls",
            "_view_module_version": "1.5.0",
            "_view_name": "HTMLView",
            "description": "",
            "description_tooltip": null,
            "layout": "IPY_MODEL_cb639fe0e6814aa1b0b637f6007ce586",
            "placeholder": "​",
            "style": "IPY_MODEL_835d2bbf86494a1d9a1a41ff3901bf7b",
            "value": " 15.1M/15.1M [00:00&lt;00:00, 69.2MB/s]"
          }
        },
        "66fd179d2d0640289f355af39ea8586a": {
          "model_module": "@jupyter-widgets/base",
          "model_name": "LayoutModel",
          "model_module_version": "1.2.0",
          "state": {
            "_model_module": "@jupyter-widgets/base",
            "_model_module_version": "1.2.0",
            "_model_name": "LayoutModel",
            "_view_count": null,
            "_view_module": "@jupyter-widgets/base",
            "_view_module_version": "1.2.0",
            "_view_name": "LayoutView",
            "align_content": null,
            "align_items": null,
            "align_self": null,
            "border": null,
            "bottom": null,
            "display": null,
            "flex": null,
            "flex_flow": null,
            "grid_area": null,
            "grid_auto_columns": null,
            "grid_auto_flow": null,
            "grid_auto_rows": null,
            "grid_column": null,
            "grid_gap": null,
            "grid_row": null,
            "grid_template_areas": null,
            "grid_template_columns": null,
            "grid_template_rows": null,
            "height": null,
            "justify_content": null,
            "justify_items": null,
            "left": null,
            "margin": null,
            "max_height": null,
            "max_width": null,
            "min_height": null,
            "min_width": null,
            "object_fit": null,
            "object_position": null,
            "order": null,
            "overflow": null,
            "overflow_x": null,
            "overflow_y": null,
            "padding": null,
            "right": null,
            "top": null,
            "visibility": null,
            "width": null
          }
        },
        "4fb870adeb3948e88a3645c478f7434e": {
          "model_module": "@jupyter-widgets/base",
          "model_name": "LayoutModel",
          "model_module_version": "1.2.0",
          "state": {
            "_model_module": "@jupyter-widgets/base",
            "_model_module_version": "1.2.0",
            "_model_name": "LayoutModel",
            "_view_count": null,
            "_view_module": "@jupyter-widgets/base",
            "_view_module_version": "1.2.0",
            "_view_name": "LayoutView",
            "align_content": null,
            "align_items": null,
            "align_self": null,
            "border": null,
            "bottom": null,
            "display": null,
            "flex": null,
            "flex_flow": null,
            "grid_area": null,
            "grid_auto_columns": null,
            "grid_auto_flow": null,
            "grid_auto_rows": null,
            "grid_column": null,
            "grid_gap": null,
            "grid_row": null,
            "grid_template_areas": null,
            "grid_template_columns": null,
            "grid_template_rows": null,
            "height": null,
            "justify_content": null,
            "justify_items": null,
            "left": null,
            "margin": null,
            "max_height": null,
            "max_width": null,
            "min_height": null,
            "min_width": null,
            "object_fit": null,
            "object_position": null,
            "order": null,
            "overflow": null,
            "overflow_x": null,
            "overflow_y": null,
            "padding": null,
            "right": null,
            "top": null,
            "visibility": null,
            "width": null
          }
        },
        "9c70173cc278459ab7691f58bb2dd2f3": {
          "model_module": "@jupyter-widgets/controls",
          "model_name": "DescriptionStyleModel",
          "model_module_version": "1.5.0",
          "state": {
            "_model_module": "@jupyter-widgets/controls",
            "_model_module_version": "1.5.0",
            "_model_name": "DescriptionStyleModel",
            "_view_count": null,
            "_view_module": "@jupyter-widgets/base",
            "_view_module_version": "1.2.0",
            "_view_name": "StyleView",
            "description_width": ""
          }
        },
        "b5f6b812cd4642c692279c5916b877f8": {
          "model_module": "@jupyter-widgets/base",
          "model_name": "LayoutModel",
          "model_module_version": "1.2.0",
          "state": {
            "_model_module": "@jupyter-widgets/base",
            "_model_module_version": "1.2.0",
            "_model_name": "LayoutModel",
            "_view_count": null,
            "_view_module": "@jupyter-widgets/base",
            "_view_module_version": "1.2.0",
            "_view_name": "LayoutView",
            "align_content": null,
            "align_items": null,
            "align_self": null,
            "border": null,
            "bottom": null,
            "display": null,
            "flex": null,
            "flex_flow": null,
            "grid_area": null,
            "grid_auto_columns": null,
            "grid_auto_flow": null,
            "grid_auto_rows": null,
            "grid_column": null,
            "grid_gap": null,
            "grid_row": null,
            "grid_template_areas": null,
            "grid_template_columns": null,
            "grid_template_rows": null,
            "height": null,
            "justify_content": null,
            "justify_items": null,
            "left": null,
            "margin": null,
            "max_height": null,
            "max_width": null,
            "min_height": null,
            "min_width": null,
            "object_fit": null,
            "object_position": null,
            "order": null,
            "overflow": null,
            "overflow_x": null,
            "overflow_y": null,
            "padding": null,
            "right": null,
            "top": null,
            "visibility": null,
            "width": null
          }
        },
        "1349e6b6c1414a2c8a5da9fcca97dd46": {
          "model_module": "@jupyter-widgets/controls",
          "model_name": "ProgressStyleModel",
          "model_module_version": "1.5.0",
          "state": {
            "_model_module": "@jupyter-widgets/controls",
            "_model_module_version": "1.5.0",
            "_model_name": "ProgressStyleModel",
            "_view_count": null,
            "_view_module": "@jupyter-widgets/base",
            "_view_module_version": "1.2.0",
            "_view_name": "StyleView",
            "bar_color": null,
            "description_width": ""
          }
        },
        "cb639fe0e6814aa1b0b637f6007ce586": {
          "model_module": "@jupyter-widgets/base",
          "model_name": "LayoutModel",
          "model_module_version": "1.2.0",
          "state": {
            "_model_module": "@jupyter-widgets/base",
            "_model_module_version": "1.2.0",
            "_model_name": "LayoutModel",
            "_view_count": null,
            "_view_module": "@jupyter-widgets/base",
            "_view_module_version": "1.2.0",
            "_view_name": "LayoutView",
            "align_content": null,
            "align_items": null,
            "align_self": null,
            "border": null,
            "bottom": null,
            "display": null,
            "flex": null,
            "flex_flow": null,
            "grid_area": null,
            "grid_auto_columns": null,
            "grid_auto_flow": null,
            "grid_auto_rows": null,
            "grid_column": null,
            "grid_gap": null,
            "grid_row": null,
            "grid_template_areas": null,
            "grid_template_columns": null,
            "grid_template_rows": null,
            "height": null,
            "justify_content": null,
            "justify_items": null,
            "left": null,
            "margin": null,
            "max_height": null,
            "max_width": null,
            "min_height": null,
            "min_width": null,
            "object_fit": null,
            "object_position": null,
            "order": null,
            "overflow": null,
            "overflow_x": null,
            "overflow_y": null,
            "padding": null,
            "right": null,
            "top": null,
            "visibility": null,
            "width": null
          }
        },
        "835d2bbf86494a1d9a1a41ff3901bf7b": {
          "model_module": "@jupyter-widgets/controls",
          "model_name": "DescriptionStyleModel",
          "model_module_version": "1.5.0",
          "state": {
            "_model_module": "@jupyter-widgets/controls",
            "_model_module_version": "1.5.0",
            "_model_name": "DescriptionStyleModel",
            "_view_count": null,
            "_view_module": "@jupyter-widgets/base",
            "_view_module_version": "1.2.0",
            "_view_name": "StyleView",
            "description_width": ""
          }
        },
        "4d43a623c0b349e184b91338c09fdb53": {
          "model_module": "@jupyter-widgets/controls",
          "model_name": "HBoxModel",
          "model_module_version": "1.5.0",
          "state": {
            "_dom_classes": [],
            "_model_module": "@jupyter-widgets/controls",
            "_model_module_version": "1.5.0",
            "_model_name": "HBoxModel",
            "_view_count": null,
            "_view_module": "@jupyter-widgets/controls",
            "_view_module_version": "1.5.0",
            "_view_name": "HBoxView",
            "box_style": "",
            "children": [
              "IPY_MODEL_92023f05931241e0811040d9b180f0f4",
              "IPY_MODEL_0b7062455c7647f4bd5c04312b7892ea",
              "IPY_MODEL_1d64a8f5b61c41fd9ccbe76b1cce8ca1"
            ],
            "layout": "IPY_MODEL_6bda267560ec47f2b391c710fa20cbe0"
          }
        },
        "92023f05931241e0811040d9b180f0f4": {
          "model_module": "@jupyter-widgets/controls",
          "model_name": "HTMLModel",
          "model_module_version": "1.5.0",
          "state": {
            "_dom_classes": [],
            "_model_module": "@jupyter-widgets/controls",
            "_model_module_version": "1.5.0",
            "_model_name": "HTMLModel",
            "_view_count": null,
            "_view_module": "@jupyter-widgets/controls",
            "_view_module_version": "1.5.0",
            "_view_name": "HTMLView",
            "description": "",
            "description_tooltip": null,
            "layout": "IPY_MODEL_81eddfe464e64c1ba385c4405ca3f976",
            "placeholder": "​",
            "style": "IPY_MODEL_0393e78df8044d19b951e204ba38bc97",
            "value": "Epoch 0: 100%"
          }
        },
        "0b7062455c7647f4bd5c04312b7892ea": {
          "model_module": "@jupyter-widgets/controls",
          "model_name": "FloatProgressModel",
          "model_module_version": "1.5.0",
          "state": {
            "_dom_classes": [],
            "_model_module": "@jupyter-widgets/controls",
            "_model_module_version": "1.5.0",
            "_model_name": "FloatProgressModel",
            "_view_count": null,
            "_view_module": "@jupyter-widgets/controls",
            "_view_module_version": "1.5.0",
            "_view_name": "ProgressView",
            "bar_style": "success",
            "description": "",
            "description_tooltip": null,
            "layout": "IPY_MODEL_132b8798c088454190ec5114f3fe8e76",
            "max": 75,
            "min": 0,
            "orientation": "horizontal",
            "style": "IPY_MODEL_ec67fad055294a4086078925054bae4b",
            "value": 75
          }
        },
        "1d64a8f5b61c41fd9ccbe76b1cce8ca1": {
          "model_module": "@jupyter-widgets/controls",
          "model_name": "HTMLModel",
          "model_module_version": "1.5.0",
          "state": {
            "_dom_classes": [],
            "_model_module": "@jupyter-widgets/controls",
            "_model_module_version": "1.5.0",
            "_model_name": "HTMLModel",
            "_view_count": null,
            "_view_module": "@jupyter-widgets/controls",
            "_view_module_version": "1.5.0",
            "_view_name": "HTMLView",
            "description": "",
            "description_tooltip": null,
            "layout": "IPY_MODEL_bcdd9e9dd54b4f4fb4ae24855dc33a64",
            "placeholder": "​",
            "style": "IPY_MODEL_8382002dab3742f2a4ce9be45e94e596",
            "value": " 75/75 [17:53&lt;00:00, 14.31s/it, v_num=0]"
          }
        },
        "6bda267560ec47f2b391c710fa20cbe0": {
          "model_module": "@jupyter-widgets/base",
          "model_name": "LayoutModel",
          "model_module_version": "1.2.0",
          "state": {
            "_model_module": "@jupyter-widgets/base",
            "_model_module_version": "1.2.0",
            "_model_name": "LayoutModel",
            "_view_count": null,
            "_view_module": "@jupyter-widgets/base",
            "_view_module_version": "1.2.0",
            "_view_name": "LayoutView",
            "align_content": null,
            "align_items": null,
            "align_self": null,
            "border": null,
            "bottom": null,
            "display": "inline-flex",
            "flex": null,
            "flex_flow": "row wrap",
            "grid_area": null,
            "grid_auto_columns": null,
            "grid_auto_flow": null,
            "grid_auto_rows": null,
            "grid_column": null,
            "grid_gap": null,
            "grid_row": null,
            "grid_template_areas": null,
            "grid_template_columns": null,
            "grid_template_rows": null,
            "height": null,
            "justify_content": null,
            "justify_items": null,
            "left": null,
            "margin": null,
            "max_height": null,
            "max_width": null,
            "min_height": null,
            "min_width": null,
            "object_fit": null,
            "object_position": null,
            "order": null,
            "overflow": null,
            "overflow_x": null,
            "overflow_y": null,
            "padding": null,
            "right": null,
            "top": null,
            "visibility": null,
            "width": "100%"
          }
        },
        "81eddfe464e64c1ba385c4405ca3f976": {
          "model_module": "@jupyter-widgets/base",
          "model_name": "LayoutModel",
          "model_module_version": "1.2.0",
          "state": {
            "_model_module": "@jupyter-widgets/base",
            "_model_module_version": "1.2.0",
            "_model_name": "LayoutModel",
            "_view_count": null,
            "_view_module": "@jupyter-widgets/base",
            "_view_module_version": "1.2.0",
            "_view_name": "LayoutView",
            "align_content": null,
            "align_items": null,
            "align_self": null,
            "border": null,
            "bottom": null,
            "display": null,
            "flex": null,
            "flex_flow": null,
            "grid_area": null,
            "grid_auto_columns": null,
            "grid_auto_flow": null,
            "grid_auto_rows": null,
            "grid_column": null,
            "grid_gap": null,
            "grid_row": null,
            "grid_template_areas": null,
            "grid_template_columns": null,
            "grid_template_rows": null,
            "height": null,
            "justify_content": null,
            "justify_items": null,
            "left": null,
            "margin": null,
            "max_height": null,
            "max_width": null,
            "min_height": null,
            "min_width": null,
            "object_fit": null,
            "object_position": null,
            "order": null,
            "overflow": null,
            "overflow_x": null,
            "overflow_y": null,
            "padding": null,
            "right": null,
            "top": null,
            "visibility": null,
            "width": null
          }
        },
        "0393e78df8044d19b951e204ba38bc97": {
          "model_module": "@jupyter-widgets/controls",
          "model_name": "DescriptionStyleModel",
          "model_module_version": "1.5.0",
          "state": {
            "_model_module": "@jupyter-widgets/controls",
            "_model_module_version": "1.5.0",
            "_model_name": "DescriptionStyleModel",
            "_view_count": null,
            "_view_module": "@jupyter-widgets/base",
            "_view_module_version": "1.2.0",
            "_view_name": "StyleView",
            "description_width": ""
          }
        },
        "132b8798c088454190ec5114f3fe8e76": {
          "model_module": "@jupyter-widgets/base",
          "model_name": "LayoutModel",
          "model_module_version": "1.2.0",
          "state": {
            "_model_module": "@jupyter-widgets/base",
            "_model_module_version": "1.2.0",
            "_model_name": "LayoutModel",
            "_view_count": null,
            "_view_module": "@jupyter-widgets/base",
            "_view_module_version": "1.2.0",
            "_view_name": "LayoutView",
            "align_content": null,
            "align_items": null,
            "align_self": null,
            "border": null,
            "bottom": null,
            "display": null,
            "flex": "2",
            "flex_flow": null,
            "grid_area": null,
            "grid_auto_columns": null,
            "grid_auto_flow": null,
            "grid_auto_rows": null,
            "grid_column": null,
            "grid_gap": null,
            "grid_row": null,
            "grid_template_areas": null,
            "grid_template_columns": null,
            "grid_template_rows": null,
            "height": null,
            "justify_content": null,
            "justify_items": null,
            "left": null,
            "margin": null,
            "max_height": null,
            "max_width": null,
            "min_height": null,
            "min_width": null,
            "object_fit": null,
            "object_position": null,
            "order": null,
            "overflow": null,
            "overflow_x": null,
            "overflow_y": null,
            "padding": null,
            "right": null,
            "top": null,
            "visibility": null,
            "width": null
          }
        },
        "ec67fad055294a4086078925054bae4b": {
          "model_module": "@jupyter-widgets/controls",
          "model_name": "ProgressStyleModel",
          "model_module_version": "1.5.0",
          "state": {
            "_model_module": "@jupyter-widgets/controls",
            "_model_module_version": "1.5.0",
            "_model_name": "ProgressStyleModel",
            "_view_count": null,
            "_view_module": "@jupyter-widgets/base",
            "_view_module_version": "1.2.0",
            "_view_name": "StyleView",
            "bar_color": null,
            "description_width": ""
          }
        },
        "bcdd9e9dd54b4f4fb4ae24855dc33a64": {
          "model_module": "@jupyter-widgets/base",
          "model_name": "LayoutModel",
          "model_module_version": "1.2.0",
          "state": {
            "_model_module": "@jupyter-widgets/base",
            "_model_module_version": "1.2.0",
            "_model_name": "LayoutModel",
            "_view_count": null,
            "_view_module": "@jupyter-widgets/base",
            "_view_module_version": "1.2.0",
            "_view_name": "LayoutView",
            "align_content": null,
            "align_items": null,
            "align_self": null,
            "border": null,
            "bottom": null,
            "display": null,
            "flex": null,
            "flex_flow": null,
            "grid_area": null,
            "grid_auto_columns": null,
            "grid_auto_flow": null,
            "grid_auto_rows": null,
            "grid_column": null,
            "grid_gap": null,
            "grid_row": null,
            "grid_template_areas": null,
            "grid_template_columns": null,
            "grid_template_rows": null,
            "height": null,
            "justify_content": null,
            "justify_items": null,
            "left": null,
            "margin": null,
            "max_height": null,
            "max_width": null,
            "min_height": null,
            "min_width": null,
            "object_fit": null,
            "object_position": null,
            "order": null,
            "overflow": null,
            "overflow_x": null,
            "overflow_y": null,
            "padding": null,
            "right": null,
            "top": null,
            "visibility": null,
            "width": null
          }
        },
        "8382002dab3742f2a4ce9be45e94e596": {
          "model_module": "@jupyter-widgets/controls",
          "model_name": "DescriptionStyleModel",
          "model_module_version": "1.5.0",
          "state": {
            "_model_module": "@jupyter-widgets/controls",
            "_model_module_version": "1.5.0",
            "_model_name": "DescriptionStyleModel",
            "_view_count": null,
            "_view_module": "@jupyter-widgets/base",
            "_view_module_version": "1.2.0",
            "_view_name": "StyleView",
            "description_width": ""
          }
        },
        "964383fa12b949b5bd9c06b4279a24ad": {
          "model_module": "@jupyter-widgets/controls",
          "model_name": "VBoxModel",
          "model_module_version": "1.5.0",
          "state": {
            "_dom_classes": [],
            "_model_module": "@jupyter-widgets/controls",
            "_model_module_version": "1.5.0",
            "_model_name": "VBoxModel",
            "_view_count": null,
            "_view_module": "@jupyter-widgets/controls",
            "_view_module_version": "1.5.0",
            "_view_name": "VBoxView",
            "box_style": "",
            "children": [
              "IPY_MODEL_a9deb3557bb345959649cb84af06bdaf",
              "IPY_MODEL_73bb31856a6647e5887aba1f32af7edb",
              "IPY_MODEL_8945ea61bdc84b45a1ccccc29f7b5993",
              "IPY_MODEL_e2d29716d1ae462fa1eaecec8d0b9cee"
            ],
            "layout": "IPY_MODEL_9deff4598b2e4fb28aa0b1d9c28c4881"
          }
        },
        "16147fea59754025a3d15f75579a6221": {
          "model_module": "@jupyter-widgets/controls",
          "model_name": "HTMLModel",
          "model_module_version": "1.5.0",
          "state": {
            "_dom_classes": [],
            "_model_module": "@jupyter-widgets/controls",
            "_model_module_version": "1.5.0",
            "_model_name": "HTMLModel",
            "_view_count": null,
            "_view_module": "@jupyter-widgets/controls",
            "_view_module_version": "1.5.0",
            "_view_name": "HTMLView",
            "description": "",
            "description_tooltip": null,
            "layout": "IPY_MODEL_8d163b5a883443a5a8a70bb97ca6cf25",
            "placeholder": "​",
            "style": "IPY_MODEL_0bd235dc962645e09f068ed4b382da0f",
            "value": "<center> <img\nsrc=https://huggingface.co/front/assets/huggingface_logo-noborder.svg\nalt='Hugging Face'> <br> Copy a token from <a\nhref=\"https://huggingface.co/settings/tokens\" target=\"_blank\">your Hugging Face\ntokens page</a> and paste it below. <br> Immediately click login after copying\nyour token or it might be stored in plain text in this notebook file. </center>"
          }
        },
        "7720b62d6ed544438da49da32d38fadc": {
          "model_module": "@jupyter-widgets/controls",
          "model_name": "PasswordModel",
          "model_module_version": "1.5.0",
          "state": {
            "_dom_classes": [],
            "_model_module": "@jupyter-widgets/controls",
            "_model_module_version": "1.5.0",
            "_model_name": "PasswordModel",
            "_view_count": null,
            "_view_module": "@jupyter-widgets/controls",
            "_view_module_version": "1.5.0",
            "_view_name": "PasswordView",
            "continuous_update": true,
            "description": "Token:",
            "description_tooltip": null,
            "disabled": false,
            "layout": "IPY_MODEL_9590129cde7746419ecbbe2e6e7407b5",
            "placeholder": "​",
            "style": "IPY_MODEL_d02b931ab4fd4f1e8f1601c0df6f3228",
            "value": ""
          }
        },
        "1e706265703c4ec3bc028c46bbf10612": {
          "model_module": "@jupyter-widgets/controls",
          "model_name": "CheckboxModel",
          "model_module_version": "1.5.0",
          "state": {
            "_dom_classes": [],
            "_model_module": "@jupyter-widgets/controls",
            "_model_module_version": "1.5.0",
            "_model_name": "CheckboxModel",
            "_view_count": null,
            "_view_module": "@jupyter-widgets/controls",
            "_view_module_version": "1.5.0",
            "_view_name": "CheckboxView",
            "description": "Add token as git credential?",
            "description_tooltip": null,
            "disabled": false,
            "indent": true,
            "layout": "IPY_MODEL_7ba6a0f497e440168a9cf971018c2439",
            "style": "IPY_MODEL_ebd4825d2a6d458683a6007083c58d83",
            "value": true
          }
        },
        "50c319d05a9241dbb6d9b74fa71f5aab": {
          "model_module": "@jupyter-widgets/controls",
          "model_name": "ButtonModel",
          "model_module_version": "1.5.0",
          "state": {
            "_dom_classes": [],
            "_model_module": "@jupyter-widgets/controls",
            "_model_module_version": "1.5.0",
            "_model_name": "ButtonModel",
            "_view_count": null,
            "_view_module": "@jupyter-widgets/controls",
            "_view_module_version": "1.5.0",
            "_view_name": "ButtonView",
            "button_style": "",
            "description": "Login",
            "disabled": false,
            "icon": "",
            "layout": "IPY_MODEL_51d3a8b8a99647659c0cb5210729ca40",
            "style": "IPY_MODEL_11a4057b290140bfbf95c6a6c1afe90c",
            "tooltip": ""
          }
        },
        "bd015fa94e674e82af93d142ce56f2c6": {
          "model_module": "@jupyter-widgets/controls",
          "model_name": "HTMLModel",
          "model_module_version": "1.5.0",
          "state": {
            "_dom_classes": [],
            "_model_module": "@jupyter-widgets/controls",
            "_model_module_version": "1.5.0",
            "_model_name": "HTMLModel",
            "_view_count": null,
            "_view_module": "@jupyter-widgets/controls",
            "_view_module_version": "1.5.0",
            "_view_name": "HTMLView",
            "description": "",
            "description_tooltip": null,
            "layout": "IPY_MODEL_1e69685287654bc9920adcf9ac694dc6",
            "placeholder": "​",
            "style": "IPY_MODEL_007e16794dcb495c933068bfea337107",
            "value": "\n<b>Pro Tip:</b> If you don't already have one, you can create a dedicated\n'notebooks' token with 'write' access, that you can then easily reuse for all\nnotebooks. </center>"
          }
        },
        "9deff4598b2e4fb28aa0b1d9c28c4881": {
          "model_module": "@jupyter-widgets/base",
          "model_name": "LayoutModel",
          "model_module_version": "1.2.0",
          "state": {
            "_model_module": "@jupyter-widgets/base",
            "_model_module_version": "1.2.0",
            "_model_name": "LayoutModel",
            "_view_count": null,
            "_view_module": "@jupyter-widgets/base",
            "_view_module_version": "1.2.0",
            "_view_name": "LayoutView",
            "align_content": null,
            "align_items": "center",
            "align_self": null,
            "border": null,
            "bottom": null,
            "display": "flex",
            "flex": null,
            "flex_flow": "column",
            "grid_area": null,
            "grid_auto_columns": null,
            "grid_auto_flow": null,
            "grid_auto_rows": null,
            "grid_column": null,
            "grid_gap": null,
            "grid_row": null,
            "grid_template_areas": null,
            "grid_template_columns": null,
            "grid_template_rows": null,
            "height": null,
            "justify_content": null,
            "justify_items": null,
            "left": null,
            "margin": null,
            "max_height": null,
            "max_width": null,
            "min_height": null,
            "min_width": null,
            "object_fit": null,
            "object_position": null,
            "order": null,
            "overflow": null,
            "overflow_x": null,
            "overflow_y": null,
            "padding": null,
            "right": null,
            "top": null,
            "visibility": null,
            "width": "50%"
          }
        },
        "8d163b5a883443a5a8a70bb97ca6cf25": {
          "model_module": "@jupyter-widgets/base",
          "model_name": "LayoutModel",
          "model_module_version": "1.2.0",
          "state": {
            "_model_module": "@jupyter-widgets/base",
            "_model_module_version": "1.2.0",
            "_model_name": "LayoutModel",
            "_view_count": null,
            "_view_module": "@jupyter-widgets/base",
            "_view_module_version": "1.2.0",
            "_view_name": "LayoutView",
            "align_content": null,
            "align_items": null,
            "align_self": null,
            "border": null,
            "bottom": null,
            "display": null,
            "flex": null,
            "flex_flow": null,
            "grid_area": null,
            "grid_auto_columns": null,
            "grid_auto_flow": null,
            "grid_auto_rows": null,
            "grid_column": null,
            "grid_gap": null,
            "grid_row": null,
            "grid_template_areas": null,
            "grid_template_columns": null,
            "grid_template_rows": null,
            "height": null,
            "justify_content": null,
            "justify_items": null,
            "left": null,
            "margin": null,
            "max_height": null,
            "max_width": null,
            "min_height": null,
            "min_width": null,
            "object_fit": null,
            "object_position": null,
            "order": null,
            "overflow": null,
            "overflow_x": null,
            "overflow_y": null,
            "padding": null,
            "right": null,
            "top": null,
            "visibility": null,
            "width": null
          }
        },
        "0bd235dc962645e09f068ed4b382da0f": {
          "model_module": "@jupyter-widgets/controls",
          "model_name": "DescriptionStyleModel",
          "model_module_version": "1.5.0",
          "state": {
            "_model_module": "@jupyter-widgets/controls",
            "_model_module_version": "1.5.0",
            "_model_name": "DescriptionStyleModel",
            "_view_count": null,
            "_view_module": "@jupyter-widgets/base",
            "_view_module_version": "1.2.0",
            "_view_name": "StyleView",
            "description_width": ""
          }
        },
        "9590129cde7746419ecbbe2e6e7407b5": {
          "model_module": "@jupyter-widgets/base",
          "model_name": "LayoutModel",
          "model_module_version": "1.2.0",
          "state": {
            "_model_module": "@jupyter-widgets/base",
            "_model_module_version": "1.2.0",
            "_model_name": "LayoutModel",
            "_view_count": null,
            "_view_module": "@jupyter-widgets/base",
            "_view_module_version": "1.2.0",
            "_view_name": "LayoutView",
            "align_content": null,
            "align_items": null,
            "align_self": null,
            "border": null,
            "bottom": null,
            "display": null,
            "flex": null,
            "flex_flow": null,
            "grid_area": null,
            "grid_auto_columns": null,
            "grid_auto_flow": null,
            "grid_auto_rows": null,
            "grid_column": null,
            "grid_gap": null,
            "grid_row": null,
            "grid_template_areas": null,
            "grid_template_columns": null,
            "grid_template_rows": null,
            "height": null,
            "justify_content": null,
            "justify_items": null,
            "left": null,
            "margin": null,
            "max_height": null,
            "max_width": null,
            "min_height": null,
            "min_width": null,
            "object_fit": null,
            "object_position": null,
            "order": null,
            "overflow": null,
            "overflow_x": null,
            "overflow_y": null,
            "padding": null,
            "right": null,
            "top": null,
            "visibility": null,
            "width": null
          }
        },
        "d02b931ab4fd4f1e8f1601c0df6f3228": {
          "model_module": "@jupyter-widgets/controls",
          "model_name": "DescriptionStyleModel",
          "model_module_version": "1.5.0",
          "state": {
            "_model_module": "@jupyter-widgets/controls",
            "_model_module_version": "1.5.0",
            "_model_name": "DescriptionStyleModel",
            "_view_count": null,
            "_view_module": "@jupyter-widgets/base",
            "_view_module_version": "1.2.0",
            "_view_name": "StyleView",
            "description_width": ""
          }
        },
        "7ba6a0f497e440168a9cf971018c2439": {
          "model_module": "@jupyter-widgets/base",
          "model_name": "LayoutModel",
          "model_module_version": "1.2.0",
          "state": {
            "_model_module": "@jupyter-widgets/base",
            "_model_module_version": "1.2.0",
            "_model_name": "LayoutModel",
            "_view_count": null,
            "_view_module": "@jupyter-widgets/base",
            "_view_module_version": "1.2.0",
            "_view_name": "LayoutView",
            "align_content": null,
            "align_items": null,
            "align_self": null,
            "border": null,
            "bottom": null,
            "display": null,
            "flex": null,
            "flex_flow": null,
            "grid_area": null,
            "grid_auto_columns": null,
            "grid_auto_flow": null,
            "grid_auto_rows": null,
            "grid_column": null,
            "grid_gap": null,
            "grid_row": null,
            "grid_template_areas": null,
            "grid_template_columns": null,
            "grid_template_rows": null,
            "height": null,
            "justify_content": null,
            "justify_items": null,
            "left": null,
            "margin": null,
            "max_height": null,
            "max_width": null,
            "min_height": null,
            "min_width": null,
            "object_fit": null,
            "object_position": null,
            "order": null,
            "overflow": null,
            "overflow_x": null,
            "overflow_y": null,
            "padding": null,
            "right": null,
            "top": null,
            "visibility": null,
            "width": null
          }
        },
        "ebd4825d2a6d458683a6007083c58d83": {
          "model_module": "@jupyter-widgets/controls",
          "model_name": "DescriptionStyleModel",
          "model_module_version": "1.5.0",
          "state": {
            "_model_module": "@jupyter-widgets/controls",
            "_model_module_version": "1.5.0",
            "_model_name": "DescriptionStyleModel",
            "_view_count": null,
            "_view_module": "@jupyter-widgets/base",
            "_view_module_version": "1.2.0",
            "_view_name": "StyleView",
            "description_width": ""
          }
        },
        "51d3a8b8a99647659c0cb5210729ca40": {
          "model_module": "@jupyter-widgets/base",
          "model_name": "LayoutModel",
          "model_module_version": "1.2.0",
          "state": {
            "_model_module": "@jupyter-widgets/base",
            "_model_module_version": "1.2.0",
            "_model_name": "LayoutModel",
            "_view_count": null,
            "_view_module": "@jupyter-widgets/base",
            "_view_module_version": "1.2.0",
            "_view_name": "LayoutView",
            "align_content": null,
            "align_items": null,
            "align_self": null,
            "border": null,
            "bottom": null,
            "display": null,
            "flex": null,
            "flex_flow": null,
            "grid_area": null,
            "grid_auto_columns": null,
            "grid_auto_flow": null,
            "grid_auto_rows": null,
            "grid_column": null,
            "grid_gap": null,
            "grid_row": null,
            "grid_template_areas": null,
            "grid_template_columns": null,
            "grid_template_rows": null,
            "height": null,
            "justify_content": null,
            "justify_items": null,
            "left": null,
            "margin": null,
            "max_height": null,
            "max_width": null,
            "min_height": null,
            "min_width": null,
            "object_fit": null,
            "object_position": null,
            "order": null,
            "overflow": null,
            "overflow_x": null,
            "overflow_y": null,
            "padding": null,
            "right": null,
            "top": null,
            "visibility": null,
            "width": null
          }
        },
        "11a4057b290140bfbf95c6a6c1afe90c": {
          "model_module": "@jupyter-widgets/controls",
          "model_name": "ButtonStyleModel",
          "model_module_version": "1.5.0",
          "state": {
            "_model_module": "@jupyter-widgets/controls",
            "_model_module_version": "1.5.0",
            "_model_name": "ButtonStyleModel",
            "_view_count": null,
            "_view_module": "@jupyter-widgets/base",
            "_view_module_version": "1.2.0",
            "_view_name": "StyleView",
            "button_color": null,
            "font_weight": ""
          }
        },
        "1e69685287654bc9920adcf9ac694dc6": {
          "model_module": "@jupyter-widgets/base",
          "model_name": "LayoutModel",
          "model_module_version": "1.2.0",
          "state": {
            "_model_module": "@jupyter-widgets/base",
            "_model_module_version": "1.2.0",
            "_model_name": "LayoutModel",
            "_view_count": null,
            "_view_module": "@jupyter-widgets/base",
            "_view_module_version": "1.2.0",
            "_view_name": "LayoutView",
            "align_content": null,
            "align_items": null,
            "align_self": null,
            "border": null,
            "bottom": null,
            "display": null,
            "flex": null,
            "flex_flow": null,
            "grid_area": null,
            "grid_auto_columns": null,
            "grid_auto_flow": null,
            "grid_auto_rows": null,
            "grid_column": null,
            "grid_gap": null,
            "grid_row": null,
            "grid_template_areas": null,
            "grid_template_columns": null,
            "grid_template_rows": null,
            "height": null,
            "justify_content": null,
            "justify_items": null,
            "left": null,
            "margin": null,
            "max_height": null,
            "max_width": null,
            "min_height": null,
            "min_width": null,
            "object_fit": null,
            "object_position": null,
            "order": null,
            "overflow": null,
            "overflow_x": null,
            "overflow_y": null,
            "padding": null,
            "right": null,
            "top": null,
            "visibility": null,
            "width": null
          }
        },
        "007e16794dcb495c933068bfea337107": {
          "model_module": "@jupyter-widgets/controls",
          "model_name": "DescriptionStyleModel",
          "model_module_version": "1.5.0",
          "state": {
            "_model_module": "@jupyter-widgets/controls",
            "_model_module_version": "1.5.0",
            "_model_name": "DescriptionStyleModel",
            "_view_count": null,
            "_view_module": "@jupyter-widgets/base",
            "_view_module_version": "1.2.0",
            "_view_name": "StyleView",
            "description_width": ""
          }
        },
        "b4780a2a69d5402babe2a5257093195e": {
          "model_module": "@jupyter-widgets/controls",
          "model_name": "LabelModel",
          "model_module_version": "1.5.0",
          "state": {
            "_dom_classes": [],
            "_model_module": "@jupyter-widgets/controls",
            "_model_module_version": "1.5.0",
            "_model_name": "LabelModel",
            "_view_count": null,
            "_view_module": "@jupyter-widgets/controls",
            "_view_module_version": "1.5.0",
            "_view_name": "LabelView",
            "description": "",
            "description_tooltip": null,
            "layout": "IPY_MODEL_eec5194d28c3488a840fd83a1d5ae16f",
            "placeholder": "​",
            "style": "IPY_MODEL_293b2300bc2748ff9039c6d3e0c5ef6d",
            "value": "Connecting..."
          }
        },
        "eec5194d28c3488a840fd83a1d5ae16f": {
          "model_module": "@jupyter-widgets/base",
          "model_name": "LayoutModel",
          "model_module_version": "1.2.0",
          "state": {
            "_model_module": "@jupyter-widgets/base",
            "_model_module_version": "1.2.0",
            "_model_name": "LayoutModel",
            "_view_count": null,
            "_view_module": "@jupyter-widgets/base",
            "_view_module_version": "1.2.0",
            "_view_name": "LayoutView",
            "align_content": null,
            "align_items": null,
            "align_self": null,
            "border": null,
            "bottom": null,
            "display": null,
            "flex": null,
            "flex_flow": null,
            "grid_area": null,
            "grid_auto_columns": null,
            "grid_auto_flow": null,
            "grid_auto_rows": null,
            "grid_column": null,
            "grid_gap": null,
            "grid_row": null,
            "grid_template_areas": null,
            "grid_template_columns": null,
            "grid_template_rows": null,
            "height": null,
            "justify_content": null,
            "justify_items": null,
            "left": null,
            "margin": null,
            "max_height": null,
            "max_width": null,
            "min_height": null,
            "min_width": null,
            "object_fit": null,
            "object_position": null,
            "order": null,
            "overflow": null,
            "overflow_x": null,
            "overflow_y": null,
            "padding": null,
            "right": null,
            "top": null,
            "visibility": null,
            "width": null
          }
        },
        "293b2300bc2748ff9039c6d3e0c5ef6d": {
          "model_module": "@jupyter-widgets/controls",
          "model_name": "DescriptionStyleModel",
          "model_module_version": "1.5.0",
          "state": {
            "_model_module": "@jupyter-widgets/controls",
            "_model_module_version": "1.5.0",
            "_model_name": "DescriptionStyleModel",
            "_view_count": null,
            "_view_module": "@jupyter-widgets/base",
            "_view_module_version": "1.2.0",
            "_view_name": "StyleView",
            "description_width": ""
          }
        },
        "a9deb3557bb345959649cb84af06bdaf": {
          "model_module": "@jupyter-widgets/controls",
          "model_name": "LabelModel",
          "model_module_version": "1.5.0",
          "state": {
            "_dom_classes": [],
            "_model_module": "@jupyter-widgets/controls",
            "_model_module_version": "1.5.0",
            "_model_name": "LabelModel",
            "_view_count": null,
            "_view_module": "@jupyter-widgets/controls",
            "_view_module_version": "1.5.0",
            "_view_name": "LabelView",
            "description": "",
            "description_tooltip": null,
            "layout": "IPY_MODEL_b84a771d6baf420aa64a23d6b95a07aa",
            "placeholder": "​",
            "style": "IPY_MODEL_242d7efac35642508f45b9dc7ca5c0a4",
            "value": "Token is valid."
          }
        },
        "73bb31856a6647e5887aba1f32af7edb": {
          "model_module": "@jupyter-widgets/controls",
          "model_name": "LabelModel",
          "model_module_version": "1.5.0",
          "state": {
            "_dom_classes": [],
            "_model_module": "@jupyter-widgets/controls",
            "_model_module_version": "1.5.0",
            "_model_name": "LabelModel",
            "_view_count": null,
            "_view_module": "@jupyter-widgets/controls",
            "_view_module_version": "1.5.0",
            "_view_name": "LabelView",
            "description": "",
            "description_tooltip": null,
            "layout": "IPY_MODEL_39fb2629df0e44e69e0d3c3412c3a60c",
            "placeholder": "​",
            "style": "IPY_MODEL_361bbf426a134ef7808f1c8ab2c6274c",
            "value": "Your token has been saved in your configured git credential helpers (store)."
          }
        },
        "8945ea61bdc84b45a1ccccc29f7b5993": {
          "model_module": "@jupyter-widgets/controls",
          "model_name": "LabelModel",
          "model_module_version": "1.5.0",
          "state": {
            "_dom_classes": [],
            "_model_module": "@jupyter-widgets/controls",
            "_model_module_version": "1.5.0",
            "_model_name": "LabelModel",
            "_view_count": null,
            "_view_module": "@jupyter-widgets/controls",
            "_view_module_version": "1.5.0",
            "_view_name": "LabelView",
            "description": "",
            "description_tooltip": null,
            "layout": "IPY_MODEL_9d51cae50340466bbf92a6705c73f36d",
            "placeholder": "​",
            "style": "IPY_MODEL_38ef6da89e434548ba781c69d904ebb6",
            "value": "Your token has been saved to /root/.cache/huggingface/token"
          }
        },
        "e2d29716d1ae462fa1eaecec8d0b9cee": {
          "model_module": "@jupyter-widgets/controls",
          "model_name": "LabelModel",
          "model_module_version": "1.5.0",
          "state": {
            "_dom_classes": [],
            "_model_module": "@jupyter-widgets/controls",
            "_model_module_version": "1.5.0",
            "_model_name": "LabelModel",
            "_view_count": null,
            "_view_module": "@jupyter-widgets/controls",
            "_view_module_version": "1.5.0",
            "_view_name": "LabelView",
            "description": "",
            "description_tooltip": null,
            "layout": "IPY_MODEL_ab5056f23d5b425d9f190e011000ef64",
            "placeholder": "​",
            "style": "IPY_MODEL_cc26bdbc82b94686a50201bef6d46a15",
            "value": "Login successful"
          }
        },
        "b84a771d6baf420aa64a23d6b95a07aa": {
          "model_module": "@jupyter-widgets/base",
          "model_name": "LayoutModel",
          "model_module_version": "1.2.0",
          "state": {
            "_model_module": "@jupyter-widgets/base",
            "_model_module_version": "1.2.0",
            "_model_name": "LayoutModel",
            "_view_count": null,
            "_view_module": "@jupyter-widgets/base",
            "_view_module_version": "1.2.0",
            "_view_name": "LayoutView",
            "align_content": null,
            "align_items": null,
            "align_self": null,
            "border": null,
            "bottom": null,
            "display": null,
            "flex": null,
            "flex_flow": null,
            "grid_area": null,
            "grid_auto_columns": null,
            "grid_auto_flow": null,
            "grid_auto_rows": null,
            "grid_column": null,
            "grid_gap": null,
            "grid_row": null,
            "grid_template_areas": null,
            "grid_template_columns": null,
            "grid_template_rows": null,
            "height": null,
            "justify_content": null,
            "justify_items": null,
            "left": null,
            "margin": null,
            "max_height": null,
            "max_width": null,
            "min_height": null,
            "min_width": null,
            "object_fit": null,
            "object_position": null,
            "order": null,
            "overflow": null,
            "overflow_x": null,
            "overflow_y": null,
            "padding": null,
            "right": null,
            "top": null,
            "visibility": null,
            "width": null
          }
        },
        "242d7efac35642508f45b9dc7ca5c0a4": {
          "model_module": "@jupyter-widgets/controls",
          "model_name": "DescriptionStyleModel",
          "model_module_version": "1.5.0",
          "state": {
            "_model_module": "@jupyter-widgets/controls",
            "_model_module_version": "1.5.0",
            "_model_name": "DescriptionStyleModel",
            "_view_count": null,
            "_view_module": "@jupyter-widgets/base",
            "_view_module_version": "1.2.0",
            "_view_name": "StyleView",
            "description_width": ""
          }
        },
        "39fb2629df0e44e69e0d3c3412c3a60c": {
          "model_module": "@jupyter-widgets/base",
          "model_name": "LayoutModel",
          "model_module_version": "1.2.0",
          "state": {
            "_model_module": "@jupyter-widgets/base",
            "_model_module_version": "1.2.0",
            "_model_name": "LayoutModel",
            "_view_count": null,
            "_view_module": "@jupyter-widgets/base",
            "_view_module_version": "1.2.0",
            "_view_name": "LayoutView",
            "align_content": null,
            "align_items": null,
            "align_self": null,
            "border": null,
            "bottom": null,
            "display": null,
            "flex": null,
            "flex_flow": null,
            "grid_area": null,
            "grid_auto_columns": null,
            "grid_auto_flow": null,
            "grid_auto_rows": null,
            "grid_column": null,
            "grid_gap": null,
            "grid_row": null,
            "grid_template_areas": null,
            "grid_template_columns": null,
            "grid_template_rows": null,
            "height": null,
            "justify_content": null,
            "justify_items": null,
            "left": null,
            "margin": null,
            "max_height": null,
            "max_width": null,
            "min_height": null,
            "min_width": null,
            "object_fit": null,
            "object_position": null,
            "order": null,
            "overflow": null,
            "overflow_x": null,
            "overflow_y": null,
            "padding": null,
            "right": null,
            "top": null,
            "visibility": null,
            "width": null
          }
        },
        "361bbf426a134ef7808f1c8ab2c6274c": {
          "model_module": "@jupyter-widgets/controls",
          "model_name": "DescriptionStyleModel",
          "model_module_version": "1.5.0",
          "state": {
            "_model_module": "@jupyter-widgets/controls",
            "_model_module_version": "1.5.0",
            "_model_name": "DescriptionStyleModel",
            "_view_count": null,
            "_view_module": "@jupyter-widgets/base",
            "_view_module_version": "1.2.0",
            "_view_name": "StyleView",
            "description_width": ""
          }
        },
        "9d51cae50340466bbf92a6705c73f36d": {
          "model_module": "@jupyter-widgets/base",
          "model_name": "LayoutModel",
          "model_module_version": "1.2.0",
          "state": {
            "_model_module": "@jupyter-widgets/base",
            "_model_module_version": "1.2.0",
            "_model_name": "LayoutModel",
            "_view_count": null,
            "_view_module": "@jupyter-widgets/base",
            "_view_module_version": "1.2.0",
            "_view_name": "LayoutView",
            "align_content": null,
            "align_items": null,
            "align_self": null,
            "border": null,
            "bottom": null,
            "display": null,
            "flex": null,
            "flex_flow": null,
            "grid_area": null,
            "grid_auto_columns": null,
            "grid_auto_flow": null,
            "grid_auto_rows": null,
            "grid_column": null,
            "grid_gap": null,
            "grid_row": null,
            "grid_template_areas": null,
            "grid_template_columns": null,
            "grid_template_rows": null,
            "height": null,
            "justify_content": null,
            "justify_items": null,
            "left": null,
            "margin": null,
            "max_height": null,
            "max_width": null,
            "min_height": null,
            "min_width": null,
            "object_fit": null,
            "object_position": null,
            "order": null,
            "overflow": null,
            "overflow_x": null,
            "overflow_y": null,
            "padding": null,
            "right": null,
            "top": null,
            "visibility": null,
            "width": null
          }
        },
        "38ef6da89e434548ba781c69d904ebb6": {
          "model_module": "@jupyter-widgets/controls",
          "model_name": "DescriptionStyleModel",
          "model_module_version": "1.5.0",
          "state": {
            "_model_module": "@jupyter-widgets/controls",
            "_model_module_version": "1.5.0",
            "_model_name": "DescriptionStyleModel",
            "_view_count": null,
            "_view_module": "@jupyter-widgets/base",
            "_view_module_version": "1.2.0",
            "_view_name": "StyleView",
            "description_width": ""
          }
        },
        "ab5056f23d5b425d9f190e011000ef64": {
          "model_module": "@jupyter-widgets/base",
          "model_name": "LayoutModel",
          "model_module_version": "1.2.0",
          "state": {
            "_model_module": "@jupyter-widgets/base",
            "_model_module_version": "1.2.0",
            "_model_name": "LayoutModel",
            "_view_count": null,
            "_view_module": "@jupyter-widgets/base",
            "_view_module_version": "1.2.0",
            "_view_name": "LayoutView",
            "align_content": null,
            "align_items": null,
            "align_self": null,
            "border": null,
            "bottom": null,
            "display": null,
            "flex": null,
            "flex_flow": null,
            "grid_area": null,
            "grid_auto_columns": null,
            "grid_auto_flow": null,
            "grid_auto_rows": null,
            "grid_column": null,
            "grid_gap": null,
            "grid_row": null,
            "grid_template_areas": null,
            "grid_template_columns": null,
            "grid_template_rows": null,
            "height": null,
            "justify_content": null,
            "justify_items": null,
            "left": null,
            "margin": null,
            "max_height": null,
            "max_width": null,
            "min_height": null,
            "min_width": null,
            "object_fit": null,
            "object_position": null,
            "order": null,
            "overflow": null,
            "overflow_x": null,
            "overflow_y": null,
            "padding": null,
            "right": null,
            "top": null,
            "visibility": null,
            "width": null
          }
        },
        "cc26bdbc82b94686a50201bef6d46a15": {
          "model_module": "@jupyter-widgets/controls",
          "model_name": "DescriptionStyleModel",
          "model_module_version": "1.5.0",
          "state": {
            "_model_module": "@jupyter-widgets/controls",
            "_model_module_version": "1.5.0",
            "_model_name": "DescriptionStyleModel",
            "_view_count": null,
            "_view_module": "@jupyter-widgets/base",
            "_view_module_version": "1.2.0",
            "_view_name": "StyleView",
            "description_width": ""
          }
        },
        "138ef2c655e54fc9a6a3b93026178f34": {
          "model_module": "@jupyter-widgets/controls",
          "model_name": "HBoxModel",
          "model_module_version": "1.5.0",
          "state": {
            "_dom_classes": [],
            "_model_module": "@jupyter-widgets/controls",
            "_model_module_version": "1.5.0",
            "_model_name": "HBoxModel",
            "_view_count": null,
            "_view_module": "@jupyter-widgets/controls",
            "_view_module_version": "1.5.0",
            "_view_name": "HBoxView",
            "box_style": "",
            "children": [
              "IPY_MODEL_e5d57b900e9f4daa9cbfb9da8215c2e0",
              "IPY_MODEL_28118170c8cd4db0b66e9a2c326675bf",
              "IPY_MODEL_1db3ec9556d44fe6b1b249addce92b49"
            ],
            "layout": "IPY_MODEL_0fa3c145ddb348e0881b88b48b1ee3a0"
          }
        },
        "e5d57b900e9f4daa9cbfb9da8215c2e0": {
          "model_module": "@jupyter-widgets/controls",
          "model_name": "HTMLModel",
          "model_module_version": "1.5.0",
          "state": {
            "_dom_classes": [],
            "_model_module": "@jupyter-widgets/controls",
            "_model_module_version": "1.5.0",
            "_model_name": "HTMLModel",
            "_view_count": null,
            "_view_module": "@jupyter-widgets/controls",
            "_view_module_version": "1.5.0",
            "_view_name": "HTMLView",
            "description": "",
            "description_tooltip": null,
            "layout": "IPY_MODEL_baacb14288f440359beb16df017253fa",
            "placeholder": "​",
            "style": "IPY_MODEL_5489c67239dc493382cbf0ae2eb759fa",
            "value": "Downloading (…)lve/main/config.json: 100%"
          }
        },
        "28118170c8cd4db0b66e9a2c326675bf": {
          "model_module": "@jupyter-widgets/controls",
          "model_name": "FloatProgressModel",
          "model_module_version": "1.5.0",
          "state": {
            "_dom_classes": [],
            "_model_module": "@jupyter-widgets/controls",
            "_model_module_version": "1.5.0",
            "_model_name": "FloatProgressModel",
            "_view_count": null,
            "_view_module": "@jupyter-widgets/controls",
            "_view_module_version": "1.5.0",
            "_view_name": "ProgressView",
            "bar_style": "success",
            "description": "",
            "description_tooltip": null,
            "layout": "IPY_MODEL_40c10578753e4381b9163974f025ed77",
            "max": 70043,
            "min": 0,
            "orientation": "horizontal",
            "style": "IPY_MODEL_44d240effdb645f3af26013b442955d1",
            "value": 70043
          }
        },
        "1db3ec9556d44fe6b1b249addce92b49": {
          "model_module": "@jupyter-widgets/controls",
          "model_name": "HTMLModel",
          "model_module_version": "1.5.0",
          "state": {
            "_dom_classes": [],
            "_model_module": "@jupyter-widgets/controls",
            "_model_module_version": "1.5.0",
            "_model_name": "HTMLModel",
            "_view_count": null,
            "_view_module": "@jupyter-widgets/controls",
            "_view_module_version": "1.5.0",
            "_view_name": "HTMLView",
            "description": "",
            "description_tooltip": null,
            "layout": "IPY_MODEL_9c40a57df4b44de0a2cafd750b34a50a",
            "placeholder": "​",
            "style": "IPY_MODEL_a54534f5a1f64d66ae442c6f986526f7",
            "value": " 70.0k/70.0k [00:00&lt;00:00, 336kB/s]"
          }
        },
        "0fa3c145ddb348e0881b88b48b1ee3a0": {
          "model_module": "@jupyter-widgets/base",
          "model_name": "LayoutModel",
          "model_module_version": "1.2.0",
          "state": {
            "_model_module": "@jupyter-widgets/base",
            "_model_module_version": "1.2.0",
            "_model_name": "LayoutModel",
            "_view_count": null,
            "_view_module": "@jupyter-widgets/base",
            "_view_module_version": "1.2.0",
            "_view_name": "LayoutView",
            "align_content": null,
            "align_items": null,
            "align_self": null,
            "border": null,
            "bottom": null,
            "display": null,
            "flex": null,
            "flex_flow": null,
            "grid_area": null,
            "grid_auto_columns": null,
            "grid_auto_flow": null,
            "grid_auto_rows": null,
            "grid_column": null,
            "grid_gap": null,
            "grid_row": null,
            "grid_template_areas": null,
            "grid_template_columns": null,
            "grid_template_rows": null,
            "height": null,
            "justify_content": null,
            "justify_items": null,
            "left": null,
            "margin": null,
            "max_height": null,
            "max_width": null,
            "min_height": null,
            "min_width": null,
            "object_fit": null,
            "object_position": null,
            "order": null,
            "overflow": null,
            "overflow_x": null,
            "overflow_y": null,
            "padding": null,
            "right": null,
            "top": null,
            "visibility": null,
            "width": null
          }
        },
        "baacb14288f440359beb16df017253fa": {
          "model_module": "@jupyter-widgets/base",
          "model_name": "LayoutModel",
          "model_module_version": "1.2.0",
          "state": {
            "_model_module": "@jupyter-widgets/base",
            "_model_module_version": "1.2.0",
            "_model_name": "LayoutModel",
            "_view_count": null,
            "_view_module": "@jupyter-widgets/base",
            "_view_module_version": "1.2.0",
            "_view_name": "LayoutView",
            "align_content": null,
            "align_items": null,
            "align_self": null,
            "border": null,
            "bottom": null,
            "display": null,
            "flex": null,
            "flex_flow": null,
            "grid_area": null,
            "grid_auto_columns": null,
            "grid_auto_flow": null,
            "grid_auto_rows": null,
            "grid_column": null,
            "grid_gap": null,
            "grid_row": null,
            "grid_template_areas": null,
            "grid_template_columns": null,
            "grid_template_rows": null,
            "height": null,
            "justify_content": null,
            "justify_items": null,
            "left": null,
            "margin": null,
            "max_height": null,
            "max_width": null,
            "min_height": null,
            "min_width": null,
            "object_fit": null,
            "object_position": null,
            "order": null,
            "overflow": null,
            "overflow_x": null,
            "overflow_y": null,
            "padding": null,
            "right": null,
            "top": null,
            "visibility": null,
            "width": null
          }
        },
        "5489c67239dc493382cbf0ae2eb759fa": {
          "model_module": "@jupyter-widgets/controls",
          "model_name": "DescriptionStyleModel",
          "model_module_version": "1.5.0",
          "state": {
            "_model_module": "@jupyter-widgets/controls",
            "_model_module_version": "1.5.0",
            "_model_name": "DescriptionStyleModel",
            "_view_count": null,
            "_view_module": "@jupyter-widgets/base",
            "_view_module_version": "1.2.0",
            "_view_name": "StyleView",
            "description_width": ""
          }
        },
        "40c10578753e4381b9163974f025ed77": {
          "model_module": "@jupyter-widgets/base",
          "model_name": "LayoutModel",
          "model_module_version": "1.2.0",
          "state": {
            "_model_module": "@jupyter-widgets/base",
            "_model_module_version": "1.2.0",
            "_model_name": "LayoutModel",
            "_view_count": null,
            "_view_module": "@jupyter-widgets/base",
            "_view_module_version": "1.2.0",
            "_view_name": "LayoutView",
            "align_content": null,
            "align_items": null,
            "align_self": null,
            "border": null,
            "bottom": null,
            "display": null,
            "flex": null,
            "flex_flow": null,
            "grid_area": null,
            "grid_auto_columns": null,
            "grid_auto_flow": null,
            "grid_auto_rows": null,
            "grid_column": null,
            "grid_gap": null,
            "grid_row": null,
            "grid_template_areas": null,
            "grid_template_columns": null,
            "grid_template_rows": null,
            "height": null,
            "justify_content": null,
            "justify_items": null,
            "left": null,
            "margin": null,
            "max_height": null,
            "max_width": null,
            "min_height": null,
            "min_width": null,
            "object_fit": null,
            "object_position": null,
            "order": null,
            "overflow": null,
            "overflow_x": null,
            "overflow_y": null,
            "padding": null,
            "right": null,
            "top": null,
            "visibility": null,
            "width": null
          }
        },
        "44d240effdb645f3af26013b442955d1": {
          "model_module": "@jupyter-widgets/controls",
          "model_name": "ProgressStyleModel",
          "model_module_version": "1.5.0",
          "state": {
            "_model_module": "@jupyter-widgets/controls",
            "_model_module_version": "1.5.0",
            "_model_name": "ProgressStyleModel",
            "_view_count": null,
            "_view_module": "@jupyter-widgets/base",
            "_view_module_version": "1.2.0",
            "_view_name": "StyleView",
            "bar_color": null,
            "description_width": ""
          }
        },
        "9c40a57df4b44de0a2cafd750b34a50a": {
          "model_module": "@jupyter-widgets/base",
          "model_name": "LayoutModel",
          "model_module_version": "1.2.0",
          "state": {
            "_model_module": "@jupyter-widgets/base",
            "_model_module_version": "1.2.0",
            "_model_name": "LayoutModel",
            "_view_count": null,
            "_view_module": "@jupyter-widgets/base",
            "_view_module_version": "1.2.0",
            "_view_name": "LayoutView",
            "align_content": null,
            "align_items": null,
            "align_self": null,
            "border": null,
            "bottom": null,
            "display": null,
            "flex": null,
            "flex_flow": null,
            "grid_area": null,
            "grid_auto_columns": null,
            "grid_auto_flow": null,
            "grid_auto_rows": null,
            "grid_column": null,
            "grid_gap": null,
            "grid_row": null,
            "grid_template_areas": null,
            "grid_template_columns": null,
            "grid_template_rows": null,
            "height": null,
            "justify_content": null,
            "justify_items": null,
            "left": null,
            "margin": null,
            "max_height": null,
            "max_width": null,
            "min_height": null,
            "min_width": null,
            "object_fit": null,
            "object_position": null,
            "order": null,
            "overflow": null,
            "overflow_x": null,
            "overflow_y": null,
            "padding": null,
            "right": null,
            "top": null,
            "visibility": null,
            "width": null
          }
        },
        "a54534f5a1f64d66ae442c6f986526f7": {
          "model_module": "@jupyter-widgets/controls",
          "model_name": "DescriptionStyleModel",
          "model_module_version": "1.5.0",
          "state": {
            "_model_module": "@jupyter-widgets/controls",
            "_model_module_version": "1.5.0",
            "_model_name": "DescriptionStyleModel",
            "_view_count": null,
            "_view_module": "@jupyter-widgets/base",
            "_view_module_version": "1.2.0",
            "_view_name": "StyleView",
            "description_width": ""
          }
        },
        "d5ebe512c9044af990c456ed53104cf3": {
          "model_module": "@jupyter-widgets/controls",
          "model_name": "HBoxModel",
          "model_module_version": "1.5.0",
          "state": {
            "_dom_classes": [],
            "_model_module": "@jupyter-widgets/controls",
            "_model_module_version": "1.5.0",
            "_model_name": "HBoxModel",
            "_view_count": null,
            "_view_module": "@jupyter-widgets/controls",
            "_view_module_version": "1.5.0",
            "_view_name": "HBoxView",
            "box_style": "",
            "children": [
              "IPY_MODEL_8aa5c39d0aec44509ea3ab46aedf8d93",
              "IPY_MODEL_2ed317f439f3464f8f48e2f259a719d2",
              "IPY_MODEL_b8a0389c2c1f4a70b31a59f42353c946"
            ],
            "layout": "IPY_MODEL_0510b569330144d6bc91410d18bbd23c"
          }
        },
        "8aa5c39d0aec44509ea3ab46aedf8d93": {
          "model_module": "@jupyter-widgets/controls",
          "model_name": "HTMLModel",
          "model_module_version": "1.5.0",
          "state": {
            "_dom_classes": [],
            "_model_module": "@jupyter-widgets/controls",
            "_model_module_version": "1.5.0",
            "_model_name": "HTMLModel",
            "_view_count": null,
            "_view_module": "@jupyter-widgets/controls",
            "_view_module_version": "1.5.0",
            "_view_name": "HTMLView",
            "description": "",
            "description_tooltip": null,
            "layout": "IPY_MODEL_979f634c6844491c9495f163b48c1c09",
            "placeholder": "​",
            "style": "IPY_MODEL_561254dc1e9442d0a70ecf753f3dbd0a",
            "value": "Downloading pytorch_model.bin: 100%"
          }
        },
        "2ed317f439f3464f8f48e2f259a719d2": {
          "model_module": "@jupyter-widgets/controls",
          "model_name": "FloatProgressModel",
          "model_module_version": "1.5.0",
          "state": {
            "_dom_classes": [],
            "_model_module": "@jupyter-widgets/controls",
            "_model_module_version": "1.5.0",
            "_model_name": "FloatProgressModel",
            "_view_count": null,
            "_view_module": "@jupyter-widgets/controls",
            "_view_module_version": "1.5.0",
            "_view_name": "ProgressView",
            "bar_style": "success",
            "description": "",
            "description_tooltip": null,
            "layout": "IPY_MODEL_147a8c12839348e2bcae8b26499932e7",
            "max": 14380029,
            "min": 0,
            "orientation": "horizontal",
            "style": "IPY_MODEL_1997e80fb0ee43598d79e4c98e63d406",
            "value": 14380029
          }
        },
        "b8a0389c2c1f4a70b31a59f42353c946": {
          "model_module": "@jupyter-widgets/controls",
          "model_name": "HTMLModel",
          "model_module_version": "1.5.0",
          "state": {
            "_dom_classes": [],
            "_model_module": "@jupyter-widgets/controls",
            "_model_module_version": "1.5.0",
            "_model_name": "HTMLModel",
            "_view_count": null,
            "_view_module": "@jupyter-widgets/controls",
            "_view_module_version": "1.5.0",
            "_view_name": "HTMLView",
            "description": "",
            "description_tooltip": null,
            "layout": "IPY_MODEL_2180ddeac9a3465f923a39eb2ec8ef55",
            "placeholder": "​",
            "style": "IPY_MODEL_3db69c06c6f040e0a59ed0f1341f2b18",
            "value": " 14.4M/14.4M [00:00&lt;00:00, 192MB/s]"
          }
        },
        "0510b569330144d6bc91410d18bbd23c": {
          "model_module": "@jupyter-widgets/base",
          "model_name": "LayoutModel",
          "model_module_version": "1.2.0",
          "state": {
            "_model_module": "@jupyter-widgets/base",
            "_model_module_version": "1.2.0",
            "_model_name": "LayoutModel",
            "_view_count": null,
            "_view_module": "@jupyter-widgets/base",
            "_view_module_version": "1.2.0",
            "_view_name": "LayoutView",
            "align_content": null,
            "align_items": null,
            "align_self": null,
            "border": null,
            "bottom": null,
            "display": null,
            "flex": null,
            "flex_flow": null,
            "grid_area": null,
            "grid_auto_columns": null,
            "grid_auto_flow": null,
            "grid_auto_rows": null,
            "grid_column": null,
            "grid_gap": null,
            "grid_row": null,
            "grid_template_areas": null,
            "grid_template_columns": null,
            "grid_template_rows": null,
            "height": null,
            "justify_content": null,
            "justify_items": null,
            "left": null,
            "margin": null,
            "max_height": null,
            "max_width": null,
            "min_height": null,
            "min_width": null,
            "object_fit": null,
            "object_position": null,
            "order": null,
            "overflow": null,
            "overflow_x": null,
            "overflow_y": null,
            "padding": null,
            "right": null,
            "top": null,
            "visibility": null,
            "width": null
          }
        },
        "979f634c6844491c9495f163b48c1c09": {
          "model_module": "@jupyter-widgets/base",
          "model_name": "LayoutModel",
          "model_module_version": "1.2.0",
          "state": {
            "_model_module": "@jupyter-widgets/base",
            "_model_module_version": "1.2.0",
            "_model_name": "LayoutModel",
            "_view_count": null,
            "_view_module": "@jupyter-widgets/base",
            "_view_module_version": "1.2.0",
            "_view_name": "LayoutView",
            "align_content": null,
            "align_items": null,
            "align_self": null,
            "border": null,
            "bottom": null,
            "display": null,
            "flex": null,
            "flex_flow": null,
            "grid_area": null,
            "grid_auto_columns": null,
            "grid_auto_flow": null,
            "grid_auto_rows": null,
            "grid_column": null,
            "grid_gap": null,
            "grid_row": null,
            "grid_template_areas": null,
            "grid_template_columns": null,
            "grid_template_rows": null,
            "height": null,
            "justify_content": null,
            "justify_items": null,
            "left": null,
            "margin": null,
            "max_height": null,
            "max_width": null,
            "min_height": null,
            "min_width": null,
            "object_fit": null,
            "object_position": null,
            "order": null,
            "overflow": null,
            "overflow_x": null,
            "overflow_y": null,
            "padding": null,
            "right": null,
            "top": null,
            "visibility": null,
            "width": null
          }
        },
        "561254dc1e9442d0a70ecf753f3dbd0a": {
          "model_module": "@jupyter-widgets/controls",
          "model_name": "DescriptionStyleModel",
          "model_module_version": "1.5.0",
          "state": {
            "_model_module": "@jupyter-widgets/controls",
            "_model_module_version": "1.5.0",
            "_model_name": "DescriptionStyleModel",
            "_view_count": null,
            "_view_module": "@jupyter-widgets/base",
            "_view_module_version": "1.2.0",
            "_view_name": "StyleView",
            "description_width": ""
          }
        },
        "147a8c12839348e2bcae8b26499932e7": {
          "model_module": "@jupyter-widgets/base",
          "model_name": "LayoutModel",
          "model_module_version": "1.2.0",
          "state": {
            "_model_module": "@jupyter-widgets/base",
            "_model_module_version": "1.2.0",
            "_model_name": "LayoutModel",
            "_view_count": null,
            "_view_module": "@jupyter-widgets/base",
            "_view_module_version": "1.2.0",
            "_view_name": "LayoutView",
            "align_content": null,
            "align_items": null,
            "align_self": null,
            "border": null,
            "bottom": null,
            "display": null,
            "flex": null,
            "flex_flow": null,
            "grid_area": null,
            "grid_auto_columns": null,
            "grid_auto_flow": null,
            "grid_auto_rows": null,
            "grid_column": null,
            "grid_gap": null,
            "grid_row": null,
            "grid_template_areas": null,
            "grid_template_columns": null,
            "grid_template_rows": null,
            "height": null,
            "justify_content": null,
            "justify_items": null,
            "left": null,
            "margin": null,
            "max_height": null,
            "max_width": null,
            "min_height": null,
            "min_width": null,
            "object_fit": null,
            "object_position": null,
            "order": null,
            "overflow": null,
            "overflow_x": null,
            "overflow_y": null,
            "padding": null,
            "right": null,
            "top": null,
            "visibility": null,
            "width": null
          }
        },
        "1997e80fb0ee43598d79e4c98e63d406": {
          "model_module": "@jupyter-widgets/controls",
          "model_name": "ProgressStyleModel",
          "model_module_version": "1.5.0",
          "state": {
            "_model_module": "@jupyter-widgets/controls",
            "_model_module_version": "1.5.0",
            "_model_name": "ProgressStyleModel",
            "_view_count": null,
            "_view_module": "@jupyter-widgets/base",
            "_view_module_version": "1.2.0",
            "_view_name": "StyleView",
            "bar_color": null,
            "description_width": ""
          }
        },
        "2180ddeac9a3465f923a39eb2ec8ef55": {
          "model_module": "@jupyter-widgets/base",
          "model_name": "LayoutModel",
          "model_module_version": "1.2.0",
          "state": {
            "_model_module": "@jupyter-widgets/base",
            "_model_module_version": "1.2.0",
            "_model_name": "LayoutModel",
            "_view_count": null,
            "_view_module": "@jupyter-widgets/base",
            "_view_module_version": "1.2.0",
            "_view_name": "LayoutView",
            "align_content": null,
            "align_items": null,
            "align_self": null,
            "border": null,
            "bottom": null,
            "display": null,
            "flex": null,
            "flex_flow": null,
            "grid_area": null,
            "grid_auto_columns": null,
            "grid_auto_flow": null,
            "grid_auto_rows": null,
            "grid_column": null,
            "grid_gap": null,
            "grid_row": null,
            "grid_template_areas": null,
            "grid_template_columns": null,
            "grid_template_rows": null,
            "height": null,
            "justify_content": null,
            "justify_items": null,
            "left": null,
            "margin": null,
            "max_height": null,
            "max_width": null,
            "min_height": null,
            "min_width": null,
            "object_fit": null,
            "object_position": null,
            "order": null,
            "overflow": null,
            "overflow_x": null,
            "overflow_y": null,
            "padding": null,
            "right": null,
            "top": null,
            "visibility": null,
            "width": null
          }
        },
        "3db69c06c6f040e0a59ed0f1341f2b18": {
          "model_module": "@jupyter-widgets/controls",
          "model_name": "DescriptionStyleModel",
          "model_module_version": "1.5.0",
          "state": {
            "_model_module": "@jupyter-widgets/controls",
            "_model_module_version": "1.5.0",
            "_model_name": "DescriptionStyleModel",
            "_view_count": null,
            "_view_module": "@jupyter-widgets/base",
            "_view_module_version": "1.2.0",
            "_view_name": "StyleView",
            "description_width": ""
          }
        },
        "5d01fe80e1c44b598e2885d6dae67bee": {
          "model_module": "@jupyter-widgets/controls",
          "model_name": "HBoxModel",
          "model_module_version": "1.5.0",
          "state": {
            "_dom_classes": [],
            "_model_module": "@jupyter-widgets/controls",
            "_model_module_version": "1.5.0",
            "_model_name": "HBoxModel",
            "_view_count": null,
            "_view_module": "@jupyter-widgets/controls",
            "_view_module_version": "1.5.0",
            "_view_name": "HBoxView",
            "box_style": "",
            "children": [
              "IPY_MODEL_b14db3432bcd41c6a7b3bb418906d654",
              "IPY_MODEL_d9b7c12505a64a2f9d3eee860ea4bc14",
              "IPY_MODEL_5df573e676a941ca9133f2d55b886179"
            ],
            "layout": "IPY_MODEL_b8f926bb1f7d4bd5894838e426faed63"
          }
        },
        "b14db3432bcd41c6a7b3bb418906d654": {
          "model_module": "@jupyter-widgets/controls",
          "model_name": "HTMLModel",
          "model_module_version": "1.5.0",
          "state": {
            "_dom_classes": [],
            "_model_module": "@jupyter-widgets/controls",
            "_model_module_version": "1.5.0",
            "_model_name": "HTMLModel",
            "_view_count": null,
            "_view_module": "@jupyter-widgets/controls",
            "_view_module_version": "1.5.0",
            "_view_name": "HTMLView",
            "description": "",
            "description_tooltip": null,
            "layout": "IPY_MODEL_7bee93ecf298454eb2570a1d9f72eb03",
            "placeholder": "​",
            "style": "IPY_MODEL_778f5d82944444fa9e16d2737b964aa5",
            "value": "Downloading builder script: "
          }
        },
        "d9b7c12505a64a2f9d3eee860ea4bc14": {
          "model_module": "@jupyter-widgets/controls",
          "model_name": "FloatProgressModel",
          "model_module_version": "1.5.0",
          "state": {
            "_dom_classes": [],
            "_model_module": "@jupyter-widgets/controls",
            "_model_module_version": "1.5.0",
            "_model_name": "FloatProgressModel",
            "_view_count": null,
            "_view_module": "@jupyter-widgets/controls",
            "_view_module_version": "1.5.0",
            "_view_name": "ProgressView",
            "bar_style": "success",
            "description": "",
            "description_tooltip": null,
            "layout": "IPY_MODEL_ca97a47fbe5c4ac0b8f3206e4cb17817",
            "max": 3145,
            "min": 0,
            "orientation": "horizontal",
            "style": "IPY_MODEL_faf33ae22375454a801c54f89176736c",
            "value": 3145
          }
        },
        "5df573e676a941ca9133f2d55b886179": {
          "model_module": "@jupyter-widgets/controls",
          "model_name": "HTMLModel",
          "model_module_version": "1.5.0",
          "state": {
            "_dom_classes": [],
            "_model_module": "@jupyter-widgets/controls",
            "_model_module_version": "1.5.0",
            "_model_name": "HTMLModel",
            "_view_count": null,
            "_view_module": "@jupyter-widgets/controls",
            "_view_module_version": "1.5.0",
            "_view_name": "HTMLView",
            "description": "",
            "description_tooltip": null,
            "layout": "IPY_MODEL_735f2752ebd44499abf0efeec8d688a8",
            "placeholder": "​",
            "style": "IPY_MODEL_d7ca0f80b7354898bac8f3b48193b63b",
            "value": " 13.1k/? [00:00&lt;00:00, 870kB/s]"
          }
        },
        "b8f926bb1f7d4bd5894838e426faed63": {
          "model_module": "@jupyter-widgets/base",
          "model_name": "LayoutModel",
          "model_module_version": "1.2.0",
          "state": {
            "_model_module": "@jupyter-widgets/base",
            "_model_module_version": "1.2.0",
            "_model_name": "LayoutModel",
            "_view_count": null,
            "_view_module": "@jupyter-widgets/base",
            "_view_module_version": "1.2.0",
            "_view_name": "LayoutView",
            "align_content": null,
            "align_items": null,
            "align_self": null,
            "border": null,
            "bottom": null,
            "display": null,
            "flex": null,
            "flex_flow": null,
            "grid_area": null,
            "grid_auto_columns": null,
            "grid_auto_flow": null,
            "grid_auto_rows": null,
            "grid_column": null,
            "grid_gap": null,
            "grid_row": null,
            "grid_template_areas": null,
            "grid_template_columns": null,
            "grid_template_rows": null,
            "height": null,
            "justify_content": null,
            "justify_items": null,
            "left": null,
            "margin": null,
            "max_height": null,
            "max_width": null,
            "min_height": null,
            "min_width": null,
            "object_fit": null,
            "object_position": null,
            "order": null,
            "overflow": null,
            "overflow_x": null,
            "overflow_y": null,
            "padding": null,
            "right": null,
            "top": null,
            "visibility": null,
            "width": null
          }
        },
        "7bee93ecf298454eb2570a1d9f72eb03": {
          "model_module": "@jupyter-widgets/base",
          "model_name": "LayoutModel",
          "model_module_version": "1.2.0",
          "state": {
            "_model_module": "@jupyter-widgets/base",
            "_model_module_version": "1.2.0",
            "_model_name": "LayoutModel",
            "_view_count": null,
            "_view_module": "@jupyter-widgets/base",
            "_view_module_version": "1.2.0",
            "_view_name": "LayoutView",
            "align_content": null,
            "align_items": null,
            "align_self": null,
            "border": null,
            "bottom": null,
            "display": null,
            "flex": null,
            "flex_flow": null,
            "grid_area": null,
            "grid_auto_columns": null,
            "grid_auto_flow": null,
            "grid_auto_rows": null,
            "grid_column": null,
            "grid_gap": null,
            "grid_row": null,
            "grid_template_areas": null,
            "grid_template_columns": null,
            "grid_template_rows": null,
            "height": null,
            "justify_content": null,
            "justify_items": null,
            "left": null,
            "margin": null,
            "max_height": null,
            "max_width": null,
            "min_height": null,
            "min_width": null,
            "object_fit": null,
            "object_position": null,
            "order": null,
            "overflow": null,
            "overflow_x": null,
            "overflow_y": null,
            "padding": null,
            "right": null,
            "top": null,
            "visibility": null,
            "width": null
          }
        },
        "778f5d82944444fa9e16d2737b964aa5": {
          "model_module": "@jupyter-widgets/controls",
          "model_name": "DescriptionStyleModel",
          "model_module_version": "1.5.0",
          "state": {
            "_model_module": "@jupyter-widgets/controls",
            "_model_module_version": "1.5.0",
            "_model_name": "DescriptionStyleModel",
            "_view_count": null,
            "_view_module": "@jupyter-widgets/base",
            "_view_module_version": "1.2.0",
            "_view_name": "StyleView",
            "description_width": ""
          }
        },
        "ca97a47fbe5c4ac0b8f3206e4cb17817": {
          "model_module": "@jupyter-widgets/base",
          "model_name": "LayoutModel",
          "model_module_version": "1.2.0",
          "state": {
            "_model_module": "@jupyter-widgets/base",
            "_model_module_version": "1.2.0",
            "_model_name": "LayoutModel",
            "_view_count": null,
            "_view_module": "@jupyter-widgets/base",
            "_view_module_version": "1.2.0",
            "_view_name": "LayoutView",
            "align_content": null,
            "align_items": null,
            "align_self": null,
            "border": null,
            "bottom": null,
            "display": null,
            "flex": null,
            "flex_flow": null,
            "grid_area": null,
            "grid_auto_columns": null,
            "grid_auto_flow": null,
            "grid_auto_rows": null,
            "grid_column": null,
            "grid_gap": null,
            "grid_row": null,
            "grid_template_areas": null,
            "grid_template_columns": null,
            "grid_template_rows": null,
            "height": null,
            "justify_content": null,
            "justify_items": null,
            "left": null,
            "margin": null,
            "max_height": null,
            "max_width": null,
            "min_height": null,
            "min_width": null,
            "object_fit": null,
            "object_position": null,
            "order": null,
            "overflow": null,
            "overflow_x": null,
            "overflow_y": null,
            "padding": null,
            "right": null,
            "top": null,
            "visibility": null,
            "width": null
          }
        },
        "faf33ae22375454a801c54f89176736c": {
          "model_module": "@jupyter-widgets/controls",
          "model_name": "ProgressStyleModel",
          "model_module_version": "1.5.0",
          "state": {
            "_model_module": "@jupyter-widgets/controls",
            "_model_module_version": "1.5.0",
            "_model_name": "ProgressStyleModel",
            "_view_count": null,
            "_view_module": "@jupyter-widgets/base",
            "_view_module_version": "1.2.0",
            "_view_name": "StyleView",
            "bar_color": null,
            "description_width": ""
          }
        },
        "735f2752ebd44499abf0efeec8d688a8": {
          "model_module": "@jupyter-widgets/base",
          "model_name": "LayoutModel",
          "model_module_version": "1.2.0",
          "state": {
            "_model_module": "@jupyter-widgets/base",
            "_model_module_version": "1.2.0",
            "_model_name": "LayoutModel",
            "_view_count": null,
            "_view_module": "@jupyter-widgets/base",
            "_view_module_version": "1.2.0",
            "_view_name": "LayoutView",
            "align_content": null,
            "align_items": null,
            "align_self": null,
            "border": null,
            "bottom": null,
            "display": null,
            "flex": null,
            "flex_flow": null,
            "grid_area": null,
            "grid_auto_columns": null,
            "grid_auto_flow": null,
            "grid_auto_rows": null,
            "grid_column": null,
            "grid_gap": null,
            "grid_row": null,
            "grid_template_areas": null,
            "grid_template_columns": null,
            "grid_template_rows": null,
            "height": null,
            "justify_content": null,
            "justify_items": null,
            "left": null,
            "margin": null,
            "max_height": null,
            "max_width": null,
            "min_height": null,
            "min_width": null,
            "object_fit": null,
            "object_position": null,
            "order": null,
            "overflow": null,
            "overflow_x": null,
            "overflow_y": null,
            "padding": null,
            "right": null,
            "top": null,
            "visibility": null,
            "width": null
          }
        },
        "d7ca0f80b7354898bac8f3b48193b63b": {
          "model_module": "@jupyter-widgets/controls",
          "model_name": "DescriptionStyleModel",
          "model_module_version": "1.5.0",
          "state": {
            "_model_module": "@jupyter-widgets/controls",
            "_model_module_version": "1.5.0",
            "_model_name": "DescriptionStyleModel",
            "_view_count": null,
            "_view_module": "@jupyter-widgets/base",
            "_view_module_version": "1.2.0",
            "_view_name": "StyleView",
            "description_width": ""
          }
        },
        "cf0761ec00a14d30a5ca5277d7cc5274": {
          "model_module": "@jupyter-widgets/controls",
          "model_name": "HBoxModel",
          "model_module_version": "1.5.0",
          "state": {
            "_dom_classes": [],
            "_model_module": "@jupyter-widgets/controls",
            "_model_module_version": "1.5.0",
            "_model_name": "HBoxModel",
            "_view_count": null,
            "_view_module": "@jupyter-widgets/controls",
            "_view_module_version": "1.5.0",
            "_view_name": "HBoxView",
            "box_style": "",
            "children": [
              "IPY_MODEL_981c8f3f0b45409e9485112bc0b27193",
              "IPY_MODEL_5ea99f80b6aa4a6e9bfb5d278e0701f4",
              "IPY_MODEL_cdb197de6d5b40428a5a2816df9227e1"
            ],
            "layout": "IPY_MODEL_db159828dcf74d7bb5af2c3777ea41e9"
          }
        },
        "981c8f3f0b45409e9485112bc0b27193": {
          "model_module": "@jupyter-widgets/controls",
          "model_name": "HTMLModel",
          "model_module_version": "1.5.0",
          "state": {
            "_dom_classes": [],
            "_model_module": "@jupyter-widgets/controls",
            "_model_module_version": "1.5.0",
            "_model_name": "HTMLModel",
            "_view_count": null,
            "_view_module": "@jupyter-widgets/controls",
            "_view_module_version": "1.5.0",
            "_view_name": "HTMLView",
            "description": "",
            "description_tooltip": null,
            "layout": "IPY_MODEL_14be56e846e14fcd8a411dc0cf4338de",
            "placeholder": "​",
            "style": "IPY_MODEL_3d5773b2faa04cddae017f3074170820",
            "value": "Downloading builder script: "
          }
        },
        "5ea99f80b6aa4a6e9bfb5d278e0701f4": {
          "model_module": "@jupyter-widgets/controls",
          "model_name": "FloatProgressModel",
          "model_module_version": "1.5.0",
          "state": {
            "_dom_classes": [],
            "_model_module": "@jupyter-widgets/controls",
            "_model_module_version": "1.5.0",
            "_model_name": "FloatProgressModel",
            "_view_count": null,
            "_view_module": "@jupyter-widgets/controls",
            "_view_module_version": "1.5.0",
            "_view_name": "ProgressView",
            "bar_style": "success",
            "description": "",
            "description_tooltip": null,
            "layout": "IPY_MODEL_a7b3366341ed4e29be059d0454dd619a",
            "max": 2524,
            "min": 0,
            "orientation": "horizontal",
            "style": "IPY_MODEL_39046935bbc143c5bcd82a0c62b7479e",
            "value": 2524
          }
        },
        "cdb197de6d5b40428a5a2816df9227e1": {
          "model_module": "@jupyter-widgets/controls",
          "model_name": "HTMLModel",
          "model_module_version": "1.5.0",
          "state": {
            "_dom_classes": [],
            "_model_module": "@jupyter-widgets/controls",
            "_model_module_version": "1.5.0",
            "_model_name": "HTMLModel",
            "_view_count": null,
            "_view_module": "@jupyter-widgets/controls",
            "_view_module_version": "1.5.0",
            "_view_name": "HTMLView",
            "description": "",
            "description_tooltip": null,
            "layout": "IPY_MODEL_3f1575e04ea04e05ba77889a5e2668de",
            "placeholder": "​",
            "style": "IPY_MODEL_bbf0f507dcf24d9d9d211b8e3ce4e872",
            "value": " 7.38k/? [00:00&lt;00:00, 527kB/s]"
          }
        },
        "db159828dcf74d7bb5af2c3777ea41e9": {
          "model_module": "@jupyter-widgets/base",
          "model_name": "LayoutModel",
          "model_module_version": "1.2.0",
          "state": {
            "_model_module": "@jupyter-widgets/base",
            "_model_module_version": "1.2.0",
            "_model_name": "LayoutModel",
            "_view_count": null,
            "_view_module": "@jupyter-widgets/base",
            "_view_module_version": "1.2.0",
            "_view_name": "LayoutView",
            "align_content": null,
            "align_items": null,
            "align_self": null,
            "border": null,
            "bottom": null,
            "display": null,
            "flex": null,
            "flex_flow": null,
            "grid_area": null,
            "grid_auto_columns": null,
            "grid_auto_flow": null,
            "grid_auto_rows": null,
            "grid_column": null,
            "grid_gap": null,
            "grid_row": null,
            "grid_template_areas": null,
            "grid_template_columns": null,
            "grid_template_rows": null,
            "height": null,
            "justify_content": null,
            "justify_items": null,
            "left": null,
            "margin": null,
            "max_height": null,
            "max_width": null,
            "min_height": null,
            "min_width": null,
            "object_fit": null,
            "object_position": null,
            "order": null,
            "overflow": null,
            "overflow_x": null,
            "overflow_y": null,
            "padding": null,
            "right": null,
            "top": null,
            "visibility": null,
            "width": null
          }
        },
        "14be56e846e14fcd8a411dc0cf4338de": {
          "model_module": "@jupyter-widgets/base",
          "model_name": "LayoutModel",
          "model_module_version": "1.2.0",
          "state": {
            "_model_module": "@jupyter-widgets/base",
            "_model_module_version": "1.2.0",
            "_model_name": "LayoutModel",
            "_view_count": null,
            "_view_module": "@jupyter-widgets/base",
            "_view_module_version": "1.2.0",
            "_view_name": "LayoutView",
            "align_content": null,
            "align_items": null,
            "align_self": null,
            "border": null,
            "bottom": null,
            "display": null,
            "flex": null,
            "flex_flow": null,
            "grid_area": null,
            "grid_auto_columns": null,
            "grid_auto_flow": null,
            "grid_auto_rows": null,
            "grid_column": null,
            "grid_gap": null,
            "grid_row": null,
            "grid_template_areas": null,
            "grid_template_columns": null,
            "grid_template_rows": null,
            "height": null,
            "justify_content": null,
            "justify_items": null,
            "left": null,
            "margin": null,
            "max_height": null,
            "max_width": null,
            "min_height": null,
            "min_width": null,
            "object_fit": null,
            "object_position": null,
            "order": null,
            "overflow": null,
            "overflow_x": null,
            "overflow_y": null,
            "padding": null,
            "right": null,
            "top": null,
            "visibility": null,
            "width": null
          }
        },
        "3d5773b2faa04cddae017f3074170820": {
          "model_module": "@jupyter-widgets/controls",
          "model_name": "DescriptionStyleModel",
          "model_module_version": "1.5.0",
          "state": {
            "_model_module": "@jupyter-widgets/controls",
            "_model_module_version": "1.5.0",
            "_model_name": "DescriptionStyleModel",
            "_view_count": null,
            "_view_module": "@jupyter-widgets/base",
            "_view_module_version": "1.2.0",
            "_view_name": "StyleView",
            "description_width": ""
          }
        },
        "a7b3366341ed4e29be059d0454dd619a": {
          "model_module": "@jupyter-widgets/base",
          "model_name": "LayoutModel",
          "model_module_version": "1.2.0",
          "state": {
            "_model_module": "@jupyter-widgets/base",
            "_model_module_version": "1.2.0",
            "_model_name": "LayoutModel",
            "_view_count": null,
            "_view_module": "@jupyter-widgets/base",
            "_view_module_version": "1.2.0",
            "_view_name": "LayoutView",
            "align_content": null,
            "align_items": null,
            "align_self": null,
            "border": null,
            "bottom": null,
            "display": null,
            "flex": null,
            "flex_flow": null,
            "grid_area": null,
            "grid_auto_columns": null,
            "grid_auto_flow": null,
            "grid_auto_rows": null,
            "grid_column": null,
            "grid_gap": null,
            "grid_row": null,
            "grid_template_areas": null,
            "grid_template_columns": null,
            "grid_template_rows": null,
            "height": null,
            "justify_content": null,
            "justify_items": null,
            "left": null,
            "margin": null,
            "max_height": null,
            "max_width": null,
            "min_height": null,
            "min_width": null,
            "object_fit": null,
            "object_position": null,
            "order": null,
            "overflow": null,
            "overflow_x": null,
            "overflow_y": null,
            "padding": null,
            "right": null,
            "top": null,
            "visibility": null,
            "width": null
          }
        },
        "39046935bbc143c5bcd82a0c62b7479e": {
          "model_module": "@jupyter-widgets/controls",
          "model_name": "ProgressStyleModel",
          "model_module_version": "1.5.0",
          "state": {
            "_model_module": "@jupyter-widgets/controls",
            "_model_module_version": "1.5.0",
            "_model_name": "ProgressStyleModel",
            "_view_count": null,
            "_view_module": "@jupyter-widgets/base",
            "_view_module_version": "1.2.0",
            "_view_name": "StyleView",
            "bar_color": null,
            "description_width": ""
          }
        },
        "3f1575e04ea04e05ba77889a5e2668de": {
          "model_module": "@jupyter-widgets/base",
          "model_name": "LayoutModel",
          "model_module_version": "1.2.0",
          "state": {
            "_model_module": "@jupyter-widgets/base",
            "_model_module_version": "1.2.0",
            "_model_name": "LayoutModel",
            "_view_count": null,
            "_view_module": "@jupyter-widgets/base",
            "_view_module_version": "1.2.0",
            "_view_name": "LayoutView",
            "align_content": null,
            "align_items": null,
            "align_self": null,
            "border": null,
            "bottom": null,
            "display": null,
            "flex": null,
            "flex_flow": null,
            "grid_area": null,
            "grid_auto_columns": null,
            "grid_auto_flow": null,
            "grid_auto_rows": null,
            "grid_column": null,
            "grid_gap": null,
            "grid_row": null,
            "grid_template_areas": null,
            "grid_template_columns": null,
            "grid_template_rows": null,
            "height": null,
            "justify_content": null,
            "justify_items": null,
            "left": null,
            "margin": null,
            "max_height": null,
            "max_width": null,
            "min_height": null,
            "min_width": null,
            "object_fit": null,
            "object_position": null,
            "order": null,
            "overflow": null,
            "overflow_x": null,
            "overflow_y": null,
            "padding": null,
            "right": null,
            "top": null,
            "visibility": null,
            "width": null
          }
        },
        "bbf0f507dcf24d9d9d211b8e3ce4e872": {
          "model_module": "@jupyter-widgets/controls",
          "model_name": "DescriptionStyleModel",
          "model_module_version": "1.5.0",
          "state": {
            "_model_module": "@jupyter-widgets/controls",
            "_model_module_version": "1.5.0",
            "_model_name": "DescriptionStyleModel",
            "_view_count": null,
            "_view_module": "@jupyter-widgets/base",
            "_view_module_version": "1.2.0",
            "_view_name": "StyleView",
            "description_width": ""
          }
        },
        "2322a16235c44f3b946db8d3e823d08a": {
          "model_module": "@jupyter-widgets/controls",
          "model_name": "HBoxModel",
          "model_module_version": "1.5.0",
          "state": {
            "_dom_classes": [],
            "_model_module": "@jupyter-widgets/controls",
            "_model_module_version": "1.5.0",
            "_model_name": "HBoxModel",
            "_view_count": null,
            "_view_module": "@jupyter-widgets/controls",
            "_view_module_version": "1.5.0",
            "_view_name": "HBoxView",
            "box_style": "",
            "children": [
              "IPY_MODEL_5a11a2ee46e84a2ebbeea8fc6bd186e3",
              "IPY_MODEL_5d314672db9447439cebf4ac36fb3ec8",
              "IPY_MODEL_289f83c9b62446e49d16af4ce18d1a5c"
            ],
            "layout": "IPY_MODEL_047dca1097dc460d8ecfdef97df02f3f"
          }
        },
        "5a11a2ee46e84a2ebbeea8fc6bd186e3": {
          "model_module": "@jupyter-widgets/controls",
          "model_name": "HTMLModel",
          "model_module_version": "1.5.0",
          "state": {
            "_dom_classes": [],
            "_model_module": "@jupyter-widgets/controls",
            "_model_module_version": "1.5.0",
            "_model_name": "HTMLModel",
            "_view_count": null,
            "_view_module": "@jupyter-widgets/controls",
            "_view_module_version": "1.5.0",
            "_view_name": "HTMLView",
            "description": "",
            "description_tooltip": null,
            "layout": "IPY_MODEL_6690a1d5e53c41999a7ad34d75d63cb3",
            "placeholder": "​",
            "style": "IPY_MODEL_0a6dfb914cee4e308693be65fdaed3f2",
            "value": "Downloading builder script: "
          }
        },
        "5d314672db9447439cebf4ac36fb3ec8": {
          "model_module": "@jupyter-widgets/controls",
          "model_name": "FloatProgressModel",
          "model_module_version": "1.5.0",
          "state": {
            "_dom_classes": [],
            "_model_module": "@jupyter-widgets/controls",
            "_model_module_version": "1.5.0",
            "_model_name": "FloatProgressModel",
            "_view_count": null,
            "_view_module": "@jupyter-widgets/controls",
            "_view_module_version": "1.5.0",
            "_view_name": "ProgressView",
            "bar_style": "success",
            "description": "",
            "description_tooltip": null,
            "layout": "IPY_MODEL_2ecb2477c5fb4ee3a95238e01cdf123a",
            "max": 2575,
            "min": 0,
            "orientation": "horizontal",
            "style": "IPY_MODEL_9756e0b4f3134d2e8bac294f2f1ef1af",
            "value": 2575
          }
        },
        "289f83c9b62446e49d16af4ce18d1a5c": {
          "model_module": "@jupyter-widgets/controls",
          "model_name": "HTMLModel",
          "model_module_version": "1.5.0",
          "state": {
            "_dom_classes": [],
            "_model_module": "@jupyter-widgets/controls",
            "_model_module_version": "1.5.0",
            "_model_name": "HTMLModel",
            "_view_count": null,
            "_view_module": "@jupyter-widgets/controls",
            "_view_module_version": "1.5.0",
            "_view_name": "HTMLView",
            "description": "",
            "description_tooltip": null,
            "layout": "IPY_MODEL_853662cd2ba24141a9e659a65ff35486",
            "placeholder": "​",
            "style": "IPY_MODEL_94413cabde8f4913b1b48b35b5c1dcd1",
            "value": " 7.55k/? [00:00&lt;00:00, 525kB/s]"
          }
        },
        "047dca1097dc460d8ecfdef97df02f3f": {
          "model_module": "@jupyter-widgets/base",
          "model_name": "LayoutModel",
          "model_module_version": "1.2.0",
          "state": {
            "_model_module": "@jupyter-widgets/base",
            "_model_module_version": "1.2.0",
            "_model_name": "LayoutModel",
            "_view_count": null,
            "_view_module": "@jupyter-widgets/base",
            "_view_module_version": "1.2.0",
            "_view_name": "LayoutView",
            "align_content": null,
            "align_items": null,
            "align_self": null,
            "border": null,
            "bottom": null,
            "display": null,
            "flex": null,
            "flex_flow": null,
            "grid_area": null,
            "grid_auto_columns": null,
            "grid_auto_flow": null,
            "grid_auto_rows": null,
            "grid_column": null,
            "grid_gap": null,
            "grid_row": null,
            "grid_template_areas": null,
            "grid_template_columns": null,
            "grid_template_rows": null,
            "height": null,
            "justify_content": null,
            "justify_items": null,
            "left": null,
            "margin": null,
            "max_height": null,
            "max_width": null,
            "min_height": null,
            "min_width": null,
            "object_fit": null,
            "object_position": null,
            "order": null,
            "overflow": null,
            "overflow_x": null,
            "overflow_y": null,
            "padding": null,
            "right": null,
            "top": null,
            "visibility": null,
            "width": null
          }
        },
        "6690a1d5e53c41999a7ad34d75d63cb3": {
          "model_module": "@jupyter-widgets/base",
          "model_name": "LayoutModel",
          "model_module_version": "1.2.0",
          "state": {
            "_model_module": "@jupyter-widgets/base",
            "_model_module_version": "1.2.0",
            "_model_name": "LayoutModel",
            "_view_count": null,
            "_view_module": "@jupyter-widgets/base",
            "_view_module_version": "1.2.0",
            "_view_name": "LayoutView",
            "align_content": null,
            "align_items": null,
            "align_self": null,
            "border": null,
            "bottom": null,
            "display": null,
            "flex": null,
            "flex_flow": null,
            "grid_area": null,
            "grid_auto_columns": null,
            "grid_auto_flow": null,
            "grid_auto_rows": null,
            "grid_column": null,
            "grid_gap": null,
            "grid_row": null,
            "grid_template_areas": null,
            "grid_template_columns": null,
            "grid_template_rows": null,
            "height": null,
            "justify_content": null,
            "justify_items": null,
            "left": null,
            "margin": null,
            "max_height": null,
            "max_width": null,
            "min_height": null,
            "min_width": null,
            "object_fit": null,
            "object_position": null,
            "order": null,
            "overflow": null,
            "overflow_x": null,
            "overflow_y": null,
            "padding": null,
            "right": null,
            "top": null,
            "visibility": null,
            "width": null
          }
        },
        "0a6dfb914cee4e308693be65fdaed3f2": {
          "model_module": "@jupyter-widgets/controls",
          "model_name": "DescriptionStyleModel",
          "model_module_version": "1.5.0",
          "state": {
            "_model_module": "@jupyter-widgets/controls",
            "_model_module_version": "1.5.0",
            "_model_name": "DescriptionStyleModel",
            "_view_count": null,
            "_view_module": "@jupyter-widgets/base",
            "_view_module_version": "1.2.0",
            "_view_name": "StyleView",
            "description_width": ""
          }
        },
        "2ecb2477c5fb4ee3a95238e01cdf123a": {
          "model_module": "@jupyter-widgets/base",
          "model_name": "LayoutModel",
          "model_module_version": "1.2.0",
          "state": {
            "_model_module": "@jupyter-widgets/base",
            "_model_module_version": "1.2.0",
            "_model_name": "LayoutModel",
            "_view_count": null,
            "_view_module": "@jupyter-widgets/base",
            "_view_module_version": "1.2.0",
            "_view_name": "LayoutView",
            "align_content": null,
            "align_items": null,
            "align_self": null,
            "border": null,
            "bottom": null,
            "display": null,
            "flex": null,
            "flex_flow": null,
            "grid_area": null,
            "grid_auto_columns": null,
            "grid_auto_flow": null,
            "grid_auto_rows": null,
            "grid_column": null,
            "grid_gap": null,
            "grid_row": null,
            "grid_template_areas": null,
            "grid_template_columns": null,
            "grid_template_rows": null,
            "height": null,
            "justify_content": null,
            "justify_items": null,
            "left": null,
            "margin": null,
            "max_height": null,
            "max_width": null,
            "min_height": null,
            "min_width": null,
            "object_fit": null,
            "object_position": null,
            "order": null,
            "overflow": null,
            "overflow_x": null,
            "overflow_y": null,
            "padding": null,
            "right": null,
            "top": null,
            "visibility": null,
            "width": null
          }
        },
        "9756e0b4f3134d2e8bac294f2f1ef1af": {
          "model_module": "@jupyter-widgets/controls",
          "model_name": "ProgressStyleModel",
          "model_module_version": "1.5.0",
          "state": {
            "_model_module": "@jupyter-widgets/controls",
            "_model_module_version": "1.5.0",
            "_model_name": "ProgressStyleModel",
            "_view_count": null,
            "_view_module": "@jupyter-widgets/base",
            "_view_module_version": "1.2.0",
            "_view_name": "StyleView",
            "bar_color": null,
            "description_width": ""
          }
        },
        "853662cd2ba24141a9e659a65ff35486": {
          "model_module": "@jupyter-widgets/base",
          "model_name": "LayoutModel",
          "model_module_version": "1.2.0",
          "state": {
            "_model_module": "@jupyter-widgets/base",
            "_model_module_version": "1.2.0",
            "_model_name": "LayoutModel",
            "_view_count": null,
            "_view_module": "@jupyter-widgets/base",
            "_view_module_version": "1.2.0",
            "_view_name": "LayoutView",
            "align_content": null,
            "align_items": null,
            "align_self": null,
            "border": null,
            "bottom": null,
            "display": null,
            "flex": null,
            "flex_flow": null,
            "grid_area": null,
            "grid_auto_columns": null,
            "grid_auto_flow": null,
            "grid_auto_rows": null,
            "grid_column": null,
            "grid_gap": null,
            "grid_row": null,
            "grid_template_areas": null,
            "grid_template_columns": null,
            "grid_template_rows": null,
            "height": null,
            "justify_content": null,
            "justify_items": null,
            "left": null,
            "margin": null,
            "max_height": null,
            "max_width": null,
            "min_height": null,
            "min_width": null,
            "object_fit": null,
            "object_position": null,
            "order": null,
            "overflow": null,
            "overflow_x": null,
            "overflow_y": null,
            "padding": null,
            "right": null,
            "top": null,
            "visibility": null,
            "width": null
          }
        },
        "94413cabde8f4913b1b48b35b5c1dcd1": {
          "model_module": "@jupyter-widgets/controls",
          "model_name": "DescriptionStyleModel",
          "model_module_version": "1.5.0",
          "state": {
            "_model_module": "@jupyter-widgets/controls",
            "_model_module_version": "1.5.0",
            "_model_name": "DescriptionStyleModel",
            "_view_count": null,
            "_view_module": "@jupyter-widgets/base",
            "_view_module_version": "1.2.0",
            "_view_name": "StyleView",
            "description_width": ""
          }
        },
        "ba3d9d373cdd41fe8a5f89e48f873d86": {
          "model_module": "@jupyter-widgets/controls",
          "model_name": "HBoxModel",
          "model_module_version": "1.5.0",
          "state": {
            "_dom_classes": [],
            "_model_module": "@jupyter-widgets/controls",
            "_model_module_version": "1.5.0",
            "_model_name": "HBoxModel",
            "_view_count": null,
            "_view_module": "@jupyter-widgets/controls",
            "_view_module_version": "1.5.0",
            "_view_name": "HBoxView",
            "box_style": "",
            "children": [
              "IPY_MODEL_9fead8996f1545df86e410cc21828649",
              "IPY_MODEL_0aceacddbf934be7a6b9992581212607",
              "IPY_MODEL_46472a8cead747838de5cbf528968728"
            ],
            "layout": "IPY_MODEL_6409727e5dcb4cfa90c453e56f089b08"
          }
        },
        "9fead8996f1545df86e410cc21828649": {
          "model_module": "@jupyter-widgets/controls",
          "model_name": "HTMLModel",
          "model_module_version": "1.5.0",
          "state": {
            "_dom_classes": [],
            "_model_module": "@jupyter-widgets/controls",
            "_model_module_version": "1.5.0",
            "_model_name": "HTMLModel",
            "_view_count": null,
            "_view_module": "@jupyter-widgets/controls",
            "_view_module_version": "1.5.0",
            "_view_name": "HTMLView",
            "description": "",
            "description_tooltip": null,
            "layout": "IPY_MODEL_cca31bffa74a4e6c8e136a9656352e30",
            "placeholder": "​",
            "style": "IPY_MODEL_1da8ab5c84054421aba318fc30c6c8dc",
            "value": "Downloading builder script: "
          }
        },
        "0aceacddbf934be7a6b9992581212607": {
          "model_module": "@jupyter-widgets/controls",
          "model_name": "FloatProgressModel",
          "model_module_version": "1.5.0",
          "state": {
            "_dom_classes": [],
            "_model_module": "@jupyter-widgets/controls",
            "_model_module_version": "1.5.0",
            "_model_name": "FloatProgressModel",
            "_view_count": null,
            "_view_module": "@jupyter-widgets/controls",
            "_view_module_version": "1.5.0",
            "_view_name": "ProgressView",
            "bar_style": "success",
            "description": "",
            "description_tooltip": null,
            "layout": "IPY_MODEL_53cf6d0838a14598aeddc3c4d67893db",
            "max": 2318,
            "min": 0,
            "orientation": "horizontal",
            "style": "IPY_MODEL_251c07b6aef5482081e79c4390aa1bc1",
            "value": 2318
          }
        },
        "46472a8cead747838de5cbf528968728": {
          "model_module": "@jupyter-widgets/controls",
          "model_name": "HTMLModel",
          "model_module_version": "1.5.0",
          "state": {
            "_dom_classes": [],
            "_model_module": "@jupyter-widgets/controls",
            "_model_module_version": "1.5.0",
            "_model_name": "HTMLModel",
            "_view_count": null,
            "_view_module": "@jupyter-widgets/controls",
            "_view_module_version": "1.5.0",
            "_view_name": "HTMLView",
            "description": "",
            "description_tooltip": null,
            "layout": "IPY_MODEL_54d605732d3848669d1b52231da488dd",
            "placeholder": "​",
            "style": "IPY_MODEL_748eadc4afec4568805f8ec1061837ee",
            "value": " 6.50k/? [00:00&lt;00:00, 474kB/s]"
          }
        },
        "6409727e5dcb4cfa90c453e56f089b08": {
          "model_module": "@jupyter-widgets/base",
          "model_name": "LayoutModel",
          "model_module_version": "1.2.0",
          "state": {
            "_model_module": "@jupyter-widgets/base",
            "_model_module_version": "1.2.0",
            "_model_name": "LayoutModel",
            "_view_count": null,
            "_view_module": "@jupyter-widgets/base",
            "_view_module_version": "1.2.0",
            "_view_name": "LayoutView",
            "align_content": null,
            "align_items": null,
            "align_self": null,
            "border": null,
            "bottom": null,
            "display": null,
            "flex": null,
            "flex_flow": null,
            "grid_area": null,
            "grid_auto_columns": null,
            "grid_auto_flow": null,
            "grid_auto_rows": null,
            "grid_column": null,
            "grid_gap": null,
            "grid_row": null,
            "grid_template_areas": null,
            "grid_template_columns": null,
            "grid_template_rows": null,
            "height": null,
            "justify_content": null,
            "justify_items": null,
            "left": null,
            "margin": null,
            "max_height": null,
            "max_width": null,
            "min_height": null,
            "min_width": null,
            "object_fit": null,
            "object_position": null,
            "order": null,
            "overflow": null,
            "overflow_x": null,
            "overflow_y": null,
            "padding": null,
            "right": null,
            "top": null,
            "visibility": null,
            "width": null
          }
        },
        "cca31bffa74a4e6c8e136a9656352e30": {
          "model_module": "@jupyter-widgets/base",
          "model_name": "LayoutModel",
          "model_module_version": "1.2.0",
          "state": {
            "_model_module": "@jupyter-widgets/base",
            "_model_module_version": "1.2.0",
            "_model_name": "LayoutModel",
            "_view_count": null,
            "_view_module": "@jupyter-widgets/base",
            "_view_module_version": "1.2.0",
            "_view_name": "LayoutView",
            "align_content": null,
            "align_items": null,
            "align_self": null,
            "border": null,
            "bottom": null,
            "display": null,
            "flex": null,
            "flex_flow": null,
            "grid_area": null,
            "grid_auto_columns": null,
            "grid_auto_flow": null,
            "grid_auto_rows": null,
            "grid_column": null,
            "grid_gap": null,
            "grid_row": null,
            "grid_template_areas": null,
            "grid_template_columns": null,
            "grid_template_rows": null,
            "height": null,
            "justify_content": null,
            "justify_items": null,
            "left": null,
            "margin": null,
            "max_height": null,
            "max_width": null,
            "min_height": null,
            "min_width": null,
            "object_fit": null,
            "object_position": null,
            "order": null,
            "overflow": null,
            "overflow_x": null,
            "overflow_y": null,
            "padding": null,
            "right": null,
            "top": null,
            "visibility": null,
            "width": null
          }
        },
        "1da8ab5c84054421aba318fc30c6c8dc": {
          "model_module": "@jupyter-widgets/controls",
          "model_name": "DescriptionStyleModel",
          "model_module_version": "1.5.0",
          "state": {
            "_model_module": "@jupyter-widgets/controls",
            "_model_module_version": "1.5.0",
            "_model_name": "DescriptionStyleModel",
            "_view_count": null,
            "_view_module": "@jupyter-widgets/base",
            "_view_module_version": "1.2.0",
            "_view_name": "StyleView",
            "description_width": ""
          }
        },
        "53cf6d0838a14598aeddc3c4d67893db": {
          "model_module": "@jupyter-widgets/base",
          "model_name": "LayoutModel",
          "model_module_version": "1.2.0",
          "state": {
            "_model_module": "@jupyter-widgets/base",
            "_model_module_version": "1.2.0",
            "_model_name": "LayoutModel",
            "_view_count": null,
            "_view_module": "@jupyter-widgets/base",
            "_view_module_version": "1.2.0",
            "_view_name": "LayoutView",
            "align_content": null,
            "align_items": null,
            "align_self": null,
            "border": null,
            "bottom": null,
            "display": null,
            "flex": null,
            "flex_flow": null,
            "grid_area": null,
            "grid_auto_columns": null,
            "grid_auto_flow": null,
            "grid_auto_rows": null,
            "grid_column": null,
            "grid_gap": null,
            "grid_row": null,
            "grid_template_areas": null,
            "grid_template_columns": null,
            "grid_template_rows": null,
            "height": null,
            "justify_content": null,
            "justify_items": null,
            "left": null,
            "margin": null,
            "max_height": null,
            "max_width": null,
            "min_height": null,
            "min_width": null,
            "object_fit": null,
            "object_position": null,
            "order": null,
            "overflow": null,
            "overflow_x": null,
            "overflow_y": null,
            "padding": null,
            "right": null,
            "top": null,
            "visibility": null,
            "width": null
          }
        },
        "251c07b6aef5482081e79c4390aa1bc1": {
          "model_module": "@jupyter-widgets/controls",
          "model_name": "ProgressStyleModel",
          "model_module_version": "1.5.0",
          "state": {
            "_model_module": "@jupyter-widgets/controls",
            "_model_module_version": "1.5.0",
            "_model_name": "ProgressStyleModel",
            "_view_count": null,
            "_view_module": "@jupyter-widgets/base",
            "_view_module_version": "1.2.0",
            "_view_name": "StyleView",
            "bar_color": null,
            "description_width": ""
          }
        },
        "54d605732d3848669d1b52231da488dd": {
          "model_module": "@jupyter-widgets/base",
          "model_name": "LayoutModel",
          "model_module_version": "1.2.0",
          "state": {
            "_model_module": "@jupyter-widgets/base",
            "_model_module_version": "1.2.0",
            "_model_name": "LayoutModel",
            "_view_count": null,
            "_view_module": "@jupyter-widgets/base",
            "_view_module_version": "1.2.0",
            "_view_name": "LayoutView",
            "align_content": null,
            "align_items": null,
            "align_self": null,
            "border": null,
            "bottom": null,
            "display": null,
            "flex": null,
            "flex_flow": null,
            "grid_area": null,
            "grid_auto_columns": null,
            "grid_auto_flow": null,
            "grid_auto_rows": null,
            "grid_column": null,
            "grid_gap": null,
            "grid_row": null,
            "grid_template_areas": null,
            "grid_template_columns": null,
            "grid_template_rows": null,
            "height": null,
            "justify_content": null,
            "justify_items": null,
            "left": null,
            "margin": null,
            "max_height": null,
            "max_width": null,
            "min_height": null,
            "min_width": null,
            "object_fit": null,
            "object_position": null,
            "order": null,
            "overflow": null,
            "overflow_x": null,
            "overflow_y": null,
            "padding": null,
            "right": null,
            "top": null,
            "visibility": null,
            "width": null
          }
        },
        "748eadc4afec4568805f8ec1061837ee": {
          "model_module": "@jupyter-widgets/controls",
          "model_name": "DescriptionStyleModel",
          "model_module_version": "1.5.0",
          "state": {
            "_model_module": "@jupyter-widgets/controls",
            "_model_module_version": "1.5.0",
            "_model_name": "DescriptionStyleModel",
            "_view_count": null,
            "_view_module": "@jupyter-widgets/base",
            "_view_module_version": "1.2.0",
            "_view_name": "StyleView",
            "description_width": ""
          }
        }
      }
    }
  },
  "nbformat": 4,
  "nbformat_minor": 0
}