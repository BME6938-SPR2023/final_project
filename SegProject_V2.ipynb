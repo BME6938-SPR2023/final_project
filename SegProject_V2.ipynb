{
  "cells": [
    {
      "cell_type": "markdown",
      "metadata": {
        "id": "view-in-github",
        "colab_type": "text"
      },
      "source": [
        "<a href=\"https://colab.research.google.com/github/BME6938-SPR2023/final_project/blob/main/SegProject_V2.ipynb\" target=\"_parent\"><img src=\"https://colab.research.google.com/assets/colab-badge.svg\" alt=\"Open In Colab\"/></a>"
      ]
    },
    {
      "cell_type": "markdown",
      "metadata": {
        "id": "4yQ0z0xOCrqR"
      },
      "source": [
        "## Installing dependencies "
      ]
    },
    {
      "cell_type": "code",
      "execution_count": 2,
      "metadata": {
        "id": "IsVUtnZDC3Se",
        "colab": {
          "base_uri": "https://localhost:8080/"
        },
        "outputId": "68e28d1e-c5ee-4857-a761-88653107c699"
      },
      "outputs": [
        {
          "output_type": "stream",
          "name": "stdout",
          "text": [
            "\u001b[2K     \u001b[90m━━━━━━━━━━━━━━━━━━━━━━━━━━━━━━━━━━━━━━━━\u001b[0m \u001b[32m7.0/7.0 MB\u001b[0m \u001b[31m54.8 MB/s\u001b[0m eta \u001b[36m0:00:00\u001b[0m\n",
            "\u001b[2K     \u001b[90m━━━━━━━━━━━━━━━━━━━━━━━━━━━━━━━━━━━━━━\u001b[0m \u001b[32m468.7/468.7 kB\u001b[0m \u001b[31m51.8 MB/s\u001b[0m eta \u001b[36m0:00:00\u001b[0m\n",
            "\u001b[2K     \u001b[90m━━━━━━━━━━━━━━━━━━━━━━━━━━━━━━━━━━━━━━━━\u001b[0m \u001b[32m81.4/81.4 kB\u001b[0m \u001b[31m12.6 MB/s\u001b[0m eta \u001b[36m0:00:00\u001b[0m\n",
            "\u001b[2K     \u001b[90m━━━━━━━━━━━━━━━━━━━━━━━━━━━━━━━━━━━━━━━━\u001b[0m \u001b[32m52.7/52.7 MB\u001b[0m \u001b[31m33.7 MB/s\u001b[0m eta \u001b[36m0:00:00\u001b[0m\n",
            "\u001b[2K     \u001b[90m━━━━━━━━━━━━━━━━━━━━━━━━━━━━━━━━━━━━━━━━\u001b[0m \u001b[32m83.9/83.9 kB\u001b[0m \u001b[31m13.3 MB/s\u001b[0m eta \u001b[36m0:00:00\u001b[0m\n",
            "\u001b[?25h  Preparing metadata (setup.py) ... \u001b[?25l\u001b[?25hdone\n",
            "\u001b[2K     \u001b[90m━━━━━━━━━━━━━━━━━━━━━━━━━━━━━━━━━━━━━━━━\u001b[0m \u001b[32m7.8/7.8 MB\u001b[0m \u001b[31m105.8 MB/s\u001b[0m eta \u001b[36m0:00:00\u001b[0m\n",
            "\u001b[2K     \u001b[90m━━━━━━━━━━━━━━━━━━━━━━━━━━━━━━━━━━━━━━\u001b[0m \u001b[32m200.1/200.1 kB\u001b[0m \u001b[31m28.3 MB/s\u001b[0m eta \u001b[36m0:00:00\u001b[0m\n",
            "\u001b[2K     \u001b[90m━━━━━━━━━━━━━━━━━━━━━━━━━━━━━━━━━━━━━━\u001b[0m \u001b[32m212.2/212.2 kB\u001b[0m \u001b[31m30.6 MB/s\u001b[0m eta \u001b[36m0:00:00\u001b[0m\n",
            "\u001b[2K     \u001b[90m━━━━━━━━━━━━━━━━━━━━━━━━━━━━━━━━━━━━━━\u001b[0m \u001b[32m110.5/110.5 kB\u001b[0m \u001b[31m18.8 MB/s\u001b[0m eta \u001b[36m0:00:00\u001b[0m\n",
            "\u001b[2K     \u001b[90m━━━━━━━━━━━━━━━━━━━━━━━━━━━━━━━━━━━━━━━━\u001b[0m \u001b[32m1.0/1.0 MB\u001b[0m \u001b[31m76.4 MB/s\u001b[0m eta \u001b[36m0:00:00\u001b[0m\n",
            "\u001b[2K     \u001b[90m━━━━━━━━━━━━━━━━━━━━━━━━━━━━━━━━━━━━━━\u001b[0m \u001b[32m132.9/132.9 kB\u001b[0m \u001b[31m20.8 MB/s\u001b[0m eta \u001b[36m0:00:00\u001b[0m\n",
            "\u001b[2K     \u001b[90m━━━━━━━━━━━━━━━━━━━━━━━━━━━━━━━━━━━━━━━━\u001b[0m \u001b[32m2.0/2.0 MB\u001b[0m \u001b[31m18.7 MB/s\u001b[0m eta \u001b[36m0:00:00\u001b[0m\n",
            "\u001b[2K     \u001b[90m━━━━━━━━━━━━━━━━━━━━━━━━━━━━━━━━━━━━━━\u001b[0m \u001b[32m158.8/158.8 kB\u001b[0m \u001b[31m23.6 MB/s\u001b[0m eta \u001b[36m0:00:00\u001b[0m\n",
            "\u001b[2K     \u001b[90m━━━━━━━━━━━━━━━━━━━━━━━━━━━━━━━━━━━━━━\u001b[0m \u001b[32m264.6/264.6 kB\u001b[0m \u001b[31m35.4 MB/s\u001b[0m eta \u001b[36m0:00:00\u001b[0m\n",
            "\u001b[2K     \u001b[90m━━━━━━━━━━━━━━━━━━━━━━━━━━━━━━━━━━━━━━\u001b[0m \u001b[32m114.2/114.2 kB\u001b[0m \u001b[31m16.5 MB/s\u001b[0m eta \u001b[36m0:00:00\u001b[0m\n",
            "\u001b[?25h  Building wheel for deepneuro (setup.py) ... \u001b[?25l\u001b[?25hdone\n"
          ]
        }
      ],
      "source": [
        "!pip install -q transformers datasets evaluate SimpleITK deepneuro"
      ]
    },
    {
      "cell_type": "markdown",
      "metadata": {
        "id": "4LFUUa10DDkJ"
      },
      "source": [
        "### For Gloria: Login to HF"
      ]
    },
    {
      "cell_type": "code",
      "execution_count": null,
      "metadata": {
        "colab": {
          "base_uri": "https://localhost:8080/",
          "height": 303,
          "referenced_widgets": [
            "c6b73e037d674e73b99d6080232c410b",
            "1c2172f236c84a1e94a9e88c7f95adfd",
            "dadbedaa490844058a6740585de20f4a",
            "24536983521242528262a4814aee01ba",
            "744082160f404a6aaeb5930e4c355590",
            "f98259794c88464b96dce3a14ef68c04",
            "053591040ac3418093d3fb34fed4dc30",
            "0b735795190342178168fe8e53d129b7",
            "019fa7ef77ca4768b0accf7156e5c356",
            "10c500a60c4444b99e891060b66e9f3d",
            "4c3ff4e46ff54bec9b585ae11c50d6cc",
            "ecc9ec8e10c04171a7eb470933e876dc",
            "b3c718282e474f6b98b97f62ba98b1a2",
            "3c4b238186214899bcf622daeaf4bfbf",
            "acd7ea3cfe8747c9a20e0408ba9d2563",
            "85bca201183c490f92dc19949040cb01",
            "c832547198034830a2351a907fc25a13"
          ]
        },
        "id": "UCAr15ohDHDE",
        "outputId": "c0660070-3924-4285-b616-dad870361e67"
      },
      "outputs": [
        {
          "output_type": "stream",
          "name": "stdout",
          "text": [
            "Token is valid.\n",
            "Your token has been saved in your configured git credential helpers (store).\n",
            "Your token has been saved to /root/.cache/huggingface/token\n",
            "Login successful\n"
          ]
        }
      ],
      "source": [
        "from huggingface_hub import notebook_login\n",
        "\n",
        "notebook_login()"
      ]
    },
    {
      "cell_type": "code",
      "execution_count": null,
      "metadata": {
        "id": "wKtCFAxoDLug"
      },
      "outputs": [],
      "source": [
        "hf_username = \"ashiyakatuka11\""
      ]
    },
    {
      "cell_type": "markdown",
      "metadata": {
        "id": "yFLwQA_2C9sA"
      },
      "source": [
        "### Importing Libraries"
      ]
    },
    {
      "cell_type": "code",
      "execution_count": 3,
      "metadata": {
        "colab": {
          "base_uri": "https://localhost:8080/"
        },
        "id": "gIpRRJaa7qj0",
        "outputId": "699f1993-b8ea-41ce-d0bd-e0eda19b5b24"
      },
      "outputs": [
        {
          "output_type": "stream",
          "name": "stdout",
          "text": [
            "Mounted at /content/drive\n"
          ]
        }
      ],
      "source": [
        "from google.colab import drive\n",
        "drive.mount(\"/content/drive\")"
      ]
    },
    {
      "cell_type": "code",
      "execution_count": 4,
      "metadata": {
        "id": "s3rSiWE76Sak"
      },
      "outputs": [],
      "source": [
        "#\n",
        "import os as os\n",
        "from glob import glob\n",
        "import shutil\n",
        "from tqdm import tqdm\n",
        "import deepneuro\n",
        "import numpy as np\n",
        "import nibabel as nib\n",
        "import tensorflow as tf\n",
        "import matplotlib.pyplot as plt\n",
        "import torch\n",
        "import cv2\n",
        "from torch.utils.data import Dataset\n",
        "from skimage.transform import resize\n",
        "import SimpleITK as sitk\n",
        "from datasets.dataset_dict import DatasetDict\n",
        "from datasets import Dataset"
      ]
    },
    {
      "cell_type": "markdown",
      "metadata": {
        "id": "7AHozkcM6cE4"
      },
      "source": [
        "## Data preprocessing"
      ]
    },
    {
      "cell_type": "markdown",
      "metadata": {
        "id": "9qCuDlesEiXg"
      },
      "source": [
        "### Loading data from google drive"
      ]
    },
    {
      "cell_type": "code",
      "execution_count": 5,
      "metadata": {
        "id": "-Bd5mIdu-frA"
      },
      "outputs": [],
      "source": [
        "folder_path = \"/content/drive/MyDrive/Colab Notebooks/datasets/GoldA_ZSliceSelection\""
      ]
    },
    {
      "cell_type": "code",
      "execution_count": null,
      "metadata": {
        "colab": {
          "base_uri": "https://localhost:8080/",
          "height": 471
        },
        "id": "kCtKbXR0FJ9N",
        "outputId": "6bf71961-3743-4e00-c556-594e2b0a509b"
      },
      "outputs": [
        {
          "output_type": "execute_result",
          "data": {
            "text/plain": [
              "Text(0.5, 1.0, 'MASK')"
            ]
          },
          "metadata": {},
          "execution_count": 7
        },
        {
          "output_type": "display_data",
          "data": {
            "text/plain": [
              "<Figure size 1000x1000 with 2 Axes>"
            ],
            "image/png": "[encoded data removed]"
          },
          "metadata": {}
        }
      ],
      "source": [
        "#sample image/label\n",
        "img_nifti = nib.load(\"/content/drive/MyDrive/Colab Notebooks/datasets/GoldA_ZSliceSelection/Stacked/test/P1_03_Z38.nii\")\n",
        "img = img_nifti.get_fdata()\n",
        "label_nifti = nib.load(\"/content/drive/MyDrive/Colab Notebooks/datasets/GoldA_ZSliceSelection/labels/test/1_03_Z38.nii\")\n",
        "label = label_nifti.get_fdata()\n",
        "#View image\n",
        "# plt.imshow(img[:,:].T, cmap='Greys_r')\n",
        "#example of image\n",
        "figure,axis = plt.subplots(1,2,figsize=(10,10))\n",
        "Plot_Color_Op = axis[0].imshow(img)\n",
        "axis[0].set_xlabel(img.shape)\n",
        "axis[0].set_ylabel(img.size)\n",
        "axis[0].set_title(\"IMAGE\")\n",
        "\n",
        "axis[1].imshow(label)\n",
        "axis[1].set_xlabel(label.shape)\n",
        "axis[1].set_ylabel(label.size)\n",
        "axis[1].set_title(\"MASK\")"
      ]
    },
    {
      "cell_type": "markdown",
      "metadata": {
        "id": "aVdvii8DvquB"
      },
      "source": [
        "### Convert Nifti to Image (Not being used)"
      ]
    },
    {
      "cell_type": "code",
      "execution_count": null,
      "metadata": {
        "id": "WhUpNr1D4aQy"
      },
      "outputs": [],
      "source": [
        "## directory paths for all datasets\n",
        "##train\n",
        "tr_stacked_img_dir=folder_path + '/Stacked/train'\n",
        "tr_t2_img_dir=folder_path + '/T2/train'\n",
        "tr_dct_img_dir=folder_path + '/dCT/train'\n",
        "tr_labels_dir=folder_path +'/labels/train'\n",
        "\n",
        "##test\n",
        "ts_stacked_img_dir=folder_path + '/Stacked/test'\n",
        "ts_t2_img_dir=folder_path + '/T2/test'\n",
        "ts_dct_img_dir=folder_path + '/dCT/test'\n",
        "ts_labels_dir=folder_path +'/labels/test'"
      ]
    },
    {
      "cell_type": "code",
      "execution_count": null,
      "metadata": {
        "id": "ZpzXyw6b4XJN"
      },
      "outputs": [],
      "source": [
        "tr_stacked_img_paths = sorted([os.path.join(tr_stacked_img_dir, x) for x in os.listdir(tr_stacked_img_dir)])\n",
        "tr_t2_img_paths = sorted([os.path.join(tr_t2_img_dir, x) for x in os.listdir(tr_t2_img_dir)])\n",
        "tr_dct_img_paths = sorted([os.path.join(tr_dct_img_dir, x) for x in os.listdir(tr_dct_img_dir)])\n",
        "tr_labels_paths = sorted([os.path.join(tr_labels_dir, x) for x in os.listdir(tr_labels_dir)])\n",
        "\n",
        "ts_stacked_img_paths = sorted([os.path.join(ts_stacked_img_dir, x) for x in os.listdir(ts_stacked_img_dir)])\n",
        "ts_t2_img_paths = sorted([os.path.join(ts_t2_img_dir, x) for x in os.listdir(ts_t2_img_dir)])\n",
        "ts_dct_img_paths = sorted([os.path.join(ts_dct_img_dir, x) for x in os.listdir(ts_dct_img_dir)])\n",
        "ts_labels_paths = sorted([os.path.join(ts_labels_dir, x) for x in os.listdir(ts_labels_dir)])"
      ]
    },
    {
      "cell_type": "code",
      "execution_count": null,
      "metadata": {
        "id": "q_R2i78K57NV"
      },
      "outputs": [],
      "source": [
        "def img_label_dict(img_paths,labels_paths):\n",
        "  img_list = []\n",
        "  label_list = []\n",
        "  # data_dict = {'pixel_values': [], 'label': []}\n",
        "  for img,lbl in zip(img_paths,labels_paths):\n",
        "      stacked_tr_img = sitk.ReadImage(img)\n",
        "      tr_labels = sitk.ReadImage(lbl)\n",
        "     # Convert to numpy arrays\n",
        "      img_arr = sitk.GetArrayFromImage(stacked_tr_img).astype(np.float32)\n",
        "      mask_arr = sitk.GetArrayFromImage(tr_labels).astype(np.float32)\n",
        "    # Normalize the image to [0, 1]\n",
        "      img_arr_norm = (img_arr- img_arr.min()) / (img_arr.max() - img_arr.min())\n",
        "      #transpose image\n",
        "      image= np.stack([img_arr_norm ] * 3, axis=-1).transpose((2,1,0))   \n",
        "\n",
        "      img_list.append(image) \n",
        "      label_list.append(mask_arr) \n",
        "    \n",
        "  data_dict =  {'pixel_values': img_list, 'label': label_list}\n",
        "  return data_dict"
      ]
    },
    {
      "cell_type": "code",
      "execution_count": null,
      "metadata": {
        "colab": {
          "base_uri": "https://localhost:8080/"
        },
        "id": "QZPKMesn_gtg",
        "outputId": "07896849-e125-47e1-a105-a616303c6d44"
      },
      "outputs": [
        {
          "data": {
            "text/plain": [
              "{'pixel_values': [array([[[0., 0., 0., ..., 0., 0., 0.],\n",
              "          [0., 0., 0., ..., 0., 0., 0.],\n",
              "          [0., 0., 0., ..., 0., 0., 0.],\n",
              "          ...,\n",
              "          [0., 0., 0., ..., 0., 0., 0.],\n",
              "          [0., 0., 0., ..., 0., 0., 0.],\n",
              "          [0., 0., 0., ..., 0., 0., 0.]],\n",
              "  \n",
              "         [[0., 0., 0., ..., 0., 0., 0.],\n",
              "          [0., 0., 0., ..., 0., 0., 0.],\n",
              "          [0., 0., 0., ..., 0., 0., 0.],\n",
              "          ...,\n",
              "          [0., 0., 0., ..., 0., 0., 0.],\n",
              "          [0., 0., 0., ..., 0., 0., 0.],\n",
              "          [0., 0., 0., ..., 0., 0., 0.]],\n",
              "  \n",
              "         [[0., 0., 0., ..., 0., 0., 0.],\n",
              "          [0., 0., 0., ..., 0., 0., 0.],\n",
              "          [0., 0., 0., ..., 0., 0., 0.],\n",
              "          ...,\n",
              "          [0., 0., 0., ..., 0., 0., 0.],\n",
              "          [0., 0., 0., ..., 0., 0., 0.],\n",
              "          [0., 0., 0., ..., 0., 0., 0.]]], dtype=float32),\n",
              "  array([[[0., 0., 0., ..., 0., 0., 0.],\n",
              "          [0., 0., 0., ..., 0., 0., 0.],\n",
              "          [0., 0., 0., ..., 0., 0., 0.],\n",
              "          ...,\n",
              "          [0., 0., 0., ..., 0., 0., 0.],\n",
              "          [0., 0., 0., ..., 0., 0., 0.],\n",
              "          [0., 0., 0., ..., 0., 0., 0.]],\n",
              "  \n",
              "         [[0., 0., 0., ..., 0., 0., 0.],\n",
              "          [0., 0., 0., ..., 0., 0., 0.],\n",
              "          [0., 0., 0., ..., 0., 0., 0.],\n",
              "          ...,\n",
              "          [0., 0., 0., ..., 0., 0., 0.],\n",
              "          [0., 0., 0., ..., 0., 0., 0.],\n",
              "          [0., 0., 0., ..., 0., 0., 0.]],\n",
              "  \n",
              "         [[0., 0., 0., ..., 0., 0., 0.],\n",
              "          [0., 0., 0., ..., 0., 0., 0.],\n",
              "          [0., 0., 0., ..., 0., 0., 0.],\n",
              "          ...,\n",
              "          [0., 0., 0., ..., 0., 0., 0.],\n",
              "          [0., 0., 0., ..., 0., 0., 0.],\n",
              "          [0., 0., 0., ..., 0., 0., 0.]]], dtype=float32),\n",
              "  array([[[0., 0., 0., ..., 0., 0., 0.],\n",
              "          [0., 0., 0., ..., 0., 0., 0.],\n",
              "          [0., 0., 0., ..., 0., 0., 0.],\n",
              "          ...,\n",
              "          [0., 0., 0., ..., 0., 0., 0.],\n",
              "          [0., 0., 0., ..., 0., 0., 0.],\n",
              "          [0., 0., 0., ..., 0., 0., 0.]],\n",
              "  \n",
              "         [[0., 0., 0., ..., 0., 0., 0.],\n",
              "          [0., 0., 0., ..., 0., 0., 0.],\n",
              "          [0., 0., 0., ..., 0., 0., 0.],\n",
              "          ...,\n",
              "          [0., 0., 0., ..., 0., 0., 0.],\n",
              "          [0., 0., 0., ..., 0., 0., 0.],\n",
              "          [0., 0., 0., ..., 0., 0., 0.]],\n",
              "  \n",
              "         [[0., 0., 0., ..., 0., 0., 0.],\n",
              "          [0., 0., 0., ..., 0., 0., 0.],\n",
              "          [0., 0., 0., ..., 0., 0., 0.],\n",
              "          ...,\n",
              "          [0., 0., 0., ..., 0., 0., 0.],\n",
              "          [0., 0., 0., ..., 0., 0., 0.],\n",
              "          [0., 0., 0., ..., 0., 0., 0.]]], dtype=float32),\n",
              "  array([[[0., 0., 0., ..., 0., 0., 0.],\n",
              "          [0., 0., 0., ..., 0., 0., 0.],\n",
              "          [0., 0., 0., ..., 0., 0., 0.],\n",
              "          ...,\n",
              "          [0., 0., 0., ..., 0., 0., 0.],\n",
              "          [0., 0., 0., ..., 0., 0., 0.],\n",
              "          [0., 0., 0., ..., 0., 0., 0.]],\n",
              "  \n",
              "         [[0., 0., 0., ..., 0., 0., 0.],\n",
              "          [0., 0., 0., ..., 0., 0., 0.],\n",
              "          [0., 0., 0., ..., 0., 0., 0.],\n",
              "          ...,\n",
              "          [0., 0., 0., ..., 0., 0., 0.],\n",
              "          [0., 0., 0., ..., 0., 0., 0.],\n",
              "          [0., 0., 0., ..., 0., 0., 0.]],\n",
              "  \n",
              "         [[0., 0., 0., ..., 0., 0., 0.],\n",
              "          [0., 0., 0., ..., 0., 0., 0.],\n",
              "          [0., 0., 0., ..., 0., 0., 0.],\n",
              "          ...,\n",
              "          [0., 0., 0., ..., 0., 0., 0.],\n",
              "          [0., 0., 0., ..., 0., 0., 0.],\n",
              "          [0., 0., 0., ..., 0., 0., 0.]]], dtype=float32),\n",
              "  array([[[0., 0., 0., ..., 0., 0., 0.],\n",
              "          [0., 0., 0., ..., 0., 0., 0.],\n",
              "          [0., 0., 0., ..., 0., 0., 0.],\n",
              "          ...,\n",
              "          [0., 0., 0., ..., 0., 0., 0.],\n",
              "          [0., 0., 0., ..., 0., 0., 0.],\n",
              "          [0., 0., 0., ..., 0., 0., 0.]],\n",
              "  \n",
              "         [[0., 0., 0., ..., 0., 0., 0.],\n",
              "          [0., 0., 0., ..., 0., 0., 0.],\n",
              "          [0., 0., 0., ..., 0., 0., 0.],\n",
              "          ...,\n",
              "          [0., 0., 0., ..., 0., 0., 0.],\n",
              "          [0., 0., 0., ..., 0., 0., 0.],\n",
              "          [0., 0., 0., ..., 0., 0., 0.]],\n",
              "  \n",
              "         [[0., 0., 0., ..., 0., 0., 0.],\n",
              "          [0., 0., 0., ..., 0., 0., 0.],\n",
              "          [0., 0., 0., ..., 0., 0., 0.],\n",
              "          ...,\n",
              "          [0., 0., 0., ..., 0., 0., 0.],\n",
              "          [0., 0., 0., ..., 0., 0., 0.],\n",
              "          [0., 0., 0., ..., 0., 0., 0.]]], dtype=float32),\n",
              "  array([[[0., 0., 0., ..., 0., 0., 0.],\n",
              "          [0., 0., 0., ..., 0., 0., 0.],\n",
              "          [0., 0., 0., ..., 0., 0., 0.],\n",
              "          ...,\n",
              "          [0., 0., 0., ..., 0., 0., 0.],\n",
              "          [0., 0., 0., ..., 0., 0., 0.],\n",
              "          [0., 0., 0., ..., 0., 0., 0.]],\n",
              "  \n",
              "         [[0., 0., 0., ..., 0., 0., 0.],\n",
              "          [0., 0., 0., ..., 0., 0., 0.],\n",
              "          [0., 0., 0., ..., 0., 0., 0.],\n",
              "          ...,\n",
              "          [0., 0., 0., ..., 0., 0., 0.],\n",
              "          [0., 0., 0., ..., 0., 0., 0.],\n",
              "          [0., 0., 0., ..., 0., 0., 0.]],\n",
              "  \n",
              "         [[0., 0., 0., ..., 0., 0., 0.],\n",
              "          [0., 0., 0., ..., 0., 0., 0.],\n",
              "          [0., 0., 0., ..., 0., 0., 0.],\n",
              "          ...,\n",
              "          [0., 0., 0., ..., 0., 0., 0.],\n",
              "          [0., 0., 0., ..., 0., 0., 0.],\n",
              "          [0., 0., 0., ..., 0., 0., 0.]]], dtype=float32),\n",
              "  array([[[0., 0., 0., ..., 0., 0., 0.],\n",
              "          [0., 0., 0., ..., 0., 0., 0.],\n",
              "          [0., 0., 0., ..., 0., 0., 0.],\n",
              "          ...,\n",
              "          [0., 0., 0., ..., 0., 0., 0.],\n",
              "          [0., 0., 0., ..., 0., 0., 0.],\n",
              "          [0., 0., 0., ..., 0., 0., 0.]],\n",
              "  \n",
              "         [[0., 0., 0., ..., 0., 0., 0.],\n",
              "          [0., 0., 0., ..., 0., 0., 0.],\n",
              "          [0., 0., 0., ..., 0., 0., 0.],\n",
              "          ...,\n",
              "          [0., 0., 0., ..., 0., 0., 0.],\n",
              "          [0., 0., 0., ..., 0., 0., 0.],\n",
              "          [0., 0., 0., ..., 0., 0., 0.]],\n",
              "  \n",
              "         [[0., 0., 0., ..., 0., 0., 0.],\n",
              "          [0., 0., 0., ..., 0., 0., 0.],\n",
              "          [0., 0., 0., ..., 0., 0., 0.],\n",
              "          ...,\n",
              "          [0., 0., 0., ..., 0., 0., 0.],\n",
              "          [0., 0., 0., ..., 0., 0., 0.],\n",
              "          [0., 0., 0., ..., 0., 0., 0.]]], dtype=float32),\n",
              "  array([[[0.        , 0.        , 0.        , ..., 0.        ,\n",
              "           0.        , 0.        ],\n",
              "          [0.        , 0.0107147 , 0.01219653, ..., 0.        ,\n",
              "           0.        , 0.        ],\n",
              "          [0.        , 0.008321  , 0.00980281, ..., 0.        ,\n",
              "           0.        , 0.        ],\n",
              "          ...,\n",
              "          [0.        , 0.00786504, 0.00729513, ..., 0.00923289,\n",
              "           0.00877693, 0.0058133 ],\n",
              "          [0.        , 0.00923289, 0.008321  , ..., 0.00923289,\n",
              "           0.0107147 , 0.00638324],\n",
              "          [0.        , 0.00923289, 0.008321  , ..., 0.00980281,\n",
              "           0.01322241, 0.00535736]],\n",
              "  \n",
              "         [[0.        , 0.        , 0.        , ..., 0.        ,\n",
              "           0.        , 0.        ],\n",
              "          [0.        , 0.0107147 , 0.01219653, ..., 0.        ,\n",
              "           0.        , 0.        ],\n",
              "          [0.        , 0.008321  , 0.00980281, ..., 0.        ,\n",
              "           0.        , 0.        ],\n",
              "          ...,\n",
              "          [0.        , 0.00786504, 0.00729513, ..., 0.00923289,\n",
              "           0.00877693, 0.0058133 ],\n",
              "          [0.        , 0.00923289, 0.008321  , ..., 0.00923289,\n",
              "           0.0107147 , 0.00638324],\n",
              "          [0.        , 0.00923289, 0.008321  , ..., 0.00980281,\n",
              "           0.01322241, 0.00535736]],\n",
              "  \n",
              "         [[0.        , 0.        , 0.        , ..., 0.        ,\n",
              "           0.        , 0.        ],\n",
              "          [0.        , 0.0107147 , 0.01219653, ..., 0.        ,\n",
              "           0.        , 0.        ],\n",
              "          [0.        , 0.008321  , 0.00980281, ..., 0.        ,\n",
              "           0.        , 0.        ],\n",
              "          ...,\n",
              "          [0.        , 0.00786504, 0.00729513, ..., 0.00923289,\n",
              "           0.00877693, 0.0058133 ],\n",
              "          [0.        , 0.00923289, 0.008321  , ..., 0.00923289,\n",
              "           0.0107147 , 0.00638324],\n",
              "          [0.        , 0.00923289, 0.008321  , ..., 0.00980281,\n",
              "           0.01322241, 0.00535736]]], dtype=float32),\n",
              "  array([[[0., 0., 0., ..., 0., 0., 0.],\n",
              "          [0., 0., 0., ..., 0., 0., 0.],\n",
              "          [0., 0., 0., ..., 0., 0., 0.],\n",
              "          ...,\n",
              "          [0., 0., 0., ..., 0., 0., 0.],\n",
              "          [0., 0., 0., ..., 0., 0., 0.],\n",
              "          [0., 0., 0., ..., 0., 0., 0.]],\n",
              "  \n",
              "         [[0., 0., 0., ..., 0., 0., 0.],\n",
              "          [0., 0., 0., ..., 0., 0., 0.],\n",
              "          [0., 0., 0., ..., 0., 0., 0.],\n",
              "          ...,\n",
              "          [0., 0., 0., ..., 0., 0., 0.],\n",
              "          [0., 0., 0., ..., 0., 0., 0.],\n",
              "          [0., 0., 0., ..., 0., 0., 0.]],\n",
              "  \n",
              "         [[0., 0., 0., ..., 0., 0., 0.],\n",
              "          [0., 0., 0., ..., 0., 0., 0.],\n",
              "          [0., 0., 0., ..., 0., 0., 0.],\n",
              "          ...,\n",
              "          [0., 0., 0., ..., 0., 0., 0.],\n",
              "          [0., 0., 0., ..., 0., 0., 0.],\n",
              "          [0., 0., 0., ..., 0., 0., 0.]]], dtype=float32),\n",
              "  array([[[0., 0., 0., ..., 0., 0., 0.],\n",
              "          [0., 0., 0., ..., 0., 0., 0.],\n",
              "          [0., 0., 0., ..., 0., 0., 0.],\n",
              "          ...,\n",
              "          [0., 0., 0., ..., 0., 0., 0.],\n",
              "          [0., 0., 0., ..., 0., 0., 0.],\n",
              "          [0., 0., 0., ..., 0., 0., 0.]],\n",
              "  \n",
              "         [[0., 0., 0., ..., 0., 0., 0.],\n",
              "          [0., 0., 0., ..., 0., 0., 0.],\n",
              "          [0., 0., 0., ..., 0., 0., 0.],\n",
              "          ...,\n",
              "          [0., 0., 0., ..., 0., 0., 0.],\n",
              "          [0., 0., 0., ..., 0., 0., 0.],\n",
              "          [0., 0., 0., ..., 0., 0., 0.]],\n",
              "  \n",
              "         [[0., 0., 0., ..., 0., 0., 0.],\n",
              "          [0., 0., 0., ..., 0., 0., 0.],\n",
              "          [0., 0., 0., ..., 0., 0., 0.],\n",
              "          ...,\n",
              "          [0., 0., 0., ..., 0., 0., 0.],\n",
              "          [0., 0., 0., ..., 0., 0., 0.],\n",
              "          [0., 0., 0., ..., 0., 0., 0.]]], dtype=float32),\n",
              "  array([[[0.        , 0.        , 0.        , ..., 0.        ,\n",
              "           0.        , 0.        ],\n",
              "          [0.        , 0.00475752, 0.00644569, ..., 0.        ,\n",
              "           0.        , 0.        ],\n",
              "          [0.        , 0.00122776, 0.00260898, ..., 0.        ,\n",
              "           0.        , 0.        ],\n",
              "          ...,\n",
              "          [0.        , 0.00813383, 0.00905463, ..., 0.00598528,\n",
              "           0.00214857, 0.        ],\n",
              "          [0.        , 0.00598528, 0.00736649, ..., 0.00168817,\n",
              "           0.0004604 , 0.        ],\n",
              "          [0.        , 0.00552488, 0.00644569, ..., 0.0004604 ,\n",
              "           0.        , 0.        ]],\n",
              "  \n",
              "         [[0.        , 0.        , 0.        , ..., 0.        ,\n",
              "           0.        , 0.        ],\n",
              "          [0.        , 0.00475752, 0.00644569, ..., 0.        ,\n",
              "           0.        , 0.        ],\n",
              "          [0.        , 0.00122776, 0.00260898, ..., 0.        ,\n",
              "           0.        , 0.        ],\n",
              "          ...,\n",
              "          [0.        , 0.00813383, 0.00905463, ..., 0.00598528,\n",
              "           0.00214857, 0.        ],\n",
              "          [0.        , 0.00598528, 0.00736649, ..., 0.00168817,\n",
              "           0.0004604 , 0.        ],\n",
              "          [0.        , 0.00552488, 0.00644569, ..., 0.0004604 ,\n",
              "           0.        , 0.        ]],\n",
              "  \n",
              "         [[0.        , 0.        , 0.        , ..., 0.        ,\n",
              "           0.        , 0.        ],\n",
              "          [0.        , 0.00475752, 0.00644569, ..., 0.        ,\n",
              "           0.        , 0.        ],\n",
              "          [0.        , 0.00122776, 0.00260898, ..., 0.        ,\n",
              "           0.        , 0.        ],\n",
              "          ...,\n",
              "          [0.        , 0.00813383, 0.00905463, ..., 0.00598528,\n",
              "           0.00214857, 0.        ],\n",
              "          [0.        , 0.00598528, 0.00736649, ..., 0.00168817,\n",
              "           0.0004604 , 0.        ],\n",
              "          [0.        , 0.00552488, 0.00644569, ..., 0.0004604 ,\n",
              "           0.        , 0.        ]]], dtype=float32),\n",
              "  array([[[0., 0., 0., ..., 0., 0., 0.],\n",
              "          [0., 0., 0., ..., 0., 0., 0.],\n",
              "          [0., 0., 0., ..., 0., 0., 0.],\n",
              "          ...,\n",
              "          [0., 0., 0., ..., 0., 0., 0.],\n",
              "          [0., 0., 0., ..., 0., 0., 0.],\n",
              "          [0., 0., 0., ..., 0., 0., 0.]],\n",
              "  \n",
              "         [[0., 0., 0., ..., 0., 0., 0.],\n",
              "          [0., 0., 0., ..., 0., 0., 0.],\n",
              "          [0., 0., 0., ..., 0., 0., 0.],\n",
              "          ...,\n",
              "          [0., 0., 0., ..., 0., 0., 0.],\n",
              "          [0., 0., 0., ..., 0., 0., 0.],\n",
              "          [0., 0., 0., ..., 0., 0., 0.]],\n",
              "  \n",
              "         [[0., 0., 0., ..., 0., 0., 0.],\n",
              "          [0., 0., 0., ..., 0., 0., 0.],\n",
              "          [0., 0., 0., ..., 0., 0., 0.],\n",
              "          ...,\n",
              "          [0., 0., 0., ..., 0., 0., 0.],\n",
              "          [0., 0., 0., ..., 0., 0., 0.],\n",
              "          [0., 0., 0., ..., 0., 0., 0.]]], dtype=float32),\n",
              "  array([[[0.00295886, 0.00295886, 0.00295886, ..., 0.00295886,\n",
              "           0.00295886, 0.00295886],\n",
              "          [0.        , 0.        , 0.        , ..., 0.        ,\n",
              "           0.        , 0.00295886],\n",
              "          [0.        , 0.        , 0.        , ..., 0.        ,\n",
              "           0.        , 0.00295886],\n",
              "          ...,\n",
              "          [0.        , 0.        , 0.        , ..., 0.        ,\n",
              "           0.        , 0.00295886],\n",
              "          [0.        , 0.        , 0.        , ..., 0.        ,\n",
              "           0.        , 0.00295886],\n",
              "          [0.        , 0.        , 0.        , ..., 0.        ,\n",
              "           0.        , 0.00295886]],\n",
              "  \n",
              "         [[0.00295886, 0.00295886, 0.00295886, ..., 0.00295886,\n",
              "           0.00295886, 0.00295886],\n",
              "          [0.        , 0.        , 0.        , ..., 0.        ,\n",
              "           0.        , 0.00295886],\n",
              "          [0.        , 0.        , 0.        , ..., 0.        ,\n",
              "           0.        , 0.00295886],\n",
              "          ...,\n",
              "          [0.        , 0.        , 0.        , ..., 0.        ,\n",
              "           0.        , 0.00295886],\n",
              "          [0.        , 0.        , 0.        , ..., 0.        ,\n",
              "           0.        , 0.00295886],\n",
              "          [0.        , 0.        , 0.        , ..., 0.        ,\n",
              "           0.        , 0.00295886]],\n",
              "  \n",
              "         [[0.00295886, 0.00295886, 0.00295886, ..., 0.00295886,\n",
              "           0.00295886, 0.00295886],\n",
              "          [0.        , 0.        , 0.        , ..., 0.        ,\n",
              "           0.        , 0.00295886],\n",
              "          [0.        , 0.        , 0.        , ..., 0.        ,\n",
              "           0.        , 0.00295886],\n",
              "          ...,\n",
              "          [0.        , 0.        , 0.        , ..., 0.        ,\n",
              "           0.        , 0.00295886],\n",
              "          [0.        , 0.        , 0.        , ..., 0.        ,\n",
              "           0.        , 0.00295886],\n",
              "          [0.        , 0.        , 0.        , ..., 0.        ,\n",
              "           0.        , 0.00295886]]], dtype=float32),\n",
              "  array([[[0.00366816, 0.00366816, 0.00366816, ..., 0.00366816,\n",
              "           0.00366816, 0.00366816],\n",
              "          [0.005797  , 0.00501097, 0.00412669, ..., 0.00304588,\n",
              "           0.00366816, 0.00366816],\n",
              "          [0.00684506, 0.005797  , 0.00412669, ..., 0.00150657,\n",
              "           0.00320964, 0.00366816],\n",
              "          ...,\n",
              "          [0.00563325, 0.00592801, 0.00638653, ..., 0.00167033,\n",
              "           0.00167033, 0.00366816],\n",
              "          [0.00517473, 0.00563325, 0.00638653, ..., 0.00212884,\n",
              "           0.00242361, 0.00366816],\n",
              "          [0.00746733, 0.00684506, 0.00638653, ..., 0.00275112,\n",
              "           0.00242361, 0.00366816]],\n",
              "  \n",
              "         [[0.00366816, 0.00366816, 0.00366816, ..., 0.00366816,\n",
              "           0.00366816, 0.00366816],\n",
              "          [0.005797  , 0.00501097, 0.00412669, ..., 0.00304588,\n",
              "           0.00366816, 0.00366816],\n",
              "          [0.00684506, 0.005797  , 0.00412669, ..., 0.00150657,\n",
              "           0.00320964, 0.00366816],\n",
              "          ...,\n",
              "          [0.00563325, 0.00592801, 0.00638653, ..., 0.00167033,\n",
              "           0.00167033, 0.00366816],\n",
              "          [0.00517473, 0.00563325, 0.00638653, ..., 0.00212884,\n",
              "           0.00242361, 0.00366816],\n",
              "          [0.00746733, 0.00684506, 0.00638653, ..., 0.00275112,\n",
              "           0.00242361, 0.00366816]],\n",
              "  \n",
              "         [[0.00366816, 0.00366816, 0.00366816, ..., 0.00366816,\n",
              "           0.00366816, 0.00366816],\n",
              "          [0.005797  , 0.00501097, 0.00412669, ..., 0.00304588,\n",
              "           0.00366816, 0.00366816],\n",
              "          [0.00684506, 0.005797  , 0.00412669, ..., 0.00150657,\n",
              "           0.00320964, 0.00366816],\n",
              "          ...,\n",
              "          [0.00563325, 0.00592801, 0.00638653, ..., 0.00167033,\n",
              "           0.00167033, 0.00366816],\n",
              "          [0.00517473, 0.00563325, 0.00638653, ..., 0.00212884,\n",
              "           0.00242361, 0.00366816],\n",
              "          [0.00746733, 0.00684506, 0.00638653, ..., 0.00275112,\n",
              "           0.00242361, 0.00366816]]], dtype=float32),\n",
              "  array([[[0.00273884, 0.0028781 , 0.00343515, ..., 0.00273884,\n",
              "           0.00273884, 0.00273884],\n",
              "          [0.00273884, 0.00273884, 0.0031102 , ..., 0.00273884,\n",
              "           0.00273884, 0.00273884],\n",
              "          [0.00273884, 0.00297094, 0.0028781 , ..., 0.00273884,\n",
              "           0.00273884, 0.00273884],\n",
              "          ...,\n",
              "          [0.00273884, 0.00255316, 0.00334231, ..., 0.00273884,\n",
              "           0.00273884, 0.00273884],\n",
              "          [0.00273884, 0.00297094, 0.00380652, ..., 0.00273884,\n",
              "           0.00273884, 0.00273884],\n",
              "          [0.00273884, 0.00273884, 0.00273884, ..., 0.00273884,\n",
              "           0.00273884, 0.00273884]],\n",
              "  \n",
              "         [[0.00273884, 0.0028781 , 0.00343515, ..., 0.00273884,\n",
              "           0.00273884, 0.00273884],\n",
              "          [0.00273884, 0.00273884, 0.0031102 , ..., 0.00273884,\n",
              "           0.00273884, 0.00273884],\n",
              "          [0.00273884, 0.00297094, 0.0028781 , ..., 0.00273884,\n",
              "           0.00273884, 0.00273884],\n",
              "          ...,\n",
              "          [0.00273884, 0.00255316, 0.00334231, ..., 0.00273884,\n",
              "           0.00273884, 0.00273884],\n",
              "          [0.00273884, 0.00297094, 0.00380652, ..., 0.00273884,\n",
              "           0.00273884, 0.00273884],\n",
              "          [0.00273884, 0.00273884, 0.00273884, ..., 0.00273884,\n",
              "           0.00273884, 0.00273884]],\n",
              "  \n",
              "         [[0.00273884, 0.0028781 , 0.00343515, ..., 0.00273884,\n",
              "           0.00273884, 0.00273884],\n",
              "          [0.00273884, 0.00273884, 0.0031102 , ..., 0.00273884,\n",
              "           0.00273884, 0.00273884],\n",
              "          [0.00273884, 0.00297094, 0.0028781 , ..., 0.00273884,\n",
              "           0.00273884, 0.00273884],\n",
              "          ...,\n",
              "          [0.00273884, 0.00255316, 0.00334231, ..., 0.00273884,\n",
              "           0.00273884, 0.00273884],\n",
              "          [0.00273884, 0.00297094, 0.00380652, ..., 0.00273884,\n",
              "           0.00273884, 0.00273884],\n",
              "          [0.00273884, 0.00273884, 0.00273884, ..., 0.00273884,\n",
              "           0.00273884, 0.00273884]]], dtype=float32)],\n",
              " 'label': [array([[0., 0., 0., ..., 0., 0., 0.],\n",
              "         [0., 0., 0., ..., 0., 0., 0.],\n",
              "         [0., 0., 0., ..., 0., 0., 0.],\n",
              "         ...,\n",
              "         [0., 0., 0., ..., 0., 0., 0.],\n",
              "         [0., 0., 0., ..., 0., 0., 0.],\n",
              "         [0., 0., 0., ..., 0., 0., 0.]], dtype=float32),\n",
              "  array([[0., 0., 0., ..., 0., 0., 0.],\n",
              "         [0., 0., 0., ..., 0., 0., 0.],\n",
              "         [0., 0., 0., ..., 0., 0., 0.],\n",
              "         ...,\n",
              "         [0., 0., 0., ..., 0., 0., 0.],\n",
              "         [0., 0., 0., ..., 0., 0., 0.],\n",
              "         [0., 0., 0., ..., 0., 0., 0.]], dtype=float32),\n",
              "  array([[0., 0., 0., ..., 0., 0., 0.],\n",
              "         [0., 0., 0., ..., 0., 0., 0.],\n",
              "         [0., 0., 0., ..., 0., 0., 0.],\n",
              "         ...,\n",
              "         [0., 0., 0., ..., 0., 0., 0.],\n",
              "         [0., 0., 0., ..., 0., 0., 0.],\n",
              "         [0., 0., 0., ..., 0., 0., 0.]], dtype=float32),\n",
              "  array([[0., 0., 0., ..., 0., 0., 0.],\n",
              "         [0., 0., 0., ..., 0., 0., 0.],\n",
              "         [0., 0., 0., ..., 0., 0., 0.],\n",
              "         ...,\n",
              "         [0., 0., 0., ..., 0., 0., 0.],\n",
              "         [0., 0., 0., ..., 0., 0., 0.],\n",
              "         [0., 0., 0., ..., 0., 0., 0.]], dtype=float32),\n",
              "  array([[0., 0., 0., ..., 0., 0., 0.],\n",
              "         [0., 0., 0., ..., 0., 0., 0.],\n",
              "         [0., 0., 0., ..., 0., 0., 0.],\n",
              "         ...,\n",
              "         [0., 0., 0., ..., 0., 0., 0.],\n",
              "         [0., 0., 0., ..., 0., 0., 0.],\n",
              "         [0., 0., 0., ..., 0., 0., 0.]], dtype=float32),\n",
              "  array([[0., 0., 0., ..., 0., 0., 0.],\n",
              "         [0., 0., 0., ..., 0., 0., 0.],\n",
              "         [0., 0., 0., ..., 0., 0., 0.],\n",
              "         ...,\n",
              "         [0., 0., 0., ..., 0., 0., 0.],\n",
              "         [0., 0., 0., ..., 0., 0., 0.],\n",
              "         [0., 0., 0., ..., 0., 0., 0.]], dtype=float32),\n",
              "  array([[0., 0., 0., ..., 0., 0., 0.],\n",
              "         [0., 0., 0., ..., 0., 0., 0.],\n",
              "         [0., 0., 0., ..., 0., 0., 0.],\n",
              "         ...,\n",
              "         [0., 0., 0., ..., 0., 0., 0.],\n",
              "         [0., 0., 0., ..., 0., 0., 0.],\n",
              "         [0., 0., 0., ..., 0., 0., 0.]], dtype=float32),\n",
              "  array([[0., 0., 0., ..., 0., 0., 0.],\n",
              "         [0., 0., 0., ..., 0., 0., 0.],\n",
              "         [0., 0., 0., ..., 0., 0., 0.],\n",
              "         ...,\n",
              "         [0., 0., 0., ..., 0., 0., 0.],\n",
              "         [0., 0., 0., ..., 0., 0., 0.],\n",
              "         [0., 0., 0., ..., 0., 0., 0.]], dtype=float32),\n",
              "  array([[0., 0., 0., ..., 0., 0., 0.],\n",
              "         [0., 0., 0., ..., 0., 0., 0.],\n",
              "         [0., 0., 0., ..., 0., 0., 0.],\n",
              "         ...,\n",
              "         [0., 0., 0., ..., 0., 0., 0.],\n",
              "         [0., 0., 0., ..., 0., 0., 0.],\n",
              "         [0., 0., 0., ..., 0., 0., 0.]], dtype=float32),\n",
              "  array([[0., 0., 0., ..., 0., 0., 0.],\n",
              "         [0., 0., 0., ..., 0., 0., 0.],\n",
              "         [0., 0., 0., ..., 0., 0., 0.],\n",
              "         ...,\n",
              "         [0., 0., 0., ..., 0., 0., 0.],\n",
              "         [0., 0., 0., ..., 0., 0., 0.],\n",
              "         [0., 0., 0., ..., 0., 0., 0.]], dtype=float32),\n",
              "  array([[0., 0., 0., ..., 0., 0., 0.],\n",
              "         [0., 0., 0., ..., 0., 0., 0.],\n",
              "         [0., 0., 0., ..., 0., 0., 0.],\n",
              "         ...,\n",
              "         [0., 0., 0., ..., 0., 0., 0.],\n",
              "         [0., 0., 0., ..., 0., 0., 0.],\n",
              "         [0., 0., 0., ..., 0., 0., 0.]], dtype=float32),\n",
              "  array([[0., 0., 0., ..., 0., 0., 0.],\n",
              "         [0., 0., 0., ..., 0., 0., 0.],\n",
              "         [0., 0., 0., ..., 0., 0., 0.],\n",
              "         ...,\n",
              "         [0., 0., 0., ..., 0., 0., 0.],\n",
              "         [0., 0., 0., ..., 0., 0., 0.],\n",
              "         [0., 0., 0., ..., 0., 0., 0.]], dtype=float32),\n",
              "  array([[0., 0., 0., ..., 0., 0., 0.],\n",
              "         [0., 0., 0., ..., 0., 0., 0.],\n",
              "         [0., 0., 0., ..., 0., 0., 0.],\n",
              "         ...,\n",
              "         [0., 0., 0., ..., 0., 0., 0.],\n",
              "         [0., 0., 0., ..., 0., 0., 0.],\n",
              "         [0., 0., 0., ..., 0., 0., 0.]], dtype=float32),\n",
              "  array([[0., 0., 0., ..., 0., 0., 0.],\n",
              "         [0., 0., 0., ..., 0., 0., 0.],\n",
              "         [0., 0., 0., ..., 0., 0., 0.],\n",
              "         ...,\n",
              "         [0., 0., 0., ..., 0., 0., 0.],\n",
              "         [0., 0., 0., ..., 0., 0., 0.],\n",
              "         [0., 0., 0., ..., 0., 0., 0.]], dtype=float32),\n",
              "  array([[0., 0., 0., ..., 0., 0., 0.],\n",
              "         [0., 0., 0., ..., 0., 0., 0.],\n",
              "         [0., 0., 0., ..., 0., 0., 0.],\n",
              "         ...,\n",
              "         [0., 0., 0., ..., 0., 0., 0.],\n",
              "         [0., 0., 0., ..., 0., 0., 0.],\n",
              "         [0., 0., 0., ..., 0., 0., 0.]], dtype=float32)]}"
            ]
          },
          "execution_count": 81,
          "metadata": {},
          "output_type": "execute_result"
        }
      ],
      "source": [
        "d_dict = img_label_dict(tr_stacked_img_paths,tr_labels_paths)\n",
        "d_dict"
      ]
    },
    {
      "cell_type": "markdown",
      "metadata": {
        "id": "eMCnN2EZ9o1n"
      },
      "source": [
        "convert_nifti_to_image(tr_stacked_img_paths, tr_t2_img_paths,tr_dct_img_paths, tr_labels_paths, ts_stacked_img_paths,ts_t2_img_paths, ts_dct_img_paths, ts_labels_paths):"
      ]
    },
    {
      "cell_type": "code",
      "execution_count": null,
      "metadata": {
        "id": "mmESqBJ93pDh"
      },
      "outputs": [],
      "source": [
        "def convert_nifti_to_image(tr_stacked_img_paths, tr_labels_paths, ts_stacked_img_paths, ts_labels_paths):\n",
        "  train = {}\n",
        "  test = {}\n",
        "  img = {}\n",
        "  labels = {}\n",
        "  image_type = {}\n",
        "  data_dict = {'train': [], 'test': []}\n",
        "  \n",
        "  train_test_list= []\n",
        "\n",
        "  # Load NIfTI images using SimpleITK\n",
        "  # stacked_tr_img = sitk.ReadImage(tr_stacked_img_paths)\n",
        "  # t2_tr_img = sitk.ReadImage(tr_t2_img_paths)\n",
        "  # dct_tr_img = sitk.ReadImage(tr_dct_img_paths)\n",
        "  # tr_labels = sitk.ReadImage(tr_labels_paths)\n",
        "\n",
        "  # stacked_ts_img = sitk.ReadImage(ts_stacked_img_paths)\n",
        "  # t2_ts_img = sitk.ReadImage(ts_t2_img_paths)\n",
        "  # dct_ts_img = sitk.ReadImage(ts_dct_img_paths)\n",
        "  # ts_labels = sitk.ReadImage(ts_labels_paths)\n",
        "\n",
        "  stacked_train = img_label_dict(tr_stacked_img_paths,tr_labels_paths)\n",
        "  stacked_test = img_label_dict(ts_stacked_img_paths,ts_labels_paths)\n",
        "\n",
        "  # data_dict = {'train': stacked_train , 'test': stacked_test}\n",
        "\n",
        "  return data_dict\n",
        "  "
      ]
    },
    {
      "cell_type": "code",
      "execution_count": null,
      "metadata": {
        "colab": {
          "base_uri": "https://localhost:8080/",
          "height": 346
        },
        "id": "pXhjgK_R9FXp",
        "outputId": "d05c0ce2-a39d-4f28-ce48-e7cd58debb52"
      },
      "outputs": [
        {
          "ename": "RuntimeError",
          "evalue": "ignored",
          "output_type": "error",
          "traceback": [
            "\u001b[0;31m---------------------------------------------------------------------------\u001b[0m",
            "\u001b[0;31mRuntimeError\u001b[0m                              Traceback (most recent call last)",
            "\u001b[0;32m<ipython-input-60-8c329f3887f0>\u001b[0m in \u001b[0;36m<cell line: 1>\u001b[0;34m()\u001b[0m\n\u001b[0;32m----> 1\u001b[0;31m \u001b[0mdata_dict\u001b[0m \u001b[0;34m=\u001b[0m \u001b[0mconvert_nifti_to_image\u001b[0m\u001b[0;34m(\u001b[0m\u001b[0mtr_stacked_img_paths\u001b[0m\u001b[0;34m,\u001b[0m \u001b[0mtr_labels_paths\u001b[0m\u001b[0;34m,\u001b[0m \u001b[0mts_stacked_img_paths\u001b[0m\u001b[0;34m,\u001b[0m \u001b[0mts_labels_paths\u001b[0m\u001b[0;34m)\u001b[0m\u001b[0;34m\u001b[0m\u001b[0;34m\u001b[0m\u001b[0m\n\u001b[0m",
            "\u001b[0;32m<ipython-input-59-84ad11446991>\u001b[0m in \u001b[0;36mconvert_nifti_to_image\u001b[0;34m(tr_stacked_img_paths, tr_labels_paths, ts_stacked_img_paths, ts_labels_paths)\u001b[0m\n\u001b[1;32m     20\u001b[0m   \u001b[0;31m# ts_labels = sitk.ReadImage(ts_labels_paths)\u001b[0m\u001b[0;34m\u001b[0m\u001b[0;34m\u001b[0m\u001b[0m\n\u001b[1;32m     21\u001b[0m \u001b[0;34m\u001b[0m\u001b[0m\n\u001b[0;32m---> 22\u001b[0;31m   \u001b[0mstacked_train\u001b[0m \u001b[0;34m=\u001b[0m \u001b[0mimg_label_dict\u001b[0m\u001b[0;34m(\u001b[0m\u001b[0mtr_stacked_img_paths\u001b[0m\u001b[0;34m,\u001b[0m\u001b[0mtr_labels_paths\u001b[0m\u001b[0;34m)\u001b[0m\u001b[0;34m\u001b[0m\u001b[0;34m\u001b[0m\u001b[0m\n\u001b[0m\u001b[1;32m     23\u001b[0m   \u001b[0mstacked_test\u001b[0m \u001b[0;34m=\u001b[0m \u001b[0mimg_label_dict\u001b[0m\u001b[0;34m(\u001b[0m\u001b[0mts_stacked_img_paths\u001b[0m\u001b[0;34m,\u001b[0m\u001b[0mts_labels_paths\u001b[0m\u001b[0;34m)\u001b[0m\u001b[0;34m\u001b[0m\u001b[0;34m\u001b[0m\u001b[0m\n\u001b[1;32m     24\u001b[0m \u001b[0;34m\u001b[0m\u001b[0m\n",
            "\u001b[0;32m<ipython-input-56-35fe35484493>\u001b[0m in \u001b[0;36mimg_label_dict\u001b[0;34m(images, labels)\u001b[0m\n\u001b[1;32m      3\u001b[0m   \u001b[0mdata_dict\u001b[0m \u001b[0;34m=\u001b[0m \u001b[0;34m{\u001b[0m\u001b[0;34m'pixel_values'\u001b[0m\u001b[0;34m:\u001b[0m \u001b[0;34m[\u001b[0m\u001b[0;34m]\u001b[0m\u001b[0;34m,\u001b[0m \u001b[0;34m'label'\u001b[0m\u001b[0;34m:\u001b[0m \u001b[0;34m[\u001b[0m\u001b[0;34m]\u001b[0m\u001b[0;34m}\u001b[0m\u001b[0;34m\u001b[0m\u001b[0;34m\u001b[0m\u001b[0m\n\u001b[1;32m      4\u001b[0m   \u001b[0;32mfor\u001b[0m \u001b[0mimg\u001b[0m\u001b[0;34m,\u001b[0m\u001b[0mlbl\u001b[0m \u001b[0;32min\u001b[0m \u001b[0mzip\u001b[0m\u001b[0;34m(\u001b[0m\u001b[0mimages\u001b[0m\u001b[0;34m,\u001b[0m\u001b[0mlabels\u001b[0m\u001b[0;34m)\u001b[0m\u001b[0;34m:\u001b[0m\u001b[0;34m\u001b[0m\u001b[0;34m\u001b[0m\u001b[0m\n\u001b[0;32m----> 5\u001b[0;31m       \u001b[0mstacked_tr_img\u001b[0m \u001b[0;34m=\u001b[0m \u001b[0msitk\u001b[0m\u001b[0;34m.\u001b[0m\u001b[0mReadImage\u001b[0m\u001b[0;34m(\u001b[0m\u001b[0mimages\u001b[0m\u001b[0;34m)\u001b[0m\u001b[0;34m\u001b[0m\u001b[0;34m\u001b[0m\u001b[0m\n\u001b[0m\u001b[1;32m      6\u001b[0m       \u001b[0mtr_labels\u001b[0m \u001b[0;34m=\u001b[0m \u001b[0msitk\u001b[0m\u001b[0;34m.\u001b[0m\u001b[0mReadImage\u001b[0m\u001b[0;34m(\u001b[0m\u001b[0mlabels\u001b[0m\u001b[0;34m)\u001b[0m\u001b[0;34m\u001b[0m\u001b[0;34m\u001b[0m\u001b[0m\n\u001b[1;32m      7\u001b[0m      \u001b[0;31m# Convert to numpy arrays\u001b[0m\u001b[0;34m\u001b[0m\u001b[0;34m\u001b[0m\u001b[0m\n",
            "\u001b[0;32m/usr/local/lib/python3.9/dist-packages/SimpleITK/extra.py\u001b[0m in \u001b[0;36mReadImage\u001b[0;34m(fileName, outputPixelType, imageIO)\u001b[0m\n\u001b[1;32m    353\u001b[0m     \u001b[0mreader\u001b[0m\u001b[0;34m.\u001b[0m\u001b[0mSetImageIO\u001b[0m\u001b[0;34m(\u001b[0m\u001b[0mimageIO\u001b[0m\u001b[0;34m)\u001b[0m\u001b[0;34m\u001b[0m\u001b[0;34m\u001b[0m\u001b[0m\n\u001b[1;32m    354\u001b[0m     \u001b[0mreader\u001b[0m\u001b[0;34m.\u001b[0m\u001b[0mSetOutputPixelType\u001b[0m\u001b[0;34m(\u001b[0m\u001b[0moutputPixelType\u001b[0m\u001b[0;34m)\u001b[0m\u001b[0;34m\u001b[0m\u001b[0;34m\u001b[0m\u001b[0m\n\u001b[0;32m--> 355\u001b[0;31m     \u001b[0;32mreturn\u001b[0m \u001b[0mreader\u001b[0m\u001b[0;34m.\u001b[0m\u001b[0mExecute\u001b[0m\u001b[0;34m(\u001b[0m\u001b[0;34m)\u001b[0m\u001b[0;34m\u001b[0m\u001b[0;34m\u001b[0m\u001b[0m\n\u001b[0m\u001b[1;32m    356\u001b[0m \u001b[0;34m\u001b[0m\u001b[0m\n\u001b[1;32m    357\u001b[0m \u001b[0;34m\u001b[0m\u001b[0m\n",
            "\u001b[0;32m/usr/local/lib/python3.9/dist-packages/SimpleITK/SimpleITK.py\u001b[0m in \u001b[0;36mExecute\u001b[0;34m(self)\u001b[0m\n\u001b[1;32m   8274\u001b[0m \u001b[0;34m\u001b[0m\u001b[0m\n\u001b[1;32m   8275\u001b[0m         \"\"\"\n\u001b[0;32m-> 8276\u001b[0;31m         \u001b[0;32mreturn\u001b[0m \u001b[0m_SimpleITK\u001b[0m\u001b[0;34m.\u001b[0m\u001b[0mImageSeriesReader_Execute\u001b[0m\u001b[0;34m(\u001b[0m\u001b[0mself\u001b[0m\u001b[0;34m)\u001b[0m\u001b[0;34m\u001b[0m\u001b[0;34m\u001b[0m\u001b[0m\n\u001b[0m\u001b[1;32m   8277\u001b[0m \u001b[0;34m\u001b[0m\u001b[0m\n\u001b[1;32m   8278\u001b[0m     \u001b[0;32mdef\u001b[0m \u001b[0mGetMetaDataKeys\u001b[0m\u001b[0;34m(\u001b[0m\u001b[0mself\u001b[0m\u001b[0;34m,\u001b[0m \u001b[0mslice\u001b[0m\u001b[0;34m)\u001b[0m\u001b[0;34m:\u001b[0m\u001b[0;34m\u001b[0m\u001b[0;34m\u001b[0m\u001b[0m\n",
            "\u001b[0;31mRuntimeError\u001b[0m: Exception thrown in SimpleITK ImageSeriesReader_Execute: /tmp/SimpleITK-build/ITK/Modules/Core/Common/src/itkDataObject.cxx:367:\nRequested region is (at least partially) outside the largest possible region."
          ]
        }
      ],
      "source": [
        "data_dict = convert_nifti_to_image(tr_stacked_img_paths, tr_labels_paths, ts_stacked_img_paths, ts_labels_paths)"
      ]
    },
    {
      "cell_type": "code",
      "execution_count": 239,
      "metadata": {
        "id": "DneO2ZApv4vv"
      },
      "outputs": [],
      "source": [
        "img_path = \"/content/drive/MyDrive/Colab Notebooks/datasets/GoldA_ZSliceSelection/Stacked/test/P1_03_Z38.nii\"\n",
        "mask_path = \"/content/drive/MyDrive/Colab Notebooks/datasets/GoldA_ZSliceSelection/labels/test/1_03_Z38.nii\""
      ]
    },
    {
      "cell_type": "code",
      "execution_count": 240,
      "metadata": {
        "id": "lUsLmgCevp_K"
      },
      "outputs": [],
      "source": [
        " # Load NIfTI images using SimpleITK\n",
        "img = sitk.ReadImage(img_path)\n",
        "mask = sitk.ReadImage(mask_path)"
      ]
    },
    {
      "cell_type": "code",
      "execution_count": 241,
      "metadata": {
        "colab": {
          "base_uri": "https://localhost:8080/"
        },
        "id": "-GTFGkxwwBfr",
        "outputId": "31e7585e-db4f-47de-e030-e311dd0d8279"
      },
      "outputs": [
        {
          "output_type": "execute_result",
          "data": {
            "text/plain": [
              "<SimpleITK.SimpleITK.Image; proxy of <Swig Object of type 'std::vector< itk::simple::Image >::value_type *' at 0x7f8943c5b090> >"
            ]
          },
          "metadata": {},
          "execution_count": 241
        }
      ],
      "source": [
        "img"
      ]
    },
    {
      "cell_type": "code",
      "execution_count": 242,
      "metadata": {
        "id": "Otr8cX8Nxqc4"
      },
      "outputs": [],
      "source": [
        "# Convert to numpy arrays\n",
        "img_arr = sitk.GetArrayFromImage(img).astype(np.float32)\n",
        "mask_arr = sitk.GetArrayFromImage(mask).astype(np.float32)"
      ]
    },
    {
      "cell_type": "markdown",
      "source": [],
      "metadata": {
        "id": "5rJAB1P3qB0K"
      }
    },
    {
      "cell_type": "code",
      "execution_count": null,
      "metadata": {
        "id": "SZLSh1oqyIsv"
      },
      "outputs": [],
      "source": [
        "# Normalize the image to [0, 1]\n",
        "img_arr_norm = (img_arr- img_arr.min()) / (img_arr.max() - img_arr.min())\n",
        "\n",
        "        # img_arr /= img_arr.max()"
      ]
    },
    {
      "cell_type": "code",
      "execution_count": null,
      "metadata": {
        "id": "z-7XqZp8x4Fo"
      },
      "outputs": [],
      "source": [
        "image= np.stack([img_arr_norm ] * 3, axis=-1).transpose((2,1,0))\n"
      ]
    },
    {
      "cell_type": "code",
      "execution_count": null,
      "metadata": {
        "colab": {
          "base_uri": "https://localhost:8080/",
          "height": 202,
          "referenced_widgets": [
            "f5911f23fd0d483ead05b6b311e272dd",
            "0c7b9430a40a4ff39e579d22a78ef1a4",
            "1e6db060ec79440aa20781bbf1560ddc",
            "bd987335c128424dbac230965f027fba",
            "f16c1cdf19b24acb87aebdaea422edc1",
            "c32ce5766f2247df853625417091d7aa",
            "5656c2386ce34e71a7509868893d7609",
            "dc8a187ab12f45dc862f9c73269f85ff",
            "46fad1cd45cd4b0d9635d54df43aee3d",
            "3b3671b922134d799d9bad8437c8b71a",
            "6d3893d3a82440a0aaa99d7b2edb5dfe",
            "b3d00b4fdfa940329936cbc04d30e57e",
            "6e75587c6c794eda9e327a08705012f4",
            "b83b4eeaa0a240b5964397f88fec0cc7",
            "1d18cd69f9f44185bb29c4d785e1538c",
            "d856866b2e1a468e9134d39c53203b23",
            "7b8691595b974e74b0dc533bc169eee5",
            "766643e114284e5db7555fdf9fdaf214",
            "68922e9a5ef742e5a5ebf013a4dc343d",
            "2f7a56fd99114d1dbcb956eccc60cfe0",
            "a52f5729466942979b38694065a07d3e",
            "4a8e56dc1bf34c1eb8268582b43391e5",
            "b966a4144c3b4d51b9a651a23436a06a",
            "26a1da1d7d30477ebae2b4f3bb66a54d",
            "fcbcdfe691c54f9c93fd78c1ca9063af",
            "a53cb32ab3d74c39a4e55a1dc53d7f1f",
            "a6edc04d287e42f9aefe3f520086d478",
            "8f0c15b83e3b4fe2913b5d24bf3e1d16",
            "e0d362261286468faea7bad437d0f5ef",
            "5ff62f1e9e884b61bf3ed48ce19f084a",
            "13a7001201154054a404adf21cf03233",
            "fd300b6580a64553a1b0a5cc8e0936cd",
            "eda9827554d54bdeb6493405a6f9ab66"
          ]
        },
        "id": "eRSCvm5Kw_D7",
        "outputId": "69bdb24e-d94c-4d2c-ca78-2c63b32f071a"
      },
      "outputs": [
        {
          "data": {
            "application/vnd.jupyter.widget-view+json": {
              "model_id": "f5911f23fd0d483ead05b6b311e272dd",
              "version_major": 2,
              "version_minor": 0
            },
            "text/plain": [
              "Downloading (…)rocessor_config.json:   0%|          | 0.00/271 [00:00<?, ?B/s]"
            ]
          },
          "metadata": {},
          "output_type": "display_data"
        },
        {
          "name": "stderr",
          "output_type": "stream",
          "text": [
            "/usr/local/lib/python3.9/dist-packages/transformers/models/segformer/feature_extraction_segformer.py:28: FutureWarning: The class SegformerFeatureExtractor is deprecated and will be removed in version 5 of Transformers. Please use SegformerImageProcessor instead.\n",
            "  warnings.warn(\n",
            "/usr/local/lib/python3.9/dist-packages/transformers/models/segformer/image_processing_segformer.py:99: FutureWarning: The `reduce_labels` parameter is deprecated and will be removed in a future version. Please use `do_reduce_labels` instead.\n",
            "  warnings.warn(\n"
          ]
        },
        {
          "data": {
            "application/vnd.jupyter.widget-view+json": {
              "model_id": "b3d00b4fdfa940329936cbc04d30e57e",
              "version_major": 2,
              "version_minor": 0
            },
            "text/plain": [
              "Downloading (…)lve/main/config.json:   0%|          | 0.00/6.88k [00:00<?, ?B/s]"
            ]
          },
          "metadata": {},
          "output_type": "display_data"
        },
        {
          "data": {
            "application/vnd.jupyter.widget-view+json": {
              "model_id": "b966a4144c3b4d51b9a651a23436a06a",
              "version_major": 2,
              "version_minor": 0
            },
            "text/plain": [
              "Downloading pytorch_model.bin:   0%|          | 0.00/15.1M [00:00<?, ?B/s]"
            ]
          },
          "metadata": {},
          "output_type": "display_data"
        }
      ],
      "source": [
        "from transformers import SegformerFeatureExtractor, SegformerForSemanticSegmentation\n",
        "\n",
        "feature_extractor = SegformerFeatureExtractor.from_pretrained(\"nvidia/segformer-b0-finetuned-ade-512-512\")\n",
        "model = SegformerForSemanticSegmentation.from_pretrained(f\"nvidia/segformer-b0-finetuned-ade-512-512\")"
      ]
    },
    {
      "cell_type": "code",
      "execution_count": null,
      "metadata": {
        "id": "UDwpWieHxMsZ"
      },
      "outputs": [],
      "source": [
        "from torch import nn\n",
        "\n",
        "inputs = feature_extractor(images=image, return_tensors=\"pt\")\n",
        "outputs = model(**inputs)\n",
        "logits = outputs.logits  # shape (batch_size, num_labels, height/4, width/4)\n",
        "\n",
        "# First, rescale logits to original image size\n",
        "upsampled_logits = nn.functional.interpolate(\n",
        "    logits,\n",
        "    size=(512,512), # (height, width)\n",
        "    mode='bilinear',\n",
        "    align_corners=False\n",
        ")\n",
        "\n",
        "# Second, apply argmax on the class dimension\n",
        "seg = upsampled_logits.argmax(dim=1)[0]"
      ]
    },
    {
      "cell_type": "code",
      "execution_count": null,
      "metadata": {
        "id": "GzLGRKWmzNrZ"
      },
      "outputs": [],
      "source": []
    },
    {
      "cell_type": "code",
      "execution_count": null,
      "metadata": {
        "colab": {
          "base_uri": "https://localhost:8080/",
          "height": 52
        },
        "id": "iqDXT87oynwD",
        "outputId": "5fc95a07-42db-4024-fc99-da720bfab1a4"
      },
      "outputs": [
        {
          "data": {
            "text/plain": [
              "<Figure size 1500x1000 with 0 Axes>"
            ]
          },
          "execution_count": 83,
          "metadata": {},
          "output_type": "execute_result"
        },
        {
          "data": {
            "text/plain": [
              "<Figure size 1500x1000 with 0 Axes>"
            ]
          },
          "metadata": {},
          "output_type": "display_data"
        }
      ],
      "source": [
        "color_seg = np.zeros((seg.shape[0], seg.shape[1], 3), dtype=np.uint8) # height, width, 3\n",
        "palette = np.array(ade_palette())\n",
        "\n",
        "for label, color in enumerate(palette):\n",
        "    color_seg[seg == label, :] = color\n",
        "# Convert to BGR\n",
        "color_seg = color_seg[..., ::-1]\n",
        "\n",
        "# Show image + mask\n",
        "# img = np.array(image) * 0.5 + color_seg * 0.5\n",
        "img = img_arr_norm.astype(np.uint8)\n",
        "\n",
        "plt.figure(figsize=(15, 10))\n",
        "# plt.imshow(img)\n",
        "# plt.show()"
      ]
    },
    {
      "cell_type": "markdown",
      "source": [
        "# Data preprocessing"
      ],
      "metadata": {
        "id": "U2CG3zZd-TKW"
      }
    },
    {
      "cell_type": "code",
      "execution_count": null,
      "metadata": {
        "id": "qXulODCOUXHo"
      },
      "outputs": [],
      "source": [
        "## directory paths for all datasets\n",
        "##train\n",
        "tr_stacked_img_dir=folder_path + '/Stacked/train'\n",
        "tr_t2_img_dir=folder_path + '/T2/train'\n",
        "tr_dct_img_dir=folder_path + '/dCT/train'\n",
        "tr_labels_dir=folder_path +'/labels/train'\n",
        "\n",
        "##test\n",
        "ts_stacked_img_dir=folder_path + '/Stacked/test'\n",
        "ts_t2_img_dir=folder_path + '/T2/test'\n",
        "ts_dct_img_dir=folder_path + '/dCT/test'\n",
        "ts_labels_dir=folder_path +'/labels/test'"
      ]
    },
    {
      "cell_type": "code",
      "execution_count": null,
      "metadata": {
        "id": "oLtr9yzOc2q9"
      },
      "outputs": [],
      "source": [
        "tr_stacked_img_paths = sorted([os.path.join(tr_stacked_img_dir, x) for x in os.listdir(tr_stacked_img_dir)])\n",
        "tr_t2_img_paths = sorted([os.path.join(tr_t2_img_dir, x) for x in os.listdir(tr_t2_img_dir)])\n",
        "tr_dct_img_paths = sorted([os.path.join(tr_dct_img_dir, x) for x in os.listdir(tr_dct_img_dir)])\n",
        "tr_labels_paths = sorted([os.path.join(tr_labels_dir, x) for x in os.listdir(tr_labels_dir)])\n",
        "\n",
        "ts_stacked_img_paths = sorted([os.path.join(ts_stacked_img_dir, x) for x in os.listdir(ts_stacked_img_dir)])\n",
        "ts_t2_img_paths = sorted([os.path.join(ts_t2_img_dir, x) for x in os.listdir(ts_t2_img_dir)])\n",
        "ts_dct_img_paths = sorted([os.path.join(ts_dct_img_dir, x) for x in os.listdir(ts_dct_img_dir)])\n",
        "ts_labels_paths = sorted([os.path.join(ts_labels_dir, x) for x in os.listdir(ts_labels_dir)])"
      ]
    },
    {
      "cell_type": "code",
      "execution_count": null,
      "metadata": {
        "id": "IA3hLXHhLO3l"
      },
      "outputs": [],
      "source": [
        "def preprocess_data(img_paths, mask_paths): \n",
        "  img_list = []\n",
        "  lbl_list = []\n",
        "  tensor_list = []\n",
        "\n",
        "  # data = {\"pixel_values\": [], \"labels\": []} \n",
        "\n",
        "  for i_img,i_mask in zip(img_paths,mask_paths):\n",
        "    Reading_Img_NII = nib.load(i_img)\n",
        "    Reading_Label_NII = nib.load(i_mask)\n",
        "\n",
        "    img_arr = Reading_Img_NII.get_fdata()\n",
        "    mask_arr = Reading_Label_NII.get_fdata()\n",
        "\n",
        "      # Define the new size for the resized image\n",
        "    new_size = (512, 512)\n",
        "    \n",
        "      # Resize the image using the resize() function from skimage\n",
        "    img_resized = resize(img_arr, new_size, anti_aliasing=True)\n",
        "    mask_resized = resize(mask_arr, new_size, anti_aliasing=True)\n",
        "\n",
        "    # img_arr_norm = (img_resized - img_resized.min()) / (img_resized.max() - img_resized.min())\n",
        "    img_arr_norm= np.stack([img_arr_norm ] * 3, axis=-1).transpose((2,1,0))\n",
        "\n",
        "    # Convert to PyTorch tensors\n",
        "    img_tensor = torch.from_numpy(img_arr_norm) \n",
        "    mask_tensor = torch.from_numpy(mask_resized) \n",
        "\n",
        "    \n",
        "    img_list.append(img_tensor) #(3,512,512)\n",
        "    lbl_list.append(mask_tensor.long()) #(512,512)\n",
        "\n",
        "  data_dict= {\"pixel_values\": img_list, \"labels\": lbl_list} \n",
        "  return  data_dict"
      ]
    },
    {
      "cell_type": "code",
      "execution_count": 423,
      "metadata": {
        "id": "LPvrPrT-T8wB"
      },
      "outputs": [],
      "source": [
        "stacked_train = preprocess_data(tr_stacked_img_paths, tr_labels_paths)\n",
        "t2_train = preprocess_data(tr_t2_img_paths, tr_labels_paths)\n",
        "dct_train = preprocess_data(tr_dct_img_paths, tr_labels_paths)\n",
        "\n",
        "stacked_test = preprocess_data(ts_stacked_img_paths, ts_labels_paths)\n",
        "t2_test = preprocess_data(ts_t2_img_paths, ts_labels_paths)\n",
        "dct_test = preprocess_data(ts_dct_img_paths, ts_labels_paths)"
      ]
    },
    {
      "cell_type": "code",
      "execution_count": 424,
      "metadata": {
        "colab": {
          "base_uri": "https://localhost:8080/"
        },
        "id": "PR6hwkZIYTnq",
        "outputId": "fb555d57-8502-4e57-d1c6-3635aad6e037"
      },
      "outputs": [
        {
          "output_type": "execute_result",
          "data": {
            "text/plain": [
              "Dataset({\n",
              "    features: ['pixel_values', 'labels'],\n",
              "    num_rows: 4\n",
              "})"
            ]
          },
          "metadata": {},
          "execution_count": 424
        }
      ],
      "source": [
        "stacked_train_dataset = Dataset.from_dict(stacked_train)\n",
        "t2_train_dataset = Dataset.from_dict(t2_train)\n",
        "dct_train_dataset = Dataset.from_dict(dct_train)\n",
        "\n",
        "stacked_test_dataset = Dataset.from_dict(stacked_test)\n",
        "t2_test_dataset = Dataset.from_dict(t2_test)\n",
        "dct_test_dataset = Dataset.from_dict(dct_test)\n",
        "stacked_test_dataset"
      ]
    },
    {
      "cell_type": "code",
      "source": [
        "stacked_train_dataset"
      ],
      "metadata": {
        "colab": {
          "base_uri": "https://localhost:8080/"
        },
        "id": "E2zdhPXLO1kT",
        "outputId": "961fb3e6-6d89-48f3-89bf-a24dd4a030eb"
      },
      "execution_count": 425,
      "outputs": [
        {
          "output_type": "execute_result",
          "data": {
            "text/plain": [
              "Dataset({\n",
              "    features: ['pixel_values', 'labels'],\n",
              "    num_rows: 15\n",
              "})"
            ]
          },
          "metadata": {},
          "execution_count": 425
        }
      ]
    },
    {
      "cell_type": "markdown",
      "source": [
        "## Data Augementation (WIP)"
      ],
      "metadata": {
        "id": "pNPdEMti-nGT"
      }
    },
    {
      "cell_type": "code",
      "source": [
        " from deepneuro.augmentation.augment import Flip_Rotate_2D"
      ],
      "metadata": {
        "id": "xg5eJdYhAOdT"
      },
      "execution_count": 336,
      "outputs": []
    },
    {
      "cell_type": "code",
      "source": [
        "def aug_data(img_paths, mask_paths ):\n",
        "  img_list = []\n",
        "  lbl_list = []\n",
        "  tensor_list = []\n",
        "  augment_img_data = []\n",
        "  augment_label_data = []\n",
        "  # Define the augmentation object\n",
        "  augmentor = Flip_Rotate_2D(\n",
        "        flip=True,\n",
        "        rotation=True,\n",
        "        shear=False,\n",
        "        scale=False,\n",
        "        elastic=False\n",
        "    )\n",
        "\n",
        "  # data = {\"pixel_values\": [], \"labels\": []} \n",
        "\n",
        "  for i_img,i_mask in zip(img_paths,mask_paths):\n",
        "    Reading_Img_NII = nib.load(i_img)\n",
        "    Reading_Label_NII = nib.load(i_mask)\n",
        "\n",
        "    img_arr = Reading_Img_NII.get_fdata()\n",
        "    mask_arr = Reading_Label_NII.get_fdata()\n",
        "\n",
        "    # Define the new size for the resized image\n",
        "    new_size = (512, 512)\n",
        "    \n",
        "    # Resize the image using the resize() function from skimage\n",
        "    img_resized = resize(img_arr, new_size, anti_aliasing=True)\n",
        "    mask_resized = resize(mask_arr, new_size, anti_aliasing=True)\n",
        "    \n",
        "    img_arr_norm = (img_resized - img_resized.min()) / (img_resized.max() - img_resized.min())\n",
        "    img_arr_norm= np.stack([img_arr_norm ] * 3, axis=-1).transpose((2,1,0))\n",
        "\n",
        "    augment_img_data.append(img_arr_norm )\n",
        "    augment_label_data.append(mask_resized)\n",
        "\n",
        "    img_tensor = torch.from_numpy(img_arr_norm)\n",
        "    mask_tensor = torch.from_numpy(mask_resized)\n",
        "\n",
        "    img_list.append(img_tensor) #(3,512,512)\n",
        "    lbl_list.append(mask_tensor.long()) #(512,512)      \n",
        "\n",
        "    ##Data augmentation\n",
        "    # flip_augmentation = Flip_Rotate_2D(flip=True, \n",
        "    #                                rotate=True, \n",
        "    #                                data_groups=[img_arr_norm, mask_resized], \n",
        "    #                                flip_axis=2)\n",
        "\n",
        "  # Augment the image ndarray\n",
        "    # for i in range(10):\n",
        "    # img_arr = img_arr_norm\n",
        "    # lbl_arr = mask_resized\n",
        "\n",
        "    # img_tensor1 = torch.tensor(augmentor.augment(img_arr_norm))\n",
        "    img_list.append(torch.tensor(augmentor.augment(img_arr_norm)))\n",
        "\n",
        "    # label_aug = augmentor.augment(mask_resized)\n",
        "    # mask_tensor = torch.tensor(label_aug) \n",
        "    # lbl_list.append(mask_tensor.long())\n",
        "\n",
        "\n",
        "    # augment_data.append_augmentation(flip_augmentation, multiplier=8)\n",
        "\n",
        "\n",
        "  data_dict= {\"pixel_values\": img_list, \"labels\": lbl_list} \n",
        "  return  data_dict"
      ],
      "metadata": {
        "id": "AhYe-XHE-lvc"
      },
      "execution_count": 417,
      "outputs": []
    },
    {
      "cell_type": "code",
      "source": [
        "# tr_aug_data_dict = aug_data(tr_stacked_img_paths, tr_labels_paths)\n",
        "# ts_aug_data_dict = aug_data(ts_stacked_img_paths, ts_labels_paths)\n",
        "# aug_data_dict"
      ],
      "metadata": {
        "id": "rO_e4dLhPMft"
      },
      "execution_count": 420,
      "outputs": []
    },
    {
      "cell_type": "code",
      "source": [
        "# aug_stacked_train_dataset = Dataset.from_dict(tr_aug_data_dict)\n",
        "# aug_stacked_test_dataset = Dataset.from_dict(ts_aug_data_dict)"
      ],
      "metadata": {
        "id": "a6NUE1BDQSXN"
      },
      "execution_count": 419,
      "outputs": []
    },
    {
      "cell_type": "code",
      "source": [
        "augment_img_data, augment_lbl_data = aug_data(tr_stacked_img_paths, tr_labels_paths)\n",
        "len(augment_img_data)\n",
        "augment_img_data[0].dtype"
      ],
      "metadata": {
        "colab": {
          "base_uri": "https://localhost:8080/"
        },
        "id": "I02uIM5iDEKO",
        "outputId": "5fa72e09-c1b6-4e6c-e35a-bc5dc49fbab7"
      },
      "execution_count": 355,
      "outputs": [
        {
          "output_type": "execute_result",
          "data": {
            "text/plain": [
              "dtype('float64')"
            ]
          },
          "metadata": {},
          "execution_count": 355
        }
      ]
    },
    {
      "cell_type": "code",
      "source": [
        "def aug_dataset(aug_imgs, aug_labels):\n",
        "  img_list = []\n",
        "  lbl_list = []\n",
        "  for i_img,i_mask in zip(aug_imgs, aug_labels):\n",
        "    # Convert to PyTorch tensors\n",
        "    print(i_img.dtype)\n",
        "    img_tensor = torch.tensor(i_img)\n",
        "    mask_tensor = torch.tensor(i_mask )\n",
        "\n",
        "  img_list.append(img_tensor) #(3,512,512)\n",
        "  lbl_list.append(mask_tensor.long()) #(512,512)\n",
        "\n",
        "  data_dict= {\"pixel_values\": img_list, \"labels\": lbl_list} \n",
        "  return data_dict"
      ],
      "metadata": {
        "id": "9_NtGxfuGkDD"
      },
      "execution_count": 366,
      "outputs": []
    },
    {
      "cell_type": "code",
      "source": [
        "aug_img_arr, aug_lbl_arr = aug_data(tr_stacked_img_paths, tr_labels_paths)\n",
        "aug_img_arr[0].dtype"
      ],
      "metadata": {
        "colab": {
          "base_uri": "https://localhost:8080/"
        },
        "id": "_InmlL3LHDeB",
        "outputId": "28391c27-47ee-4e05-a57f-3dd1fbe09421"
      },
      "execution_count": 363,
      "outputs": [
        {
          "output_type": "execute_result",
          "data": {
            "text/plain": [
              "dtype('float64')"
            ]
          },
          "metadata": {},
          "execution_count": 363
        }
      ]
    },
    {
      "cell_type": "code",
      "source": [
        "\n",
        "def augg_dataset(aug_img_arr):\n",
        "  img_list = []\n",
        "  lbl_list = []\n",
        "  for i in range(len(aug_img_arr)):\n",
        "    img_tensor = torch.tensor(aug_img_arr[i])\n",
        "    img_list.append(img_tensor)\n",
        "    # mask_tensor = torch.tensor(aug_lbl_arr[i])\n",
        "    # lbl_list.append(mask_tensor.long())\n",
        "  # data_dict= {\"pixel_values\": img_list, \"labels\": lbl_list} \n",
        "  return img_list"
      ],
      "metadata": {
        "id": "8IRSZ5BpK1bZ"
      },
      "execution_count": 382,
      "outputs": []
    },
    {
      "cell_type": "code",
      "execution_count": 307,
      "metadata": {
        "colab": {
          "base_uri": "https://localhost:8080/"
        },
        "id": "kUYW4GZDKE6f",
        "outputId": "f39b7615-3400-4c12-8c59-7cf37fe67c04"
      },
      "outputs": [
        {
          "output_type": "stream",
          "name": "stdout",
          "text": [
            "Id2label: {0: 'None', 1: 'Prostate', 2: 'Rectum', 3: 'Seminal_vesicles', 4: 'Bladder'}\n"
          ]
        }
      ],
      "source": [
        "import json\n",
        "from huggingface_hub import hf_hub_download\n",
        "\n",
        "hf_dataset_identifier = \"Cats-Can/image_data\"\n",
        "\n",
        "filename = \"id2label.json\"\n",
        "id2label = json.load(open(hf_hub_download(repo_id=hf_dataset_identifier, filename=filename, repo_type=\"dataset\"), \"r\"))\n",
        "# id2label = {0: 'None', 1: 'Prostate', 2: 'Rectum', 3: 'Seminal_vesicles', 4: 'Bladder'} #uncomment to use if having problems with HF\n",
        "id2label = {int(k): v for k, v in id2label.items()}\n",
        "label2id = {v: k for k, v in id2label.items()}\n",
        "\n",
        "num_labels = len(id2label)\n",
        "print(\"Id2label:\", id2label)"
      ]
    },
    {
      "cell_type": "markdown",
      "metadata": {
        "id": "aJsNndWTZigt"
      },
      "source": [
        "# Finetuning SegFormer"
      ]
    },
    {
      "cell_type": "code",
      "execution_count": 308,
      "metadata": {
        "colab": {
          "base_uri": "https://localhost:8080/"
        },
        "id": "PkKwxqoGZecn",
        "outputId": "91baeca4-d6fa-44d1-9b0c-6f5a70ce00be"
      },
      "outputs": [
        {
          "output_type": "stream",
          "name": "stderr",
          "text": [
            "Some weights of the model checkpoint at nvidia/mit-b0 were not used when initializing SegformerForSemanticSegmentation: ['classifier.bias', 'classifier.weight']\n",
            "- This IS expected if you are initializing SegformerForSemanticSegmentation from the checkpoint of a model trained on another task or with another architecture (e.g. initializing a BertForSequenceClassification model from a BertForPreTraining model).\n",
            "- This IS NOT expected if you are initializing SegformerForSemanticSegmentation from the checkpoint of a model that you expect to be exactly identical (initializing a BertForSequenceClassification model from a BertForSequenceClassification model).\n",
            "Some weights of SegformerForSemanticSegmentation were not initialized from the model checkpoint at nvidia/mit-b0 and are newly initialized: ['decode_head.linear_c.3.proj.bias', 'decode_head.batch_norm.running_mean', 'decode_head.linear_c.3.proj.weight', 'decode_head.linear_c.2.proj.bias', 'decode_head.batch_norm.num_batches_tracked', 'decode_head.linear_c.0.proj.bias', 'decode_head.linear_fuse.weight', 'decode_head.batch_norm.running_var', 'decode_head.linear_c.1.proj.weight', 'decode_head.batch_norm.bias', 'decode_head.classifier.bias', 'decode_head.linear_c.1.proj.bias', 'decode_head.linear_c.0.proj.weight', 'decode_head.classifier.weight', 'decode_head.linear_c.2.proj.weight', 'decode_head.batch_norm.weight']\n",
            "You should probably TRAIN this model on a down-stream task to be able to use it for predictions and inference.\n"
          ]
        }
      ],
      "source": [
        "# Load the segformer\n",
        "from transformers import SegformerForSemanticSegmentation\n",
        "\n",
        "pretrained_model_name = \"nvidia/mit-b0\" \n",
        "model = SegformerForSemanticSegmentation.from_pretrained(pretrained_model_name, id2label=id2label,\n",
        "    label2id=label2id)"
      ]
    },
    {
      "cell_type": "code",
      "execution_count": 439,
      "metadata": {
        "id": "HMLhA23nZs36"
      },
      "outputs": [],
      "source": [
        "from transformers import TrainingArguments\n",
        "\n",
        "epochs = 20\n",
        "lr = 0.00006\n",
        "batch_size = 2\n",
        "\n",
        "hub_model_id = \"segformer-b0-finetuned-pelvic\"\n",
        "\n",
        "training_args = TrainingArguments(\n",
        "    \"segformer-b0-finetuned-pelvic-outputs\",\n",
        "    learning_rate=lr,\n",
        "    num_train_epochs=epochs,\n",
        "    per_device_train_batch_size=batch_size,\n",
        "    per_device_eval_batch_size=batch_size,\n",
        "    save_total_limit=3,\n",
        "    evaluation_strategy=\"steps\",\n",
        "    save_strategy=\"steps\",\n",
        "    save_steps=20,\n",
        "    eval_steps=20,\n",
        "    logging_steps=1,\n",
        "    eval_accumulation_steps=5,\n",
        "    load_best_model_at_end=True,\n",
        "    push_to_hub=True,\n",
        "    hub_model_id=hub_model_id,\n",
        "    hub_strategy=\"end\",\n",
        ")"
      ]
    },
    {
      "cell_type": "code",
      "execution_count": 436,
      "metadata": {
        "id": "8WrsRVKoaLv1"
      },
      "outputs": [],
      "source": [
        "import torch\n",
        "from torch import nn\n",
        "import evaluate\n",
        "import multiprocessing\n",
        "import warnings\n",
        "warnings.filterwarnings('ignore')\n",
        "\n",
        "\n",
        "metric = evaluate.load(\"mean_iou\")\n",
        "\n",
        "def compute_metrics(eval_pred):\n",
        "  with torch.no_grad():\n",
        "    logits, labels = eval_pred\n",
        "    logits_tensor = torch.from_numpy(logits)\n",
        "    # scale the logits to the size of the label\n",
        "    logits_tensor = nn.functional.interpolate(\n",
        "        logits_tensor,\n",
        "        size=labels.shape[-2:],\n",
        "        mode=\"bilinear\",\n",
        "        align_corners=False,\n",
        "    ).argmax(dim=1)\n",
        "\n",
        "    pred_labels = logits_tensor.detach().cpu().numpy()\n",
        "    metrics = metric._compute(\n",
        "            predictions=pred_labels,\n",
        "            references=labels,\n",
        "            num_labels=len(id2label),\n",
        "            ignore_index=0,\n",
        "\n",
        "        )\n",
        "    \n",
        "    # add per category metrics as individual key-value pairs\n",
        "    per_category_accuracy = metrics.pop(\"per_category_accuracy\").tolist()\n",
        "    per_category_iou = metrics.pop(\"per_category_iou\").tolist()\n",
        "\n",
        "    metrics.update({f\"accuracy_{id2label[i]}\": v for i, v in enumerate(per_category_accuracy)})\n",
        "    metrics.update({f\"iou_{id2label[i]}\": v for i, v in enumerate(per_category_iou)})\n",
        "\n",
        "    return metrics"
      ]
    },
    {
      "cell_type": "code",
      "execution_count": 440,
      "metadata": {
        "colab": {
          "base_uri": "https://localhost:8080/"
        },
        "id": "UgrSugn6aX56",
        "outputId": "a99ceaf2-0297-43de-c035-9e8bd43a85a9"
      },
      "outputs": [
        {
          "output_type": "stream",
          "name": "stderr",
          "text": [
            "/content/segformer-b0-finetuned-pelvic-outputs is already a clone of https://huggingface.co/ashiyakatuka11/segformer-b0-finetuned-pelvic. Make sure you pull the latest changes with `repo.git_pull()`.\n",
            "WARNING:huggingface_hub.repository:/content/segformer-b0-finetuned-pelvic-outputs is already a clone of https://huggingface.co/ashiyakatuka11/segformer-b0-finetuned-pelvic. Make sure you pull the latest changes with `repo.git_pull()`.\n"
          ]
        }
      ],
      "source": [
        "#train on stacked, test on stacked\n",
        "from transformers import Trainer\n",
        "trainer = Trainer(\n",
        "    model=model,\n",
        "    args=training_args,\n",
        "    train_dataset=stacked_train_dataset,\n",
        "    eval_dataset=stacked_test_dataset,\n",
        "    compute_metrics=compute_metrics,\n",
        ")"
      ]
    },
    {
      "cell_type": "code",
      "execution_count": 441,
      "metadata": {
        "colab": {
          "base_uri": "https://localhost:8080/",
          "height": 378
        },
        "id": "Dy9_2RU6ag63",
        "outputId": "29045d13-42cb-4227-d0fa-2c1daa54d75a"
      },
      "outputs": [
        {
          "output_type": "display_data",
          "data": {
            "text/plain": [
              "<IPython.core.display.HTML object>"
            ],
            "text/html": [
              "\n",
              "    <div>\n",
              "      \n",
              "      <progress value='160' max='160' style='width:300px; height:20px; vertical-align: middle;'></progress>\n",
              "      [160/160 03:17, Epoch 20/20]\n",
              "    </div>\n",
              "    <table border=\"1\" class=\"dataframe\">\n",
              "  <thead>\n",
              " <tr style=\"text-align: left;\">\n",
              "      <th>Step</th>\n",
              "      <th>Training Loss</th>\n",
              "      <th>Validation Loss</th>\n",
              "      <th>Mean Iou</th>\n",
              "      <th>Mean Accuracy</th>\n",
              "      <th>Overall Accuracy</th>\n",
              "      <th>Accuracy None</th>\n",
              "      <th>Accuracy Prostate</th>\n",
              "      <th>Accuracy Rectum</th>\n",
              "      <th>Accuracy Seminal Vesicles</th>\n",
              "      <th>Accuracy Bladder</th>\n",
              "      <th>Iou None</th>\n",
              "      <th>Iou Prostate</th>\n",
              "      <th>Iou Rectum</th>\n",
              "      <th>Iou Seminal Vesicles</th>\n",
              "      <th>Iou Bladder</th>\n",
              "    </tr>\n",
              "  </thead>\n",
              "  <tbody>\n",
              "    <tr>\n",
              "      <td>20</td>\n",
              "      <td>0.016600</td>\n",
              "      <td>0.085681</td>\n",
              "      <td>0.051723</td>\n",
              "      <td>0.066960</td>\n",
              "      <td>0.119385</td>\n",
              "      <td>nan</td>\n",
              "      <td>0.000000</td>\n",
              "      <td>0.000000</td>\n",
              "      <td>0.000000</td>\n",
              "      <td>0.267841</td>\n",
              "      <td>0.000000</td>\n",
              "      <td>0.000000</td>\n",
              "      <td>0.000000</td>\n",
              "      <td>0.000000</td>\n",
              "      <td>0.258613</td>\n",
              "    </tr>\n",
              "    <tr>\n",
              "      <td>40</td>\n",
              "      <td>0.028000</td>\n",
              "      <td>0.067705</td>\n",
              "      <td>0.080421</td>\n",
              "      <td>0.107077</td>\n",
              "      <td>0.179176</td>\n",
              "      <td>nan</td>\n",
              "      <td>0.000000</td>\n",
              "      <td>0.052317</td>\n",
              "      <td>0.000000</td>\n",
              "      <td>0.375991</td>\n",
              "      <td>0.000000</td>\n",
              "      <td>0.000000</td>\n",
              "      <td>0.051914</td>\n",
              "      <td>0.000000</td>\n",
              "      <td>0.350190</td>\n",
              "    </tr>\n",
              "    <tr>\n",
              "      <td>60</td>\n",
              "      <td>0.010600</td>\n",
              "      <td>0.076739</td>\n",
              "      <td>0.061333</td>\n",
              "      <td>0.080461</td>\n",
              "      <td>0.135929</td>\n",
              "      <td>nan</td>\n",
              "      <td>0.005700</td>\n",
              "      <td>0.027267</td>\n",
              "      <td>0.000000</td>\n",
              "      <td>0.288877</td>\n",
              "      <td>0.000000</td>\n",
              "      <td>0.005687</td>\n",
              "      <td>0.027206</td>\n",
              "      <td>0.000000</td>\n",
              "      <td>0.273771</td>\n",
              "    </tr>\n",
              "    <tr>\n",
              "      <td>80</td>\n",
              "      <td>0.012300</td>\n",
              "      <td>0.081644</td>\n",
              "      <td>0.051770</td>\n",
              "      <td>0.067819</td>\n",
              "      <td>0.116342</td>\n",
              "      <td>nan</td>\n",
              "      <td>0.000000</td>\n",
              "      <td>0.020395</td>\n",
              "      <td>0.000000</td>\n",
              "      <td>0.250881</td>\n",
              "      <td>0.000000</td>\n",
              "      <td>0.000000</td>\n",
              "      <td>0.020390</td>\n",
              "      <td>0.000000</td>\n",
              "      <td>0.238459</td>\n",
              "    </tr>\n",
              "    <tr>\n",
              "      <td>100</td>\n",
              "      <td>0.015900</td>\n",
              "      <td>0.077220</td>\n",
              "      <td>0.065839</td>\n",
              "      <td>0.086716</td>\n",
              "      <td>0.148741</td>\n",
              "      <td>nan</td>\n",
              "      <td>0.000000</td>\n",
              "      <td>0.026158</td>\n",
              "      <td>0.000000</td>\n",
              "      <td>0.320705</td>\n",
              "      <td>0.000000</td>\n",
              "      <td>0.000000</td>\n",
              "      <td>0.026112</td>\n",
              "      <td>0.000000</td>\n",
              "      <td>0.303081</td>\n",
              "    </tr>\n",
              "    <tr>\n",
              "      <td>120</td>\n",
              "      <td>0.012000</td>\n",
              "      <td>0.085003</td>\n",
              "      <td>0.057383</td>\n",
              "      <td>0.076129</td>\n",
              "      <td>0.135732</td>\n",
              "      <td>nan</td>\n",
              "      <td>0.000000</td>\n",
              "      <td>0.000000</td>\n",
              "      <td>0.000000</td>\n",
              "      <td>0.304515</td>\n",
              "      <td>0.000000</td>\n",
              "      <td>0.000000</td>\n",
              "      <td>0.000000</td>\n",
              "      <td>0.000000</td>\n",
              "      <td>0.286915</td>\n",
              "    </tr>\n",
              "    <tr>\n",
              "      <td>140</td>\n",
              "      <td>0.011400</td>\n",
              "      <td>0.088452</td>\n",
              "      <td>0.047894</td>\n",
              "      <td>0.063243</td>\n",
              "      <td>0.112758</td>\n",
              "      <td>nan</td>\n",
              "      <td>0.000000</td>\n",
              "      <td>0.000000</td>\n",
              "      <td>0.000000</td>\n",
              "      <td>0.252974</td>\n",
              "      <td>0.000000</td>\n",
              "      <td>0.000000</td>\n",
              "      <td>0.000000</td>\n",
              "      <td>0.000000</td>\n",
              "      <td>0.239470</td>\n",
              "    </tr>\n",
              "    <tr>\n",
              "      <td>160</td>\n",
              "      <td>0.009300</td>\n",
              "      <td>0.085920</td>\n",
              "      <td>0.049306</td>\n",
              "      <td>0.065088</td>\n",
              "      <td>0.116047</td>\n",
              "      <td>nan</td>\n",
              "      <td>0.000000</td>\n",
              "      <td>0.000000</td>\n",
              "      <td>0.000000</td>\n",
              "      <td>0.260352</td>\n",
              "      <td>0.000000</td>\n",
              "      <td>0.000000</td>\n",
              "      <td>0.000000</td>\n",
              "      <td>0.000000</td>\n",
              "      <td>0.246532</td>\n",
              "    </tr>\n",
              "  </tbody>\n",
              "</table><p>"
            ]
          },
          "metadata": {}
        },
        {
          "output_type": "execute_result",
          "data": {
            "text/plain": [
              "TrainOutput(global_step=160, training_loss=0.013936429200111889, metrics={'train_runtime': 198.7736, 'train_samples_per_second': 1.509, 'train_steps_per_second': 0.805, 'total_flos': 5259478066790400.0, 'train_loss': 0.013936429200111889, 'epoch': 20.0})"
            ]
          },
          "metadata": {},
          "execution_count": 441
        }
      ],
      "source": [
        "trainer.train()"
      ]
    },
    {
      "cell_type": "code",
      "source": [
        "# hub_model_id = \"segformer-b0-finetuned-pelvic2\"\n",
        "\n",
        "training_args = TrainingArguments(\n",
        "    \"segformer-b0-finetuned-pelvic-outputs2\",\n",
        "    learning_rate=lr,\n",
        "    num_train_epochs=epochs,\n",
        "    per_device_train_batch_size=batch_size,\n",
        "    per_device_eval_batch_size=batch_size,\n",
        "    save_total_limit=3,\n",
        "    evaluation_strategy=\"steps\",\n",
        "    save_strategy=\"steps\",\n",
        "    save_steps=20,\n",
        "    eval_steps=20,\n",
        "    logging_steps=1,\n",
        "    eval_accumulation_steps=5,\n",
        "    load_best_model_at_end=True,\n",
        "    # push_to_hub=True,\n",
        "    # hub_model_id=hub_model_id,\n",
        "    # hub_strategy=\"end\",\n",
        ")"
      ],
      "metadata": {
        "id": "E74q8clKVRrh"
      },
      "execution_count": 450,
      "outputs": []
    },
    {
      "cell_type": "code",
      "source": [
        "#train on stack, text on CT\n",
        "from transformers import Trainer\n",
        "trainer = Trainer(\n",
        "    model=model,\n",
        "    args=training_args,\n",
        "    train_dataset=stacked_train_dataset,\n",
        "    eval_dataset=dct_test_dataset,\n",
        "    compute_metrics=compute_metrics,\n",
        ")\n"
      ],
      "metadata": {
        "id": "3XL-LhC5URBa"
      },
      "execution_count": 451,
      "outputs": []
    },
    {
      "cell_type": "code",
      "source": [
        "trainer.evaluate(dct_test_dataset)"
      ],
      "metadata": {
        "colab": {
          "base_uri": "https://localhost:8080/",
          "height": 332
        },
        "id": "n__BRQcaVlJ1",
        "outputId": "b3dc11ce-1648-4a0d-82dd-02d775de956f"
      },
      "execution_count": 453,
      "outputs": [
        {
          "output_type": "display_data",
          "data": {
            "text/plain": [
              "<IPython.core.display.HTML object>"
            ],
            "text/html": [
              "\n",
              "    <div>\n",
              "      \n",
              "      <progress value='2' max='2' style='width:300px; height:20px; vertical-align: middle;'></progress>\n",
              "      [2/2 00:01]\n",
              "    </div>\n",
              "    "
            ]
          },
          "metadata": {}
        },
        {
          "output_type": "execute_result",
          "data": {
            "text/plain": [
              "{'eval_loss': 0.13590236008167267,\n",
              " 'eval_mean_iou': 0.0,\n",
              " 'eval_mean_accuracy': 0.0,\n",
              " 'eval_overall_accuracy': 0.0,\n",
              " 'eval_accuracy_None': nan,\n",
              " 'eval_accuracy_Prostate': 0.0,\n",
              " 'eval_accuracy_Rectum': 0.0,\n",
              " 'eval_accuracy_Seminal_vesicles': 0.0,\n",
              " 'eval_accuracy_Bladder': 0.0,\n",
              " 'eval_iou_None': 0.0,\n",
              " 'eval_iou_Prostate': 0.0,\n",
              " 'eval_iou_Rectum': 0.0,\n",
              " 'eval_iou_Seminal_vesicles': 0.0,\n",
              " 'eval_iou_Bladder': 0.0,\n",
              " 'eval_runtime': 2.305,\n",
              " 'eval_samples_per_second': 1.735,\n",
              " 'eval_steps_per_second': 0.868}"
            ]
          },
          "metadata": {},
          "execution_count": 453
        }
      ]
    },
    {
      "cell_type": "code",
      "source": [
        "trainer.evaluate(t2_test_dataset)"
      ],
      "metadata": {
        "colab": {
          "base_uri": "https://localhost:8080/",
          "height": 332
        },
        "id": "5c6SYBT1WQmU",
        "outputId": "4f04f905-4c4e-4aed-8a31-c678a3f5fb5c"
      },
      "execution_count": 454,
      "outputs": [
        {
          "output_type": "display_data",
          "data": {
            "text/plain": [
              "<IPython.core.display.HTML object>"
            ],
            "text/html": [
              "\n",
              "    <div>\n",
              "      \n",
              "      <progress value='4' max='2' style='width:300px; height:20px; vertical-align: middle;'></progress>\n",
              "      [2/2 00:37]\n",
              "    </div>\n",
              "    "
            ]
          },
          "metadata": {}
        },
        {
          "output_type": "execute_result",
          "data": {
            "text/plain": [
              "{'eval_loss': 0.07609781622886658,\n",
              " 'eval_mean_iou': 0.08066380283466057,\n",
              " 'eval_mean_accuracy': 0.10527753621348501,\n",
              " 'eval_overall_accuracy': 0.16960384860831573,\n",
              " 'eval_accuracy_None': nan,\n",
              " 'eval_accuracy_Prostate': 0.0,\n",
              " 'eval_accuracy_Rectum': 0.08069164265129683,\n",
              " 'eval_accuracy_Seminal_vesicles': 0.0,\n",
              " 'eval_accuracy_Bladder': 0.3404185022026432,\n",
              " 'eval_iou_None': 0.0,\n",
              " 'eval_iou_Prostate': 0.0,\n",
              " 'eval_iou_Rectum': 0.08022922636103152,\n",
              " 'eval_iou_Seminal_vesicles': 0.0,\n",
              " 'eval_iou_Bladder': 0.3230897878122713,\n",
              " 'eval_runtime': 2.2825,\n",
              " 'eval_samples_per_second': 1.752,\n",
              " 'eval_steps_per_second': 0.876}"
            ]
          },
          "metadata": {},
          "execution_count": 454
        }
      ]
    },
    {
      "cell_type": "markdown",
      "source": [
        "### New models"
      ],
      "metadata": {
        "id": "l3qb3AyapTm0"
      }
    },
    {
      "cell_type": "code",
      "source": [
        "pretrained_model_name = \"nvidia/mit-b0\" \n",
        "model = SegformerForSemanticSegmentation.from_pretrained(pretrained_model_name, id2label=id2label,\n",
        "    label2id=label2id)"
      ],
      "metadata": {
        "colab": {
          "base_uri": "https://localhost:8080/"
        },
        "id": "zrREO0RkW6qD",
        "outputId": "80389860-a3e4-49c1-e6ce-71b6aa511148"
      },
      "execution_count": 459,
      "outputs": [
        {
          "output_type": "stream",
          "name": "stderr",
          "text": [
            "Some weights of the model checkpoint at nvidia/mit-b0 were not used when initializing SegformerForSemanticSegmentation: ['classifier.bias', 'classifier.weight']\n",
            "- This IS expected if you are initializing SegformerForSemanticSegmentation from the checkpoint of a model trained on another task or with another architecture (e.g. initializing a BertForSequenceClassification model from a BertForPreTraining model).\n",
            "- This IS NOT expected if you are initializing SegformerForSemanticSegmentation from the checkpoint of a model that you expect to be exactly identical (initializing a BertForSequenceClassification model from a BertForSequenceClassification model).\n",
            "Some weights of SegformerForSemanticSegmentation were not initialized from the model checkpoint at nvidia/mit-b0 and are newly initialized: ['decode_head.linear_c.3.proj.bias', 'decode_head.batch_norm.running_mean', 'decode_head.linear_c.3.proj.weight', 'decode_head.linear_c.2.proj.bias', 'decode_head.batch_norm.num_batches_tracked', 'decode_head.linear_c.0.proj.bias', 'decode_head.linear_fuse.weight', 'decode_head.batch_norm.running_var', 'decode_head.linear_c.1.proj.weight', 'decode_head.batch_norm.bias', 'decode_head.classifier.bias', 'decode_head.linear_c.1.proj.bias', 'decode_head.linear_c.0.proj.weight', 'decode_head.classifier.weight', 'decode_head.linear_c.2.proj.weight', 'decode_head.batch_norm.weight']\n",
            "You should probably TRAIN this model on a down-stream task to be able to use it for predictions and inference.\n"
          ]
        }
      ]
    },
    {
      "cell_type": "code",
      "source": [
        "hub_model_id = \"segformer-b0-finetuned-pelvic4\"\n",
        "\n",
        "training_args2 = TrainingArguments(\n",
        "    \"segformer-b0-finetuned-pelvic-outputs4\",\n",
        "    learning_rate=lr,\n",
        "    num_train_epochs=epochs,\n",
        "    per_device_train_batch_size=batch_size,\n",
        "    per_device_eval_batch_size=batch_size,\n",
        "    save_total_limit=3,\n",
        "    evaluation_strategy=\"steps\",\n",
        "    save_strategy=\"steps\",\n",
        "    save_steps=20,\n",
        "    eval_steps=20,\n",
        "    logging_steps=1,\n",
        "    eval_accumulation_steps=5,\n",
        "    load_best_model_at_end=True,\n",
        "    push_to_hub=True,\n",
        "    hub_model_id=hub_model_id,\n",
        "    hub_strategy=\"end\",\n",
        ")"
      ],
      "metadata": {
        "id": "FAuZaUEiXSmG"
      },
      "execution_count": 473,
      "outputs": []
    },
    {
      "cell_type": "code",
      "source": [
        "#train on T2, text on T2\n",
        "# from transformers import Trainer\n",
        "trainer = Trainer(\n",
        "    model=model,\n",
        "    args=training_args,\n",
        "    train_dataset=t2_train_dataset,\n",
        "    eval_dataset=t2_test_dataset,\n",
        "    compute_metrics=compute_metrics,\n",
        ")\n"
      ],
      "metadata": {
        "colab": {
          "base_uri": "https://localhost:8080/"
        },
        "id": "1M189yXjUzIi",
        "outputId": "849fb7d8-ce21-4244-e885-2cf053fc95b0"
      },
      "execution_count": 474,
      "outputs": [
        {
          "output_type": "stream",
          "name": "stderr",
          "text": [
            "/content/segformer-b0-finetuned-pelvic-outputs4 is already a clone of https://huggingface.co/ashiyakatuka11/segformer-b0-finetuned-pelvic4. Make sure you pull the latest changes with `repo.git_pull()`.\n",
            "WARNING:huggingface_hub.repository:/content/segformer-b0-finetuned-pelvic-outputs4 is already a clone of https://huggingface.co/ashiyakatuka11/segformer-b0-finetuned-pelvic4. Make sure you pull the latest changes with `repo.git_pull()`.\n"
          ]
        }
      ]
    },
    {
      "cell_type": "code",
      "source": [
        "trainer.train()"
      ],
      "metadata": {
        "id": "puwZsAhiYBIF"
      },
      "execution_count": null,
      "outputs": []
    },
    {
      "cell_type": "code",
      "source": [
        "#train on dCT, text on dCT\n",
        "from transformers import Trainer\n",
        "trainer = Trainer(\n",
        "    model=model,\n",
        "    args=training_args2,\n",
        "    train_dataset=dct_train_dataset,\n",
        "    eval_dataset=dct_test_dataset,\n",
        "    compute_metrics=compute_metrics,\n",
        ")\n",
        "trainer.train()"
      ],
      "metadata": {
        "id": "43ZJDyfFU4J0"
      },
      "execution_count": null,
      "outputs": []
    },
    {
      "cell_type": "markdown",
      "source": [
        "### Model predictions"
      ],
      "metadata": {
        "id": "4Cs3HRuBpdBY"
      }
    },
    {
      "cell_type": "code",
      "execution_count": 315,
      "metadata": {
        "colab": {
          "base_uri": "https://localhost:8080/",
          "height": 52
        },
        "id": "OtD6SR4K6AD4",
        "outputId": "a54cc991-14e8-4add-add5-fe7454b6b8b6"
      },
      "outputs": [
        {
          "output_type": "display_data",
          "data": {
            "text/plain": [
              "<IPython.core.display.HTML object>"
            ],
            "text/html": []
          },
          "metadata": {}
        },
        {
          "output_type": "stream",
          "name": "stderr",
          "text": [
            "/root/.cache/huggingface/modules/evaluate_modules/metrics/evaluate-metric--mean_iou/08bc20f4f895f3caf75fb9e3fada1404bded3c3265243d05327cbb3b9326ffe9/mean_iou.py:260: RuntimeWarning: invalid value encountered in true_divide\n",
            "  acc = total_area_intersect / total_area_label\n"
          ]
        }
      ],
      "source": [
        "predictions = trainer.predict(stacked_test_dataset)"
      ]
    },
    {
      "cell_type": "code",
      "execution_count": 316,
      "metadata": {
        "colab": {
          "base_uri": "https://localhost:8080/"
        },
        "id": "LawUEHLJ4W8l",
        "outputId": "9292aeed-f33b-46ae-d367-8c28c8e1997f"
      },
      "outputs": [
        {
          "output_type": "execute_result",
          "data": {
            "text/plain": [
              "(4, 512, 512)"
            ]
          },
          "metadata": {},
          "execution_count": 316
        }
      ],
      "source": [
        "predictions[1].shape"
      ]
    },
    {
      "cell_type": "code",
      "execution_count": 317,
      "metadata": {
        "id": "2Xgmo1Q9MCuN"
      },
      "outputs": [],
      "source": [
        "output = predictions[1]"
      ]
    },
    {
      "cell_type": "code",
      "execution_count": 318,
      "metadata": {
        "id": "mFS9F4itMGN-"
      },
      "outputs": [],
      "source": [
        "class_predictions = np.argmax(output[:3], axis=0)\n",
        "prediction_image = class_predictions.astype(np.uint8)"
      ]
    },
    {
      "cell_type": "code",
      "execution_count": 320,
      "metadata": {
        "id": "T6CxIar0OgBT"
      },
      "outputs": [],
      "source": [
        "# prediction_image[1]"
      ]
    },
    {
      "cell_type": "code",
      "execution_count": 321,
      "metadata": {
        "colab": {
          "base_uri": "https://localhost:8080/",
          "height": 347
        },
        "id": "7XwsGX07K_vz",
        "outputId": "e37d9df4-91f9-43ba-eaaa-00f115e763e2"
      },
      "outputs": [
        {
          "output_type": "execute_result",
          "data": {
            "text/plain": [
              "Text(0.5, 1.0, 'PREDICTION')"
            ]
          },
          "metadata": {},
          "execution_count": 321
        },
        {
          "output_type": "display_data",
          "data": {
            "text/plain": [
              "<Figure size 1000x1000 with 3 Axes>"
            ],
            "image/png": "[encoded data removed]"
          },
          "metadata": {}
        }
      ],
      "source": [
        "# figure = plt.subplots(1,figsize=(14,14))\n",
        "img_number = 1\n",
        "img_nifti = nib.load(\"/content/drive/MyDrive/Colab Notebooks/datasets/GoldA_ZSliceSelection/Stacked/test/P3_02_Z36.nii\")\n",
        "img = img_nifti.get_fdata()\n",
        "label_nifti = nib.load(\"/content/drive/MyDrive/Colab Notebooks/datasets/GoldA_ZSliceSelection/labels/test/3_02_Z36.nii\")\n",
        "label = label_nifti.get_fdata()\n",
        "\n",
        "Predict_Mask = prediction_image\n",
        "\n",
        "figure,axis = plt.subplots(1,3,figsize=(10,10))\n",
        "Plot_Color_Op = axis[0].imshow(img)\n",
        "axis[0].set_xlabel(img.shape)\n",
        "axis[0].set_ylabel(img.size)\n",
        "axis[0].set_title(\"IMAGE\")\n",
        "\n",
        "axis[1].imshow(label)\n",
        "axis[1].set_xlabel(label.shape)\n",
        "axis[1].set_ylabel(label.size)\n",
        "axis[1].set_title(\"MASK\")\n",
        "axis[2].imshow(Predict_Mask)\n",
        "axis[2].set_xlabel(Predict_Mask.shape)\n",
        "axis[2].set_ylabel(Predict_Mask.size)\n",
        "axis[2].set_title(\"PREDICTION\")"
      ]
    },
    {
      "cell_type": "code",
      "execution_count": null,
      "metadata": {
        "id": "5RKvHqny2y9S"
      },
      "outputs": [],
      "source": [
        "from torch import nn\n",
        "\n",
        "inputs = feature_extractor(images=image, return_tensors=\"pt\")\n",
        "outputs = model(**inputs)\n",
        "logits = outputs.logits  # shape (batch_size, num_labels, height/4, width/4)\n",
        "\n",
        "# First, rescale logits to original image size\n",
        "upsampled_logits = nn.functional.interpolate(\n",
        "    logits,\n",
        "    size=image.size[::-1], # (height, width)\n",
        "    mode='bilinear',\n",
        "    align_corners=False\n",
        ")\n",
        "\n",
        "# Second, apply argmax on the class dimension\n",
        "pred_seg = upsampled_logits.argmax(dim=1)[0]"
      ]
    },
    {
      "cell_type": "markdown",
      "source": [
        "#DeepNeouro preprocessing\n"
      ],
      "metadata": {
        "id": "Fi9LqDzY2-t0"
      }
    },
    {
      "cell_type": "code",
      "source": [
        "from deepneuro.load import load\n",
        "img_nifti = nib.load(\"/content/drive/MyDrive/Colab Notebooks/datasets/GoldA_ZSliceSelection/Stacked/test/P1_03_Z38.nii\")"
      ],
      "metadata": {
        "id": "QAvmjTpW3Dt1"
      },
      "execution_count": 6,
      "outputs": []
    },
    {
      "cell_type": "code",
      "source": [
        "from deepneuro.data import DataCollection\n",
        "\n",
        "training_data_sources = {\n",
        "    'directories': {\n",
        "                '/content/drive/MyDrive/Colab Notebooks/datasets/GoldA_ZSliceSelection/Stacked/test/':\n",
        "                {'input_data': ['/content/drive/MyDrive/Colab Notebooks/datasets/GoldA_ZSliceSelection/Stacked/test/P1_03_Z38.nii'], \n",
        "                 'ground_truth': ['/content/drive/MyDrive/Colab Notebooks/datasets/GoldA_ZSliceSelection/Stacked/test/P1_03_Z38.nii']}},\n",
        "}"
      ],
      "metadata": {
        "id": "_I-uow-G3VvD"
      },
      "execution_count": 26,
      "outputs": []
    },
    {
      "cell_type": "code",
      "source": [
        "training_data = DataCollection(data_sources=training_data_sources, verbose=True, slice_index=60)"
      ],
      "metadata": {
        "colab": {
          "base_uri": "https://localhost:8080/"
        },
        "id": "OJ7VZdE851g1",
        "outputId": "ff3f99f7-7855-4b68-a86d-3d2cc4576bcc"
      },
      "execution_count": 27,
      "outputs": [
        {
          "output_type": "stream",
          "name": "stdout",
          "text": [
            "('Gathering image data from...', {'/content/drive/MyDrive/Colab Notebooks/datasets/GoldA_ZSliceSelection/Stacked/test/': {'input_data': ['/content/drive/MyDrive/Colab Notebooks/datasets/GoldA_ZSliceSelection/Stacked/test/P1_03_Z38.nii'], 'ground_truth': ['/content/drive/MyDrive/Colab Notebooks/datasets/GoldA_ZSliceSelection/Stacked/test/P1_03_Z38.nii']}}, '\\n')\n",
            "Found zero cases. Are you sure you have entered your data sources correctly?\n"
          ]
        }
      ]
    },
    {
      "cell_type": "markdown",
      "metadata": {
        "id": "tWy_wM4RPlA6"
      },
      "source": [
        "##finetuning with Nifti images converted to PIL (Ignore)\n"
      ]
    },
    {
      "cell_type": "code",
      "execution_count": 9,
      "metadata": {
        "id": "Tk1vmUefa879"
      },
      "outputs": [],
      "source": [
        "from transformers import AutoImageProcessor, SegformerForSemanticSegmentation\n",
        "import torch\n",
        "from datasets import load_dataset\n",
        "from PIL import Image\n",
        "import requests"
      ]
    },
    {
      "cell_type": "code",
      "execution_count": 10,
      "metadata": {
        "colab": {
          "base_uri": "https://localhost:8080/",
          "height": 185,
          "referenced_widgets": [
            "ef0d64d9e7a94fc18b1250bc29ef7123",
            "01d6fb5a64cc4d48adb5aa0ea0c66e8e",
            "25b934e02c1041ce9e253cb503e0b67f",
            "8c7cfaa8251c4594b39927a61cd64efb",
            "c6a7a661ecca4d10938c62482436ac88",
            "16af30c81bf244a1a66a3642c46f6caf",
            "f0e558ea974f477a86499f8567056da4",
            "ceba220614524cc7bf14ce058f3c5f6d",
            "f7483f19206b49da966dedec914b6311",
            "bd6bc21787f24ef3862ed781ab830c23",
            "50c44a3e19114532831581f164193b0c",
            "7674d1e86e7f4f2f906e97f0902d6e8d",
            "8c28e44d60724ff78d5bd0ef0ba6fe48",
            "ce6cd87252a34ad4b5131839b06f2f3c",
            "4abdda1b61d4429997c873fc3f430423",
            "00750a11666146f5a5a8f270c633b804",
            "ad7f5276c4544eb7aeffad0d00183d9e",
            "2c57631074ad4510a207fba4e97ada41",
            "514743a31fa7483fa88dfbe8399733b0",
            "cc50559c5f49428d9f514896148aac22",
            "30a04c1ddb55491aaf70328a4dcd881c",
            "1be44756244d43fba8437849c71ebab3",
            "c9e7b4a045ec4c6e984e7e644f9fe0c1",
            "28450bd2d00645338c7dba4331a65513",
            "0204d0bde8f746d499919dc6b2ef017e",
            "b7499f50d3e34a0e8ca2b3fbc91e57ff",
            "34a8e4467b5d4a38b4608dfd1feada26",
            "834ded07026d4b27aea8d1505e934c15",
            "fc375fb98cfb4efe960e775cb9f54640",
            "b7ba5303ae7845f581a0f27b8b5bc8d6",
            "1ac31e4aedbe41d29614ea502fee6fbe",
            "c814b480e39145d5b5a5809eeb33435a",
            "c8df31e3a3a6447c90597177d5ae0b27"
          ]
        },
        "id": "vfvjhk5EeXw4",
        "outputId": "3dd49990-2b83-47f3-cfc7-235413852c15"
      },
      "outputs": [
        {
          "output_type": "display_data",
          "data": {
            "text/plain": [
              "Downloading (…)rocessor_config.json:   0%|          | 0.00/271 [00:00<?, ?B/s]"
            ],
            "application/vnd.jupyter.widget-view+json": {
              "version_major": 2,
              "version_minor": 0,
              "model_id": "ef0d64d9e7a94fc18b1250bc29ef7123"
            }
          },
          "metadata": {}
        },
        {
          "output_type": "stream",
          "name": "stderr",
          "text": [
            "Could not find image processor class in the image processor config or the model config. Loading based on pattern matching with the model's feature extractor configuration.\n",
            "/usr/local/lib/python3.9/dist-packages/transformers/models/segformer/image_processing_segformer.py:99: FutureWarning: The `reduce_labels` parameter is deprecated and will be removed in a future version. Please use `do_reduce_labels` instead.\n",
            "  warnings.warn(\n"
          ]
        },
        {
          "output_type": "display_data",
          "data": {
            "text/plain": [
              "Downloading (…)lve/main/config.json:   0%|          | 0.00/6.88k [00:00<?, ?B/s]"
            ],
            "application/vnd.jupyter.widget-view+json": {
              "version_major": 2,
              "version_minor": 0,
              "model_id": "7674d1e86e7f4f2f906e97f0902d6e8d"
            }
          },
          "metadata": {}
        },
        {
          "output_type": "display_data",
          "data": {
            "text/plain": [
              "Downloading pytorch_model.bin:   0%|          | 0.00/15.1M [00:00<?, ?B/s]"
            ],
            "application/vnd.jupyter.widget-view+json": {
              "version_major": 2,
              "version_minor": 0,
              "model_id": "c9e7b4a045ec4c6e984e7e644f9fe0c1"
            }
          },
          "metadata": {}
        }
      ],
      "source": [
        "image_processor = AutoImageProcessor.from_pretrained(\"nvidia/segformer-b0-finetuned-ade-512-512\")\n",
        "model = SegformerForSemanticSegmentation.from_pretrained(\"nvidia/segformer-b0-finetuned-ade-512-512\")"
      ]
    },
    {
      "cell_type": "code",
      "execution_count": null,
      "metadata": {
        "id": "uIUHiguJD1A8"
      },
      "outputs": [],
      "source": []
    },
    {
      "cell_type": "markdown",
      "metadata": {
        "id": "fc5y8UwdExji"
      },
      "source": [
        "## building a model (old ignore)"
      ]
    },
    {
      "cell_type": "code",
      "execution_count": null,
      "metadata": {
        "id": "ZnLk9kn7Ez9t"
      },
      "outputs": [],
      "source": [
        "from tensorflow.keras.layers import *\n",
        "from tensorflow.keras.models import Model"
      ]
    },
    {
      "cell_type": "code",
      "execution_count": null,
      "metadata": {
        "id": "Ny09Yta4E6zK"
      },
      "outputs": [],
      "source": [
        "def conv_block(x, num_filters):\n",
        "    x = Conv2D(num_filters, (3, 3), padding=\"same\")(x)\n",
        "    x = BatchNormalization()(x)\n",
        "    x = Activation(\"relu\")(x)\n",
        "\n",
        "    x = Conv2D(num_filters, (3, 3), padding=\"same\")(x)\n",
        "    x = BatchNormalization()(x)\n",
        "    x = Activation(\"relu\")(x)\n",
        "\n",
        "    return x"
      ]
    },
    {
      "cell_type": "code",
      "execution_count": null,
      "metadata": {
        "id": "_n2AmIiQE7mv"
      },
      "outputs": [],
      "source": [
        "def build_model():\n",
        "    size = 256\n",
        "    num_filters = [16, 32, 48, 64]\n",
        "    inputs = Input((size, size, 3))\n",
        "\n",
        "    skip_x = []\n",
        "    x = inputs\n",
        "    ## Encoder\n",
        "    for f in num_filters:\n",
        "        x = conv_block(x, f)\n",
        "        skip_x.append(x)\n",
        "        x = MaxPool2D((2, 2))(x)\n",
        "\n",
        "    ## Bridge\n",
        "    x = conv_block(x, num_filters[-1])\n",
        "\n",
        "    num_filters.reverse()\n",
        "    skip_x.reverse()\n",
        "    ## Decoder\n",
        "    for i, f in enumerate(num_filters):\n",
        "        x = UpSampling2D((2, 2))(x)\n",
        "        xs = skip_x[i]\n",
        "        x = Concatenate()([x, xs])\n",
        "        x = conv_block(x, f)\n",
        "\n",
        "    ## Output\n",
        "    x = Conv2D(1, (1, 1), padding=\"same\")(x)\n",
        "    x = Activation(\"sigmoid\")(x)\n",
        "\n",
        "    return Model(inputs, x)"
      ]
    },
    {
      "cell_type": "code",
      "execution_count": null,
      "metadata": {
        "id": "0WLvbXfvFC68"
      },
      "outputs": [],
      "source": [
        "model = build_model()"
      ]
    },
    {
      "cell_type": "code",
      "execution_count": null,
      "metadata": {
        "id": "907rR3nGFNGW"
      },
      "outputs": [],
      "source": [
        "opt = tf.keras.optimizers.Adam(lr)\n",
        "metrics = [\"acc\", tf.keras.metrics.Recall(), tf.keras.metrics.Precision()]\n",
        "model.compile(loss=\"binary_crossentropy\", optimizer=opt, metrics=metrics)"
      ]
    },
    {
      "cell_type": "code",
      "execution_count": null,
      "metadata": {
        "id": "StGYcypqFTBd"
      },
      "outputs": [],
      "source": [
        "train_steps = len(T2_train)//batch\n",
        "if len(T2_train) % batch != 0:\n",
        "    train_steps += 1"
      ]
    },
    {
      "cell_type": "code",
      "execution_count": null,
      "metadata": {
        "id": "PiAy7vqFFTry"
      },
      "outputs": [],
      "source": [
        "model.fit(train_dataset1,\n",
        "        # validation_data=valid_dataset,\n",
        "        epochs=epochs,\n",
        "        steps_per_epoch=train_steps,\n",
        "        # validation_steps=valid_steps\n",
        "        # callbacks=callbacks\n",
        "        )"
      ]
    }
  ],
  "metadata": {
    "accelerator": "GPU",
    "colab": {
      "provenance": [],
      "authorship_tag": "ABX9TyOIhiMgTtKfUehtf5uKYLnH",
      "include_colab_link": true
    },
    "gpuClass": "premium",
    "kernelspec": {
      "display_name": "Python 3",
      "name": "python3"
    },
    "language_info": {
      "name": "python"
    },
    "widgets": {
      "application/vnd.jupyter.widget-state+json": {
        "0c7b9430a40a4ff39e579d22a78ef1a4": {
          "model_module": "@jupyter-widgets/controls",
          "model_module_version": "1.5.0",
          "model_name": "HTMLModel",
          "state": {
            "_dom_classes": [],
            "_model_module": "@jupyter-widgets/controls",
            "_model_module_version": "1.5.0",
            "_model_name": "HTMLModel",
            "_view_count": null,
            "_view_module": "@jupyter-widgets/controls",
            "_view_module_version": "1.5.0",
            "_view_name": "HTMLView",
            "description": "",
            "description_tooltip": null,
            "layout": "IPY_MODEL_c32ce5766f2247df853625417091d7aa",
            "placeholder": "​",
            "style": "IPY_MODEL_5656c2386ce34e71a7509868893d7609",
            "value": "Downloading (…)rocessor_config.json: 100%"
          }
        },
        "13a7001201154054a404adf21cf03233": {
          "model_module": "@jupyter-widgets/controls",
          "model_module_version": "1.5.0",
          "model_name": "ProgressStyleModel",
          "state": {
            "_model_module": "@jupyter-widgets/controls",
            "_model_module_version": "1.5.0",
            "_model_name": "ProgressStyleModel",
            "_view_count": null,
            "_view_module": "@jupyter-widgets/base",
            "_view_module_version": "1.2.0",
            "_view_name": "StyleView",
            "bar_color": null,
            "description_width": ""
          }
        },
        "1d18cd69f9f44185bb29c4d785e1538c": {
          "model_module": "@jupyter-widgets/controls",
          "model_module_version": "1.5.0",
          "model_name": "HTMLModel",
          "state": {
            "_dom_classes": [],
            "_model_module": "@jupyter-widgets/controls",
            "_model_module_version": "1.5.0",
            "_model_name": "HTMLModel",
            "_view_count": null,
            "_view_module": "@jupyter-widgets/controls",
            "_view_module_version": "1.5.0",
            "_view_name": "HTMLView",
            "description": "",
            "description_tooltip": null,
            "layout": "IPY_MODEL_a52f5729466942979b38694065a07d3e",
            "placeholder": "​",
            "style": "IPY_MODEL_4a8e56dc1bf34c1eb8268582b43391e5",
            "value": " 6.88k/6.88k [00:00&lt;00:00, 143kB/s]"
          }
        },
        "1e6db060ec79440aa20781bbf1560ddc": {
          "model_module": "@jupyter-widgets/controls",
          "model_module_version": "1.5.0",
          "model_name": "FloatProgressModel",
          "state": {
            "_dom_classes": [],
            "_model_module": "@jupyter-widgets/controls",
            "_model_module_version": "1.5.0",
            "_model_name": "FloatProgressModel",
            "_view_count": null,
            "_view_module": "@jupyter-widgets/controls",
            "_view_module_version": "1.5.0",
            "_view_name": "ProgressView",
            "bar_style": "success",
            "description": "",
            "description_tooltip": null,
            "layout": "IPY_MODEL_dc8a187ab12f45dc862f9c73269f85ff",
            "max": 271,
            "min": 0,
            "orientation": "horizontal",
            "style": "IPY_MODEL_46fad1cd45cd4b0d9635d54df43aee3d",
            "value": 271
          }
        },
        "26a1da1d7d30477ebae2b4f3bb66a54d": {
          "model_module": "@jupyter-widgets/controls",
          "model_module_version": "1.5.0",
          "model_name": "HTMLModel",
          "state": {
            "_dom_classes": [],
            "_model_module": "@jupyter-widgets/controls",
            "_model_module_version": "1.5.0",
            "_model_name": "HTMLModel",
            "_view_count": null,
            "_view_module": "@jupyter-widgets/controls",
            "_view_module_version": "1.5.0",
            "_view_name": "HTMLView",
            "description": "",
            "description_tooltip": null,
            "layout": "IPY_MODEL_8f0c15b83e3b4fe2913b5d24bf3e1d16",
            "placeholder": "​",
            "style": "IPY_MODEL_e0d362261286468faea7bad437d0f5ef",
            "value": "Downloading pytorch_model.bin: 100%"
          }
        },
        "2f7a56fd99114d1dbcb956eccc60cfe0": {
          "model_module": "@jupyter-widgets/controls",
          "model_module_version": "1.5.0",
          "model_name": "ProgressStyleModel",
          "state": {
            "_model_module": "@jupyter-widgets/controls",
            "_model_module_version": "1.5.0",
            "_model_name": "ProgressStyleModel",
            "_view_count": null,
            "_view_module": "@jupyter-widgets/base",
            "_view_module_version": "1.2.0",
            "_view_name": "StyleView",
            "bar_color": null,
            "description_width": ""
          }
        },
        "3b3671b922134d799d9bad8437c8b71a": {
          "model_module": "@jupyter-widgets/base",
          "model_module_version": "1.2.0",
          "model_name": "LayoutModel",
          "state": {
            "_model_module": "@jupyter-widgets/base",
            "_model_module_version": "1.2.0",
            "_model_name": "LayoutModel",
            "_view_count": null,
            "_view_module": "@jupyter-widgets/base",
            "_view_module_version": "1.2.0",
            "_view_name": "LayoutView",
            "align_content": null,
            "align_items": null,
            "align_self": null,
            "border": null,
            "bottom": null,
            "display": null,
            "flex": null,
            "flex_flow": null,
            "grid_area": null,
            "grid_auto_columns": null,
            "grid_auto_flow": null,
            "grid_auto_rows": null,
            "grid_column": null,
            "grid_gap": null,
            "grid_row": null,
            "grid_template_areas": null,
            "grid_template_columns": null,
            "grid_template_rows": null,
            "height": null,
            "justify_content": null,
            "justify_items": null,
            "left": null,
            "margin": null,
            "max_height": null,
            "max_width": null,
            "min_height": null,
            "min_width": null,
            "object_fit": null,
            "object_position": null,
            "order": null,
            "overflow": null,
            "overflow_x": null,
            "overflow_y": null,
            "padding": null,
            "right": null,
            "top": null,
            "visibility": null,
            "width": null
          }
        },
        "46fad1cd45cd4b0d9635d54df43aee3d": {
          "model_module": "@jupyter-widgets/controls",
          "model_module_version": "1.5.0",
          "model_name": "ProgressStyleModel",
          "state": {
            "_model_module": "@jupyter-widgets/controls",
            "_model_module_version": "1.5.0",
            "_model_name": "ProgressStyleModel",
            "_view_count": null,
            "_view_module": "@jupyter-widgets/base",
            "_view_module_version": "1.2.0",
            "_view_name": "StyleView",
            "bar_color": null,
            "description_width": ""
          }
        },
        "4a8e56dc1bf34c1eb8268582b43391e5": {
          "model_module": "@jupyter-widgets/controls",
          "model_module_version": "1.5.0",
          "model_name": "DescriptionStyleModel",
          "state": {
            "_model_module": "@jupyter-widgets/controls",
            "_model_module_version": "1.5.0",
            "_model_name": "DescriptionStyleModel",
            "_view_count": null,
            "_view_module": "@jupyter-widgets/base",
            "_view_module_version": "1.2.0",
            "_view_name": "StyleView",
            "description_width": ""
          }
        },
        "5656c2386ce34e71a7509868893d7609": {
          "model_module": "@jupyter-widgets/controls",
          "model_module_version": "1.5.0",
          "model_name": "DescriptionStyleModel",
          "state": {
            "_model_module": "@jupyter-widgets/controls",
            "_model_module_version": "1.5.0",
            "_model_name": "DescriptionStyleModel",
            "_view_count": null,
            "_view_module": "@jupyter-widgets/base",
            "_view_module_version": "1.2.0",
            "_view_name": "StyleView",
            "description_width": ""
          }
        },
        "5ff62f1e9e884b61bf3ed48ce19f084a": {
          "model_module": "@jupyter-widgets/base",
          "model_module_version": "1.2.0",
          "model_name": "LayoutModel",
          "state": {
            "_model_module": "@jupyter-widgets/base",
            "_model_module_version": "1.2.0",
            "_model_name": "LayoutModel",
            "_view_count": null,
            "_view_module": "@jupyter-widgets/base",
            "_view_module_version": "1.2.0",
            "_view_name": "LayoutView",
            "align_content": null,
            "align_items": null,
            "align_self": null,
            "border": null,
            "bottom": null,
            "display": null,
            "flex": null,
            "flex_flow": null,
            "grid_area": null,
            "grid_auto_columns": null,
            "grid_auto_flow": null,
            "grid_auto_rows": null,
            "grid_column": null,
            "grid_gap": null,
            "grid_row": null,
            "grid_template_areas": null,
            "grid_template_columns": null,
            "grid_template_rows": null,
            "height": null,
            "justify_content": null,
            "justify_items": null,
            "left": null,
            "margin": null,
            "max_height": null,
            "max_width": null,
            "min_height": null,
            "min_width": null,
            "object_fit": null,
            "object_position": null,
            "order": null,
            "overflow": null,
            "overflow_x": null,
            "overflow_y": null,
            "padding": null,
            "right": null,
            "top": null,
            "visibility": null,
            "width": null
          }
        },
        "68922e9a5ef742e5a5ebf013a4dc343d": {
          "model_module": "@jupyter-widgets/base",
          "model_module_version": "1.2.0",
          "model_name": "LayoutModel",
          "state": {
            "_model_module": "@jupyter-widgets/base",
            "_model_module_version": "1.2.0",
            "_model_name": "LayoutModel",
            "_view_count": null,
            "_view_module": "@jupyter-widgets/base",
            "_view_module_version": "1.2.0",
            "_view_name": "LayoutView",
            "align_content": null,
            "align_items": null,
            "align_self": null,
            "border": null,
            "bottom": null,
            "display": null,
            "flex": null,
            "flex_flow": null,
            "grid_area": null,
            "grid_auto_columns": null,
            "grid_auto_flow": null,
            "grid_auto_rows": null,
            "grid_column": null,
            "grid_gap": null,
            "grid_row": null,
            "grid_template_areas": null,
            "grid_template_columns": null,
            "grid_template_rows": null,
            "height": null,
            "justify_content": null,
            "justify_items": null,
            "left": null,
            "margin": null,
            "max_height": null,
            "max_width": null,
            "min_height": null,
            "min_width": null,
            "object_fit": null,
            "object_position": null,
            "order": null,
            "overflow": null,
            "overflow_x": null,
            "overflow_y": null,
            "padding": null,
            "right": null,
            "top": null,
            "visibility": null,
            "width": null
          }
        },
        "6d3893d3a82440a0aaa99d7b2edb5dfe": {
          "model_module": "@jupyter-widgets/controls",
          "model_module_version": "1.5.0",
          "model_name": "DescriptionStyleModel",
          "state": {
            "_model_module": "@jupyter-widgets/controls",
            "_model_module_version": "1.5.0",
            "_model_name": "DescriptionStyleModel",
            "_view_count": null,
            "_view_module": "@jupyter-widgets/base",
            "_view_module_version": "1.2.0",
            "_view_name": "StyleView",
            "description_width": ""
          }
        },
        "6e75587c6c794eda9e327a08705012f4": {
          "model_module": "@jupyter-widgets/controls",
          "model_module_version": "1.5.0",
          "model_name": "HTMLModel",
          "state": {
            "_dom_classes": [],
            "_model_module": "@jupyter-widgets/controls",
            "_model_module_version": "1.5.0",
            "_model_name": "HTMLModel",
            "_view_count": null,
            "_view_module": "@jupyter-widgets/controls",
            "_view_module_version": "1.5.0",
            "_view_name": "HTMLView",
            "description": "",
            "description_tooltip": null,
            "layout": "IPY_MODEL_7b8691595b974e74b0dc533bc169eee5",
            "placeholder": "​",
            "style": "IPY_MODEL_766643e114284e5db7555fdf9fdaf214",
            "value": "Downloading (…)lve/main/config.json: 100%"
          }
        },
        "766643e114284e5db7555fdf9fdaf214": {
          "model_module": "@jupyter-widgets/controls",
          "model_module_version": "1.5.0",
          "model_name": "DescriptionStyleModel",
          "state": {
            "_model_module": "@jupyter-widgets/controls",
            "_model_module_version": "1.5.0",
            "_model_name": "DescriptionStyleModel",
            "_view_count": null,
            "_view_module": "@jupyter-widgets/base",
            "_view_module_version": "1.2.0",
            "_view_name": "StyleView",
            "description_width": ""
          }
        },
        "7b8691595b974e74b0dc533bc169eee5": {
          "model_module": "@jupyter-widgets/base",
          "model_module_version": "1.2.0",
          "model_name": "LayoutModel",
          "state": {
            "_model_module": "@jupyter-widgets/base",
            "_model_module_version": "1.2.0",
            "_model_name": "LayoutModel",
            "_view_count": null,
            "_view_module": "@jupyter-widgets/base",
            "_view_module_version": "1.2.0",
            "_view_name": "LayoutView",
            "align_content": null,
            "align_items": null,
            "align_self": null,
            "border": null,
            "bottom": null,
            "display": null,
            "flex": null,
            "flex_flow": null,
            "grid_area": null,
            "grid_auto_columns": null,
            "grid_auto_flow": null,
            "grid_auto_rows": null,
            "grid_column": null,
            "grid_gap": null,
            "grid_row": null,
            "grid_template_areas": null,
            "grid_template_columns": null,
            "grid_template_rows": null,
            "height": null,
            "justify_content": null,
            "justify_items": null,
            "left": null,
            "margin": null,
            "max_height": null,
            "max_width": null,
            "min_height": null,
            "min_width": null,
            "object_fit": null,
            "object_position": null,
            "order": null,
            "overflow": null,
            "overflow_x": null,
            "overflow_y": null,
            "padding": null,
            "right": null,
            "top": null,
            "visibility": null,
            "width": null
          }
        },
        "8f0c15b83e3b4fe2913b5d24bf3e1d16": {
          "model_module": "@jupyter-widgets/base",
          "model_module_version": "1.2.0",
          "model_name": "LayoutModel",
          "state": {
            "_model_module": "@jupyter-widgets/base",
            "_model_module_version": "1.2.0",
            "_model_name": "LayoutModel",
            "_view_count": null,
            "_view_module": "@jupyter-widgets/base",
            "_view_module_version": "1.2.0",
            "_view_name": "LayoutView",
            "align_content": null,
            "align_items": null,
            "align_self": null,
            "border": null,
            "bottom": null,
            "display": null,
            "flex": null,
            "flex_flow": null,
            "grid_area": null,
            "grid_auto_columns": null,
            "grid_auto_flow": null,
            "grid_auto_rows": null,
            "grid_column": null,
            "grid_gap": null,
            "grid_row": null,
            "grid_template_areas": null,
            "grid_template_columns": null,
            "grid_template_rows": null,
            "height": null,
            "justify_content": null,
            "justify_items": null,
            "left": null,
            "margin": null,
            "max_height": null,
            "max_width": null,
            "min_height": null,
            "min_width": null,
            "object_fit": null,
            "object_position": null,
            "order": null,
            "overflow": null,
            "overflow_x": null,
            "overflow_y": null,
            "padding": null,
            "right": null,
            "top": null,
            "visibility": null,
            "width": null
          }
        },
        "a52f5729466942979b38694065a07d3e": {
          "model_module": "@jupyter-widgets/base",
          "model_module_version": "1.2.0",
          "model_name": "LayoutModel",
          "state": {
            "_model_module": "@jupyter-widgets/base",
            "_model_module_version": "1.2.0",
            "_model_name": "LayoutModel",
            "_view_count": null,
            "_view_module": "@jupyter-widgets/base",
            "_view_module_version": "1.2.0",
            "_view_name": "LayoutView",
            "align_content": null,
            "align_items": null,
            "align_self": null,
            "border": null,
            "bottom": null,
            "display": null,
            "flex": null,
            "flex_flow": null,
            "grid_area": null,
            "grid_auto_columns": null,
            "grid_auto_flow": null,
            "grid_auto_rows": null,
            "grid_column": null,
            "grid_gap": null,
            "grid_row": null,
            "grid_template_areas": null,
            "grid_template_columns": null,
            "grid_template_rows": null,
            "height": null,
            "justify_content": null,
            "justify_items": null,
            "left": null,
            "margin": null,
            "max_height": null,
            "max_width": null,
            "min_height": null,
            "min_width": null,
            "object_fit": null,
            "object_position": null,
            "order": null,
            "overflow": null,
            "overflow_x": null,
            "overflow_y": null,
            "padding": null,
            "right": null,
            "top": null,
            "visibility": null,
            "width": null
          }
        },
        "a53cb32ab3d74c39a4e55a1dc53d7f1f": {
          "model_module": "@jupyter-widgets/controls",
          "model_module_version": "1.5.0",
          "model_name": "HTMLModel",
          "state": {
            "_dom_classes": [],
            "_model_module": "@jupyter-widgets/controls",
            "_model_module_version": "1.5.0",
            "_model_name": "HTMLModel",
            "_view_count": null,
            "_view_module": "@jupyter-widgets/controls",
            "_view_module_version": "1.5.0",
            "_view_name": "HTMLView",
            "description": "",
            "description_tooltip": null,
            "layout": "IPY_MODEL_fd300b6580a64553a1b0a5cc8e0936cd",
            "placeholder": "​",
            "style": "IPY_MODEL_eda9827554d54bdeb6493405a6f9ab66",
            "value": " 15.1M/15.1M [00:00&lt;00:00, 73.4MB/s]"
          }
        },
        "a6edc04d287e42f9aefe3f520086d478": {
          "model_module": "@jupyter-widgets/base",
          "model_module_version": "1.2.0",
          "model_name": "LayoutModel",
          "state": {
            "_model_module": "@jupyter-widgets/base",
            "_model_module_version": "1.2.0",
            "_model_name": "LayoutModel",
            "_view_count": null,
            "_view_module": "@jupyter-widgets/base",
            "_view_module_version": "1.2.0",
            "_view_name": "LayoutView",
            "align_content": null,
            "align_items": null,
            "align_self": null,
            "border": null,
            "bottom": null,
            "display": null,
            "flex": null,
            "flex_flow": null,
            "grid_area": null,
            "grid_auto_columns": null,
            "grid_auto_flow": null,
            "grid_auto_rows": null,
            "grid_column": null,
            "grid_gap": null,
            "grid_row": null,
            "grid_template_areas": null,
            "grid_template_columns": null,
            "grid_template_rows": null,
            "height": null,
            "justify_content": null,
            "justify_items": null,
            "left": null,
            "margin": null,
            "max_height": null,
            "max_width": null,
            "min_height": null,
            "min_width": null,
            "object_fit": null,
            "object_position": null,
            "order": null,
            "overflow": null,
            "overflow_x": null,
            "overflow_y": null,
            "padding": null,
            "right": null,
            "top": null,
            "visibility": null,
            "width": null
          }
        },
        "b3d00b4fdfa940329936cbc04d30e57e": {
          "model_module": "@jupyter-widgets/controls",
          "model_module_version": "1.5.0",
          "model_name": "HBoxModel",
          "state": {
            "_dom_classes": [],
            "_model_module": "@jupyter-widgets/controls",
            "_model_module_version": "1.5.0",
            "_model_name": "HBoxModel",
            "_view_count": null,
            "_view_module": "@jupyter-widgets/controls",
            "_view_module_version": "1.5.0",
            "_view_name": "HBoxView",
            "box_style": "",
            "children": [
              "IPY_MODEL_6e75587c6c794eda9e327a08705012f4",
              "IPY_MODEL_b83b4eeaa0a240b5964397f88fec0cc7",
              "IPY_MODEL_1d18cd69f9f44185bb29c4d785e1538c"
            ],
            "layout": "IPY_MODEL_d856866b2e1a468e9134d39c53203b23"
          }
        },
        "b83b4eeaa0a240b5964397f88fec0cc7": {
          "model_module": "@jupyter-widgets/controls",
          "model_module_version": "1.5.0",
          "model_name": "FloatProgressModel",
          "state": {
            "_dom_classes": [],
            "_model_module": "@jupyter-widgets/controls",
            "_model_module_version": "1.5.0",
            "_model_name": "FloatProgressModel",
            "_view_count": null,
            "_view_module": "@jupyter-widgets/controls",
            "_view_module_version": "1.5.0",
            "_view_name": "ProgressView",
            "bar_style": "success",
            "description": "",
            "description_tooltip": null,
            "layout": "IPY_MODEL_68922e9a5ef742e5a5ebf013a4dc343d",
            "max": 6884,
            "min": 0,
            "orientation": "horizontal",
            "style": "IPY_MODEL_2f7a56fd99114d1dbcb956eccc60cfe0",
            "value": 6884
          }
        },
        "b966a4144c3b4d51b9a651a23436a06a": {
          "model_module": "@jupyter-widgets/controls",
          "model_module_version": "1.5.0",
          "model_name": "HBoxModel",
          "state": {
            "_dom_classes": [],
            "_model_module": "@jupyter-widgets/controls",
            "_model_module_version": "1.5.0",
            "_model_name": "HBoxModel",
            "_view_count": null,
            "_view_module": "@jupyter-widgets/controls",
            "_view_module_version": "1.5.0",
            "_view_name": "HBoxView",
            "box_style": "",
            "children": [
              "IPY_MODEL_26a1da1d7d30477ebae2b4f3bb66a54d",
              "IPY_MODEL_fcbcdfe691c54f9c93fd78c1ca9063af",
              "IPY_MODEL_a53cb32ab3d74c39a4e55a1dc53d7f1f"
            ],
            "layout": "IPY_MODEL_a6edc04d287e42f9aefe3f520086d478"
          }
        },
        "bd987335c128424dbac230965f027fba": {
          "model_module": "@jupyter-widgets/controls",
          "model_module_version": "1.5.0",
          "model_name": "HTMLModel",
          "state": {
            "_dom_classes": [],
            "_model_module": "@jupyter-widgets/controls",
            "_model_module_version": "1.5.0",
            "_model_name": "HTMLModel",
            "_view_count": null,
            "_view_module": "@jupyter-widgets/controls",
            "_view_module_version": "1.5.0",
            "_view_name": "HTMLView",
            "description": "",
            "description_tooltip": null,
            "layout": "IPY_MODEL_3b3671b922134d799d9bad8437c8b71a",
            "placeholder": "​",
            "style": "IPY_MODEL_6d3893d3a82440a0aaa99d7b2edb5dfe",
            "value": " 271/271 [00:00&lt;00:00, 4.07kB/s]"
          }
        },
        "c32ce5766f2247df853625417091d7aa": {
          "model_module": "@jupyter-widgets/base",
          "model_module_version": "1.2.0",
          "model_name": "LayoutModel",
          "state": {
            "_model_module": "@jupyter-widgets/base",
            "_model_module_version": "1.2.0",
            "_model_name": "LayoutModel",
            "_view_count": null,
            "_view_module": "@jupyter-widgets/base",
            "_view_module_version": "1.2.0",
            "_view_name": "LayoutView",
            "align_content": null,
            "align_items": null,
            "align_self": null,
            "border": null,
            "bottom": null,
            "display": null,
            "flex": null,
            "flex_flow": null,
            "grid_area": null,
            "grid_auto_columns": null,
            "grid_auto_flow": null,
            "grid_auto_rows": null,
            "grid_column": null,
            "grid_gap": null,
            "grid_row": null,
            "grid_template_areas": null,
            "grid_template_columns": null,
            "grid_template_rows": null,
            "height": null,
            "justify_content": null,
            "justify_items": null,
            "left": null,
            "margin": null,
            "max_height": null,
            "max_width": null,
            "min_height": null,
            "min_width": null,
            "object_fit": null,
            "object_position": null,
            "order": null,
            "overflow": null,
            "overflow_x": null,
            "overflow_y": null,
            "padding": null,
            "right": null,
            "top": null,
            "visibility": null,
            "width": null
          }
        },
        "d856866b2e1a468e9134d39c53203b23": {
          "model_module": "@jupyter-widgets/base",
          "model_module_version": "1.2.0",
          "model_name": "LayoutModel",
          "state": {
            "_model_module": "@jupyter-widgets/base",
            "_model_module_version": "1.2.0",
            "_model_name": "LayoutModel",
            "_view_count": null,
            "_view_module": "@jupyter-widgets/base",
            "_view_module_version": "1.2.0",
            "_view_name": "LayoutView",
            "align_content": null,
            "align_items": null,
            "align_self": null,
            "border": null,
            "bottom": null,
            "display": null,
            "flex": null,
            "flex_flow": null,
            "grid_area": null,
            "grid_auto_columns": null,
            "grid_auto_flow": null,
            "grid_auto_rows": null,
            "grid_column": null,
            "grid_gap": null,
            "grid_row": null,
            "grid_template_areas": null,
            "grid_template_columns": null,
            "grid_template_rows": null,
            "height": null,
            "justify_content": null,
            "justify_items": null,
            "left": null,
            "margin": null,
            "max_height": null,
            "max_width": null,
            "min_height": null,
            "min_width": null,
            "object_fit": null,
            "object_position": null,
            "order": null,
            "overflow": null,
            "overflow_x": null,
            "overflow_y": null,
            "padding": null,
            "right": null,
            "top": null,
            "visibility": null,
            "width": null
          }
        },
        "dc8a187ab12f45dc862f9c73269f85ff": {
          "model_module": "@jupyter-widgets/base",
          "model_module_version": "1.2.0",
          "model_name": "LayoutModel",
          "state": {
            "_model_module": "@jupyter-widgets/base",
            "_model_module_version": "1.2.0",
            "_model_name": "LayoutModel",
            "_view_count": null,
            "_view_module": "@jupyter-widgets/base",
            "_view_module_version": "1.2.0",
            "_view_name": "LayoutView",
            "align_content": null,
            "align_items": null,
            "align_self": null,
            "border": null,
            "bottom": null,
            "display": null,
            "flex": null,
            "flex_flow": null,
            "grid_area": null,
            "grid_auto_columns": null,
            "grid_auto_flow": null,
            "grid_auto_rows": null,
            "grid_column": null,
            "grid_gap": null,
            "grid_row": null,
            "grid_template_areas": null,
            "grid_template_columns": null,
            "grid_template_rows": null,
            "height": null,
            "justify_content": null,
            "justify_items": null,
            "left": null,
            "margin": null,
            "max_height": null,
            "max_width": null,
            "min_height": null,
            "min_width": null,
            "object_fit": null,
            "object_position": null,
            "order": null,
            "overflow": null,
            "overflow_x": null,
            "overflow_y": null,
            "padding": null,
            "right": null,
            "top": null,
            "visibility": null,
            "width": null
          }
        },
        "e0d362261286468faea7bad437d0f5ef": {
          "model_module": "@jupyter-widgets/controls",
          "model_module_version": "1.5.0",
          "model_name": "DescriptionStyleModel",
          "state": {
            "_model_module": "@jupyter-widgets/controls",
            "_model_module_version": "1.5.0",
            "_model_name": "DescriptionStyleModel",
            "_view_count": null,
            "_view_module": "@jupyter-widgets/base",
            "_view_module_version": "1.2.0",
            "_view_name": "StyleView",
            "description_width": ""
          }
        },
        "eda9827554d54bdeb6493405a6f9ab66": {
          "model_module": "@jupyter-widgets/controls",
          "model_module_version": "1.5.0",
          "model_name": "DescriptionStyleModel",
          "state": {
            "_model_module": "@jupyter-widgets/controls",
            "_model_module_version": "1.5.0",
            "_model_name": "DescriptionStyleModel",
            "_view_count": null,
            "_view_module": "@jupyter-widgets/base",
            "_view_module_version": "1.2.0",
            "_view_name": "StyleView",
            "description_width": ""
          }
        },
        "f16c1cdf19b24acb87aebdaea422edc1": {
          "model_module": "@jupyter-widgets/base",
          "model_module_version": "1.2.0",
          "model_name": "LayoutModel",
          "state": {
            "_model_module": "@jupyter-widgets/base",
            "_model_module_version": "1.2.0",
            "_model_name": "LayoutModel",
            "_view_count": null,
            "_view_module": "@jupyter-widgets/base",
            "_view_module_version": "1.2.0",
            "_view_name": "LayoutView",
            "align_content": null,
            "align_items": null,
            "align_self": null,
            "border": null,
            "bottom": null,
            "display": null,
            "flex": null,
            "flex_flow": null,
            "grid_area": null,
            "grid_auto_columns": null,
            "grid_auto_flow": null,
            "grid_auto_rows": null,
            "grid_column": null,
            "grid_gap": null,
            "grid_row": null,
            "grid_template_areas": null,
            "grid_template_columns": null,
            "grid_template_rows": null,
            "height": null,
            "justify_content": null,
            "justify_items": null,
            "left": null,
            "margin": null,
            "max_height": null,
            "max_width": null,
            "min_height": null,
            "min_width": null,
            "object_fit": null,
            "object_position": null,
            "order": null,
            "overflow": null,
            "overflow_x": null,
            "overflow_y": null,
            "padding": null,
            "right": null,
            "top": null,
            "visibility": null,
            "width": null
          }
        },
        "f5911f23fd0d483ead05b6b311e272dd": {
          "model_module": "@jupyter-widgets/controls",
          "model_module_version": "1.5.0",
          "model_name": "HBoxModel",
          "state": {
            "_dom_classes": [],
            "_model_module": "@jupyter-widgets/controls",
            "_model_module_version": "1.5.0",
            "_model_name": "HBoxModel",
            "_view_count": null,
            "_view_module": "@jupyter-widgets/controls",
            "_view_module_version": "1.5.0",
            "_view_name": "HBoxView",
            "box_style": "",
            "children": [
              "IPY_MODEL_0c7b9430a40a4ff39e579d22a78ef1a4",
              "IPY_MODEL_1e6db060ec79440aa20781bbf1560ddc",
              "IPY_MODEL_bd987335c128424dbac230965f027fba"
            ],
            "layout": "IPY_MODEL_f16c1cdf19b24acb87aebdaea422edc1"
          }
        },
        "fcbcdfe691c54f9c93fd78c1ca9063af": {
          "model_module": "@jupyter-widgets/controls",
          "model_module_version": "1.5.0",
          "model_name": "FloatProgressModel",
          "state": {
            "_dom_classes": [],
            "_model_module": "@jupyter-widgets/controls",
            "_model_module_version": "1.5.0",
            "_model_name": "FloatProgressModel",
            "_view_count": null,
            "_view_module": "@jupyter-widgets/controls",
            "_view_module_version": "1.5.0",
            "_view_name": "ProgressView",
            "bar_style": "success",
            "description": "",
            "description_tooltip": null,
            "layout": "IPY_MODEL_5ff62f1e9e884b61bf3ed48ce19f084a",
            "max": 15092257,
            "min": 0,
            "orientation": "horizontal",
            "style": "IPY_MODEL_13a7001201154054a404adf21cf03233",
            "value": 15092257
          }
        },
        "fd300b6580a64553a1b0a5cc8e0936cd": {
          "model_module": "@jupyter-widgets/base",
          "model_module_version": "1.2.0",
          "model_name": "LayoutModel",
          "state": {
            "_model_module": "@jupyter-widgets/base",
            "_model_module_version": "1.2.0",
            "_model_name": "LayoutModel",
            "_view_count": null,
            "_view_module": "@jupyter-widgets/base",
            "_view_module_version": "1.2.0",
            "_view_name": "LayoutView",
            "align_content": null,
            "align_items": null,
            "align_self": null,
            "border": null,
            "bottom": null,
            "display": null,
            "flex": null,
            "flex_flow": null,
            "grid_area": null,
            "grid_auto_columns": null,
            "grid_auto_flow": null,
            "grid_auto_rows": null,
            "grid_column": null,
            "grid_gap": null,
            "grid_row": null,
            "grid_template_areas": null,
            "grid_template_columns": null,
            "grid_template_rows": null,
            "height": null,
            "justify_content": null,
            "justify_items": null,
            "left": null,
            "margin": null,
            "max_height": null,
            "max_width": null,
            "min_height": null,
            "min_width": null,
            "object_fit": null,
            "object_position": null,
            "order": null,
            "overflow": null,
            "overflow_x": null,
            "overflow_y": null,
            "padding": null,
            "right": null,
            "top": null,
            "visibility": null,
            "width": null
          }
        },
        "c6b73e037d674e73b99d6080232c410b": {
          "model_module": "@jupyter-widgets/controls",
          "model_name": "VBoxModel",
          "model_module_version": "1.5.0",
          "state": {
            "_dom_classes": [],
            "_model_module": "@jupyter-widgets/controls",
            "_model_module_version": "1.5.0",
            "_model_name": "VBoxModel",
            "_view_count": null,
            "_view_module": "@jupyter-widgets/controls",
            "_view_module_version": "1.5.0",
            "_view_name": "VBoxView",
            "box_style": "",
            "children": [
              "IPY_MODEL_1c2172f236c84a1e94a9e88c7f95adfd",
              "IPY_MODEL_dadbedaa490844058a6740585de20f4a",
              "IPY_MODEL_24536983521242528262a4814aee01ba",
              "IPY_MODEL_744082160f404a6aaeb5930e4c355590",
              "IPY_MODEL_f98259794c88464b96dce3a14ef68c04"
            ],
            "layout": "IPY_MODEL_053591040ac3418093d3fb34fed4dc30"
          }
        },
        "1c2172f236c84a1e94a9e88c7f95adfd": {
          "model_module": "@jupyter-widgets/controls",
          "model_name": "HTMLModel",
          "model_module_version": "1.5.0",
          "state": {
            "_dom_classes": [],
            "_model_module": "@jupyter-widgets/controls",
            "_model_module_version": "1.5.0",
            "_model_name": "HTMLModel",
            "_view_count": null,
            "_view_module": "@jupyter-widgets/controls",
            "_view_module_version": "1.5.0",
            "_view_name": "HTMLView",
            "description": "",
            "description_tooltip": null,
            "layout": "IPY_MODEL_0b735795190342178168fe8e53d129b7",
            "placeholder": "​",
            "style": "IPY_MODEL_019fa7ef77ca4768b0accf7156e5c356",
            "value": "<center> <img\nsrc=https://huggingface.co/front/assets/huggingface_logo-noborder.svg\nalt='Hugging Face'> <br> Copy a token from <a\nhref=\"https://huggingface.co/settings/tokens\" target=\"_blank\">your Hugging Face\ntokens page</a> and paste it below. <br> Immediately click login after copying\nyour token or it might be stored in plain text in this notebook file. </center>"
          }
        },
        "dadbedaa490844058a6740585de20f4a": {
          "model_module": "@jupyter-widgets/controls",
          "model_name": "PasswordModel",
          "model_module_version": "1.5.0",
          "state": {
            "_dom_classes": [],
            "_model_module": "@jupyter-widgets/controls",
            "_model_module_version": "1.5.0",
            "_model_name": "PasswordModel",
            "_view_count": null,
            "_view_module": "@jupyter-widgets/controls",
            "_view_module_version": "1.5.0",
            "_view_name": "PasswordView",
            "continuous_update": true,
            "description": "Token:",
            "description_tooltip": null,
            "disabled": false,
            "layout": "IPY_MODEL_10c500a60c4444b99e891060b66e9f3d",
            "placeholder": "​",
            "style": "IPY_MODEL_4c3ff4e46ff54bec9b585ae11c50d6cc",
            "value": ""
          }
        },
        "24536983521242528262a4814aee01ba": {
          "model_module": "@jupyter-widgets/controls",
          "model_name": "CheckboxModel",
          "model_module_version": "1.5.0",
          "state": {
            "_dom_classes": [],
            "_model_module": "@jupyter-widgets/controls",
            "_model_module_version": "1.5.0",
            "_model_name": "CheckboxModel",
            "_view_count": null,
            "_view_module": "@jupyter-widgets/controls",
            "_view_module_version": "1.5.0",
            "_view_name": "CheckboxView",
            "description": "Add token as git credential?",
            "description_tooltip": null,
            "disabled": false,
            "indent": true,
            "layout": "IPY_MODEL_ecc9ec8e10c04171a7eb470933e876dc",
            "style": "IPY_MODEL_b3c718282e474f6b98b97f62ba98b1a2",
            "value": true
          }
        },
        "744082160f404a6aaeb5930e4c355590": {
          "model_module": "@jupyter-widgets/controls",
          "model_name": "ButtonModel",
          "model_module_version": "1.5.0",
          "state": {
            "_dom_classes": [],
            "_model_module": "@jupyter-widgets/controls",
            "_model_module_version": "1.5.0",
            "_model_name": "ButtonModel",
            "_view_count": null,
            "_view_module": "@jupyter-widgets/controls",
            "_view_module_version": "1.5.0",
            "_view_name": "ButtonView",
            "button_style": "",
            "description": "Login",
            "disabled": false,
            "icon": "",
            "layout": "IPY_MODEL_3c4b238186214899bcf622daeaf4bfbf",
            "style": "IPY_MODEL_acd7ea3cfe8747c9a20e0408ba9d2563",
            "tooltip": ""
          }
        },
        "f98259794c88464b96dce3a14ef68c04": {
          "model_module": "@jupyter-widgets/controls",
          "model_name": "HTMLModel",
          "model_module_version": "1.5.0",
          "state": {
            "_dom_classes": [],
            "_model_module": "@jupyter-widgets/controls",
            "_model_module_version": "1.5.0",
            "_model_name": "HTMLModel",
            "_view_count": null,
            "_view_module": "@jupyter-widgets/controls",
            "_view_module_version": "1.5.0",
            "_view_name": "HTMLView",
            "description": "",
            "description_tooltip": null,
            "layout": "IPY_MODEL_85bca201183c490f92dc19949040cb01",
            "placeholder": "​",
            "style": "IPY_MODEL_c832547198034830a2351a907fc25a13",
            "value": "\n<b>Pro Tip:</b> If you don't already have one, you can create a dedicated\n'notebooks' token with 'write' access, that you can then easily reuse for all\nnotebooks. </center>"
          }
        },
        "053591040ac3418093d3fb34fed4dc30": {
          "model_module": "@jupyter-widgets/base",
          "model_name": "LayoutModel",
          "model_module_version": "1.2.0",
          "state": {
            "_model_module": "@jupyter-widgets/base",
            "_model_module_version": "1.2.0",
            "_model_name": "LayoutModel",
            "_view_count": null,
            "_view_module": "@jupyter-widgets/base",
            "_view_module_version": "1.2.0",
            "_view_name": "LayoutView",
            "align_content": null,
            "align_items": "center",
            "align_self": null,
            "border": null,
            "bottom": null,
            "display": "flex",
            "flex": null,
            "flex_flow": "column",
            "grid_area": null,
            "grid_auto_columns": null,
            "grid_auto_flow": null,
            "grid_auto_rows": null,
            "grid_column": null,
            "grid_gap": null,
            "grid_row": null,
            "grid_template_areas": null,
            "grid_template_columns": null,
            "grid_template_rows": null,
            "height": null,
            "justify_content": null,
            "justify_items": null,
            "left": null,
            "margin": null,
            "max_height": null,
            "max_width": null,
            "min_height": null,
            "min_width": null,
            "object_fit": null,
            "object_position": null,
            "order": null,
            "overflow": null,
            "overflow_x": null,
            "overflow_y": null,
            "padding": null,
            "right": null,
            "top": null,
            "visibility": null,
            "width": "50%"
          }
        },
        "0b735795190342178168fe8e53d129b7": {
          "model_module": "@jupyter-widgets/base",
          "model_name": "LayoutModel",
          "model_module_version": "1.2.0",
          "state": {
            "_model_module": "@jupyter-widgets/base",
            "_model_module_version": "1.2.0",
            "_model_name": "LayoutModel",
            "_view_count": null,
            "_view_module": "@jupyter-widgets/base",
            "_view_module_version": "1.2.0",
            "_view_name": "LayoutView",
            "align_content": null,
            "align_items": null,
            "align_self": null,
            "border": null,
            "bottom": null,
            "display": null,
            "flex": null,
            "flex_flow": null,
            "grid_area": null,
            "grid_auto_columns": null,
            "grid_auto_flow": null,
            "grid_auto_rows": null,
            "grid_column": null,
            "grid_gap": null,
            "grid_row": null,
            "grid_template_areas": null,
            "grid_template_columns": null,
            "grid_template_rows": null,
            "height": null,
            "justify_content": null,
            "justify_items": null,
            "left": null,
            "margin": null,
            "max_height": null,
            "max_width": null,
            "min_height": null,
            "min_width": null,
            "object_fit": null,
            "object_position": null,
            "order": null,
            "overflow": null,
            "overflow_x": null,
            "overflow_y": null,
            "padding": null,
            "right": null,
            "top": null,
            "visibility": null,
            "width": null
          }
        },
        "019fa7ef77ca4768b0accf7156e5c356": {
          "model_module": "@jupyter-widgets/controls",
          "model_name": "DescriptionStyleModel",
          "model_module_version": "1.5.0",
          "state": {
            "_model_module": "@jupyter-widgets/controls",
            "_model_module_version": "1.5.0",
            "_model_name": "DescriptionStyleModel",
            "_view_count": null,
            "_view_module": "@jupyter-widgets/base",
            "_view_module_version": "1.2.0",
            "_view_name": "StyleView",
            "description_width": ""
          }
        },
        "10c500a60c4444b99e891060b66e9f3d": {
          "model_module": "@jupyter-widgets/base",
          "model_name": "LayoutModel",
          "model_module_version": "1.2.0",
          "state": {
            "_model_module": "@jupyter-widgets/base",
            "_model_module_version": "1.2.0",
            "_model_name": "LayoutModel",
            "_view_count": null,
            "_view_module": "@jupyter-widgets/base",
            "_view_module_version": "1.2.0",
            "_view_name": "LayoutView",
            "align_content": null,
            "align_items": null,
            "align_self": null,
            "border": null,
            "bottom": null,
            "display": null,
            "flex": null,
            "flex_flow": null,
            "grid_area": null,
            "grid_auto_columns": null,
            "grid_auto_flow": null,
            "grid_auto_rows": null,
            "grid_column": null,
            "grid_gap": null,
            "grid_row": null,
            "grid_template_areas": null,
            "grid_template_columns": null,
            "grid_template_rows": null,
            "height": null,
            "justify_content": null,
            "justify_items": null,
            "left": null,
            "margin": null,
            "max_height": null,
            "max_width": null,
            "min_height": null,
            "min_width": null,
            "object_fit": null,
            "object_position": null,
            "order": null,
            "overflow": null,
            "overflow_x": null,
            "overflow_y": null,
            "padding": null,
            "right": null,
            "top": null,
            "visibility": null,
            "width": null
          }
        },
        "4c3ff4e46ff54bec9b585ae11c50d6cc": {
          "model_module": "@jupyter-widgets/controls",
          "model_name": "DescriptionStyleModel",
          "model_module_version": "1.5.0",
          "state": {
            "_model_module": "@jupyter-widgets/controls",
            "_model_module_version": "1.5.0",
            "_model_name": "DescriptionStyleModel",
            "_view_count": null,
            "_view_module": "@jupyter-widgets/base",
            "_view_module_version": "1.2.0",
            "_view_name": "StyleView",
            "description_width": ""
          }
        },
        "ecc9ec8e10c04171a7eb470933e876dc": {
          "model_module": "@jupyter-widgets/base",
          "model_name": "LayoutModel",
          "model_module_version": "1.2.0",
          "state": {
            "_model_module": "@jupyter-widgets/base",
            "_model_module_version": "1.2.0",
            "_model_name": "LayoutModel",
            "_view_count": null,
            "_view_module": "@jupyter-widgets/base",
            "_view_module_version": "1.2.0",
            "_view_name": "LayoutView",
            "align_content": null,
            "align_items": null,
            "align_self": null,
            "border": null,
            "bottom": null,
            "display": null,
            "flex": null,
            "flex_flow": null,
            "grid_area": null,
            "grid_auto_columns": null,
            "grid_auto_flow": null,
            "grid_auto_rows": null,
            "grid_column": null,
            "grid_gap": null,
            "grid_row": null,
            "grid_template_areas": null,
            "grid_template_columns": null,
            "grid_template_rows": null,
            "height": null,
            "justify_content": null,
            "justify_items": null,
            "left": null,
            "margin": null,
            "max_height": null,
            "max_width": null,
            "min_height": null,
            "min_width": null,
            "object_fit": null,
            "object_position": null,
            "order": null,
            "overflow": null,
            "overflow_x": null,
            "overflow_y": null,
            "padding": null,
            "right": null,
            "top": null,
            "visibility": null,
            "width": null
          }
        },
        "b3c718282e474f6b98b97f62ba98b1a2": {
          "model_module": "@jupyter-widgets/controls",
          "model_name": "DescriptionStyleModel",
          "model_module_version": "1.5.0",
          "state": {
            "_model_module": "@jupyter-widgets/controls",
            "_model_module_version": "1.5.0",
            "_model_name": "DescriptionStyleModel",
            "_view_count": null,
            "_view_module": "@jupyter-widgets/base",
            "_view_module_version": "1.2.0",
            "_view_name": "StyleView",
            "description_width": ""
          }
        },
        "3c4b238186214899bcf622daeaf4bfbf": {
          "model_module": "@jupyter-widgets/base",
          "model_name": "LayoutModel",
          "model_module_version": "1.2.0",
          "state": {
            "_model_module": "@jupyter-widgets/base",
            "_model_module_version": "1.2.0",
            "_model_name": "LayoutModel",
            "_view_count": null,
            "_view_module": "@jupyter-widgets/base",
            "_view_module_version": "1.2.0",
            "_view_name": "LayoutView",
            "align_content": null,
            "align_items": null,
            "align_self": null,
            "border": null,
            "bottom": null,
            "display": null,
            "flex": null,
            "flex_flow": null,
            "grid_area": null,
            "grid_auto_columns": null,
            "grid_auto_flow": null,
            "grid_auto_rows": null,
            "grid_column": null,
            "grid_gap": null,
            "grid_row": null,
            "grid_template_areas": null,
            "grid_template_columns": null,
            "grid_template_rows": null,
            "height": null,
            "justify_content": null,
            "justify_items": null,
            "left": null,
            "margin": null,
            "max_height": null,
            "max_width": null,
            "min_height": null,
            "min_width": null,
            "object_fit": null,
            "object_position": null,
            "order": null,
            "overflow": null,
            "overflow_x": null,
            "overflow_y": null,
            "padding": null,
            "right": null,
            "top": null,
            "visibility": null,
            "width": null
          }
        },
        "acd7ea3cfe8747c9a20e0408ba9d2563": {
          "model_module": "@jupyter-widgets/controls",
          "model_name": "ButtonStyleModel",
          "model_module_version": "1.5.0",
          "state": {
            "_model_module": "@jupyter-widgets/controls",
            "_model_module_version": "1.5.0",
            "_model_name": "ButtonStyleModel",
            "_view_count": null,
            "_view_module": "@jupyter-widgets/base",
            "_view_module_version": "1.2.0",
            "_view_name": "StyleView",
            "button_color": null,
            "font_weight": ""
          }
        },
        "85bca201183c490f92dc19949040cb01": {
          "model_module": "@jupyter-widgets/base",
          "model_name": "LayoutModel",
          "model_module_version": "1.2.0",
          "state": {
            "_model_module": "@jupyter-widgets/base",
            "_model_module_version": "1.2.0",
            "_model_name": "LayoutModel",
            "_view_count": null,
            "_view_module": "@jupyter-widgets/base",
            "_view_module_version": "1.2.0",
            "_view_name": "LayoutView",
            "align_content": null,
            "align_items": null,
            "align_self": null,
            "border": null,
            "bottom": null,
            "display": null,
            "flex": null,
            "flex_flow": null,
            "grid_area": null,
            "grid_auto_columns": null,
            "grid_auto_flow": null,
            "grid_auto_rows": null,
            "grid_column": null,
            "grid_gap": null,
            "grid_row": null,
            "grid_template_areas": null,
            "grid_template_columns": null,
            "grid_template_rows": null,
            "height": null,
            "justify_content": null,
            "justify_items": null,
            "left": null,
            "margin": null,
            "max_height": null,
            "max_width": null,
            "min_height": null,
            "min_width": null,
            "object_fit": null,
            "object_position": null,
            "order": null,
            "overflow": null,
            "overflow_x": null,
            "overflow_y": null,
            "padding": null,
            "right": null,
            "top": null,
            "visibility": null,
            "width": null
          }
        },
        "c832547198034830a2351a907fc25a13": {
          "model_module": "@jupyter-widgets/controls",
          "model_name": "DescriptionStyleModel",
          "model_module_version": "1.5.0",
          "state": {
            "_model_module": "@jupyter-widgets/controls",
            "_model_module_version": "1.5.0",
            "_model_name": "DescriptionStyleModel",
            "_view_count": null,
            "_view_module": "@jupyter-widgets/base",
            "_view_module_version": "1.2.0",
            "_view_name": "StyleView",
            "description_width": ""
          }
        },
        "ef0d64d9e7a94fc18b1250bc29ef7123": {
          "model_module": "@jupyter-widgets/controls",
          "model_name": "HBoxModel",
          "model_module_version": "1.5.0",
          "state": {
            "_dom_classes": [],
            "_model_module": "@jupyter-widgets/controls",
            "_model_module_version": "1.5.0",
            "_model_name": "HBoxModel",
            "_view_count": null,
            "_view_module": "@jupyter-widgets/controls",
            "_view_module_version": "1.5.0",
            "_view_name": "HBoxView",
            "box_style": "",
            "children": [
              "IPY_MODEL_01d6fb5a64cc4d48adb5aa0ea0c66e8e",
              "IPY_MODEL_25b934e02c1041ce9e253cb503e0b67f",
              "IPY_MODEL_8c7cfaa8251c4594b39927a61cd64efb"
            ],
            "layout": "IPY_MODEL_c6a7a661ecca4d10938c62482436ac88"
          }
        },
        "01d6fb5a64cc4d48adb5aa0ea0c66e8e": {
          "model_module": "@jupyter-widgets/controls",
          "model_name": "HTMLModel",
          "model_module_version": "1.5.0",
          "state": {
            "_dom_classes": [],
            "_model_module": "@jupyter-widgets/controls",
            "_model_module_version": "1.5.0",
            "_model_name": "HTMLModel",
            "_view_count": null,
            "_view_module": "@jupyter-widgets/controls",
            "_view_module_version": "1.5.0",
            "_view_name": "HTMLView",
            "description": "",
            "description_tooltip": null,
            "layout": "IPY_MODEL_16af30c81bf244a1a66a3642c46f6caf",
            "placeholder": "​",
            "style": "IPY_MODEL_f0e558ea974f477a86499f8567056da4",
            "value": "Downloading (…)rocessor_config.json: 100%"
          }
        },
        "25b934e02c1041ce9e253cb503e0b67f": {
          "model_module": "@jupyter-widgets/controls",
          "model_name": "FloatProgressModel",
          "model_module_version": "1.5.0",
          "state": {
            "_dom_classes": [],
            "_model_module": "@jupyter-widgets/controls",
            "_model_module_version": "1.5.0",
            "_model_name": "FloatProgressModel",
            "_view_count": null,
            "_view_module": "@jupyter-widgets/controls",
            "_view_module_version": "1.5.0",
            "_view_name": "ProgressView",
            "bar_style": "success",
            "description": "",
            "description_tooltip": null,
            "layout": "IPY_MODEL_ceba220614524cc7bf14ce058f3c5f6d",
            "max": 271,
            "min": 0,
            "orientation": "horizontal",
            "style": "IPY_MODEL_f7483f19206b49da966dedec914b6311",
            "value": 271
          }
        },
        "8c7cfaa8251c4594b39927a61cd64efb": {
          "model_module": "@jupyter-widgets/controls",
          "model_name": "HTMLModel",
          "model_module_version": "1.5.0",
          "state": {
            "_dom_classes": [],
            "_model_module": "@jupyter-widgets/controls",
            "_model_module_version": "1.5.0",
            "_model_name": "HTMLModel",
            "_view_count": null,
            "_view_module": "@jupyter-widgets/controls",
            "_view_module_version": "1.5.0",
            "_view_name": "HTMLView",
            "description": "",
            "description_tooltip": null,
            "layout": "IPY_MODEL_bd6bc21787f24ef3862ed781ab830c23",
            "placeholder": "​",
            "style": "IPY_MODEL_50c44a3e19114532831581f164193b0c",
            "value": " 271/271 [00:00&lt;00:00, 14.6kB/s]"
          }
        },
        "c6a7a661ecca4d10938c62482436ac88": {
          "model_module": "@jupyter-widgets/base",
          "model_name": "LayoutModel",
          "model_module_version": "1.2.0",
          "state": {
            "_model_module": "@jupyter-widgets/base",
            "_model_module_version": "1.2.0",
            "_model_name": "LayoutModel",
            "_view_count": null,
            "_view_module": "@jupyter-widgets/base",
            "_view_module_version": "1.2.0",
            "_view_name": "LayoutView",
            "align_content": null,
            "align_items": null,
            "align_self": null,
            "border": null,
            "bottom": null,
            "display": null,
            "flex": null,
            "flex_flow": null,
            "grid_area": null,
            "grid_auto_columns": null,
            "grid_auto_flow": null,
            "grid_auto_rows": null,
            "grid_column": null,
            "grid_gap": null,
            "grid_row": null,
            "grid_template_areas": null,
            "grid_template_columns": null,
            "grid_template_rows": null,
            "height": null,
            "justify_content": null,
            "justify_items": null,
            "left": null,
            "margin": null,
            "max_height": null,
            "max_width": null,
            "min_height": null,
            "min_width": null,
            "object_fit": null,
            "object_position": null,
            "order": null,
            "overflow": null,
            "overflow_x": null,
            "overflow_y": null,
            "padding": null,
            "right": null,
            "top": null,
            "visibility": null,
            "width": null
          }
        },
        "16af30c81bf244a1a66a3642c46f6caf": {
          "model_module": "@jupyter-widgets/base",
          "model_name": "LayoutModel",
          "model_module_version": "1.2.0",
          "state": {
            "_model_module": "@jupyter-widgets/base",
            "_model_module_version": "1.2.0",
            "_model_name": "LayoutModel",
            "_view_count": null,
            "_view_module": "@jupyter-widgets/base",
            "_view_module_version": "1.2.0",
            "_view_name": "LayoutView",
            "align_content": null,
            "align_items": null,
            "align_self": null,
            "border": null,
            "bottom": null,
            "display": null,
            "flex": null,
            "flex_flow": null,
            "grid_area": null,
            "grid_auto_columns": null,
            "grid_auto_flow": null,
            "grid_auto_rows": null,
            "grid_column": null,
            "grid_gap": null,
            "grid_row": null,
            "grid_template_areas": null,
            "grid_template_columns": null,
            "grid_template_rows": null,
            "height": null,
            "justify_content": null,
            "justify_items": null,
            "left": null,
            "margin": null,
            "max_height": null,
            "max_width": null,
            "min_height": null,
            "min_width": null,
            "object_fit": null,
            "object_position": null,
            "order": null,
            "overflow": null,
            "overflow_x": null,
            "overflow_y": null,
            "padding": null,
            "right": null,
            "top": null,
            "visibility": null,
            "width": null
          }
        },
        "f0e558ea974f477a86499f8567056da4": {
          "model_module": "@jupyter-widgets/controls",
          "model_name": "DescriptionStyleModel",
          "model_module_version": "1.5.0",
          "state": {
            "_model_module": "@jupyter-widgets/controls",
            "_model_module_version": "1.5.0",
            "_model_name": "DescriptionStyleModel",
            "_view_count": null,
            "_view_module": "@jupyter-widgets/base",
            "_view_module_version": "1.2.0",
            "_view_name": "StyleView",
            "description_width": ""
          }
        },
        "ceba220614524cc7bf14ce058f3c5f6d": {
          "model_module": "@jupyter-widgets/base",
          "model_name": "LayoutModel",
          "model_module_version": "1.2.0",
          "state": {
            "_model_module": "@jupyter-widgets/base",
            "_model_module_version": "1.2.0",
            "_model_name": "LayoutModel",
            "_view_count": null,
            "_view_module": "@jupyter-widgets/base",
            "_view_module_version": "1.2.0",
            "_view_name": "LayoutView",
            "align_content": null,
            "align_items": null,
            "align_self": null,
            "border": null,
            "bottom": null,
            "display": null,
            "flex": null,
            "flex_flow": null,
            "grid_area": null,
            "grid_auto_columns": null,
            "grid_auto_flow": null,
            "grid_auto_rows": null,
            "grid_column": null,
            "grid_gap": null,
            "grid_row": null,
            "grid_template_areas": null,
            "grid_template_columns": null,
            "grid_template_rows": null,
            "height": null,
            "justify_content": null,
            "justify_items": null,
            "left": null,
            "margin": null,
            "max_height": null,
            "max_width": null,
            "min_height": null,
            "min_width": null,
            "object_fit": null,
            "object_position": null,
            "order": null,
            "overflow": null,
            "overflow_x": null,
            "overflow_y": null,
            "padding": null,
            "right": null,
            "top": null,
            "visibility": null,
            "width": null
          }
        },
        "f7483f19206b49da966dedec914b6311": {
          "model_module": "@jupyter-widgets/controls",
          "model_name": "ProgressStyleModel",
          "model_module_version": "1.5.0",
          "state": {
            "_model_module": "@jupyter-widgets/controls",
            "_model_module_version": "1.5.0",
            "_model_name": "ProgressStyleModel",
            "_view_count": null,
            "_view_module": "@jupyter-widgets/base",
            "_view_module_version": "1.2.0",
            "_view_name": "StyleView",
            "bar_color": null,
            "description_width": ""
          }
        },
        "bd6bc21787f24ef3862ed781ab830c23": {
          "model_module": "@jupyter-widgets/base",
          "model_name": "LayoutModel",
          "model_module_version": "1.2.0",
          "state": {
            "_model_module": "@jupyter-widgets/base",
            "_model_module_version": "1.2.0",
            "_model_name": "LayoutModel",
            "_view_count": null,
            "_view_module": "@jupyter-widgets/base",
            "_view_module_version": "1.2.0",
            "_view_name": "LayoutView",
            "align_content": null,
            "align_items": null,
            "align_self": null,
            "border": null,
            "bottom": null,
            "display": null,
            "flex": null,
            "flex_flow": null,
            "grid_area": null,
            "grid_auto_columns": null,
            "grid_auto_flow": null,
            "grid_auto_rows": null,
            "grid_column": null,
            "grid_gap": null,
            "grid_row": null,
            "grid_template_areas": null,
            "grid_template_columns": null,
            "grid_template_rows": null,
            "height": null,
            "justify_content": null,
            "justify_items": null,
            "left": null,
            "margin": null,
            "max_height": null,
            "max_width": null,
            "min_height": null,
            "min_width": null,
            "object_fit": null,
            "object_position": null,
            "order": null,
            "overflow": null,
            "overflow_x": null,
            "overflow_y": null,
            "padding": null,
            "right": null,
            "top": null,
            "visibility": null,
            "width": null
          }
        },
        "50c44a3e19114532831581f164193b0c": {
          "model_module": "@jupyter-widgets/controls",
          "model_name": "DescriptionStyleModel",
          "model_module_version": "1.5.0",
          "state": {
            "_model_module": "@jupyter-widgets/controls",
            "_model_module_version": "1.5.0",
            "_model_name": "DescriptionStyleModel",
            "_view_count": null,
            "_view_module": "@jupyter-widgets/base",
            "_view_module_version": "1.2.0",
            "_view_name": "StyleView",
            "description_width": ""
          }
        },
        "7674d1e86e7f4f2f906e97f0902d6e8d": {
          "model_module": "@jupyter-widgets/controls",
          "model_name": "HBoxModel",
          "model_module_version": "1.5.0",
          "state": {
            "_dom_classes": [],
            "_model_module": "@jupyter-widgets/controls",
            "_model_module_version": "1.5.0",
            "_model_name": "HBoxModel",
            "_view_count": null,
            "_view_module": "@jupyter-widgets/controls",
            "_view_module_version": "1.5.0",
            "_view_name": "HBoxView",
            "box_style": "",
            "children": [
              "IPY_MODEL_8c28e44d60724ff78d5bd0ef0ba6fe48",
              "IPY_MODEL_ce6cd87252a34ad4b5131839b06f2f3c",
              "IPY_MODEL_4abdda1b61d4429997c873fc3f430423"
            ],
            "layout": "IPY_MODEL_00750a11666146f5a5a8f270c633b804"
          }
        },
        "8c28e44d60724ff78d5bd0ef0ba6fe48": {
          "model_module": "@jupyter-widgets/controls",
          "model_name": "HTMLModel",
          "model_module_version": "1.5.0",
          "state": {
            "_dom_classes": [],
            "_model_module": "@jupyter-widgets/controls",
            "_model_module_version": "1.5.0",
            "_model_name": "HTMLModel",
            "_view_count": null,
            "_view_module": "@jupyter-widgets/controls",
            "_view_module_version": "1.5.0",
            "_view_name": "HTMLView",
            "description": "",
            "description_tooltip": null,
            "layout": "IPY_MODEL_ad7f5276c4544eb7aeffad0d00183d9e",
            "placeholder": "​",
            "style": "IPY_MODEL_2c57631074ad4510a207fba4e97ada41",
            "value": "Downloading (…)lve/main/config.json: 100%"
          }
        },
        "ce6cd87252a34ad4b5131839b06f2f3c": {
          "model_module": "@jupyter-widgets/controls",
          "model_name": "FloatProgressModel",
          "model_module_version": "1.5.0",
          "state": {
            "_dom_classes": [],
            "_model_module": "@jupyter-widgets/controls",
            "_model_module_version": "1.5.0",
            "_model_name": "FloatProgressModel",
            "_view_count": null,
            "_view_module": "@jupyter-widgets/controls",
            "_view_module_version": "1.5.0",
            "_view_name": "ProgressView",
            "bar_style": "success",
            "description": "",
            "description_tooltip": null,
            "layout": "IPY_MODEL_514743a31fa7483fa88dfbe8399733b0",
            "max": 6884,
            "min": 0,
            "orientation": "horizontal",
            "style": "IPY_MODEL_cc50559c5f49428d9f514896148aac22",
            "value": 6884
          }
        },
        "4abdda1b61d4429997c873fc3f430423": {
          "model_module": "@jupyter-widgets/controls",
          "model_name": "HTMLModel",
          "model_module_version": "1.5.0",
          "state": {
            "_dom_classes": [],
            "_model_module": "@jupyter-widgets/controls",
            "_model_module_version": "1.5.0",
            "_model_name": "HTMLModel",
            "_view_count": null,
            "_view_module": "@jupyter-widgets/controls",
            "_view_module_version": "1.5.0",
            "_view_name": "HTMLView",
            "description": "",
            "description_tooltip": null,
            "layout": "IPY_MODEL_30a04c1ddb55491aaf70328a4dcd881c",
            "placeholder": "​",
            "style": "IPY_MODEL_1be44756244d43fba8437849c71ebab3",
            "value": " 6.88k/6.88k [00:00&lt;00:00, 406kB/s]"
          }
        },
        "00750a11666146f5a5a8f270c633b804": {
          "model_module": "@jupyter-widgets/base",
          "model_name": "LayoutModel",
          "model_module_version": "1.2.0",
          "state": {
            "_model_module": "@jupyter-widgets/base",
            "_model_module_version": "1.2.0",
            "_model_name": "LayoutModel",
            "_view_count": null,
            "_view_module": "@jupyter-widgets/base",
            "_view_module_version": "1.2.0",
            "_view_name": "LayoutView",
            "align_content": null,
            "align_items": null,
            "align_self": null,
            "border": null,
            "bottom": null,
            "display": null,
            "flex": null,
            "flex_flow": null,
            "grid_area": null,
            "grid_auto_columns": null,
            "grid_auto_flow": null,
            "grid_auto_rows": null,
            "grid_column": null,
            "grid_gap": null,
            "grid_row": null,
            "grid_template_areas": null,
            "grid_template_columns": null,
            "grid_template_rows": null,
            "height": null,
            "justify_content": null,
            "justify_items": null,
            "left": null,
            "margin": null,
            "max_height": null,
            "max_width": null,
            "min_height": null,
            "min_width": null,
            "object_fit": null,
            "object_position": null,
            "order": null,
            "overflow": null,
            "overflow_x": null,
            "overflow_y": null,
            "padding": null,
            "right": null,
            "top": null,
            "visibility": null,
            "width": null
          }
        },
        "ad7f5276c4544eb7aeffad0d00183d9e": {
          "model_module": "@jupyter-widgets/base",
          "model_name": "LayoutModel",
          "model_module_version": "1.2.0",
          "state": {
            "_model_module": "@jupyter-widgets/base",
            "_model_module_version": "1.2.0",
            "_model_name": "LayoutModel",
            "_view_count": null,
            "_view_module": "@jupyter-widgets/base",
            "_view_module_version": "1.2.0",
            "_view_name": "LayoutView",
            "align_content": null,
            "align_items": null,
            "align_self": null,
            "border": null,
            "bottom": null,
            "display": null,
            "flex": null,
            "flex_flow": null,
            "grid_area": null,
            "grid_auto_columns": null,
            "grid_auto_flow": null,
            "grid_auto_rows": null,
            "grid_column": null,
            "grid_gap": null,
            "grid_row": null,
            "grid_template_areas": null,
            "grid_template_columns": null,
            "grid_template_rows": null,
            "height": null,
            "justify_content": null,
            "justify_items": null,
            "left": null,
            "margin": null,
            "max_height": null,
            "max_width": null,
            "min_height": null,
            "min_width": null,
            "object_fit": null,
            "object_position": null,
            "order": null,
            "overflow": null,
            "overflow_x": null,
            "overflow_y": null,
            "padding": null,
            "right": null,
            "top": null,
            "visibility": null,
            "width": null
          }
        },
        "2c57631074ad4510a207fba4e97ada41": {
          "model_module": "@jupyter-widgets/controls",
          "model_name": "DescriptionStyleModel",
          "model_module_version": "1.5.0",
          "state": {
            "_model_module": "@jupyter-widgets/controls",
            "_model_module_version": "1.5.0",
            "_model_name": "DescriptionStyleModel",
            "_view_count": null,
            "_view_module": "@jupyter-widgets/base",
            "_view_module_version": "1.2.0",
            "_view_name": "StyleView",
            "description_width": ""
          }
        },
        "514743a31fa7483fa88dfbe8399733b0": {
          "model_module": "@jupyter-widgets/base",
          "model_name": "LayoutModel",
          "model_module_version": "1.2.0",
          "state": {
            "_model_module": "@jupyter-widgets/base",
            "_model_module_version": "1.2.0",
            "_model_name": "LayoutModel",
            "_view_count": null,
            "_view_module": "@jupyter-widgets/base",
            "_view_module_version": "1.2.0",
            "_view_name": "LayoutView",
            "align_content": null,
            "align_items": null,
            "align_self": null,
            "border": null,
            "bottom": null,
            "display": null,
            "flex": null,
            "flex_flow": null,
            "grid_area": null,
            "grid_auto_columns": null,
            "grid_auto_flow": null,
            "grid_auto_rows": null,
            "grid_column": null,
            "grid_gap": null,
            "grid_row": null,
            "grid_template_areas": null,
            "grid_template_columns": null,
            "grid_template_rows": null,
            "height": null,
            "justify_content": null,
            "justify_items": null,
            "left": null,
            "margin": null,
            "max_height": null,
            "max_width": null,
            "min_height": null,
            "min_width": null,
            "object_fit": null,
            "object_position": null,
            "order": null,
            "overflow": null,
            "overflow_x": null,
            "overflow_y": null,
            "padding": null,
            "right": null,
            "top": null,
            "visibility": null,
            "width": null
          }
        },
        "cc50559c5f49428d9f514896148aac22": {
          "model_module": "@jupyter-widgets/controls",
          "model_name": "ProgressStyleModel",
          "model_module_version": "1.5.0",
          "state": {
            "_model_module": "@jupyter-widgets/controls",
            "_model_module_version": "1.5.0",
            "_model_name": "ProgressStyleModel",
            "_view_count": null,
            "_view_module": "@jupyter-widgets/base",
            "_view_module_version": "1.2.0",
            "_view_name": "StyleView",
            "bar_color": null,
            "description_width": ""
          }
        },
        "30a04c1ddb55491aaf70328a4dcd881c": {
          "model_module": "@jupyter-widgets/base",
          "model_name": "LayoutModel",
          "model_module_version": "1.2.0",
          "state": {
            "_model_module": "@jupyter-widgets/base",
            "_model_module_version": "1.2.0",
            "_model_name": "LayoutModel",
            "_view_count": null,
            "_view_module": "@jupyter-widgets/base",
            "_view_module_version": "1.2.0",
            "_view_name": "LayoutView",
            "align_content": null,
            "align_items": null,
            "align_self": null,
            "border": null,
            "bottom": null,
            "display": null,
            "flex": null,
            "flex_flow": null,
            "grid_area": null,
            "grid_auto_columns": null,
            "grid_auto_flow": null,
            "grid_auto_rows": null,
            "grid_column": null,
            "grid_gap": null,
            "grid_row": null,
            "grid_template_areas": null,
            "grid_template_columns": null,
            "grid_template_rows": null,
            "height": null,
            "justify_content": null,
            "justify_items": null,
            "left": null,
            "margin": null,
            "max_height": null,
            "max_width": null,
            "min_height": null,
            "min_width": null,
            "object_fit": null,
            "object_position": null,
            "order": null,
            "overflow": null,
            "overflow_x": null,
            "overflow_y": null,
            "padding": null,
            "right": null,
            "top": null,
            "visibility": null,
            "width": null
          }
        },
        "1be44756244d43fba8437849c71ebab3": {
          "model_module": "@jupyter-widgets/controls",
          "model_name": "DescriptionStyleModel",
          "model_module_version": "1.5.0",
          "state": {
            "_model_module": "@jupyter-widgets/controls",
            "_model_module_version": "1.5.0",
            "_model_name": "DescriptionStyleModel",
            "_view_count": null,
            "_view_module": "@jupyter-widgets/base",
            "_view_module_version": "1.2.0",
            "_view_name": "StyleView",
            "description_width": ""
          }
        },
        "c9e7b4a045ec4c6e984e7e644f9fe0c1": {
          "model_module": "@jupyter-widgets/controls",
          "model_name": "HBoxModel",
          "model_module_version": "1.5.0",
          "state": {
            "_dom_classes": [],
            "_model_module": "@jupyter-widgets/controls",
            "_model_module_version": "1.5.0",
            "_model_name": "HBoxModel",
            "_view_count": null,
            "_view_module": "@jupyter-widgets/controls",
            "_view_module_version": "1.5.0",
            "_view_name": "HBoxView",
            "box_style": "",
            "children": [
              "IPY_MODEL_28450bd2d00645338c7dba4331a65513",
              "IPY_MODEL_0204d0bde8f746d499919dc6b2ef017e",
              "IPY_MODEL_b7499f50d3e34a0e8ca2b3fbc91e57ff"
            ],
            "layout": "IPY_MODEL_34a8e4467b5d4a38b4608dfd1feada26"
          }
        },
        "28450bd2d00645338c7dba4331a65513": {
          "model_module": "@jupyter-widgets/controls",
          "model_name": "HTMLModel",
          "model_module_version": "1.5.0",
          "state": {
            "_dom_classes": [],
            "_model_module": "@jupyter-widgets/controls",
            "_model_module_version": "1.5.0",
            "_model_name": "HTMLModel",
            "_view_count": null,
            "_view_module": "@jupyter-widgets/controls",
            "_view_module_version": "1.5.0",
            "_view_name": "HTMLView",
            "description": "",
            "description_tooltip": null,
            "layout": "IPY_MODEL_834ded07026d4b27aea8d1505e934c15",
            "placeholder": "​",
            "style": "IPY_MODEL_fc375fb98cfb4efe960e775cb9f54640",
            "value": "Downloading pytorch_model.bin: 100%"
          }
        },
        "0204d0bde8f746d499919dc6b2ef017e": {
          "model_module": "@jupyter-widgets/controls",
          "model_name": "FloatProgressModel",
          "model_module_version": "1.5.0",
          "state": {
            "_dom_classes": [],
            "_model_module": "@jupyter-widgets/controls",
            "_model_module_version": "1.5.0",
            "_model_name": "FloatProgressModel",
            "_view_count": null,
            "_view_module": "@jupyter-widgets/controls",
            "_view_module_version": "1.5.0",
            "_view_name": "ProgressView",
            "bar_style": "success",
            "description": "",
            "description_tooltip": null,
            "layout": "IPY_MODEL_b7ba5303ae7845f581a0f27b8b5bc8d6",
            "max": 15092257,
            "min": 0,
            "orientation": "horizontal",
            "style": "IPY_MODEL_1ac31e4aedbe41d29614ea502fee6fbe",
            "value": 15092257
          }
        },
        "b7499f50d3e34a0e8ca2b3fbc91e57ff": {
          "model_module": "@jupyter-widgets/controls",
          "model_name": "HTMLModel",
          "model_module_version": "1.5.0",
          "state": {
            "_dom_classes": [],
            "_model_module": "@jupyter-widgets/controls",
            "_model_module_version": "1.5.0",
            "_model_name": "HTMLModel",
            "_view_count": null,
            "_view_module": "@jupyter-widgets/controls",
            "_view_module_version": "1.5.0",
            "_view_name": "HTMLView",
            "description": "",
            "description_tooltip": null,
            "layout": "IPY_MODEL_c814b480e39145d5b5a5809eeb33435a",
            "placeholder": "​",
            "style": "IPY_MODEL_c8df31e3a3a6447c90597177d5ae0b27",
            "value": " 15.1M/15.1M [00:00&lt;00:00, 62.3MB/s]"
          }
        },
        "34a8e4467b5d4a38b4608dfd1feada26": {
          "model_module": "@jupyter-widgets/base",
          "model_name": "LayoutModel",
          "model_module_version": "1.2.0",
          "state": {
            "_model_module": "@jupyter-widgets/base",
            "_model_module_version": "1.2.0",
            "_model_name": "LayoutModel",
            "_view_count": null,
            "_view_module": "@jupyter-widgets/base",
            "_view_module_version": "1.2.0",
            "_view_name": "LayoutView",
            "align_content": null,
            "align_items": null,
            "align_self": null,
            "border": null,
            "bottom": null,
            "display": null,
            "flex": null,
            "flex_flow": null,
            "grid_area": null,
            "grid_auto_columns": null,
            "grid_auto_flow": null,
            "grid_auto_rows": null,
            "grid_column": null,
            "grid_gap": null,
            "grid_row": null,
            "grid_template_areas": null,
            "grid_template_columns": null,
            "grid_template_rows": null,
            "height": null,
            "justify_content": null,
            "justify_items": null,
            "left": null,
            "margin": null,
            "max_height": null,
            "max_width": null,
            "min_height": null,
            "min_width": null,
            "object_fit": null,
            "object_position": null,
            "order": null,
            "overflow": null,
            "overflow_x": null,
            "overflow_y": null,
            "padding": null,
            "right": null,
            "top": null,
            "visibility": null,
            "width": null
          }
        },
        "834ded07026d4b27aea8d1505e934c15": {
          "model_module": "@jupyter-widgets/base",
          "model_name": "LayoutModel",
          "model_module_version": "1.2.0",
          "state": {
            "_model_module": "@jupyter-widgets/base",
            "_model_module_version": "1.2.0",
            "_model_name": "LayoutModel",
            "_view_count": null,
            "_view_module": "@jupyter-widgets/base",
            "_view_module_version": "1.2.0",
            "_view_name": "LayoutView",
            "align_content": null,
            "align_items": null,
            "align_self": null,
            "border": null,
            "bottom": null,
            "display": null,
            "flex": null,
            "flex_flow": null,
            "grid_area": null,
            "grid_auto_columns": null,
            "grid_auto_flow": null,
            "grid_auto_rows": null,
            "grid_column": null,
            "grid_gap": null,
            "grid_row": null,
            "grid_template_areas": null,
            "grid_template_columns": null,
            "grid_template_rows": null,
            "height": null,
            "justify_content": null,
            "justify_items": null,
            "left": null,
            "margin": null,
            "max_height": null,
            "max_width": null,
            "min_height": null,
            "min_width": null,
            "object_fit": null,
            "object_position": null,
            "order": null,
            "overflow": null,
            "overflow_x": null,
            "overflow_y": null,
            "padding": null,
            "right": null,
            "top": null,
            "visibility": null,
            "width": null
          }
        },
        "fc375fb98cfb4efe960e775cb9f54640": {
          "model_module": "@jupyter-widgets/controls",
          "model_name": "DescriptionStyleModel",
          "model_module_version": "1.5.0",
          "state": {
            "_model_module": "@jupyter-widgets/controls",
            "_model_module_version": "1.5.0",
            "_model_name": "DescriptionStyleModel",
            "_view_count": null,
            "_view_module": "@jupyter-widgets/base",
            "_view_module_version": "1.2.0",
            "_view_name": "StyleView",
            "description_width": ""
          }
        },
        "b7ba5303ae7845f581a0f27b8b5bc8d6": {
          "model_module": "@jupyter-widgets/base",
          "model_name": "LayoutModel",
          "model_module_version": "1.2.0",
          "state": {
            "_model_module": "@jupyter-widgets/base",
            "_model_module_version": "1.2.0",
            "_model_name": "LayoutModel",
            "_view_count": null,
            "_view_module": "@jupyter-widgets/base",
            "_view_module_version": "1.2.0",
            "_view_name": "LayoutView",
            "align_content": null,
            "align_items": null,
            "align_self": null,
            "border": null,
            "bottom": null,
            "display": null,
            "flex": null,
            "flex_flow": null,
            "grid_area": null,
            "grid_auto_columns": null,
            "grid_auto_flow": null,
            "grid_auto_rows": null,
            "grid_column": null,
            "grid_gap": null,
            "grid_row": null,
            "grid_template_areas": null,
            "grid_template_columns": null,
            "grid_template_rows": null,
            "height": null,
            "justify_content": null,
            "justify_items": null,
            "left": null,
            "margin": null,
            "max_height": null,
            "max_width": null,
            "min_height": null,
            "min_width": null,
            "object_fit": null,
            "object_position": null,
            "order": null,
            "overflow": null,
            "overflow_x": null,
            "overflow_y": null,
            "padding": null,
            "right": null,
            "top": null,
            "visibility": null,
            "width": null
          }
        },
        "1ac31e4aedbe41d29614ea502fee6fbe": {
          "model_module": "@jupyter-widgets/controls",
          "model_name": "ProgressStyleModel",
          "model_module_version": "1.5.0",
          "state": {
            "_model_module": "@jupyter-widgets/controls",
            "_model_module_version": "1.5.0",
            "_model_name": "ProgressStyleModel",
            "_view_count": null,
            "_view_module": "@jupyter-widgets/base",
            "_view_module_version": "1.2.0",
            "_view_name": "StyleView",
            "bar_color": null,
            "description_width": ""
          }
        },
        "c814b480e39145d5b5a5809eeb33435a": {
          "model_module": "@jupyter-widgets/base",
          "model_name": "LayoutModel",
          "model_module_version": "1.2.0",
          "state": {
            "_model_module": "@jupyter-widgets/base",
            "_model_module_version": "1.2.0",
            "_model_name": "LayoutModel",
            "_view_count": null,
            "_view_module": "@jupyter-widgets/base",
            "_view_module_version": "1.2.0",
            "_view_name": "LayoutView",
            "align_content": null,
            "align_items": null,
            "align_self": null,
            "border": null,
            "bottom": null,
            "display": null,
            "flex": null,
            "flex_flow": null,
            "grid_area": null,
            "grid_auto_columns": null,
            "grid_auto_flow": null,
            "grid_auto_rows": null,
            "grid_column": null,
            "grid_gap": null,
            "grid_row": null,
            "grid_template_areas": null,
            "grid_template_columns": null,
            "grid_template_rows": null,
            "height": null,
            "justify_content": null,
            "justify_items": null,
            "left": null,
            "margin": null,
            "max_height": null,
            "max_width": null,
            "min_height": null,
            "min_width": null,
            "object_fit": null,
            "object_position": null,
            "order": null,
            "overflow": null,
            "overflow_x": null,
            "overflow_y": null,
            "padding": null,
            "right": null,
            "top": null,
            "visibility": null,
            "width": null
          }
        },
        "c8df31e3a3a6447c90597177d5ae0b27": {
          "model_module": "@jupyter-widgets/controls",
          "model_name": "DescriptionStyleModel",
          "model_module_version": "1.5.0",
          "state": {
            "_model_module": "@jupyter-widgets/controls",
            "_model_module_version": "1.5.0",
            "_model_name": "DescriptionStyleModel",
            "_view_count": null,
            "_view_module": "@jupyter-widgets/base",
            "_view_module_version": "1.2.0",
            "_view_name": "StyleView",
            "description_width": ""
          }
        }
      }
    }
  },
  "nbformat": 4,
  "nbformat_minor": 0
}